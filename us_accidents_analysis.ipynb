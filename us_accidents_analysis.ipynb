{
  "nbformat": 4,
  "nbformat_minor": 0,
  "metadata": {
    "colab": {
      "name": "us-accidents-analysis.ipynb",
      "provenance": [],
      "collapsed_sections": [
        "LKvkBuU77Yb7",
        "YsC04PKu7aXx",
        "rax_F_6zR_vF",
        "Ijxw55NNAfkY",
        "CzXili5xVKsN",
        "biDcA5rNeKPM",
        "3Bwb2NdQnPCe",
        "iPZvKtCzcDsK",
        "1B1guAgKFLZQ",
        "pe9SmE5FDe8m",
        "iV-cRBVhIqhR",
        "Bq8XGxSYLNQ5"
      ],
      "toc_visible": true,
      "authorship_tag": "ABX9TyM0zKLMp4B3RRTyI8Ka/pX6",
      "include_colab_link": true
    },
    "kernelspec": {
      "name": "python3",
      "display_name": "Python 3"
    }
  },
  "cells": [
    {
      "cell_type": "markdown",
      "metadata": {
        "id": "view-in-github",
        "colab_type": "text"
      },
      "source": [
        "<a href=\"https://colab.research.google.com/github/sanketnaik99/us-accidents-analysis/blob/main/us_accidents_analysis.ipynb\" target=\"_parent\"><img src=\"https://colab.research.google.com/assets/colab-badge.svg\" alt=\"Open In Colab\"/></a>"
      ]
    },
    {
      "cell_type": "markdown",
      "metadata": {
        "id": "9SYU8Q516mR0"
      },
      "source": [
        "# US Accidents Exploratory Data Analysis"
      ]
    },
    {
      "cell_type": "markdown",
      "metadata": {
        "id": "Y0kMDyarUZ21"
      },
      "source": [
        "## Table of Contents\r\n",
        "- [Installing the Kaggle CLI](#installing-the-kaggle-cli)\r\n",
        "- [Downloading the Data](#downloading-the-data)\r\n",
        "- [Data Preparation and Cleaning](#data-preparation-and-cleaning)\r\n",
        "  - [Loading the dataset and initial observations](#loading-the-dataset-and-initial-observations)\r\n",
        "  - [Missing Values](#missing-values)\r\n",
        "  - [Boolean Values](#boolean-values)\r\n",
        "  - [City Data](#city-data)\r\n",
        "  - [Zipcode Data](#zipcode-data)\r\n",
        "  - [Cleaning the Dataset](#cleaning-the-dataset)\r\n",
        "- [Exploratory Analysis & Visualization](#exploratory-analysis-&-visualization)\r\n",
        "  - [City](#city)\r\n",
        "    - [Top 5 cities by the number of accidents](#top-5-cities-by-the-number-of-accidents)\r\n",
        "    - [Distribution of accidents by Cities](#distribution-of-accidents-by-cities)\r\n",
        "    - [Number of Accidents from very high accident cities](#number-of-accidents-from-very-high-accident-cities)\r\n",
        "- [Questions and Answers](#questions-&-answers)\r\n",
        "- [Summary & Conclusions](#summary-&-conclusions)"
      ]
    },
    {
      "cell_type": "markdown",
      "metadata": {
        "id": "bwb4CzTW6J6v"
      },
      "source": [
        "## Installing the Kaggle CLI\r\n",
        "The Kaggle CLI will let us donwload the dataset easily and we won't have to upload the dataset to colab every time we run the notebook."
      ]
    },
    {
      "cell_type": "code",
      "metadata": {
        "id": "HQQ2pukg5uzT"
      },
      "source": [
        "!pip install -q kaggle"
      ],
      "execution_count": 1,
      "outputs": []
    },
    {
      "cell_type": "code",
      "metadata": {
        "id": "qPqZNGsA5-B5"
      },
      "source": [
        "from google.colab import files\r\n",
        "files.upload()"
      ],
      "execution_count": null,
      "outputs": []
    },
    {
      "cell_type": "code",
      "metadata": {
        "id": "WsRFPHL66B-3"
      },
      "source": [
        "!mkdir ~/.kaggle\r\n",
        "!cp kaggle.json ~/.kaggle/\r\n",
        "!chmod 600 ~/.kaggle/kaggle.json"
      ],
      "execution_count": 3,
      "outputs": []
    },
    {
      "cell_type": "markdown",
      "metadata": {
        "id": "LKvkBuU77Yb7"
      },
      "source": [
        "## Downloading the Data\r\n",
        "We can now download the data using the Kaggle CLI.\r\n",
        "Kaggle CLI downloads the dataset in a zip format. We can then use the unzip package to unzip the contents of the zip file."
      ]
    },
    {
      "cell_type": "code",
      "metadata": {
        "colab": {
          "base_uri": "https://localhost:8080/"
        },
        "id": "g51wQGwJ6B43",
        "outputId": "2077de33-625a-492e-db79-54d41109bcb7"
      },
      "source": [
        "!kaggle datasets download -d sobhanmoosavi/us-accidents"
      ],
      "execution_count": null,
      "outputs": [
        {
          "output_type": "stream",
          "text": [
            "Downloading us-accidents.zip to /content\n",
            " 98% 292M/299M [00:03<00:00, 153MB/s]\n",
            "100% 299M/299M [00:03<00:00, 91.2MB/s]\n"
          ],
          "name": "stdout"
        }
      ]
    },
    {
      "cell_type": "code",
      "metadata": {
        "colab": {
          "base_uri": "https://localhost:8080/"
        },
        "id": "G0Q41j2p8O5F",
        "outputId": "d0811ffc-bfb8-4311-b1eb-f3aadbe9a077"
      },
      "source": [
        "import os\r\n",
        "os.listdir()"
      ],
      "execution_count": null,
      "outputs": [
        {
          "output_type": "execute_result",
          "data": {
            "text/plain": [
              "['.config', 'us-accidents.zip', 'kaggle.json', 'sample_data']"
            ]
          },
          "metadata": {
            "tags": []
          },
          "execution_count": 5
        }
      ]
    },
    {
      "cell_type": "code",
      "metadata": {
        "id": "iaM6hAHX8Ox3"
      },
      "source": [
        "!mkdir data"
      ],
      "execution_count": null,
      "outputs": []
    },
    {
      "cell_type": "code",
      "metadata": {
        "colab": {
          "base_uri": "https://localhost:8080/"
        },
        "id": "3NDPADec8OqG",
        "outputId": "75392067-273d-45f5-872f-98e3cf97e7cd"
      },
      "source": [
        "!unzip us-accidents.zip -d data"
      ],
      "execution_count": null,
      "outputs": [
        {
          "output_type": "stream",
          "text": [
            "Archive:  us-accidents.zip\n",
            "  inflating: data/US_Accidents_Dec20.csv  \n"
          ],
          "name": "stdout"
        }
      ]
    },
    {
      "cell_type": "markdown",
      "metadata": {
        "id": "CfjaQhmy82tt"
      },
      "source": [
        "We can see that the `us-accidents.zip` file consists of a single CSV file called `US_Accidents_Dec20.csv`"
      ]
    },
    {
      "cell_type": "code",
      "metadata": {
        "id": "vQSdzSdO9KGR"
      },
      "source": [
        "data_filename = './data/US_Accidents_Dec20.csv'"
      ],
      "execution_count": null,
      "outputs": []
    },
    {
      "cell_type": "markdown",
      "metadata": {
        "id": "YsC04PKu7aXx"
      },
      "source": [
        "##  Data Preparation & Cleaning\r\n",
        "We will follow these steps in the process of data preparation and cleaning -\r\n",
        "- Load the file using Pandas.\r\n",
        "- Look at some infromation about the data and columns.\r\n",
        "- Fix any missing or incorrect values."
      ]
    },
    {
      "cell_type": "markdown",
      "metadata": {
        "id": "rax_F_6zR_vF"
      },
      "source": [
        "### Loading the dataset and initial observations"
      ]
    },
    {
      "cell_type": "code",
      "metadata": {
        "id": "InQsMjTT7d3H"
      },
      "source": [
        "import pandas as pd\r\n",
        "import numpy as np\r\n",
        "import matplotlib.pyplot as plt\r\n",
        "import seaborn as sns\r\n",
        "sns.set_style(\"darkgrid\")\r\n",
        "%matplotlib inline\r\n",
        "from tabulate import tabulate"
      ],
      "execution_count": 4,
      "outputs": []
    },
    {
      "cell_type": "code",
      "metadata": {
        "id": "frpm-ldy9SV0"
      },
      "source": [
        "df = pd.read_csv(data_filename)"
      ],
      "execution_count": null,
      "outputs": []
    },
    {
      "cell_type": "code",
      "metadata": {
        "colab": {
          "base_uri": "https://localhost:8080/",
          "height": 530
        },
        "id": "HZVnBIhc9Sm6",
        "outputId": "9957543f-c7fa-4295-e04f-9edb9ffcbb69"
      },
      "source": [
        "df.head()"
      ],
      "execution_count": null,
      "outputs": [
        {
          "output_type": "execute_result",
          "data": {
            "text/html": [
              "<div>\n",
              "<style scoped>\n",
              "    .dataframe tbody tr th:only-of-type {\n",
              "        vertical-align: middle;\n",
              "    }\n",
              "\n",
              "    .dataframe tbody tr th {\n",
              "        vertical-align: top;\n",
              "    }\n",
              "\n",
              "    .dataframe thead th {\n",
              "        text-align: right;\n",
              "    }\n",
              "</style>\n",
              "<table border=\"1\" class=\"dataframe\">\n",
              "  <thead>\n",
              "    <tr style=\"text-align: right;\">\n",
              "      <th></th>\n",
              "      <th>ID</th>\n",
              "      <th>Source</th>\n",
              "      <th>TMC</th>\n",
              "      <th>Severity</th>\n",
              "      <th>Start_Time</th>\n",
              "      <th>End_Time</th>\n",
              "      <th>Start_Lat</th>\n",
              "      <th>Start_Lng</th>\n",
              "      <th>End_Lat</th>\n",
              "      <th>End_Lng</th>\n",
              "      <th>Distance(mi)</th>\n",
              "      <th>Description</th>\n",
              "      <th>Number</th>\n",
              "      <th>Street</th>\n",
              "      <th>Side</th>\n",
              "      <th>City</th>\n",
              "      <th>County</th>\n",
              "      <th>State</th>\n",
              "      <th>Zipcode</th>\n",
              "      <th>Country</th>\n",
              "      <th>Timezone</th>\n",
              "      <th>Airport_Code</th>\n",
              "      <th>Weather_Timestamp</th>\n",
              "      <th>Temperature(F)</th>\n",
              "      <th>Wind_Chill(F)</th>\n",
              "      <th>Humidity(%)</th>\n",
              "      <th>Pressure(in)</th>\n",
              "      <th>Visibility(mi)</th>\n",
              "      <th>Wind_Direction</th>\n",
              "      <th>Wind_Speed(mph)</th>\n",
              "      <th>Precipitation(in)</th>\n",
              "      <th>Weather_Condition</th>\n",
              "      <th>Amenity</th>\n",
              "      <th>Bump</th>\n",
              "      <th>Crossing</th>\n",
              "      <th>Give_Way</th>\n",
              "      <th>Junction</th>\n",
              "      <th>No_Exit</th>\n",
              "      <th>Railway</th>\n",
              "      <th>Roundabout</th>\n",
              "      <th>Station</th>\n",
              "      <th>Stop</th>\n",
              "      <th>Traffic_Calming</th>\n",
              "      <th>Traffic_Signal</th>\n",
              "      <th>Turning_Loop</th>\n",
              "      <th>Sunrise_Sunset</th>\n",
              "      <th>Civil_Twilight</th>\n",
              "      <th>Nautical_Twilight</th>\n",
              "      <th>Astronomical_Twilight</th>\n",
              "    </tr>\n",
              "  </thead>\n",
              "  <tbody>\n",
              "    <tr>\n",
              "      <th>0</th>\n",
              "      <td>A-1</td>\n",
              "      <td>MapQuest</td>\n",
              "      <td>201.0</td>\n",
              "      <td>3</td>\n",
              "      <td>2016-02-08 05:46:00</td>\n",
              "      <td>2016-02-08 11:00:00</td>\n",
              "      <td>39.865147</td>\n",
              "      <td>-84.058723</td>\n",
              "      <td>NaN</td>\n",
              "      <td>NaN</td>\n",
              "      <td>0.01</td>\n",
              "      <td>Right lane blocked due to accident on I-70 Eas...</td>\n",
              "      <td>NaN</td>\n",
              "      <td>I-70 E</td>\n",
              "      <td>R</td>\n",
              "      <td>Dayton</td>\n",
              "      <td>Montgomery</td>\n",
              "      <td>OH</td>\n",
              "      <td>45424</td>\n",
              "      <td>US</td>\n",
              "      <td>US/Eastern</td>\n",
              "      <td>KFFO</td>\n",
              "      <td>2016-02-08 05:58:00</td>\n",
              "      <td>36.9</td>\n",
              "      <td>NaN</td>\n",
              "      <td>91.0</td>\n",
              "      <td>29.68</td>\n",
              "      <td>10.0</td>\n",
              "      <td>Calm</td>\n",
              "      <td>NaN</td>\n",
              "      <td>0.02</td>\n",
              "      <td>Light Rain</td>\n",
              "      <td>False</td>\n",
              "      <td>False</td>\n",
              "      <td>False</td>\n",
              "      <td>False</td>\n",
              "      <td>False</td>\n",
              "      <td>False</td>\n",
              "      <td>False</td>\n",
              "      <td>False</td>\n",
              "      <td>False</td>\n",
              "      <td>False</td>\n",
              "      <td>False</td>\n",
              "      <td>False</td>\n",
              "      <td>False</td>\n",
              "      <td>Night</td>\n",
              "      <td>Night</td>\n",
              "      <td>Night</td>\n",
              "      <td>Night</td>\n",
              "    </tr>\n",
              "    <tr>\n",
              "      <th>1</th>\n",
              "      <td>A-2</td>\n",
              "      <td>MapQuest</td>\n",
              "      <td>201.0</td>\n",
              "      <td>2</td>\n",
              "      <td>2016-02-08 06:07:59</td>\n",
              "      <td>2016-02-08 06:37:59</td>\n",
              "      <td>39.928059</td>\n",
              "      <td>-82.831184</td>\n",
              "      <td>NaN</td>\n",
              "      <td>NaN</td>\n",
              "      <td>0.01</td>\n",
              "      <td>Accident on Brice Rd at Tussing Rd. Expect del...</td>\n",
              "      <td>2584.0</td>\n",
              "      <td>Brice Rd</td>\n",
              "      <td>L</td>\n",
              "      <td>Reynoldsburg</td>\n",
              "      <td>Franklin</td>\n",
              "      <td>OH</td>\n",
              "      <td>43068-3402</td>\n",
              "      <td>US</td>\n",
              "      <td>US/Eastern</td>\n",
              "      <td>KCMH</td>\n",
              "      <td>2016-02-08 05:51:00</td>\n",
              "      <td>37.9</td>\n",
              "      <td>NaN</td>\n",
              "      <td>100.0</td>\n",
              "      <td>29.65</td>\n",
              "      <td>10.0</td>\n",
              "      <td>Calm</td>\n",
              "      <td>NaN</td>\n",
              "      <td>0.00</td>\n",
              "      <td>Light Rain</td>\n",
              "      <td>False</td>\n",
              "      <td>False</td>\n",
              "      <td>False</td>\n",
              "      <td>False</td>\n",
              "      <td>False</td>\n",
              "      <td>False</td>\n",
              "      <td>False</td>\n",
              "      <td>False</td>\n",
              "      <td>False</td>\n",
              "      <td>False</td>\n",
              "      <td>False</td>\n",
              "      <td>False</td>\n",
              "      <td>False</td>\n",
              "      <td>Night</td>\n",
              "      <td>Night</td>\n",
              "      <td>Night</td>\n",
              "      <td>Day</td>\n",
              "    </tr>\n",
              "    <tr>\n",
              "      <th>2</th>\n",
              "      <td>A-3</td>\n",
              "      <td>MapQuest</td>\n",
              "      <td>201.0</td>\n",
              "      <td>2</td>\n",
              "      <td>2016-02-08 06:49:27</td>\n",
              "      <td>2016-02-08 07:19:27</td>\n",
              "      <td>39.063148</td>\n",
              "      <td>-84.032608</td>\n",
              "      <td>NaN</td>\n",
              "      <td>NaN</td>\n",
              "      <td>0.01</td>\n",
              "      <td>Accident on OH-32 State Route 32 Westbound at ...</td>\n",
              "      <td>NaN</td>\n",
              "      <td>State Route 32</td>\n",
              "      <td>R</td>\n",
              "      <td>Williamsburg</td>\n",
              "      <td>Clermont</td>\n",
              "      <td>OH</td>\n",
              "      <td>45176</td>\n",
              "      <td>US</td>\n",
              "      <td>US/Eastern</td>\n",
              "      <td>KI69</td>\n",
              "      <td>2016-02-08 06:56:00</td>\n",
              "      <td>36.0</td>\n",
              "      <td>33.3</td>\n",
              "      <td>100.0</td>\n",
              "      <td>29.67</td>\n",
              "      <td>10.0</td>\n",
              "      <td>SW</td>\n",
              "      <td>3.5</td>\n",
              "      <td>NaN</td>\n",
              "      <td>Overcast</td>\n",
              "      <td>False</td>\n",
              "      <td>False</td>\n",
              "      <td>False</td>\n",
              "      <td>False</td>\n",
              "      <td>False</td>\n",
              "      <td>False</td>\n",
              "      <td>False</td>\n",
              "      <td>False</td>\n",
              "      <td>False</td>\n",
              "      <td>False</td>\n",
              "      <td>False</td>\n",
              "      <td>True</td>\n",
              "      <td>False</td>\n",
              "      <td>Night</td>\n",
              "      <td>Night</td>\n",
              "      <td>Day</td>\n",
              "      <td>Day</td>\n",
              "    </tr>\n",
              "    <tr>\n",
              "      <th>3</th>\n",
              "      <td>A-4</td>\n",
              "      <td>MapQuest</td>\n",
              "      <td>201.0</td>\n",
              "      <td>3</td>\n",
              "      <td>2016-02-08 07:23:34</td>\n",
              "      <td>2016-02-08 07:53:34</td>\n",
              "      <td>39.747753</td>\n",
              "      <td>-84.205582</td>\n",
              "      <td>NaN</td>\n",
              "      <td>NaN</td>\n",
              "      <td>0.01</td>\n",
              "      <td>Accident on I-75 Southbound at Exits 52 52B US...</td>\n",
              "      <td>NaN</td>\n",
              "      <td>I-75 S</td>\n",
              "      <td>R</td>\n",
              "      <td>Dayton</td>\n",
              "      <td>Montgomery</td>\n",
              "      <td>OH</td>\n",
              "      <td>45417</td>\n",
              "      <td>US</td>\n",
              "      <td>US/Eastern</td>\n",
              "      <td>KDAY</td>\n",
              "      <td>2016-02-08 07:38:00</td>\n",
              "      <td>35.1</td>\n",
              "      <td>31.0</td>\n",
              "      <td>96.0</td>\n",
              "      <td>29.64</td>\n",
              "      <td>9.0</td>\n",
              "      <td>SW</td>\n",
              "      <td>4.6</td>\n",
              "      <td>NaN</td>\n",
              "      <td>Mostly Cloudy</td>\n",
              "      <td>False</td>\n",
              "      <td>False</td>\n",
              "      <td>False</td>\n",
              "      <td>False</td>\n",
              "      <td>False</td>\n",
              "      <td>False</td>\n",
              "      <td>False</td>\n",
              "      <td>False</td>\n",
              "      <td>False</td>\n",
              "      <td>False</td>\n",
              "      <td>False</td>\n",
              "      <td>False</td>\n",
              "      <td>False</td>\n",
              "      <td>Night</td>\n",
              "      <td>Day</td>\n",
              "      <td>Day</td>\n",
              "      <td>Day</td>\n",
              "    </tr>\n",
              "    <tr>\n",
              "      <th>4</th>\n",
              "      <td>A-5</td>\n",
              "      <td>MapQuest</td>\n",
              "      <td>201.0</td>\n",
              "      <td>2</td>\n",
              "      <td>2016-02-08 07:39:07</td>\n",
              "      <td>2016-02-08 08:09:07</td>\n",
              "      <td>39.627781</td>\n",
              "      <td>-84.188354</td>\n",
              "      <td>NaN</td>\n",
              "      <td>NaN</td>\n",
              "      <td>0.01</td>\n",
              "      <td>Accident on McEwen Rd at OH-725 Miamisburg Cen...</td>\n",
              "      <td>NaN</td>\n",
              "      <td>Miamisburg Centerville Rd</td>\n",
              "      <td>R</td>\n",
              "      <td>Dayton</td>\n",
              "      <td>Montgomery</td>\n",
              "      <td>OH</td>\n",
              "      <td>45459</td>\n",
              "      <td>US</td>\n",
              "      <td>US/Eastern</td>\n",
              "      <td>KMGY</td>\n",
              "      <td>2016-02-08 07:53:00</td>\n",
              "      <td>36.0</td>\n",
              "      <td>33.3</td>\n",
              "      <td>89.0</td>\n",
              "      <td>29.65</td>\n",
              "      <td>6.0</td>\n",
              "      <td>SW</td>\n",
              "      <td>3.5</td>\n",
              "      <td>NaN</td>\n",
              "      <td>Mostly Cloudy</td>\n",
              "      <td>False</td>\n",
              "      <td>False</td>\n",
              "      <td>False</td>\n",
              "      <td>False</td>\n",
              "      <td>False</td>\n",
              "      <td>False</td>\n",
              "      <td>False</td>\n",
              "      <td>False</td>\n",
              "      <td>False</td>\n",
              "      <td>False</td>\n",
              "      <td>False</td>\n",
              "      <td>True</td>\n",
              "      <td>False</td>\n",
              "      <td>Day</td>\n",
              "      <td>Day</td>\n",
              "      <td>Day</td>\n",
              "      <td>Day</td>\n",
              "    </tr>\n",
              "  </tbody>\n",
              "</table>\n",
              "</div>"
            ],
            "text/plain": [
              "    ID    Source    TMC  ...  Civil_Twilight Nautical_Twilight Astronomical_Twilight\n",
              "0  A-1  MapQuest  201.0  ...           Night             Night                 Night\n",
              "1  A-2  MapQuest  201.0  ...           Night             Night                   Day\n",
              "2  A-3  MapQuest  201.0  ...           Night               Day                   Day\n",
              "3  A-4  MapQuest  201.0  ...             Day               Day                   Day\n",
              "4  A-5  MapQuest  201.0  ...             Day               Day                   Day\n",
              "\n",
              "[5 rows x 49 columns]"
            ]
          },
          "metadata": {
            "tags": []
          },
          "execution_count": 4
        }
      ]
    },
    {
      "cell_type": "code",
      "metadata": {
        "colab": {
          "base_uri": "https://localhost:8080/"
        },
        "id": "2DCP0lBR9TC6",
        "outputId": "f2805e57-b6ff-4795-90f8-32df3593950c"
      },
      "source": [
        "print(f'Number of columns = {len(df.columns)}')\r\n",
        "print(df.info())"
      ],
      "execution_count": null,
      "outputs": [
        {
          "output_type": "stream",
          "text": [
            "Number of columns = 49\n",
            "<class 'pandas.core.frame.DataFrame'>\n",
            "RangeIndex: 4232541 entries, 0 to 4232540\n",
            "Data columns (total 49 columns):\n",
            " #   Column                 Dtype  \n",
            "---  ------                 -----  \n",
            " 0   ID                     object \n",
            " 1   Source                 object \n",
            " 2   TMC                    float64\n",
            " 3   Severity               int64  \n",
            " 4   Start_Time             object \n",
            " 5   End_Time               object \n",
            " 6   Start_Lat              float64\n",
            " 7   Start_Lng              float64\n",
            " 8   End_Lat                float64\n",
            " 9   End_Lng                float64\n",
            " 10  Distance(mi)           float64\n",
            " 11  Description            object \n",
            " 12  Number                 float64\n",
            " 13  Street                 object \n",
            " 14  Side                   object \n",
            " 15  City                   object \n",
            " 16  County                 object \n",
            " 17  State                  object \n",
            " 18  Zipcode                object \n",
            " 19  Country                object \n",
            " 20  Timezone               object \n",
            " 21  Airport_Code           object \n",
            " 22  Weather_Timestamp      object \n",
            " 23  Temperature(F)         float64\n",
            " 24  Wind_Chill(F)          float64\n",
            " 25  Humidity(%)            float64\n",
            " 26  Pressure(in)           float64\n",
            " 27  Visibility(mi)         float64\n",
            " 28  Wind_Direction         object \n",
            " 29  Wind_Speed(mph)        float64\n",
            " 30  Precipitation(in)      float64\n",
            " 31  Weather_Condition      object \n",
            " 32  Amenity                bool   \n",
            " 33  Bump                   bool   \n",
            " 34  Crossing               bool   \n",
            " 35  Give_Way               bool   \n",
            " 36  Junction               bool   \n",
            " 37  No_Exit                bool   \n",
            " 38  Railway                bool   \n",
            " 39  Roundabout             bool   \n",
            " 40  Station                bool   \n",
            " 41  Stop                   bool   \n",
            " 42  Traffic_Calming        bool   \n",
            " 43  Traffic_Signal         bool   \n",
            " 44  Turning_Loop           bool   \n",
            " 45  Sunrise_Sunset         object \n",
            " 46  Civil_Twilight         object \n",
            " 47  Nautical_Twilight      object \n",
            " 48  Astronomical_Twilight  object \n",
            "dtypes: bool(13), float64(14), int64(1), object(21)\n",
            "memory usage: 1.2+ GB\n",
            "None\n"
          ],
          "name": "stdout"
        }
      ]
    },
    {
      "cell_type": "markdown",
      "metadata": {
        "id": "MeAfo5VhSNtt"
      },
      "source": [
        "We can see that the dataset has 49 columns. The distribution of these columns is as follows - \r\n",
        "1. Boolean Columns - 13\r\n",
        "2. Object Columns - 21\r\n",
        "3. Numerical Columns - 15"
      ]
    },
    {
      "cell_type": "markdown",
      "metadata": {
        "id": "9OmIR0E5S3sC"
      },
      "source": [
        "The `describe` method displays descriptive statistics about the numerical columns present in the dataset."
      ]
    },
    {
      "cell_type": "code",
      "metadata": {
        "colab": {
          "base_uri": "https://localhost:8080/",
          "height": 317
        },
        "id": "IUweU-tqS2Fc",
        "outputId": "89541421-c98c-4c1b-93c0-a1ea9255f70b"
      },
      "source": [
        "df.describe()"
      ],
      "execution_count": null,
      "outputs": [
        {
          "output_type": "execute_result",
          "data": {
            "text/html": [
              "<div>\n",
              "<style scoped>\n",
              "    .dataframe tbody tr th:only-of-type {\n",
              "        vertical-align: middle;\n",
              "    }\n",
              "\n",
              "    .dataframe tbody tr th {\n",
              "        vertical-align: top;\n",
              "    }\n",
              "\n",
              "    .dataframe thead th {\n",
              "        text-align: right;\n",
              "    }\n",
              "</style>\n",
              "<table border=\"1\" class=\"dataframe\">\n",
              "  <thead>\n",
              "    <tr style=\"text-align: right;\">\n",
              "      <th></th>\n",
              "      <th>TMC</th>\n",
              "      <th>Severity</th>\n",
              "      <th>Start_Lat</th>\n",
              "      <th>Start_Lng</th>\n",
              "      <th>End_Lat</th>\n",
              "      <th>End_Lng</th>\n",
              "      <th>Distance(mi)</th>\n",
              "      <th>Number</th>\n",
              "      <th>Temperature(F)</th>\n",
              "      <th>Wind_Chill(F)</th>\n",
              "      <th>Humidity(%)</th>\n",
              "      <th>Pressure(in)</th>\n",
              "      <th>Visibility(mi)</th>\n",
              "      <th>Wind_Speed(mph)</th>\n",
              "      <th>Precipitation(in)</th>\n",
              "    </tr>\n",
              "  </thead>\n",
              "  <tbody>\n",
              "    <tr>\n",
              "      <th>count</th>\n",
              "      <td>2.716477e+06</td>\n",
              "      <td>4.232541e+06</td>\n",
              "      <td>4.232541e+06</td>\n",
              "      <td>4.232541e+06</td>\n",
              "      <td>1.516064e+06</td>\n",
              "      <td>1.516064e+06</td>\n",
              "      <td>4.232541e+06</td>\n",
              "      <td>1.544592e+06</td>\n",
              "      <td>4.142641e+06</td>\n",
              "      <td>2.336540e+06</td>\n",
              "      <td>4.137074e+06</td>\n",
              "      <td>4.156157e+06</td>\n",
              "      <td>4.133873e+06</td>\n",
              "      <td>3.753215e+06</td>\n",
              "      <td>2.166952e+06</td>\n",
              "    </tr>\n",
              "    <tr>\n",
              "      <th>mean</th>\n",
              "      <td>2.083517e+02</td>\n",
              "      <td>2.305035e+00</td>\n",
              "      <td>3.639782e+01</td>\n",
              "      <td>-9.546420e+01</td>\n",
              "      <td>3.690061e+01</td>\n",
              "      <td>-9.859901e+01</td>\n",
              "      <td>3.357021e-01</td>\n",
              "      <td>6.141507e+03</td>\n",
              "      <td>6.147799e+01</td>\n",
              "      <td>5.489319e+01</td>\n",
              "      <td>6.567422e+01</td>\n",
              "      <td>2.969371e+01</td>\n",
              "      <td>9.111991e+00</td>\n",
              "      <td>7.903433e+00</td>\n",
              "      <td>1.244719e-02</td>\n",
              "    </tr>\n",
              "    <tr>\n",
              "      <th>std</th>\n",
              "      <td>2.124413e+01</td>\n",
              "      <td>5.332261e-01</td>\n",
              "      <td>4.964404e+00</td>\n",
              "      <td>1.735319e+01</td>\n",
              "      <td>5.165629e+00</td>\n",
              "      <td>1.849590e+01</td>\n",
              "      <td>1.602143e+00</td>\n",
              "      <td>1.492268e+04</td>\n",
              "      <td>1.852586e+01</td>\n",
              "      <td>2.272355e+01</td>\n",
              "      <td>2.272342e+01</td>\n",
              "      <td>8.639260e-01</td>\n",
              "      <td>2.817582e+00</td>\n",
              "      <td>5.330998e+00</td>\n",
              "      <td>1.637154e-01</td>\n",
              "    </tr>\n",
              "    <tr>\n",
              "      <th>min</th>\n",
              "      <td>2.000000e+02</td>\n",
              "      <td>1.000000e+00</td>\n",
              "      <td>2.455527e+01</td>\n",
              "      <td>-1.246238e+02</td>\n",
              "      <td>2.457011e+01</td>\n",
              "      <td>-1.244978e+02</td>\n",
              "      <td>0.000000e+00</td>\n",
              "      <td>0.000000e+00</td>\n",
              "      <td>-8.900000e+01</td>\n",
              "      <td>-8.900000e+01</td>\n",
              "      <td>1.000000e+00</td>\n",
              "      <td>0.000000e+00</td>\n",
              "      <td>0.000000e+00</td>\n",
              "      <td>0.000000e+00</td>\n",
              "      <td>0.000000e+00</td>\n",
              "    </tr>\n",
              "    <tr>\n",
              "      <th>25%</th>\n",
              "      <td>2.010000e+02</td>\n",
              "      <td>2.000000e+00</td>\n",
              "      <td>3.352058e+01</td>\n",
              "      <td>-1.173570e+02</td>\n",
              "      <td>3.385420e+01</td>\n",
              "      <td>-1.182077e+02</td>\n",
              "      <td>0.000000e+00</td>\n",
              "      <td>8.980000e+02</td>\n",
              "      <td>4.900000e+01</td>\n",
              "      <td>3.800000e+01</td>\n",
              "      <td>4.900000e+01</td>\n",
              "      <td>2.964000e+01</td>\n",
              "      <td>1.000000e+01</td>\n",
              "      <td>4.600000e+00</td>\n",
              "      <td>0.000000e+00</td>\n",
              "    </tr>\n",
              "    <tr>\n",
              "      <th>50%</th>\n",
              "      <td>2.010000e+02</td>\n",
              "      <td>2.000000e+00</td>\n",
              "      <td>3.582542e+01</td>\n",
              "      <td>-9.002078e+01</td>\n",
              "      <td>3.735134e+01</td>\n",
              "      <td>-9.437987e+01</td>\n",
              "      <td>0.000000e+00</td>\n",
              "      <td>2.890000e+03</td>\n",
              "      <td>6.300000e+01</td>\n",
              "      <td>5.800000e+01</td>\n",
              "      <td>6.800000e+01</td>\n",
              "      <td>2.993000e+01</td>\n",
              "      <td>1.000000e+01</td>\n",
              "      <td>7.000000e+00</td>\n",
              "      <td>0.000000e+00</td>\n",
              "    </tr>\n",
              "    <tr>\n",
              "      <th>75%</th>\n",
              "      <td>2.010000e+02</td>\n",
              "      <td>3.000000e+00</td>\n",
              "      <td>4.018313e+01</td>\n",
              "      <td>-8.084682e+01</td>\n",
              "      <td>4.072593e+01</td>\n",
              "      <td>-8.087449e+01</td>\n",
              "      <td>8.900000e-02</td>\n",
              "      <td>7.330000e+03</td>\n",
              "      <td>7.520000e+01</td>\n",
              "      <td>7.300000e+01</td>\n",
              "      <td>8.500000e+01</td>\n",
              "      <td>3.008000e+01</td>\n",
              "      <td>1.000000e+01</td>\n",
              "      <td>1.040000e+01</td>\n",
              "      <td>0.000000e+00</td>\n",
              "    </tr>\n",
              "    <tr>\n",
              "      <th>max</th>\n",
              "      <td>4.060000e+02</td>\n",
              "      <td>4.000000e+00</td>\n",
              "      <td>4.900220e+01</td>\n",
              "      <td>-6.711317e+01</td>\n",
              "      <td>4.907500e+01</td>\n",
              "      <td>-6.710924e+01</td>\n",
              "      <td>4.417500e+02</td>\n",
              "      <td>9.999997e+06</td>\n",
              "      <td>2.030000e+02</td>\n",
              "      <td>1.890000e+02</td>\n",
              "      <td>1.000000e+02</td>\n",
              "      <td>5.804000e+01</td>\n",
              "      <td>1.400000e+02</td>\n",
              "      <td>9.840000e+02</td>\n",
              "      <td>2.500000e+01</td>\n",
              "    </tr>\n",
              "  </tbody>\n",
              "</table>\n",
              "</div>"
            ],
            "text/plain": [
              "                TMC      Severity  ...  Wind_Speed(mph)  Precipitation(in)\n",
              "count  2.716477e+06  4.232541e+06  ...     3.753215e+06       2.166952e+06\n",
              "mean   2.083517e+02  2.305035e+00  ...     7.903433e+00       1.244719e-02\n",
              "std    2.124413e+01  5.332261e-01  ...     5.330998e+00       1.637154e-01\n",
              "min    2.000000e+02  1.000000e+00  ...     0.000000e+00       0.000000e+00\n",
              "25%    2.010000e+02  2.000000e+00  ...     4.600000e+00       0.000000e+00\n",
              "50%    2.010000e+02  2.000000e+00  ...     7.000000e+00       0.000000e+00\n",
              "75%    2.010000e+02  3.000000e+00  ...     1.040000e+01       0.000000e+00\n",
              "max    4.060000e+02  4.000000e+00  ...     9.840000e+02       2.500000e+01\n",
              "\n",
              "[8 rows x 15 columns]"
            ]
          },
          "metadata": {
            "tags": []
          },
          "execution_count": 6
        }
      ]
    },
    {
      "cell_type": "markdown",
      "metadata": {
        "id": "Ijxw55NNAfkY"
      },
      "source": [
        "### Missing values\r\n",
        "To find which columns have missing values and how many values are missing, we can use the `isna` function and then apply the `sum` function to get the total count of missing values for each column. we can then sort these values using the `sort_values` function. Finally, if we divide them by the length of the DataFrame, we will get the fraction of missing values for each column."
      ]
    },
    {
      "cell_type": "code",
      "metadata": {
        "colab": {
          "base_uri": "https://localhost:8080/"
        },
        "id": "ud1jCTGs-ese",
        "outputId": "0d63cbf9-7f3c-487b-96df-83d78ff3eeba"
      },
      "source": [
        "missing_fractions = df.isna().sum().sort_values(ascending=False) / len(df)\r\n",
        "missing_fractions"
      ],
      "execution_count": null,
      "outputs": [
        {
          "output_type": "execute_result",
          "data": {
            "text/plain": [
              "End_Lat                  6.418076e-01\n",
              "End_Lng                  6.418076e-01\n",
              "Number                   6.350674e-01\n",
              "Precipitation(in)        4.880258e-01\n",
              "Wind_Chill(F)            4.479581e-01\n",
              "TMC                      3.581924e-01\n",
              "Wind_Speed(mph)          1.132478e-01\n",
              "Visibility(mi)           2.331176e-02\n",
              "Weather_Condition        2.324443e-02\n",
              "Humidity(%)              2.255548e-02\n",
              "Temperature(F)           2.124020e-02\n",
              "Wind_Direction           1.975433e-02\n",
              "Pressure(in)             1.804684e-02\n",
              "Weather_Timestamp        1.480057e-02\n",
              "Airport_Code             2.120003e-03\n",
              "Timezone                 1.090362e-03\n",
              "Zipcode                  3.052540e-04\n",
              "Nautical_Twilight        3.331332e-05\n",
              "Astronomical_Twilight    3.331332e-05\n",
              "Civil_Twilight           3.331332e-05\n",
              "Sunrise_Sunset           3.331332e-05\n",
              "City                     3.236826e-05\n",
              "Description              4.725294e-07\n",
              "Amenity                  0.000000e+00\n",
              "Street                   0.000000e+00\n",
              "Source                   0.000000e+00\n",
              "Severity                 0.000000e+00\n",
              "Start_Time               0.000000e+00\n",
              "End_Time                 0.000000e+00\n",
              "Start_Lat                0.000000e+00\n",
              "Start_Lng                0.000000e+00\n",
              "Turning_Loop             0.000000e+00\n",
              "Distance(mi)             0.000000e+00\n",
              "Traffic_Signal           0.000000e+00\n",
              "Side                     0.000000e+00\n",
              "Bump                     0.000000e+00\n",
              "County                   0.000000e+00\n",
              "State                    0.000000e+00\n",
              "Traffic_Calming          0.000000e+00\n",
              "Country                  0.000000e+00\n",
              "Stop                     0.000000e+00\n",
              "Station                  0.000000e+00\n",
              "Roundabout               0.000000e+00\n",
              "Railway                  0.000000e+00\n",
              "No_Exit                  0.000000e+00\n",
              "Junction                 0.000000e+00\n",
              "Give_Way                 0.000000e+00\n",
              "Crossing                 0.000000e+00\n",
              "ID                       0.000000e+00\n",
              "dtype: float64"
            ]
          },
          "metadata": {
            "tags": []
          },
          "execution_count": 7
        }
      ]
    },
    {
      "cell_type": "markdown",
      "metadata": {
        "id": "UUlytEu_Bca7"
      },
      "source": [
        "We can remove the columns that have zero missing values so that we can plot the values in a better way."
      ]
    },
    {
      "cell_type": "code",
      "metadata": {
        "colab": {
          "base_uri": "https://localhost:8080/"
        },
        "id": "LhzDsYGYBmAi",
        "outputId": "68b89a59-c68e-44a0-c28c-268015a17d8c"
      },
      "source": [
        "missing_fractions[missing_fractions != 0]"
      ],
      "execution_count": null,
      "outputs": [
        {
          "output_type": "execute_result",
          "data": {
            "text/plain": [
              "End_Lat                  6.418076e-01\n",
              "End_Lng                  6.418076e-01\n",
              "Number                   6.350674e-01\n",
              "Precipitation(in)        4.880258e-01\n",
              "Wind_Chill(F)            4.479581e-01\n",
              "TMC                      3.581924e-01\n",
              "Wind_Speed(mph)          1.132478e-01\n",
              "Visibility(mi)           2.331176e-02\n",
              "Weather_Condition        2.324443e-02\n",
              "Humidity(%)              2.255548e-02\n",
              "Temperature(F)           2.124020e-02\n",
              "Wind_Direction           1.975433e-02\n",
              "Pressure(in)             1.804684e-02\n",
              "Weather_Timestamp        1.480057e-02\n",
              "Airport_Code             2.120003e-03\n",
              "Timezone                 1.090362e-03\n",
              "Zipcode                  3.052540e-04\n",
              "Nautical_Twilight        3.331332e-05\n",
              "Astronomical_Twilight    3.331332e-05\n",
              "Civil_Twilight           3.331332e-05\n",
              "Sunrise_Sunset           3.331332e-05\n",
              "City                     3.236826e-05\n",
              "Description              4.725294e-07\n",
              "dtype: float64"
            ]
          },
          "metadata": {
            "tags": []
          },
          "execution_count": 8
        }
      ]
    },
    {
      "cell_type": "markdown",
      "metadata": {
        "id": "OwXckRNrBwEJ"
      },
      "source": [
        "We can plot these columns using the `plot` function so that we can visualize the data more efficiently."
      ]
    },
    {
      "cell_type": "code",
      "metadata": {
        "colab": {
          "base_uri": "https://localhost:8080/",
          "height": 609
        },
        "id": "DcGqxVQH-fF-",
        "outputId": "04addfab-cbc5-4379-cc5a-02218d5506d7"
      },
      "source": [
        "plt.figure(figsize=(10,10))\r\n",
        "missing_fractions[missing_fractions != 0].plot(kind='barh')"
      ],
      "execution_count": null,
      "outputs": [
        {
          "output_type": "execute_result",
          "data": {
            "text/plain": [
              "<matplotlib.axes._subplots.AxesSubplot at 0x7f3f0be45d90>"
            ]
          },
          "metadata": {
            "tags": []
          },
          "execution_count": 9
        },
        {
          "output_type": "display_data",
          "data": {
            "image/png": "[encoded data removed]",
            "text/plain": [
              "<Figure size 720x720 with 1 Axes>"
            ]
          },
          "metadata": {
            "tags": [],
            "needs_background": "light"
          }
        }
      ]
    },
    {
      "cell_type": "markdown",
      "metadata": {
        "id": "njim-Y2eCB8A"
      },
      "source": [
        "We can see that some of these columns have many missing values. For example, `End_Lng` and `End_Lat` have more than **67%** missing data. These columns won't be useful for extracting any meaningful information from the dataset. Similarly, we can remove any other columns that have more than **10%** missing data.\r\n",
        "\r\n"
      ]
    },
    {
      "cell_type": "markdown",
      "metadata": {
        "id": "CzXili5xVKsN"
      },
      "source": [
        "### Boolean Values\r\n",
        "We can have a look at the boolean values to see if the `True` and `False` values have any relevant information.\r\n",
        "We can do this by checking the count of `True` and `False` values in the specific columns."
      ]
    },
    {
      "cell_type": "markdown",
      "metadata": {
        "id": "YZKu8b6wWj60"
      },
      "source": [
        "First, we can select the boolean columns and make a separate DataFrame out of them."
      ]
    },
    {
      "cell_type": "code",
      "metadata": {
        "colab": {
          "base_uri": "https://localhost:8080/",
          "height": 224
        },
        "id": "B1XeNOfhWIIn",
        "outputId": "681350f6-33e3-4927-dcf1-eb922b75b63a"
      },
      "source": [
        "booleans = df.select_dtypes(include='bool')\r\n",
        "booleans.head()"
      ],
      "execution_count": null,
      "outputs": [
        {
          "output_type": "execute_result",
          "data": {
            "text/html": [
              "<div>\n",
              "<style scoped>\n",
              "    .dataframe tbody tr th:only-of-type {\n",
              "        vertical-align: middle;\n",
              "    }\n",
              "\n",
              "    .dataframe tbody tr th {\n",
              "        vertical-align: top;\n",
              "    }\n",
              "\n",
              "    .dataframe thead th {\n",
              "        text-align: right;\n",
              "    }\n",
              "</style>\n",
              "<table border=\"1\" class=\"dataframe\">\n",
              "  <thead>\n",
              "    <tr style=\"text-align: right;\">\n",
              "      <th></th>\n",
              "      <th>Amenity</th>\n",
              "      <th>Bump</th>\n",
              "      <th>Crossing</th>\n",
              "      <th>Give_Way</th>\n",
              "      <th>Junction</th>\n",
              "      <th>No_Exit</th>\n",
              "      <th>Railway</th>\n",
              "      <th>Roundabout</th>\n",
              "      <th>Station</th>\n",
              "      <th>Stop</th>\n",
              "      <th>Traffic_Calming</th>\n",
              "      <th>Traffic_Signal</th>\n",
              "      <th>Turning_Loop</th>\n",
              "    </tr>\n",
              "  </thead>\n",
              "  <tbody>\n",
              "    <tr>\n",
              "      <th>0</th>\n",
              "      <td>False</td>\n",
              "      <td>False</td>\n",
              "      <td>False</td>\n",
              "      <td>False</td>\n",
              "      <td>False</td>\n",
              "      <td>False</td>\n",
              "      <td>False</td>\n",
              "      <td>False</td>\n",
              "      <td>False</td>\n",
              "      <td>False</td>\n",
              "      <td>False</td>\n",
              "      <td>False</td>\n",
              "      <td>False</td>\n",
              "    </tr>\n",
              "    <tr>\n",
              "      <th>1</th>\n",
              "      <td>False</td>\n",
              "      <td>False</td>\n",
              "      <td>False</td>\n",
              "      <td>False</td>\n",
              "      <td>False</td>\n",
              "      <td>False</td>\n",
              "      <td>False</td>\n",
              "      <td>False</td>\n",
              "      <td>False</td>\n",
              "      <td>False</td>\n",
              "      <td>False</td>\n",
              "      <td>False</td>\n",
              "      <td>False</td>\n",
              "    </tr>\n",
              "    <tr>\n",
              "      <th>2</th>\n",
              "      <td>False</td>\n",
              "      <td>False</td>\n",
              "      <td>False</td>\n",
              "      <td>False</td>\n",
              "      <td>False</td>\n",
              "      <td>False</td>\n",
              "      <td>False</td>\n",
              "      <td>False</td>\n",
              "      <td>False</td>\n",
              "      <td>False</td>\n",
              "      <td>False</td>\n",
              "      <td>True</td>\n",
              "      <td>False</td>\n",
              "    </tr>\n",
              "    <tr>\n",
              "      <th>3</th>\n",
              "      <td>False</td>\n",
              "      <td>False</td>\n",
              "      <td>False</td>\n",
              "      <td>False</td>\n",
              "      <td>False</td>\n",
              "      <td>False</td>\n",
              "      <td>False</td>\n",
              "      <td>False</td>\n",
              "      <td>False</td>\n",
              "      <td>False</td>\n",
              "      <td>False</td>\n",
              "      <td>False</td>\n",
              "      <td>False</td>\n",
              "    </tr>\n",
              "    <tr>\n",
              "      <th>4</th>\n",
              "      <td>False</td>\n",
              "      <td>False</td>\n",
              "      <td>False</td>\n",
              "      <td>False</td>\n",
              "      <td>False</td>\n",
              "      <td>False</td>\n",
              "      <td>False</td>\n",
              "      <td>False</td>\n",
              "      <td>False</td>\n",
              "      <td>False</td>\n",
              "      <td>False</td>\n",
              "      <td>True</td>\n",
              "      <td>False</td>\n",
              "    </tr>\n",
              "  </tbody>\n",
              "</table>\n",
              "</div>"
            ],
            "text/plain": [
              "   Amenity   Bump  Crossing  ...  Traffic_Calming  Traffic_Signal  Turning_Loop\n",
              "0    False  False     False  ...            False           False         False\n",
              "1    False  False     False  ...            False           False         False\n",
              "2    False  False     False  ...            False            True         False\n",
              "3    False  False     False  ...            False           False         False\n",
              "4    False  False     False  ...            False            True         False\n",
              "\n",
              "[5 rows x 13 columns]"
            ]
          },
          "metadata": {
            "tags": []
          },
          "execution_count": 10
        }
      ]
    },
    {
      "cell_type": "markdown",
      "metadata": {
        "id": "xT5XwfzbWrns"
      },
      "source": [
        "We can now check to see the distribution of `True` and `False` values for each column."
      ]
    },
    {
      "cell_type": "code",
      "metadata": {
        "id": "xFjXz77W-PSG",
        "colab": {
          "base_uri": "https://localhost:8080/"
        },
        "outputId": "a12d95e1-8af3-4eed-f4a8-59a3ca4c4b5d"
      },
      "source": [
        "data = []\r\n",
        "total_count = len(booleans)\r\n",
        "for column in booleans.columns:\r\n",
        "  data.append([column, (len(booleans[column][booleans[column] == True]) / total_count) * 100, (len(booleans[column][booleans[column] == False]) / total_count) * 100, total_count])\r\n",
        "print(tabulate(data, headers=['Columns', 'True %', 'False %', 'Total Count'], tablefmt='orgtbl'))"
      ],
      "execution_count": null,
      "outputs": [
        {
          "output_type": "stream",
          "text": [
            "| Columns         |      True % |   False % |   Total Count |\n",
            "|-----------------+-------------+-----------+---------------|\n",
            "| Amenity         |  1.16786    |   98.8321 |       4232541 |\n",
            "| Bump            |  0.0203424  |   99.9797 |       4232541 |\n",
            "| Crossing        |  8.20824    |   91.7918 |       4232541 |\n",
            "| Give_Way        |  0.311751   |   99.6882 |       4232541 |\n",
            "| Junction        |  8.02454    |   91.9755 |       4232541 |\n",
            "| No_Exit         |  0.141026   |   99.859  |       4232541 |\n",
            "| Railway         |  0.909926   |   99.0901 |       4232541 |\n",
            "| Roundabout      |  0.00559947 |   99.9944 |       4232541 |\n",
            "| Station         |  2.0358     |   97.9642 |       4232541 |\n",
            "| Stop            |  1.70543    |   98.2946 |       4232541 |\n",
            "| Traffic_Calming |  0.0501117  |   99.9499 |       4232541 |\n",
            "| Traffic_Signal  | 17.2027     |   82.7973 |       4232541 |\n",
            "| Turning_Loop    |  0          |  100      |       4232541 |\n"
          ],
          "name": "stdout"
        }
      ]
    },
    {
      "cell_type": "markdown",
      "metadata": {
        "id": "P922HXT9az7w"
      },
      "source": [
        "We can see that the percentage of `False` values is very high for most columns. These columns can be dropped since these can be a sign of missing data or irrelevant data. Hence, we will drop all columns where the **% of False values is >= 99%**"
      ]
    },
    {
      "cell_type": "markdown",
      "metadata": {
        "id": "biDcA5rNeKPM"
      },
      "source": [
        "### City Data\r\n",
        "\r\n",
        "We have observed above that some of the data related to city names is missing. However, we have all the data for the `Start_lat` and `Start_lng` which indicate the latitude and longitude where the accident occurred. We can use this to check where the accident occurred.\r\n",
        "\r\n"
      ]
    },
    {
      "cell_type": "code",
      "metadata": {
        "colab": {
          "base_uri": "https://localhost:8080/"
        },
        "id": "iG2tsVM0eVWr",
        "outputId": "297ee14e-8685-499b-c636-ed02a3e80a1e"
      },
      "source": [
        "print(f'Number of missing values in the City column = {df.City.isna().sum()}')"
      ],
      "execution_count": null,
      "outputs": [
        {
          "output_type": "stream",
          "text": [
            "Number of missing values in the City column = 137\n"
          ],
          "name": "stdout"
        }
      ]
    },
    {
      "cell_type": "code",
      "metadata": {
        "id": "ZpxWvPwT5X32"
      },
      "source": [
        "from geopy.exc import GeocoderTimedOut\r\n",
        "from geopy.geocoders import Nominatim"
      ],
      "execution_count": null,
      "outputs": []
    },
    {
      "cell_type": "code",
      "metadata": {
        "id": "983SiTbSgzua"
      },
      "source": [
        "def get_city(index):\r\n",
        "  data_point = df.iloc[index]\r\n",
        "  start_lat= data_point[\"Start_Lat\"]\r\n",
        "  start_lng = data_point[\"Start_Lng\"]\r\n",
        "  geolocator = Nominatim(user_agent=\"geoapiExercises\")\r\n",
        "  try:\r\n",
        "    location = geolocator.reverse(f\"{start_lat},{start_lng}\", timeout=None) \r\n",
        "    address = location.raw['address']\r\n",
        "  except GeocoderTimedOut as e:\r\n",
        "    print(f\"Geocoder Timed out at index {index}\")\r\n",
        "    return np.NaN, False\r\n",
        "  try:\r\n",
        "    city = address['city']\r\n",
        "    # print(f\"FOUND City for index {index} = {city}\")\r\n",
        "    return city, True\r\n",
        "  except:\r\n",
        "    # print(f\"NOT FOUND City for index = {index}\")\r\n",
        "    return np.NaN, False"
      ],
      "execution_count": null,
      "outputs": []
    },
    {
      "cell_type": "code",
      "metadata": {
        "id": "2gm1w292iAo2"
      },
      "source": [
        "indexes = df[df['City'].isnull()].index.tolist()\r\n",
        "total_found = 0\r\n",
        "for index in indexes:\r\n",
        "  value, result = get_city(index)\r\n",
        "  if result == True:\r\n",
        "    total_found += 1\r\n",
        "  df.at[index, 'City'] = value"
      ],
      "execution_count": null,
      "outputs": []
    },
    {
      "cell_type": "code",
      "metadata": {
        "colab": {
          "base_uri": "https://localhost:8080/"
        },
        "id": "YFb5Su2Hz7p6",
        "outputId": "c0a4ca4a-25b7-4a99-bd27-600448aef57b"
      },
      "source": [
        "print(f\"Total missing values found = {total_found}\")\r\n",
        "print(f'Number of missing values in the City column = {df.City.isna().sum()}')"
      ],
      "execution_count": null,
      "outputs": [
        {
          "output_type": "stream",
          "text": [
            "Total missing values found = 55\n",
            "Number of missing values in the City column = 82\n"
          ],
          "name": "stdout"
        }
      ]
    },
    {
      "cell_type": "markdown",
      "metadata": {
        "id": "Oepl8DRIiokM"
      },
      "source": [
        "Not all City names were found but this function was able to find at least **55** city names. We can drop the remaining **82** values since they do not form a major chunk of the data."
      ]
    },
    {
      "cell_type": "markdown",
      "metadata": {
        "id": "3Bwb2NdQnPCe"
      },
      "source": [
        "### Zipcode Data\r\n",
        "The Zipcode data also has a few missing values. We can use a technique similar to the one used for the City data and get the Zipcode for the missing values using the `Start_lat` and `Start_lng`. "
      ]
    },
    {
      "cell_type": "code",
      "metadata": {
        "colab": {
          "base_uri": "https://localhost:8080/"
        },
        "id": "JRTyppynii72",
        "outputId": "81d05754-2029-4bcd-c1c5-166be42eb682"
      },
      "source": [
        "print(f'Number of missing values in the Zipcode column = {df.Zipcode.isna().sum()}')"
      ],
      "execution_count": null,
      "outputs": [
        {
          "output_type": "stream",
          "text": [
            "Number of missing values in the Zipcode column = 1292\n"
          ],
          "name": "stdout"
        }
      ]
    },
    {
      "cell_type": "markdown",
      "metadata": {
        "id": "SLLA9_Tmn9zq"
      },
      "source": [
        "We can use the function used for the City Data with some modifications to get the Zipcode for the specified co-ordinates."
      ]
    },
    {
      "cell_type": "code",
      "metadata": {
        "id": "98nO1LoEoJTc"
      },
      "source": [
        "def get_zipcode(index):\r\n",
        "  data_point = df.iloc[index]\r\n",
        "  start_lat= data_point[\"Start_Lat\"]\r\n",
        "  start_lng = data_point[\"Start_Lng\"]\r\n",
        "  geolocator = Nominatim(user_agent=\"geoapiExercises\")\r\n",
        "  try:\r\n",
        "    location = geolocator.reverse(f\"{start_lat},{start_lng}\", timeout=None) \r\n",
        "    address = location.raw['address']\r\n",
        "  except GeocoderTimedOut as e:\r\n",
        "    print(f\"Geocoder Timed out at index {index}\")\r\n",
        "    return np.NaN, False\r\n",
        "  try:\r\n",
        "    zipcode = address['postcode']\r\n",
        "    # print(f\"FOUND ZipCode for index {index} = {zipcode}\")\r\n",
        "    return zipcode, True\r\n",
        "  except:\r\n",
        "    # print(f\"NOT FOUND ZipCode for index = {index}\")\r\n",
        "    return np.NaN, False"
      ],
      "execution_count": null,
      "outputs": []
    },
    {
      "cell_type": "code",
      "metadata": {
        "id": "pmnwML7KoJEY"
      },
      "source": [
        "indexes = df[df['Zipcode'].isnull()].index.tolist()\r\n",
        "total_found = 0\r\n",
        "for index in indexes:\r\n",
        "  value, result = get_zipcode(index)\r\n",
        "  if result == True:\r\n",
        "    total_found += 1\r\n",
        "  df.at[index, 'Zipcode'] = value"
      ],
      "execution_count": null,
      "outputs": []
    },
    {
      "cell_type": "code",
      "metadata": {
        "colab": {
          "base_uri": "https://localhost:8080/"
        },
        "id": "GYMSUy6As-0Q",
        "outputId": "f7aa404d-fc6d-44a5-aeef-e79e71a23701"
      },
      "source": [
        "print(f\"Total missing values found = {total_found}\")\r\n",
        "print(f'Number of missing values in the Zipcode column = {df.Zipcode.isna().sum()}')"
      ],
      "execution_count": null,
      "outputs": [
        {
          "output_type": "stream",
          "text": [
            "Total missing values found = 801\n",
            "Number of missing values in the Zipcode column = 491\n"
          ],
          "name": "stdout"
        }
      ]
    },
    {
      "cell_type": "markdown",
      "metadata": {
        "id": "35P0A5lgo2qv"
      },
      "source": [
        "This technique still doesn't work for all cases and some missing values are still present. These can dropped since they don't form a huge chunk of the dataset."
      ]
    },
    {
      "cell_type": "markdown",
      "metadata": {
        "id": "iPZvKtCzcDsK"
      },
      "source": [
        "### Cleaning the Dataset\r\n",
        "As we have concluded from the above steps, we can remove some of the columns that have missing or irrelevant values. The columns that will be removed are as follows."
      ]
    },
    {
      "cell_type": "code",
      "metadata": {
        "id": "IWyPo337cYdC"
      },
      "source": [
        "dropped_cols = ['End_Lat', 'End_Lng', 'Number', 'Precipitation(in)', 'Wind_Chill(F)', 'TMC', 'Bump', 'Give_Way', 'No_Exit', 'Railway', 'Roundabout', 'Traffic_Calming', 'Turning_Loop']"
      ],
      "execution_count": null,
      "outputs": []
    },
    {
      "cell_type": "code",
      "metadata": {
        "colab": {
          "base_uri": "https://localhost:8080/"
        },
        "id": "A6QKs4-oc_-g",
        "outputId": "39c01af1-2c1d-4cf9-da20-5f9242220531"
      },
      "source": [
        "df.drop(dropped_cols, inplace=True, axis=1)\r\n",
        "df.info()"
      ],
      "execution_count": null,
      "outputs": [
        {
          "output_type": "stream",
          "text": [
            "<class 'pandas.core.frame.DataFrame'>\n",
            "RangeIndex: 4232541 entries, 0 to 4232540\n",
            "Data columns (total 36 columns):\n",
            " #   Column                 Dtype  \n",
            "---  ------                 -----  \n",
            " 0   ID                     object \n",
            " 1   Source                 object \n",
            " 2   Severity               int64  \n",
            " 3   Start_Time             object \n",
            " 4   End_Time               object \n",
            " 5   Start_Lat              float64\n",
            " 6   Start_Lng              float64\n",
            " 7   Distance(mi)           float64\n",
            " 8   Description            object \n",
            " 9   Street                 object \n",
            " 10  Side                   object \n",
            " 11  City                   object \n",
            " 12  County                 object \n",
            " 13  State                  object \n",
            " 14  Zipcode                object \n",
            " 15  Country                object \n",
            " 16  Timezone               object \n",
            " 17  Airport_Code           object \n",
            " 18  Weather_Timestamp      object \n",
            " 19  Temperature(F)         float64\n",
            " 20  Humidity(%)            float64\n",
            " 21  Pressure(in)           float64\n",
            " 22  Visibility(mi)         float64\n",
            " 23  Wind_Direction         object \n",
            " 24  Wind_Speed(mph)        float64\n",
            " 25  Weather_Condition      object \n",
            " 26  Amenity                bool   \n",
            " 27  Crossing               bool   \n",
            " 28  Junction               bool   \n",
            " 29  Station                bool   \n",
            " 30  Stop                   bool   \n",
            " 31  Traffic_Signal         bool   \n",
            " 32  Sunrise_Sunset         object \n",
            " 33  Civil_Twilight         object \n",
            " 34  Nautical_Twilight      object \n",
            " 35  Astronomical_Twilight  object \n",
            "dtypes: bool(6), float64(8), int64(1), object(21)\n",
            "memory usage: 993.0+ MB\n"
          ],
          "name": "stdout"
        }
      ]
    },
    {
      "cell_type": "markdown",
      "metadata": {
        "id": "xAVgISUq9MMr"
      },
      "source": [
        "Next, we can drop the `NaN` (null) values from the dataset."
      ]
    },
    {
      "cell_type": "code",
      "metadata": {
        "id": "Afriyv7D9UFx"
      },
      "source": [
        "df.dropna(inplace=True)"
      ],
      "execution_count": null,
      "outputs": []
    },
    {
      "cell_type": "code",
      "metadata": {
        "colab": {
          "base_uri": "https://localhost:8080/"
        },
        "id": "A4wZ5sbL9Y50",
        "outputId": "cfe3f4bf-d49b-4edb-ad17-ec8b8a47dbd4"
      },
      "source": [
        "df[df.isnull()].value_counts()"
      ],
      "execution_count": null,
      "outputs": [
        {
          "output_type": "execute_result",
          "data": {
            "text/plain": [
              "Series([], dtype: int64)"
            ]
          },
          "metadata": {
            "tags": []
          },
          "execution_count": 24
        }
      ]
    },
    {
      "cell_type": "markdown",
      "metadata": {
        "id": "lOJ7auKJ9iWE"
      },
      "source": [
        "Now that we have no null values, we can save the DataFrame as a CSV so that we can load it later."
      ]
    },
    {
      "cell_type": "code",
      "metadata": {
        "id": "usuW-QUZ9qxa"
      },
      "source": [
        "df.to_csv('./data/US_Accidents_Dec20_Cleaned.csv')"
      ],
      "execution_count": null,
      "outputs": []
    },
    {
      "cell_type": "markdown",
      "metadata": {
        "id": "1B1guAgKFLZQ"
      },
      "source": [
        "### Loading the Cleaned Dataset\r\n",
        "The cleaned dataset was uploaded to Kaggle so that we can use the Kaggle CLI to download the data easily."
      ]
    },
    {
      "cell_type": "code",
      "metadata": {
        "id": "njq5X2wSFOeG"
      },
      "source": [
        "import pandas as pd\r\n",
        "import numpy as np\r\n",
        "import matplotlib.pyplot as plt\r\n",
        "import seaborn as sns\r\n",
        "sns.set_style(\"darkgrid\")\r\n",
        "%matplotlib inline\r\n",
        "from tabulate import tabulate"
      ],
      "execution_count": 5,
      "outputs": []
    },
    {
      "cell_type": "code",
      "metadata": {
        "colab": {
          "base_uri": "https://localhost:8080/"
        },
        "id": "Rg5HvBtcFWbE",
        "outputId": "9328bcdb-463d-405f-e5f7-1bef6503edc3"
      },
      "source": [
        "!kaggle datasets download -d sanketnaik99/us-accidents-december-2020-cleaned"
      ],
      "execution_count": 6,
      "outputs": [
        {
          "output_type": "stream",
          "text": [
            "Downloading us-accidents-december-2020-cleaned.zip to /content\n",
            " 92% 238M/258M [00:01<00:00, 123MB/s]\n",
            "100% 258M/258M [00:01<00:00, 144MB/s]\n"
          ],
          "name": "stdout"
        }
      ]
    },
    {
      "cell_type": "code",
      "metadata": {
        "id": "vm0Mf1xeFWTL"
      },
      "source": [
        "!mkdir data"
      ],
      "execution_count": 7,
      "outputs": []
    },
    {
      "cell_type": "code",
      "metadata": {
        "colab": {
          "base_uri": "https://localhost:8080/"
        },
        "id": "Vx8dOqB0FlB7",
        "outputId": "6cf3c003-511d-4e6d-b17e-425b7fae7d94"
      },
      "source": [
        "!unzip us-accidents-december-2020-cleaned.zip -d data"
      ],
      "execution_count": 9,
      "outputs": [
        {
          "output_type": "stream",
          "text": [
            "Archive:  us-accidents-december-2020-cleaned.zip\n",
            "  inflating: data/US_Accidents_Dec20_Cleaned.csv  \n"
          ],
          "name": "stdout"
        }
      ]
    },
    {
      "cell_type": "code",
      "metadata": {
        "id": "W7AtIB5vFk6T"
      },
      "source": [
        "data_filename = './data/US_Accidents_Dec20_Cleaned.csv'"
      ],
      "execution_count": 10,
      "outputs": []
    },
    {
      "cell_type": "code",
      "metadata": {
        "id": "fTZyerDbF1I7"
      },
      "source": [
        "df = pd.read_csv(data_filename)"
      ],
      "execution_count": 11,
      "outputs": []
    },
    {
      "cell_type": "markdown",
      "metadata": {
        "id": "JYoT5TPk7eVB"
      },
      "source": [
        "## Exploratory Analysis & Visualization\r\n",
        "In this step we will analyze some important columns which will help us get a better understanding of the dataset. Some of the important columns that we will be looking at are -\r\n",
        "1. City\r\n",
        "2. Start Time\r\n",
        "3. State"
      ]
    },
    {
      "cell_type": "markdown",
      "metadata": {
        "id": "Dr4MOFLeC0Tl"
      },
      "source": [
        "### City\r\n",
        "The city coulmn states the name of the city where the accident occurred. This can be helpful to answer some important questions such as -\r\n",
        "1. Which are the top 5 cities by number of accidents.\r\n",
        "2. What is the distribution of accidents by cities?\r\n",
        "3. How many accidents occurred in cities with very high number of accidents (>=10,000)"
      ]
    },
    {
      "cell_type": "markdown",
      "metadata": {
        "id": "DvpuBGJ8H0G8"
      },
      "source": [
        "First, we can check the number of unique values for the cities field."
      ]
    },
    {
      "cell_type": "code",
      "metadata": {
        "colab": {
          "base_uri": "https://localhost:8080/"
        },
        "id": "wv5hJ0Hb7iyA",
        "outputId": "fe72ff72-2aff-4726-f0a7-666fa5af6d89"
      },
      "source": [
        "cities = df.City.unique()\r\n",
        "len(cities)"
      ],
      "execution_count": 22,
      "outputs": [
        {
          "output_type": "execute_result",
          "data": {
            "text/plain": [
              "11824"
            ]
          },
          "metadata": {
            "tags": []
          },
          "execution_count": 22
        }
      ]
    },
    {
      "cell_type": "markdown",
      "metadata": {
        "id": "13dUj3HqDeBF"
      },
      "source": [
        "As shown above, the dataset contains accident data from 12,251 cities out of 19,502 total cities as of 2019."
      ]
    },
    {
      "cell_type": "markdown",
      "metadata": {
        "id": "pe9SmE5FDe8m"
      },
      "source": [
        "\r\n",
        "#### Top 5 cities by the number of accidents\r\n",
        "\r\n",
        "We can have a look at the top cities by number of accidents by using the `value_counts` function which returns the count of each unique value in a Column."
      ]
    },
    {
      "cell_type": "code",
      "metadata": {
        "colab": {
          "base_uri": "https://localhost:8080/"
        },
        "id": "pEF18FxICGJR",
        "outputId": "843f176a-94b7-4499-e299-fe96af9c864b"
      },
      "source": [
        "cities_by_accidents = df.City.value_counts()\r\n",
        "cities_by_accidents[:5]"
      ],
      "execution_count": 12,
      "outputs": [
        {
          "output_type": "execute_result",
          "data": {
            "text/plain": [
              "Houston        101525\n",
              "Charlotte       78838\n",
              "Dallas          73274\n",
              "Los Angeles     69622\n",
              "Austin          59853\n",
              "Name: City, dtype: int64"
            ]
          },
          "metadata": {
            "tags": []
          },
          "execution_count": 12
        }
      ]
    },
    {
      "cell_type": "code",
      "metadata": {
        "colab": {
          "base_uri": "https://localhost:8080/",
          "height": 500
        },
        "id": "kqJG1I0eCGRz",
        "outputId": "5e58a6ad-1593-4f40-981c-a7c914983142"
      },
      "source": [
        "plt.figure(figsize=(8,8))\r\n",
        "cities_by_accidents[:5].plot(kind='barh')"
      ],
      "execution_count": 13,
      "outputs": [
        {
          "output_type": "execute_result",
          "data": {
            "text/plain": [
              "<matplotlib.axes._subplots.AxesSubplot at 0x7f14b60b6bd0>"
            ]
          },
          "metadata": {
            "tags": []
          },
          "execution_count": 13
        },
        {
          "output_type": "display_data",
          "data": {
            "image/png": "[encoded data removed]",
            "text/plain": [
              "<Figure size 576x576 with 1 Axes>"
            ]
          },
          "metadata": {
            "tags": [],
            "needs_background": "light"
          }
        }
      ]
    },
    {
      "cell_type": "markdown",
      "metadata": {
        "id": "zxLCwnfSIc16"
      },
      "source": [
        "We can see that Houston, Charlotte, Dallas, Los Angeles and Austin have the highest number of accidents. Interestingly, 3 out of the top 5 cities are located in the state of Texas."
      ]
    },
    {
      "cell_type": "markdown",
      "metadata": {
        "id": "iV-cRBVhIqhR"
      },
      "source": [
        "#### Distribution of accidents by cities\r\n",
        "We can analyze the number of accidents per city to check the distribution of number of accidents per city."
      ]
    },
    {
      "cell_type": "code",
      "metadata": {
        "colab": {
          "base_uri": "https://localhost:8080/",
          "height": 518
        },
        "id": "4mqMd-77CGv4",
        "outputId": "f935f194-e486-4884-81e3-fadf2c567ab5"
      },
      "source": [
        "plt.figure(figsize=(12,8))\r\n",
        "sns.histplot(cities_by_accidents, log_scale=True, bins=80)"
      ],
      "execution_count": 19,
      "outputs": [
        {
          "output_type": "execute_result",
          "data": {
            "text/plain": [
              "<matplotlib.axes._subplots.AxesSubplot at 0x7f1451c7d0d0>"
            ]
          },
          "metadata": {
            "tags": []
          },
          "execution_count": 19
        },
        {
          "output_type": "display_data",
          "data": {
            "image/png": "[encoded data removed]",
            "text/plain": [
              "<Figure size 864x576 with 1 Axes>"
            ]
          },
          "metadata": {
            "tags": [],
            "needs_background": "light"
          }
        }
      ]
    },
    {
      "cell_type": "markdown",
      "metadata": {
        "id": "-Sju0ayUGdBo"
      },
      "source": [
        "We can see that many cities have a very low number of accidents reported. We can analyze this further by checking what percentage of cities have reported more than 1,000 accidents in the timeframe."
      ]
    },
    {
      "cell_type": "code",
      "metadata": {
        "id": "FJO166fECHCo"
      },
      "source": [
        "high_accident_cities = cities_by_accidents[cities_by_accidents >= 1000]\r\n",
        "low_accident_cities = cities_by_accidents[cities_by_accidents < 1000]"
      ],
      "execution_count": 20,
      "outputs": []
    },
    {
      "cell_type": "code",
      "metadata": {
        "colab": {
          "base_uri": "https://localhost:8080/"
        },
        "id": "W7DSll-HCHJw",
        "outputId": "87187734-39f3-4138-b2a5-6c6e3e4ec673"
      },
      "source": [
        "(len(high_accident_cities) / len(cities)) * 100"
      ],
      "execution_count": 23,
      "outputs": [
        {
          "output_type": "execute_result",
          "data": {
            "text/plain": [
              "5.2435723951285516"
            ]
          },
          "metadata": {
            "tags": []
          },
          "execution_count": 23
        }
      ]
    },
    {
      "cell_type": "markdown",
      "metadata": {
        "id": "7ci7lKw3Gprf"
      },
      "source": [
        "We can see that less than 5% of the cities have reported more than 1,000 accidents."
      ]
    },
    {
      "cell_type": "code",
      "metadata": {
        "colab": {
          "base_uri": "https://localhost:8080/",
          "height": 519
        },
        "id": "PoZU8a71CHPh",
        "outputId": "23794791-48bc-4b37-fa65-25ec843e0ecd"
      },
      "source": [
        "plt.figure(figsize=(12,8))\r\n",
        "sns.histplot(high_accident_cities, log_scale=True)"
      ],
      "execution_count": 25,
      "outputs": [
        {
          "output_type": "execute_result",
          "data": {
            "text/plain": [
              "<matplotlib.axes._subplots.AxesSubplot at 0x7f1450225a50>"
            ]
          },
          "metadata": {
            "tags": []
          },
          "execution_count": 25
        },
        {
          "output_type": "display_data",
          "data": {
            "image/png": "[encoded data removed]",
            "text/plain": [
              "<Figure size 864x576 with 1 Axes>"
            ]
          },
          "metadata": {
            "tags": [],
            "needs_background": "light"
          }
        }
      ]
    },
    {
      "cell_type": "markdown",
      "metadata": {
        "id": "bvS8ZYRLKHg8"
      },
      "source": [
        "Even in the cities that reported more than 1,000 accidents, most have reported between 1,000 and 10,000 accidents. We can further create a sub-type called very high accident cities with more than 10,000 accidents."
      ]
    },
    {
      "cell_type": "code",
      "metadata": {
        "id": "aB0V4SKAKdTi"
      },
      "source": [
        "very_high_accident_cities = cities_by_accidents[cities_by_accidents >= 10000]"
      ],
      "execution_count": 26,
      "outputs": []
    },
    {
      "cell_type": "code",
      "metadata": {
        "colab": {
          "base_uri": "https://localhost:8080/"
        },
        "id": "lVqz4ySRKmcZ",
        "outputId": "fb35edfc-35b9-483d-918c-43a5265253ce"
      },
      "source": [
        "print(f\"Number of very high accident cities = {len(very_high_accident_cities)}\")\r\n",
        "print(f\"Percentage of dataset = {(len(very_high_accident_cities) / len(cities)) * 100}\")"
      ],
      "execution_count": 30,
      "outputs": [
        {
          "output_type": "stream",
          "text": [
            "Number of very high accident cities = 52\n",
            "Percentage of dataset = 0.4397834912043302\n"
          ],
          "name": "stdout"
        }
      ]
    },
    {
      "cell_type": "markdown",
      "metadata": {
        "id": "K1Z4sz3zKpiZ"
      },
      "source": [
        "We can see that these 52 cities represent only **0.43%** of the entire dataset."
      ]
    },
    {
      "cell_type": "code",
      "metadata": {
        "colab": {
          "base_uri": "https://localhost:8080/",
          "height": 518
        },
        "id": "gspncqQnCHTB",
        "outputId": "e4bee83c-48c0-4b4f-c60e-a36838fe2e6f"
      },
      "source": [
        "plt.figure(figsize=(12,8))\r\n",
        "sns.histplot(very_high_accident_cities, log_scale=True)"
      ],
      "execution_count": 28,
      "outputs": [
        {
          "output_type": "execute_result",
          "data": {
            "text/plain": [
              "<matplotlib.axes._subplots.AxesSubplot at 0x7f145016e450>"
            ]
          },
          "metadata": {
            "tags": []
          },
          "execution_count": 28
        },
        {
          "output_type": "display_data",
          "data": {
            "image/png": "[encoded data removed]",
            "text/plain": [
              "<Figure size 864x576 with 1 Axes>"
            ]
          },
          "metadata": {
            "tags": [],
            "needs_background": "light"
          }
        }
      ]
    },
    {
      "cell_type": "markdown",
      "metadata": {
        "id": "Bq8XGxSYLNQ5"
      },
      "source": [
        "#### Number of accidents from very high accident cities\r\n",
        "We know that 52 cities have reported >= 10,000 accidents. We can now check the total number of accidents reported by these cities.\r\n"
      ]
    },
    {
      "cell_type": "code",
      "metadata": {
        "colab": {
          "base_uri": "https://localhost:8080/"
        },
        "id": "T4ErabW2MfJV",
        "outputId": "566bd2af-7af7-40f5-e6c5-d42dd0d29057"
      },
      "source": [
        "city_names = very_high_accident_cities.keys()\r\n",
        "city_names = np.array(city_names)\r\n",
        "city_names"
      ],
      "execution_count": 42,
      "outputs": [
        {
          "output_type": "execute_result",
          "data": {
            "text/plain": [
              "array(['Houston', 'Charlotte', 'Dallas', 'Los Angeles', 'Austin', 'Miami',\n",
              "       'Raleigh', 'Atlanta', 'Baton Rouge', 'Nashville', 'Oklahoma City',\n",
              "       'Orlando', 'Sacramento', 'Minneapolis', 'Phoenix', 'San Diego',\n",
              "       'San Antonio', 'Seattle', 'Richmond', 'Jacksonville', 'Saint Paul',\n",
              "       'Portland', 'Greenville', 'Chicago', 'Indianapolis', 'San Jose',\n",
              "       'Columbia', 'Denver', 'Tucson', 'Omaha', 'Rochester', 'Tulsa',\n",
              "       'Dayton', 'Detroit', 'Oakland', 'Flint', 'Grand Rapids', 'Tampa',\n",
              "       'Fort Lauderdale', 'Riverside', 'Bronx', 'Columbus', 'Louisville',\n",
              "       'Salt Lake City', 'El Paso', 'Long Beach', 'Saint Louis',\n",
              "       'Kansas City', 'San Francisco', 'Anaheim', 'San Bernardino',\n",
              "       'Philadelphia'], dtype=object)"
            ]
          },
          "metadata": {
            "tags": []
          },
          "execution_count": 42
        }
      ]
    },
    {
      "cell_type": "code",
      "metadata": {
        "id": "4ViWOimdCHai"
      },
      "source": [
        "very_h_cities = df[df.City.isin(city_names)]"
      ],
      "execution_count": 44,
      "outputs": []
    },
    {
      "cell_type": "code",
      "metadata": {
        "colab": {
          "base_uri": "https://localhost:8080/"
        },
        "id": "5VlO1dA8NTIZ",
        "outputId": "6fef2016-0dc9-4931-b78d-aed0b4ff70f5"
      },
      "source": [
        "print(f\"Number of accidents in reported by citites in Very High (>=10,000) accidents range = {len(very_h_cities)}\")\r\n",
        "print(f\"Total Number of Cities in dataset = {len(df)}\")\r\n",
        "print(f\"Percentage of accidents reported by cities in Very High (>=10,000) accidents range = {round((len(very_h_cities) / len(df)) * 100, 2)} %\")"
      ],
      "execution_count": 49,
      "outputs": [
        {
          "output_type": "stream",
          "text": [
            "Number of accidents in reported by citites in Very High (>=10,000) accidents range = 1393963\n",
            "Total Number of Cities in dataset = 3713885\n",
            "Percentage of accidents reported by cities in Very High (>=10,000) accidents range = 37.53 %\n"
          ],
          "name": "stdout"
        }
      ]
    },
    {
      "cell_type": "markdown",
      "metadata": {
        "id": "b7iqH5zLN4Q_"
      },
      "source": [
        "We can see that the Cities in the Very High (>=10,000) accidents range contribute to **37.53%** of all accident data. Moreover, the number of cities that contribute this data is only **52** and represents **0.43%** of all cities present in the dataset."
      ]
    },
    {
      "cell_type": "markdown",
      "metadata": {
        "id": "anHNNT77IiTT"
      },
      "source": [
        "### Start Time Column"
      ]
    },
    {
      "cell_type": "code",
      "metadata": {
        "colab": {
          "base_uri": "https://localhost:8080/"
        },
        "id": "GrQSIHu3CHga",
        "outputId": "12d4aaa0-9300-4ad9-d90a-1d03f938d785"
      },
      "source": [
        "df.Start_Time"
      ],
      "execution_count": null,
      "outputs": [
        {
          "output_type": "execute_result",
          "data": {
            "text/plain": [
              "0          2016-02-08 05:46:00\n",
              "1          2016-02-08 06:07:59\n",
              "2          2016-02-08 06:49:27\n",
              "3          2016-02-08 07:23:34\n",
              "4          2016-02-08 07:39:07\n",
              "                  ...         \n",
              "4232536    2019-08-23 18:03:25\n",
              "4232537    2019-08-23 19:11:30\n",
              "4232538    2019-08-23 19:00:21\n",
              "4232539    2019-08-23 19:00:21\n",
              "4232540    2019-08-23 18:52:06\n",
              "Name: Start_Time, Length: 4232541, dtype: object"
            ]
          },
          "metadata": {
            "tags": []
          },
          "execution_count": 60
        }
      ]
    },
    {
      "cell_type": "code",
      "metadata": {
        "id": "QNHdpg4LI4ue"
      },
      "source": [
        "df.Start_Time = pd.to_datetime(df.Start_Time)"
      ],
      "execution_count": null,
      "outputs": []
    },
    {
      "cell_type": "markdown",
      "metadata": {
        "id": "icU1k4IkJEYN"
      },
      "source": [
        "We convert the Start_Time column to the datetime format."
      ]
    },
    {
      "cell_type": "code",
      "metadata": {
        "colab": {
          "base_uri": "https://localhost:8080/"
        },
        "id": "vBYtfs7gI5Cm",
        "outputId": "db6d2687-598e-487c-f381-983ec965b52a"
      },
      "source": [
        "df.Start_Time[0].hour"
      ],
      "execution_count": null,
      "outputs": [
        {
          "output_type": "execute_result",
          "data": {
            "text/plain": [
              "5"
            ]
          },
          "metadata": {
            "tags": []
          },
          "execution_count": 65
        }
      ]
    },
    {
      "cell_type": "code",
      "metadata": {
        "id": "YPYI2Q99I5sW"
      },
      "source": [
        "df['Hour_of_Day'] = df.Start_Time.dt.hour"
      ],
      "execution_count": null,
      "outputs": []
    },
    {
      "cell_type": "code",
      "metadata": {
        "colab": {
          "base_uri": "https://localhost:8080/",
          "height": 515
        },
        "id": "H9ENSXtJI5zR",
        "outputId": "1ae41b57-1f42-41ab-d5f2-08a0566424c8"
      },
      "source": [
        "plt.figure(figsize=(12, 8))\r\n",
        "sns.histplot(df.Hour_of_Day, bins=24)"
      ],
      "execution_count": null,
      "outputs": [
        {
          "output_type": "execute_result",
          "data": {
            "text/plain": [
              "<matplotlib.axes._subplots.AxesSubplot at 0x7f150689fbd0>"
            ]
          },
          "metadata": {
            "tags": []
          },
          "execution_count": 67
        },
        {
          "output_type": "display_data",
          "data": {
            "image/png": "[encoded data removed]",
            "text/plain": [
              "<Figure size 864x576 with 1 Axes>"
            ]
          },
          "metadata": {
            "tags": [],
            "needs_background": "light"
          }
        }
      ]
    },
    {
      "cell_type": "markdown",
      "metadata": {
        "id": "cgSYoS8RK-3-"
      },
      "source": [
        "A high percentage of accidents occur between 6 AM and 10 AM (probably people in a hurry to get to work)\r\n",
        "Next highest percentage is 3 PM to 6 PM."
      ]
    },
    {
      "cell_type": "code",
      "metadata": {
        "id": "tCQkjDDLI55T"
      },
      "source": [
        "df['Day_of_Week'] = df.Start_Time.dt.dayofweek"
      ],
      "execution_count": null,
      "outputs": []
    },
    {
      "cell_type": "code",
      "metadata": {
        "colab": {
          "base_uri": "https://localhost:8080/",
          "height": 515
        },
        "id": "uAKVVxP5L33D",
        "outputId": "8fda32e1-5b06-4cd2-fbef-ced40745239a"
      },
      "source": [
        "plt.figure(figsize=(12, 8))\r\n",
        "sns.histplot(df.Day_of_Week, bins=7)"
      ],
      "execution_count": null,
      "outputs": [
        {
          "output_type": "execute_result",
          "data": {
            "text/plain": [
              "<matplotlib.axes._subplots.AxesSubplot at 0x7f150669fb90>"
            ]
          },
          "metadata": {
            "tags": []
          },
          "execution_count": 69
        },
        {
          "output_type": "display_data",
          "data": {
            "image/png": "[encoded data removed]",
            "text/plain": [
              "<Figure size 864x576 with 1 Axes>"
            ]
          },
          "metadata": {
            "tags": [],
            "needs_background": "light"
          }
        }
      ]
    },
    {
      "cell_type": "markdown",
      "metadata": {
        "id": "9GrgiCqJL-OA"
      },
      "source": [
        "We can see that the number of accidents are higher on weekdays and lower on weekends.\r\n"
      ]
    },
    {
      "cell_type": "markdown",
      "metadata": {
        "id": "Z5rgNDJ8MLOJ"
      },
      "source": [
        "Q. Is the distribution of accidents by hour the same on weekends as on weekends."
      ]
    },
    {
      "cell_type": "code",
      "metadata": {
        "id": "gvZks1RAL39N"
      },
      "source": [
        "weekends_start_time = df.Start_Time[df.Start_Time.dt.dayofweek >= 5]"
      ],
      "execution_count": null,
      "outputs": []
    },
    {
      "cell_type": "code",
      "metadata": {
        "colab": {
          "base_uri": "https://localhost:8080/",
          "height": 515
        },
        "id": "cQ99ckLeL4Bg",
        "outputId": "65ea5424-88e6-40f1-cf23-405e8d8efdca"
      },
      "source": [
        "plt.figure(figsize=(12, 8))\r\n",
        "sns.histplot(weekends_start_time.dt.hour, bins=24)"
      ],
      "execution_count": null,
      "outputs": [
        {
          "output_type": "execute_result",
          "data": {
            "text/plain": [
              "<matplotlib.axes._subplots.AxesSubplot at 0x7f1506652890>"
            ]
          },
          "metadata": {
            "tags": []
          },
          "execution_count": 74
        },
        {
          "output_type": "display_data",
          "data": {
            "image/png": "[encoded data removed]",
            "text/plain": [
              "<Figure size 864x576 with 1 Axes>"
            ]
          },
          "metadata": {
            "tags": [],
            "needs_background": "light"
          }
        }
      ]
    },
    {
      "cell_type": "markdown",
      "metadata": {
        "id": "csHnVDLUNfUl"
      },
      "source": [
        "We can see that on weekends, the data distribution is more spread out and the accidents acutally happen more during the afternoon."
      ]
    },
    {
      "cell_type": "code",
      "metadata": {
        "colab": {
          "base_uri": "https://localhost:8080/",
          "height": 515
        },
        "id": "QuuqO6ctL4Fr",
        "outputId": "e6731e86-2368-465e-d6ed-71bc13e88bc6"
      },
      "source": [
        "plt.figure(figsize=(12, 8))\r\n",
        "sns.histplot(df.Start_Time.dt.month, bins=12)"
      ],
      "execution_count": null,
      "outputs": [
        {
          "output_type": "execute_result",
          "data": {
            "text/plain": [
              "<matplotlib.axes._subplots.AxesSubplot at 0x7f15065d8e50>"
            ]
          },
          "metadata": {
            "tags": []
          },
          "execution_count": 75
        },
        {
          "output_type": "display_data",
          "data": {
            "image/png": "[encoded data removed]",
            "text/plain": [
              "<Figure size 864x576 with 1 Axes>"
            ]
          },
          "metadata": {
            "tags": [],
            "needs_background": "light"
          }
        }
      ]
    },
    {
      "cell_type": "markdown",
      "metadata": {
        "id": "UgneZSU6Ocjp"
      },
      "source": [
        "Can you explain the month wise trend of accidents?"
      ]
    },
    {
      "cell_type": "markdown",
      "metadata": {
        "id": "W9hkZRhPRMj_"
      },
      "source": [
        "Use Folium for maps"
      ]
    },
    {
      "cell_type": "code",
      "metadata": {
        "id": "tV3sllnuRP5l"
      },
      "source": [
        "import folium"
      ],
      "execution_count": null,
      "outputs": []
    },
    {
      "cell_type": "markdown",
      "metadata": {
        "id": "QtKivgul7jRg"
      },
      "source": [
        "## Questions and Answers\r\n",
        "\r\n",
        "1. Are there more accidents in warmer or colder areas?\r\n",
        "2. Which 5 states have the highest number of accidents? How about per capita?\r\n",
        "3. Does New York show up in the data? If yes, why is the count lower if it is the most populated city\r\n",
        "4. Among the top 100 cities in number of accidents, which states do they belong to most frequently?\r\n",
        "5. What time of the day are the accidents more frequent in?\r\n",
        "6. Which days of the week have the most accidents?\r\n",
        "7. Which months have the most accidents?\r\n",
        "8. What is the trend of accidents YoY (decreasing/increasing)?\r\n",
        "9. When is accidents per unit traffic the highest."
      ]
    },
    {
      "cell_type": "code",
      "metadata": {
        "id": "brt4KsxG7nHo"
      },
      "source": [
        ""
      ],
      "execution_count": null,
      "outputs": []
    },
    {
      "cell_type": "markdown",
      "metadata": {
        "id": "tgZThKXn7nlf"
      },
      "source": [
        "## Summary & Conclusions\r\n",
        "- The number of accidents per city decreases exponentially.\r\n",
        "- Less than 5% of cities have more than 1000 yearly accidents\r\n",
        "- Over 1200 cities have reported just 1 accident (need to investigate)"
      ]
    },
    {
      "cell_type": "code",
      "metadata": {
        "id": "pfkoIJBr7qQo"
      },
      "source": [
        ""
      ],
      "execution_count": null,
      "outputs": []
    }
  ]
}