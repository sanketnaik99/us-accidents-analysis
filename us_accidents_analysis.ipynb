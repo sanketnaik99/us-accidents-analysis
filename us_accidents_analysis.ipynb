{
  "nbformat": 4,
  "nbformat_minor": 0,
  "metadata": {
    "colab": {
      "name": "us-accidents-analysis.ipynb",
      "provenance": [],
      "collapsed_sections": [
        "LKvkBuU77Yb7",
        "YsC04PKu7aXx",
        "Ijxw55NNAfkY",
        "CzXili5xVKsN",
        "biDcA5rNeKPM",
        "3Bwb2NdQnPCe",
        "iPZvKtCzcDsK",
        "Dr4MOFLeC0Tl",
        "pe9SmE5FDe8m",
        "iV-cRBVhIqhR",
        "Bq8XGxSYLNQ5",
        "YF0MTnBwcftI",
        "jH9sZNPUd_Nc",
        "vPryRSSnfgMX"
      ],
      "toc_visible": true,
      "authorship_tag": "ABX9TyM99lUztG7B7B281z1meM6F",
      "include_colab_link": true
    },
    "kernelspec": {
      "name": "python3",
      "display_name": "Python 3"
    }
  },
  "cells": [
    {
      "cell_type": "markdown",
      "metadata": {
        "id": "view-in-github",
        "colab_type": "text"
      },
      "source": [
        "<a href=\"https://colab.research.google.com/github/sanketnaik99/us-accidents-analysis/blob/main/us_accidents_analysis.ipynb\" target=\"_parent\"><img src=\"https://colab.research.google.com/assets/colab-badge.svg\" alt=\"Open In Colab\"/></a>"
      ]
    },
    {
      "cell_type": "markdown",
      "metadata": {
        "id": "9SYU8Q516mR0"
      },
      "source": [
        "# US Accidents Exploratory Data Analysis"
      ]
    },
    {
      "cell_type": "markdown",
      "metadata": {
        "id": "Y0kMDyarUZ21"
      },
      "source": [
        "## Table of Contents\r\n",
        "- [Installing the Kaggle CLI](#installing-the-kaggle-cli)\r\n",
        "- [Downloading the Data](#downloading-the-data)\r\n",
        "- [Data Preparation and Cleaning](#data-preparation-and-cleaning)\r\n",
        "  - [Loading the dataset and initial observations](#loading-the-dataset-and-initial-observations)\r\n",
        "  - [Missing Values](#missing-values)\r\n",
        "  - [Boolean Values](#boolean-values)\r\n",
        "  - [City Data](#city-data)\r\n",
        "  - [Zipcode Data](#zipcode-data)\r\n",
        "  - [Cleaning the Dataset](#cleaning-the-dataset)\r\n",
        "- [Exploratory Analysis & Visualization](#exploratory-analysis-&-visualization)\r\n",
        "  - [City](#city)\r\n",
        "    - [Top 5 cities by the number of accidents](#top-5-cities-by-the-number-of-accidents)\r\n",
        "    - [Distribution of accidents by Cities](#distribution-of-accidents-by-cities)\r\n",
        "    - [Number of Accidents from very high accident cities](#number-of-accidents-from-very-high-accident-cities)\r\n",
        "  - [Start Time](#start-time)\r\n",
        "    - [Distribution of accidents by the Hour](#distribution-of-accidents-by-the-hour)\r\n",
        "    - [Distribution of Accidents by Day](#distribution-of-accidents-by-day)\r\n",
        "    - [Accident distribution on Weekends](#accident-distribution-on-weekends)\r\n",
        "    - [Accident Distribution on Weekdays](#accident-distribution-on-weekdays)\r\n",
        "  - [State](#state)\r\n",
        "    - [Top 5 States by the number of accidents](#top-5-states-by-the-number-of-accidents)\r\n",
        "    - [Visualization of accidents reported by each state](#visualization-of-accidents-reported-by-each-state)\r\n",
        "- [Questions and Answers](#questions-&-answers)\r\n",
        "- [Summary & Conclusions](#summary-&-conclusions)"
      ]
    },
    {
      "cell_type": "markdown",
      "metadata": {
        "id": "bwb4CzTW6J6v"
      },
      "source": [
        "## Installing the Kaggle CLI\r\n",
        "The Kaggle CLI will let us donwload the dataset easily and we won't have to upload the dataset to colab every time we run the notebook."
      ]
    },
    {
      "cell_type": "code",
      "metadata": {
        "id": "HQQ2pukg5uzT"
      },
      "source": [
        "!pip install -q kaggle"
      ],
      "execution_count": 1,
      "outputs": []
    },
    {
      "cell_type": "code",
      "metadata": {
        "id": "qPqZNGsA5-B5"
      },
      "source": [
        "from google.colab import files\r\n",
        "files.upload()"
      ],
      "execution_count": null,
      "outputs": []
    },
    {
      "cell_type": "code",
      "metadata": {
        "id": "WsRFPHL66B-3"
      },
      "source": [
        "!mkdir ~/.kaggle\r\n",
        "!cp kaggle.json ~/.kaggle/\r\n",
        "!chmod 600 ~/.kaggle/kaggle.json"
      ],
      "execution_count": 3,
      "outputs": []
    },
    {
      "cell_type": "markdown",
      "metadata": {
        "id": "BROYEdSK2pRy"
      },
      "source": [
        "## Imports"
      ]
    },
    {
      "cell_type": "code",
      "metadata": {
        "id": "InQsMjTT7d3H"
      },
      "source": [
        "import pandas as pd\r\n",
        "import numpy as np\r\n",
        "import matplotlib.pyplot as plt\r\n",
        "import seaborn as sns\r\n",
        "sns.set_style(\"darkgrid\")\r\n",
        "%matplotlib inline\r\n",
        "from tabulate import tabulate\r\n",
        "import folium"
      ],
      "execution_count": 4,
      "outputs": []
    },
    {
      "cell_type": "markdown",
      "metadata": {
        "id": "LKvkBuU77Yb7"
      },
      "source": [
        "## Downloading the Data\r\n",
        "We can now download the data using the Kaggle CLI.\r\n",
        "Kaggle CLI downloads the dataset in a zip format. We can then use the unzip package to unzip the contents of the zip file."
      ]
    },
    {
      "cell_type": "code",
      "metadata": {
        "colab": {
          "base_uri": "https://localhost:8080/"
        },
        "id": "g51wQGwJ6B43",
        "outputId": "2077de33-625a-492e-db79-54d41109bcb7"
      },
      "source": [
        "!kaggle datasets download -d sobhanmoosavi/us-accidents"
      ],
      "execution_count": null,
      "outputs": [
        {
          "output_type": "stream",
          "text": [
            "Downloading us-accidents.zip to /content\n",
            " 98% 292M/299M [00:03<00:00, 153MB/s]\n",
            "100% 299M/299M [00:03<00:00, 91.2MB/s]\n"
          ],
          "name": "stdout"
        }
      ]
    },
    {
      "cell_type": "code",
      "metadata": {
        "colab": {
          "base_uri": "https://localhost:8080/"
        },
        "id": "G0Q41j2p8O5F",
        "outputId": "d0811ffc-bfb8-4311-b1eb-f3aadbe9a077"
      },
      "source": [
        "import os\r\n",
        "os.listdir()"
      ],
      "execution_count": null,
      "outputs": [
        {
          "output_type": "execute_result",
          "data": {
            "text/plain": [
              "['.config', 'us-accidents.zip', 'kaggle.json', 'sample_data']"
            ]
          },
          "metadata": {
            "tags": []
          },
          "execution_count": 5
        }
      ]
    },
    {
      "cell_type": "code",
      "metadata": {
        "id": "iaM6hAHX8Ox3"
      },
      "source": [
        "!mkdir data"
      ],
      "execution_count": null,
      "outputs": []
    },
    {
      "cell_type": "code",
      "metadata": {
        "colab": {
          "base_uri": "https://localhost:8080/"
        },
        "id": "3NDPADec8OqG",
        "outputId": "75392067-273d-45f5-872f-98e3cf97e7cd"
      },
      "source": [
        "!unzip us-accidents.zip -d data"
      ],
      "execution_count": null,
      "outputs": [
        {
          "output_type": "stream",
          "text": [
            "Archive:  us-accidents.zip\n",
            "  inflating: data/US_Accidents_Dec20.csv  \n"
          ],
          "name": "stdout"
        }
      ]
    },
    {
      "cell_type": "markdown",
      "metadata": {
        "id": "CfjaQhmy82tt"
      },
      "source": [
        "We can see that the `us-accidents.zip` file consists of a single CSV file called `US_Accidents_Dec20.csv`"
      ]
    },
    {
      "cell_type": "code",
      "metadata": {
        "id": "vQSdzSdO9KGR"
      },
      "source": [
        "data_filename = './data/US_Accidents_Dec20.csv'"
      ],
      "execution_count": null,
      "outputs": []
    },
    {
      "cell_type": "markdown",
      "metadata": {
        "id": "YsC04PKu7aXx"
      },
      "source": [
        "##  Data Preparation & Cleaning\r\n",
        "We will follow these steps in the process of data preparation and cleaning -\r\n",
        "- Load the file using Pandas.\r\n",
        "- Look at some infromation about the data and columns.\r\n",
        "- Fix any missing or incorrect values."
      ]
    },
    {
      "cell_type": "markdown",
      "metadata": {
        "id": "rax_F_6zR_vF"
      },
      "source": [
        "### Loading the dataset and initial observations"
      ]
    },
    {
      "cell_type": "code",
      "metadata": {
        "id": "frpm-ldy9SV0"
      },
      "source": [
        "df = pd.read_csv(data_filename)"
      ],
      "execution_count": null,
      "outputs": []
    },
    {
      "cell_type": "code",
      "metadata": {
        "colab": {
          "base_uri": "https://localhost:8080/",
          "height": 530
        },
        "id": "HZVnBIhc9Sm6",
        "outputId": "9957543f-c7fa-4295-e04f-9edb9ffcbb69"
      },
      "source": [
        "df.head()"
      ],
      "execution_count": null,
      "outputs": [
        {
          "output_type": "execute_result",
          "data": {
            "text/html": [
              "<div>\n",
              "<style scoped>\n",
              "    .dataframe tbody tr th:only-of-type {\n",
              "        vertical-align: middle;\n",
              "    }\n",
              "\n",
              "    .dataframe tbody tr th {\n",
              "        vertical-align: top;\n",
              "    }\n",
              "\n",
              "    .dataframe thead th {\n",
              "        text-align: right;\n",
              "    }\n",
              "</style>\n",
              "<table border=\"1\" class=\"dataframe\">\n",
              "  <thead>\n",
              "    <tr style=\"text-align: right;\">\n",
              "      <th></th>\n",
              "      <th>ID</th>\n",
              "      <th>Source</th>\n",
              "      <th>TMC</th>\n",
              "      <th>Severity</th>\n",
              "      <th>Start_Time</th>\n",
              "      <th>End_Time</th>\n",
              "      <th>Start_Lat</th>\n",
              "      <th>Start_Lng</th>\n",
              "      <th>End_Lat</th>\n",
              "      <th>End_Lng</th>\n",
              "      <th>Distance(mi)</th>\n",
              "      <th>Description</th>\n",
              "      <th>Number</th>\n",
              "      <th>Street</th>\n",
              "      <th>Side</th>\n",
              "      <th>City</th>\n",
              "      <th>County</th>\n",
              "      <th>State</th>\n",
              "      <th>Zipcode</th>\n",
              "      <th>Country</th>\n",
              "      <th>Timezone</th>\n",
              "      <th>Airport_Code</th>\n",
              "      <th>Weather_Timestamp</th>\n",
              "      <th>Temperature(F)</th>\n",
              "      <th>Wind_Chill(F)</th>\n",
              "      <th>Humidity(%)</th>\n",
              "      <th>Pressure(in)</th>\n",
              "      <th>Visibility(mi)</th>\n",
              "      <th>Wind_Direction</th>\n",
              "      <th>Wind_Speed(mph)</th>\n",
              "      <th>Precipitation(in)</th>\n",
              "      <th>Weather_Condition</th>\n",
              "      <th>Amenity</th>\n",
              "      <th>Bump</th>\n",
              "      <th>Crossing</th>\n",
              "      <th>Give_Way</th>\n",
              "      <th>Junction</th>\n",
              "      <th>No_Exit</th>\n",
              "      <th>Railway</th>\n",
              "      <th>Roundabout</th>\n",
              "      <th>Station</th>\n",
              "      <th>Stop</th>\n",
              "      <th>Traffic_Calming</th>\n",
              "      <th>Traffic_Signal</th>\n",
              "      <th>Turning_Loop</th>\n",
              "      <th>Sunrise_Sunset</th>\n",
              "      <th>Civil_Twilight</th>\n",
              "      <th>Nautical_Twilight</th>\n",
              "      <th>Astronomical_Twilight</th>\n",
              "    </tr>\n",
              "  </thead>\n",
              "  <tbody>\n",
              "    <tr>\n",
              "      <th>0</th>\n",
              "      <td>A-1</td>\n",
              "      <td>MapQuest</td>\n",
              "      <td>201.0</td>\n",
              "      <td>3</td>\n",
              "      <td>2016-02-08 05:46:00</td>\n",
              "      <td>2016-02-08 11:00:00</td>\n",
              "      <td>39.865147</td>\n",
              "      <td>-84.058723</td>\n",
              "      <td>NaN</td>\n",
              "      <td>NaN</td>\n",
              "      <td>0.01</td>\n",
              "      <td>Right lane blocked due to accident on I-70 Eas...</td>\n",
              "      <td>NaN</td>\n",
              "      <td>I-70 E</td>\n",
              "      <td>R</td>\n",
              "      <td>Dayton</td>\n",
              "      <td>Montgomery</td>\n",
              "      <td>OH</td>\n",
              "      <td>45424</td>\n",
              "      <td>US</td>\n",
              "      <td>US/Eastern</td>\n",
              "      <td>KFFO</td>\n",
              "      <td>2016-02-08 05:58:00</td>\n",
              "      <td>36.9</td>\n",
              "      <td>NaN</td>\n",
              "      <td>91.0</td>\n",
              "      <td>29.68</td>\n",
              "      <td>10.0</td>\n",
              "      <td>Calm</td>\n",
              "      <td>NaN</td>\n",
              "      <td>0.02</td>\n",
              "      <td>Light Rain</td>\n",
              "      <td>False</td>\n",
              "      <td>False</td>\n",
              "      <td>False</td>\n",
              "      <td>False</td>\n",
              "      <td>False</td>\n",
              "      <td>False</td>\n",
              "      <td>False</td>\n",
              "      <td>False</td>\n",
              "      <td>False</td>\n",
              "      <td>False</td>\n",
              "      <td>False</td>\n",
              "      <td>False</td>\n",
              "      <td>False</td>\n",
              "      <td>Night</td>\n",
              "      <td>Night</td>\n",
              "      <td>Night</td>\n",
              "      <td>Night</td>\n",
              "    </tr>\n",
              "    <tr>\n",
              "      <th>1</th>\n",
              "      <td>A-2</td>\n",
              "      <td>MapQuest</td>\n",
              "      <td>201.0</td>\n",
              "      <td>2</td>\n",
              "      <td>2016-02-08 06:07:59</td>\n",
              "      <td>2016-02-08 06:37:59</td>\n",
              "      <td>39.928059</td>\n",
              "      <td>-82.831184</td>\n",
              "      <td>NaN</td>\n",
              "      <td>NaN</td>\n",
              "      <td>0.01</td>\n",
              "      <td>Accident on Brice Rd at Tussing Rd. Expect del...</td>\n",
              "      <td>2584.0</td>\n",
              "      <td>Brice Rd</td>\n",
              "      <td>L</td>\n",
              "      <td>Reynoldsburg</td>\n",
              "      <td>Franklin</td>\n",
              "      <td>OH</td>\n",
              "      <td>43068-3402</td>\n",
              "      <td>US</td>\n",
              "      <td>US/Eastern</td>\n",
              "      <td>KCMH</td>\n",
              "      <td>2016-02-08 05:51:00</td>\n",
              "      <td>37.9</td>\n",
              "      <td>NaN</td>\n",
              "      <td>100.0</td>\n",
              "      <td>29.65</td>\n",
              "      <td>10.0</td>\n",
              "      <td>Calm</td>\n",
              "      <td>NaN</td>\n",
              "      <td>0.00</td>\n",
              "      <td>Light Rain</td>\n",
              "      <td>False</td>\n",
              "      <td>False</td>\n",
              "      <td>False</td>\n",
              "      <td>False</td>\n",
              "      <td>False</td>\n",
              "      <td>False</td>\n",
              "      <td>False</td>\n",
              "      <td>False</td>\n",
              "      <td>False</td>\n",
              "      <td>False</td>\n",
              "      <td>False</td>\n",
              "      <td>False</td>\n",
              "      <td>False</td>\n",
              "      <td>Night</td>\n",
              "      <td>Night</td>\n",
              "      <td>Night</td>\n",
              "      <td>Day</td>\n",
              "    </tr>\n",
              "    <tr>\n",
              "      <th>2</th>\n",
              "      <td>A-3</td>\n",
              "      <td>MapQuest</td>\n",
              "      <td>201.0</td>\n",
              "      <td>2</td>\n",
              "      <td>2016-02-08 06:49:27</td>\n",
              "      <td>2016-02-08 07:19:27</td>\n",
              "      <td>39.063148</td>\n",
              "      <td>-84.032608</td>\n",
              "      <td>NaN</td>\n",
              "      <td>NaN</td>\n",
              "      <td>0.01</td>\n",
              "      <td>Accident on OH-32 State Route 32 Westbound at ...</td>\n",
              "      <td>NaN</td>\n",
              "      <td>State Route 32</td>\n",
              "      <td>R</td>\n",
              "      <td>Williamsburg</td>\n",
              "      <td>Clermont</td>\n",
              "      <td>OH</td>\n",
              "      <td>45176</td>\n",
              "      <td>US</td>\n",
              "      <td>US/Eastern</td>\n",
              "      <td>KI69</td>\n",
              "      <td>2016-02-08 06:56:00</td>\n",
              "      <td>36.0</td>\n",
              "      <td>33.3</td>\n",
              "      <td>100.0</td>\n",
              "      <td>29.67</td>\n",
              "      <td>10.0</td>\n",
              "      <td>SW</td>\n",
              "      <td>3.5</td>\n",
              "      <td>NaN</td>\n",
              "      <td>Overcast</td>\n",
              "      <td>False</td>\n",
              "      <td>False</td>\n",
              "      <td>False</td>\n",
              "      <td>False</td>\n",
              "      <td>False</td>\n",
              "      <td>False</td>\n",
              "      <td>False</td>\n",
              "      <td>False</td>\n",
              "      <td>False</td>\n",
              "      <td>False</td>\n",
              "      <td>False</td>\n",
              "      <td>True</td>\n",
              "      <td>False</td>\n",
              "      <td>Night</td>\n",
              "      <td>Night</td>\n",
              "      <td>Day</td>\n",
              "      <td>Day</td>\n",
              "    </tr>\n",
              "    <tr>\n",
              "      <th>3</th>\n",
              "      <td>A-4</td>\n",
              "      <td>MapQuest</td>\n",
              "      <td>201.0</td>\n",
              "      <td>3</td>\n",
              "      <td>2016-02-08 07:23:34</td>\n",
              "      <td>2016-02-08 07:53:34</td>\n",
              "      <td>39.747753</td>\n",
              "      <td>-84.205582</td>\n",
              "      <td>NaN</td>\n",
              "      <td>NaN</td>\n",
              "      <td>0.01</td>\n",
              "      <td>Accident on I-75 Southbound at Exits 52 52B US...</td>\n",
              "      <td>NaN</td>\n",
              "      <td>I-75 S</td>\n",
              "      <td>R</td>\n",
              "      <td>Dayton</td>\n",
              "      <td>Montgomery</td>\n",
              "      <td>OH</td>\n",
              "      <td>45417</td>\n",
              "      <td>US</td>\n",
              "      <td>US/Eastern</td>\n",
              "      <td>KDAY</td>\n",
              "      <td>2016-02-08 07:38:00</td>\n",
              "      <td>35.1</td>\n",
              "      <td>31.0</td>\n",
              "      <td>96.0</td>\n",
              "      <td>29.64</td>\n",
              "      <td>9.0</td>\n",
              "      <td>SW</td>\n",
              "      <td>4.6</td>\n",
              "      <td>NaN</td>\n",
              "      <td>Mostly Cloudy</td>\n",
              "      <td>False</td>\n",
              "      <td>False</td>\n",
              "      <td>False</td>\n",
              "      <td>False</td>\n",
              "      <td>False</td>\n",
              "      <td>False</td>\n",
              "      <td>False</td>\n",
              "      <td>False</td>\n",
              "      <td>False</td>\n",
              "      <td>False</td>\n",
              "      <td>False</td>\n",
              "      <td>False</td>\n",
              "      <td>False</td>\n",
              "      <td>Night</td>\n",
              "      <td>Day</td>\n",
              "      <td>Day</td>\n",
              "      <td>Day</td>\n",
              "    </tr>\n",
              "    <tr>\n",
              "      <th>4</th>\n",
              "      <td>A-5</td>\n",
              "      <td>MapQuest</td>\n",
              "      <td>201.0</td>\n",
              "      <td>2</td>\n",
              "      <td>2016-02-08 07:39:07</td>\n",
              "      <td>2016-02-08 08:09:07</td>\n",
              "      <td>39.627781</td>\n",
              "      <td>-84.188354</td>\n",
              "      <td>NaN</td>\n",
              "      <td>NaN</td>\n",
              "      <td>0.01</td>\n",
              "      <td>Accident on McEwen Rd at OH-725 Miamisburg Cen...</td>\n",
              "      <td>NaN</td>\n",
              "      <td>Miamisburg Centerville Rd</td>\n",
              "      <td>R</td>\n",
              "      <td>Dayton</td>\n",
              "      <td>Montgomery</td>\n",
              "      <td>OH</td>\n",
              "      <td>45459</td>\n",
              "      <td>US</td>\n",
              "      <td>US/Eastern</td>\n",
              "      <td>KMGY</td>\n",
              "      <td>2016-02-08 07:53:00</td>\n",
              "      <td>36.0</td>\n",
              "      <td>33.3</td>\n",
              "      <td>89.0</td>\n",
              "      <td>29.65</td>\n",
              "      <td>6.0</td>\n",
              "      <td>SW</td>\n",
              "      <td>3.5</td>\n",
              "      <td>NaN</td>\n",
              "      <td>Mostly Cloudy</td>\n",
              "      <td>False</td>\n",
              "      <td>False</td>\n",
              "      <td>False</td>\n",
              "      <td>False</td>\n",
              "      <td>False</td>\n",
              "      <td>False</td>\n",
              "      <td>False</td>\n",
              "      <td>False</td>\n",
              "      <td>False</td>\n",
              "      <td>False</td>\n",
              "      <td>False</td>\n",
              "      <td>True</td>\n",
              "      <td>False</td>\n",
              "      <td>Day</td>\n",
              "      <td>Day</td>\n",
              "      <td>Day</td>\n",
              "      <td>Day</td>\n",
              "    </tr>\n",
              "  </tbody>\n",
              "</table>\n",
              "</div>"
            ],
            "text/plain": [
              "    ID    Source    TMC  ...  Civil_Twilight Nautical_Twilight Astronomical_Twilight\n",
              "0  A-1  MapQuest  201.0  ...           Night             Night                 Night\n",
              "1  A-2  MapQuest  201.0  ...           Night             Night                   Day\n",
              "2  A-3  MapQuest  201.0  ...           Night               Day                   Day\n",
              "3  A-4  MapQuest  201.0  ...             Day               Day                   Day\n",
              "4  A-5  MapQuest  201.0  ...             Day               Day                   Day\n",
              "\n",
              "[5 rows x 49 columns]"
            ]
          },
          "metadata": {
            "tags": []
          },
          "execution_count": 4
        }
      ]
    },
    {
      "cell_type": "code",
      "metadata": {
        "colab": {
          "base_uri": "https://localhost:8080/"
        },
        "id": "2DCP0lBR9TC6",
        "outputId": "f2805e57-b6ff-4795-90f8-32df3593950c"
      },
      "source": [
        "print(f'Number of columns = {len(df.columns)}')\r\n",
        "print(df.info())"
      ],
      "execution_count": null,
      "outputs": [
        {
          "output_type": "stream",
          "text": [
            "Number of columns = 49\n",
            "<class 'pandas.core.frame.DataFrame'>\n",
            "RangeIndex: 4232541 entries, 0 to 4232540\n",
            "Data columns (total 49 columns):\n",
            " #   Column                 Dtype  \n",
            "---  ------                 -----  \n",
            " 0   ID                     object \n",
            " 1   Source                 object \n",
            " 2   TMC                    float64\n",
            " 3   Severity               int64  \n",
            " 4   Start_Time             object \n",
            " 5   End_Time               object \n",
            " 6   Start_Lat              float64\n",
            " 7   Start_Lng              float64\n",
            " 8   End_Lat                float64\n",
            " 9   End_Lng                float64\n",
            " 10  Distance(mi)           float64\n",
            " 11  Description            object \n",
            " 12  Number                 float64\n",
            " 13  Street                 object \n",
            " 14  Side                   object \n",
            " 15  City                   object \n",
            " 16  County                 object \n",
            " 17  State                  object \n",
            " 18  Zipcode                object \n",
            " 19  Country                object \n",
            " 20  Timezone               object \n",
            " 21  Airport_Code           object \n",
            " 22  Weather_Timestamp      object \n",
            " 23  Temperature(F)         float64\n",
            " 24  Wind_Chill(F)          float64\n",
            " 25  Humidity(%)            float64\n",
            " 26  Pressure(in)           float64\n",
            " 27  Visibility(mi)         float64\n",
            " 28  Wind_Direction         object \n",
            " 29  Wind_Speed(mph)        float64\n",
            " 30  Precipitation(in)      float64\n",
            " 31  Weather_Condition      object \n",
            " 32  Amenity                bool   \n",
            " 33  Bump                   bool   \n",
            " 34  Crossing               bool   \n",
            " 35  Give_Way               bool   \n",
            " 36  Junction               bool   \n",
            " 37  No_Exit                bool   \n",
            " 38  Railway                bool   \n",
            " 39  Roundabout             bool   \n",
            " 40  Station                bool   \n",
            " 41  Stop                   bool   \n",
            " 42  Traffic_Calming        bool   \n",
            " 43  Traffic_Signal         bool   \n",
            " 44  Turning_Loop           bool   \n",
            " 45  Sunrise_Sunset         object \n",
            " 46  Civil_Twilight         object \n",
            " 47  Nautical_Twilight      object \n",
            " 48  Astronomical_Twilight  object \n",
            "dtypes: bool(13), float64(14), int64(1), object(21)\n",
            "memory usage: 1.2+ GB\n",
            "None\n"
          ],
          "name": "stdout"
        }
      ]
    },
    {
      "cell_type": "markdown",
      "metadata": {
        "id": "MeAfo5VhSNtt"
      },
      "source": [
        "We can see that the dataset has 49 columns. The distribution of these columns is as follows - \r\n",
        "1. Boolean Columns - 13\r\n",
        "2. Object Columns - 21\r\n",
        "3. Numerical Columns - 15"
      ]
    },
    {
      "cell_type": "markdown",
      "metadata": {
        "id": "9OmIR0E5S3sC"
      },
      "source": [
        "The `describe` method displays descriptive statistics about the numerical columns present in the dataset."
      ]
    },
    {
      "cell_type": "code",
      "metadata": {
        "colab": {
          "base_uri": "https://localhost:8080/",
          "height": 317
        },
        "id": "IUweU-tqS2Fc",
        "outputId": "89541421-c98c-4c1b-93c0-a1ea9255f70b"
      },
      "source": [
        "df.describe()"
      ],
      "execution_count": null,
      "outputs": [
        {
          "output_type": "execute_result",
          "data": {
            "text/html": [
              "<div>\n",
              "<style scoped>\n",
              "    .dataframe tbody tr th:only-of-type {\n",
              "        vertical-align: middle;\n",
              "    }\n",
              "\n",
              "    .dataframe tbody tr th {\n",
              "        vertical-align: top;\n",
              "    }\n",
              "\n",
              "    .dataframe thead th {\n",
              "        text-align: right;\n",
              "    }\n",
              "</style>\n",
              "<table border=\"1\" class=\"dataframe\">\n",
              "  <thead>\n",
              "    <tr style=\"text-align: right;\">\n",
              "      <th></th>\n",
              "      <th>TMC</th>\n",
              "      <th>Severity</th>\n",
              "      <th>Start_Lat</th>\n",
              "      <th>Start_Lng</th>\n",
              "      <th>End_Lat</th>\n",
              "      <th>End_Lng</th>\n",
              "      <th>Distance(mi)</th>\n",
              "      <th>Number</th>\n",
              "      <th>Temperature(F)</th>\n",
              "      <th>Wind_Chill(F)</th>\n",
              "      <th>Humidity(%)</th>\n",
              "      <th>Pressure(in)</th>\n",
              "      <th>Visibility(mi)</th>\n",
              "      <th>Wind_Speed(mph)</th>\n",
              "      <th>Precipitation(in)</th>\n",
              "    </tr>\n",
              "  </thead>\n",
              "  <tbody>\n",
              "    <tr>\n",
              "      <th>count</th>\n",
              "      <td>2.716477e+06</td>\n",
              "      <td>4.232541e+06</td>\n",
              "      <td>4.232541e+06</td>\n",
              "      <td>4.232541e+06</td>\n",
              "      <td>1.516064e+06</td>\n",
              "      <td>1.516064e+06</td>\n",
              "      <td>4.232541e+06</td>\n",
              "      <td>1.544592e+06</td>\n",
              "      <td>4.142641e+06</td>\n",
              "      <td>2.336540e+06</td>\n",
              "      <td>4.137074e+06</td>\n",
              "      <td>4.156157e+06</td>\n",
              "      <td>4.133873e+06</td>\n",
              "      <td>3.753215e+06</td>\n",
              "      <td>2.166952e+06</td>\n",
              "    </tr>\n",
              "    <tr>\n",
              "      <th>mean</th>\n",
              "      <td>2.083517e+02</td>\n",
              "      <td>2.305035e+00</td>\n",
              "      <td>3.639782e+01</td>\n",
              "      <td>-9.546420e+01</td>\n",
              "      <td>3.690061e+01</td>\n",
              "      <td>-9.859901e+01</td>\n",
              "      <td>3.357021e-01</td>\n",
              "      <td>6.141507e+03</td>\n",
              "      <td>6.147799e+01</td>\n",
              "      <td>5.489319e+01</td>\n",
              "      <td>6.567422e+01</td>\n",
              "      <td>2.969371e+01</td>\n",
              "      <td>9.111991e+00</td>\n",
              "      <td>7.903433e+00</td>\n",
              "      <td>1.244719e-02</td>\n",
              "    </tr>\n",
              "    <tr>\n",
              "      <th>std</th>\n",
              "      <td>2.124413e+01</td>\n",
              "      <td>5.332261e-01</td>\n",
              "      <td>4.964404e+00</td>\n",
              "      <td>1.735319e+01</td>\n",
              "      <td>5.165629e+00</td>\n",
              "      <td>1.849590e+01</td>\n",
              "      <td>1.602143e+00</td>\n",
              "      <td>1.492268e+04</td>\n",
              "      <td>1.852586e+01</td>\n",
              "      <td>2.272355e+01</td>\n",
              "      <td>2.272342e+01</td>\n",
              "      <td>8.639260e-01</td>\n",
              "      <td>2.817582e+00</td>\n",
              "      <td>5.330998e+00</td>\n",
              "      <td>1.637154e-01</td>\n",
              "    </tr>\n",
              "    <tr>\n",
              "      <th>min</th>\n",
              "      <td>2.000000e+02</td>\n",
              "      <td>1.000000e+00</td>\n",
              "      <td>2.455527e+01</td>\n",
              "      <td>-1.246238e+02</td>\n",
              "      <td>2.457011e+01</td>\n",
              "      <td>-1.244978e+02</td>\n",
              "      <td>0.000000e+00</td>\n",
              "      <td>0.000000e+00</td>\n",
              "      <td>-8.900000e+01</td>\n",
              "      <td>-8.900000e+01</td>\n",
              "      <td>1.000000e+00</td>\n",
              "      <td>0.000000e+00</td>\n",
              "      <td>0.000000e+00</td>\n",
              "      <td>0.000000e+00</td>\n",
              "      <td>0.000000e+00</td>\n",
              "    </tr>\n",
              "    <tr>\n",
              "      <th>25%</th>\n",
              "      <td>2.010000e+02</td>\n",
              "      <td>2.000000e+00</td>\n",
              "      <td>3.352058e+01</td>\n",
              "      <td>-1.173570e+02</td>\n",
              "      <td>3.385420e+01</td>\n",
              "      <td>-1.182077e+02</td>\n",
              "      <td>0.000000e+00</td>\n",
              "      <td>8.980000e+02</td>\n",
              "      <td>4.900000e+01</td>\n",
              "      <td>3.800000e+01</td>\n",
              "      <td>4.900000e+01</td>\n",
              "      <td>2.964000e+01</td>\n",
              "      <td>1.000000e+01</td>\n",
              "      <td>4.600000e+00</td>\n",
              "      <td>0.000000e+00</td>\n",
              "    </tr>\n",
              "    <tr>\n",
              "      <th>50%</th>\n",
              "      <td>2.010000e+02</td>\n",
              "      <td>2.000000e+00</td>\n",
              "      <td>3.582542e+01</td>\n",
              "      <td>-9.002078e+01</td>\n",
              "      <td>3.735134e+01</td>\n",
              "      <td>-9.437987e+01</td>\n",
              "      <td>0.000000e+00</td>\n",
              "      <td>2.890000e+03</td>\n",
              "      <td>6.300000e+01</td>\n",
              "      <td>5.800000e+01</td>\n",
              "      <td>6.800000e+01</td>\n",
              "      <td>2.993000e+01</td>\n",
              "      <td>1.000000e+01</td>\n",
              "      <td>7.000000e+00</td>\n",
              "      <td>0.000000e+00</td>\n",
              "    </tr>\n",
              "    <tr>\n",
              "      <th>75%</th>\n",
              "      <td>2.010000e+02</td>\n",
              "      <td>3.000000e+00</td>\n",
              "      <td>4.018313e+01</td>\n",
              "      <td>-8.084682e+01</td>\n",
              "      <td>4.072593e+01</td>\n",
              "      <td>-8.087449e+01</td>\n",
              "      <td>8.900000e-02</td>\n",
              "      <td>7.330000e+03</td>\n",
              "      <td>7.520000e+01</td>\n",
              "      <td>7.300000e+01</td>\n",
              "      <td>8.500000e+01</td>\n",
              "      <td>3.008000e+01</td>\n",
              "      <td>1.000000e+01</td>\n",
              "      <td>1.040000e+01</td>\n",
              "      <td>0.000000e+00</td>\n",
              "    </tr>\n",
              "    <tr>\n",
              "      <th>max</th>\n",
              "      <td>4.060000e+02</td>\n",
              "      <td>4.000000e+00</td>\n",
              "      <td>4.900220e+01</td>\n",
              "      <td>-6.711317e+01</td>\n",
              "      <td>4.907500e+01</td>\n",
              "      <td>-6.710924e+01</td>\n",
              "      <td>4.417500e+02</td>\n",
              "      <td>9.999997e+06</td>\n",
              "      <td>2.030000e+02</td>\n",
              "      <td>1.890000e+02</td>\n",
              "      <td>1.000000e+02</td>\n",
              "      <td>5.804000e+01</td>\n",
              "      <td>1.400000e+02</td>\n",
              "      <td>9.840000e+02</td>\n",
              "      <td>2.500000e+01</td>\n",
              "    </tr>\n",
              "  </tbody>\n",
              "</table>\n",
              "</div>"
            ],
            "text/plain": [
              "                TMC      Severity  ...  Wind_Speed(mph)  Precipitation(in)\n",
              "count  2.716477e+06  4.232541e+06  ...     3.753215e+06       2.166952e+06\n",
              "mean   2.083517e+02  2.305035e+00  ...     7.903433e+00       1.244719e-02\n",
              "std    2.124413e+01  5.332261e-01  ...     5.330998e+00       1.637154e-01\n",
              "min    2.000000e+02  1.000000e+00  ...     0.000000e+00       0.000000e+00\n",
              "25%    2.010000e+02  2.000000e+00  ...     4.600000e+00       0.000000e+00\n",
              "50%    2.010000e+02  2.000000e+00  ...     7.000000e+00       0.000000e+00\n",
              "75%    2.010000e+02  3.000000e+00  ...     1.040000e+01       0.000000e+00\n",
              "max    4.060000e+02  4.000000e+00  ...     9.840000e+02       2.500000e+01\n",
              "\n",
              "[8 rows x 15 columns]"
            ]
          },
          "metadata": {
            "tags": []
          },
          "execution_count": 6
        }
      ]
    },
    {
      "cell_type": "markdown",
      "metadata": {
        "id": "Ijxw55NNAfkY"
      },
      "source": [
        "### Missing values\r\n",
        "To find which columns have missing values and how many values are missing, we can use the `isna` function and then apply the `sum` function to get the total count of missing values for each column. we can then sort these values using the `sort_values` function. Finally, if we divide them by the length of the DataFrame, we will get the fraction of missing values for each column."
      ]
    },
    {
      "cell_type": "code",
      "metadata": {
        "colab": {
          "base_uri": "https://localhost:8080/"
        },
        "id": "ud1jCTGs-ese",
        "outputId": "0d63cbf9-7f3c-487b-96df-83d78ff3eeba"
      },
      "source": [
        "missing_fractions = df.isna().sum().sort_values(ascending=False) / len(df)\r\n",
        "missing_fractions"
      ],
      "execution_count": null,
      "outputs": [
        {
          "output_type": "execute_result",
          "data": {
            "text/plain": [
              "End_Lat                  6.418076e-01\n",
              "End_Lng                  6.418076e-01\n",
              "Number                   6.350674e-01\n",
              "Precipitation(in)        4.880258e-01\n",
              "Wind_Chill(F)            4.479581e-01\n",
              "TMC                      3.581924e-01\n",
              "Wind_Speed(mph)          1.132478e-01\n",
              "Visibility(mi)           2.331176e-02\n",
              "Weather_Condition        2.324443e-02\n",
              "Humidity(%)              2.255548e-02\n",
              "Temperature(F)           2.124020e-02\n",
              "Wind_Direction           1.975433e-02\n",
              "Pressure(in)             1.804684e-02\n",
              "Weather_Timestamp        1.480057e-02\n",
              "Airport_Code             2.120003e-03\n",
              "Timezone                 1.090362e-03\n",
              "Zipcode                  3.052540e-04\n",
              "Nautical_Twilight        3.331332e-05\n",
              "Astronomical_Twilight    3.331332e-05\n",
              "Civil_Twilight           3.331332e-05\n",
              "Sunrise_Sunset           3.331332e-05\n",
              "City                     3.236826e-05\n",
              "Description              4.725294e-07\n",
              "Amenity                  0.000000e+00\n",
              "Street                   0.000000e+00\n",
              "Source                   0.000000e+00\n",
              "Severity                 0.000000e+00\n",
              "Start_Time               0.000000e+00\n",
              "End_Time                 0.000000e+00\n",
              "Start_Lat                0.000000e+00\n",
              "Start_Lng                0.000000e+00\n",
              "Turning_Loop             0.000000e+00\n",
              "Distance(mi)             0.000000e+00\n",
              "Traffic_Signal           0.000000e+00\n",
              "Side                     0.000000e+00\n",
              "Bump                     0.000000e+00\n",
              "County                   0.000000e+00\n",
              "State                    0.000000e+00\n",
              "Traffic_Calming          0.000000e+00\n",
              "Country                  0.000000e+00\n",
              "Stop                     0.000000e+00\n",
              "Station                  0.000000e+00\n",
              "Roundabout               0.000000e+00\n",
              "Railway                  0.000000e+00\n",
              "No_Exit                  0.000000e+00\n",
              "Junction                 0.000000e+00\n",
              "Give_Way                 0.000000e+00\n",
              "Crossing                 0.000000e+00\n",
              "ID                       0.000000e+00\n",
              "dtype: float64"
            ]
          },
          "metadata": {
            "tags": []
          },
          "execution_count": 7
        }
      ]
    },
    {
      "cell_type": "markdown",
      "metadata": {
        "id": "UUlytEu_Bca7"
      },
      "source": [
        "We can remove the columns that have zero missing values so that we can plot the values in a better way."
      ]
    },
    {
      "cell_type": "code",
      "metadata": {
        "colab": {
          "base_uri": "https://localhost:8080/"
        },
        "id": "LhzDsYGYBmAi",
        "outputId": "68b89a59-c68e-44a0-c28c-268015a17d8c"
      },
      "source": [
        "missing_fractions[missing_fractions != 0]"
      ],
      "execution_count": null,
      "outputs": [
        {
          "output_type": "execute_result",
          "data": {
            "text/plain": [
              "End_Lat                  6.418076e-01\n",
              "End_Lng                  6.418076e-01\n",
              "Number                   6.350674e-01\n",
              "Precipitation(in)        4.880258e-01\n",
              "Wind_Chill(F)            4.479581e-01\n",
              "TMC                      3.581924e-01\n",
              "Wind_Speed(mph)          1.132478e-01\n",
              "Visibility(mi)           2.331176e-02\n",
              "Weather_Condition        2.324443e-02\n",
              "Humidity(%)              2.255548e-02\n",
              "Temperature(F)           2.124020e-02\n",
              "Wind_Direction           1.975433e-02\n",
              "Pressure(in)             1.804684e-02\n",
              "Weather_Timestamp        1.480057e-02\n",
              "Airport_Code             2.120003e-03\n",
              "Timezone                 1.090362e-03\n",
              "Zipcode                  3.052540e-04\n",
              "Nautical_Twilight        3.331332e-05\n",
              "Astronomical_Twilight    3.331332e-05\n",
              "Civil_Twilight           3.331332e-05\n",
              "Sunrise_Sunset           3.331332e-05\n",
              "City                     3.236826e-05\n",
              "Description              4.725294e-07\n",
              "dtype: float64"
            ]
          },
          "metadata": {
            "tags": []
          },
          "execution_count": 8
        }
      ]
    },
    {
      "cell_type": "markdown",
      "metadata": {
        "id": "OwXckRNrBwEJ"
      },
      "source": [
        "We can plot these columns using the `plot` function so that we can visualize the data more efficiently."
      ]
    },
    {
      "cell_type": "code",
      "metadata": {
        "colab": {
          "base_uri": "https://localhost:8080/",
          "height": 609
        },
        "id": "DcGqxVQH-fF-",
        "outputId": "04addfab-cbc5-4379-cc5a-02218d5506d7"
      },
      "source": [
        "plt.figure(figsize=(10,10))\r\n",
        "missing_fractions[missing_fractions != 0].plot(kind='barh')"
      ],
      "execution_count": null,
      "outputs": [
        {
          "output_type": "execute_result",
          "data": {
            "text/plain": [
              "<matplotlib.axes._subplots.AxesSubplot at 0x7f3f0be45d90>"
            ]
          },
          "metadata": {
            "tags": []
          },
          "execution_count": 9
        },
        {
          "output_type": "display_data",
          "data": {
            "image/png": "[encoded data removed]",
            "text/plain": [
              "<Figure size 720x720 with 1 Axes>"
            ]
          },
          "metadata": {
            "tags": [],
            "needs_background": "light"
          }
        }
      ]
    },
    {
      "cell_type": "markdown",
      "metadata": {
        "id": "njim-Y2eCB8A"
      },
      "source": [
        "We can see that some of these columns have many missing values. For example, `End_Lng` and `End_Lat` have more than **67%** missing data. These columns won't be useful for extracting any meaningful information from the dataset. Similarly, we can remove any other columns that have more than **10%** missing data.\r\n",
        "\r\n"
      ]
    },
    {
      "cell_type": "markdown",
      "metadata": {
        "id": "CzXili5xVKsN"
      },
      "source": [
        "### Boolean Values\r\n",
        "We can have a look at the boolean values to see if the `True` and `False` values have any relevant information.\r\n",
        "We can do this by checking the count of `True` and `False` values in the specific columns."
      ]
    },
    {
      "cell_type": "markdown",
      "metadata": {
        "id": "YZKu8b6wWj60"
      },
      "source": [
        "First, we can select the boolean columns and make a separate DataFrame out of them."
      ]
    },
    {
      "cell_type": "code",
      "metadata": {
        "colab": {
          "base_uri": "https://localhost:8080/",
          "height": 224
        },
        "id": "B1XeNOfhWIIn",
        "outputId": "681350f6-33e3-4927-dcf1-eb922b75b63a"
      },
      "source": [
        "booleans = df.select_dtypes(include='bool')\r\n",
        "booleans.head()"
      ],
      "execution_count": null,
      "outputs": [
        {
          "output_type": "execute_result",
          "data": {
            "text/html": [
              "<div>\n",
              "<style scoped>\n",
              "    .dataframe tbody tr th:only-of-type {\n",
              "        vertical-align: middle;\n",
              "    }\n",
              "\n",
              "    .dataframe tbody tr th {\n",
              "        vertical-align: top;\n",
              "    }\n",
              "\n",
              "    .dataframe thead th {\n",
              "        text-align: right;\n",
              "    }\n",
              "</style>\n",
              "<table border=\"1\" class=\"dataframe\">\n",
              "  <thead>\n",
              "    <tr style=\"text-align: right;\">\n",
              "      <th></th>\n",
              "      <th>Amenity</th>\n",
              "      <th>Bump</th>\n",
              "      <th>Crossing</th>\n",
              "      <th>Give_Way</th>\n",
              "      <th>Junction</th>\n",
              "      <th>No_Exit</th>\n",
              "      <th>Railway</th>\n",
              "      <th>Roundabout</th>\n",
              "      <th>Station</th>\n",
              "      <th>Stop</th>\n",
              "      <th>Traffic_Calming</th>\n",
              "      <th>Traffic_Signal</th>\n",
              "      <th>Turning_Loop</th>\n",
              "    </tr>\n",
              "  </thead>\n",
              "  <tbody>\n",
              "    <tr>\n",
              "      <th>0</th>\n",
              "      <td>False</td>\n",
              "      <td>False</td>\n",
              "      <td>False</td>\n",
              "      <td>False</td>\n",
              "      <td>False</td>\n",
              "      <td>False</td>\n",
              "      <td>False</td>\n",
              "      <td>False</td>\n",
              "      <td>False</td>\n",
              "      <td>False</td>\n",
              "      <td>False</td>\n",
              "      <td>False</td>\n",
              "      <td>False</td>\n",
              "    </tr>\n",
              "    <tr>\n",
              "      <th>1</th>\n",
              "      <td>False</td>\n",
              "      <td>False</td>\n",
              "      <td>False</td>\n",
              "      <td>False</td>\n",
              "      <td>False</td>\n",
              "      <td>False</td>\n",
              "      <td>False</td>\n",
              "      <td>False</td>\n",
              "      <td>False</td>\n",
              "      <td>False</td>\n",
              "      <td>False</td>\n",
              "      <td>False</td>\n",
              "      <td>False</td>\n",
              "    </tr>\n",
              "    <tr>\n",
              "      <th>2</th>\n",
              "      <td>False</td>\n",
              "      <td>False</td>\n",
              "      <td>False</td>\n",
              "      <td>False</td>\n",
              "      <td>False</td>\n",
              "      <td>False</td>\n",
              "      <td>False</td>\n",
              "      <td>False</td>\n",
              "      <td>False</td>\n",
              "      <td>False</td>\n",
              "      <td>False</td>\n",
              "      <td>True</td>\n",
              "      <td>False</td>\n",
              "    </tr>\n",
              "    <tr>\n",
              "      <th>3</th>\n",
              "      <td>False</td>\n",
              "      <td>False</td>\n",
              "      <td>False</td>\n",
              "      <td>False</td>\n",
              "      <td>False</td>\n",
              "      <td>False</td>\n",
              "      <td>False</td>\n",
              "      <td>False</td>\n",
              "      <td>False</td>\n",
              "      <td>False</td>\n",
              "      <td>False</td>\n",
              "      <td>False</td>\n",
              "      <td>False</td>\n",
              "    </tr>\n",
              "    <tr>\n",
              "      <th>4</th>\n",
              "      <td>False</td>\n",
              "      <td>False</td>\n",
              "      <td>False</td>\n",
              "      <td>False</td>\n",
              "      <td>False</td>\n",
              "      <td>False</td>\n",
              "      <td>False</td>\n",
              "      <td>False</td>\n",
              "      <td>False</td>\n",
              "      <td>False</td>\n",
              "      <td>False</td>\n",
              "      <td>True</td>\n",
              "      <td>False</td>\n",
              "    </tr>\n",
              "  </tbody>\n",
              "</table>\n",
              "</div>"
            ],
            "text/plain": [
              "   Amenity   Bump  Crossing  ...  Traffic_Calming  Traffic_Signal  Turning_Loop\n",
              "0    False  False     False  ...            False           False         False\n",
              "1    False  False     False  ...            False           False         False\n",
              "2    False  False     False  ...            False            True         False\n",
              "3    False  False     False  ...            False           False         False\n",
              "4    False  False     False  ...            False            True         False\n",
              "\n",
              "[5 rows x 13 columns]"
            ]
          },
          "metadata": {
            "tags": []
          },
          "execution_count": 10
        }
      ]
    },
    {
      "cell_type": "markdown",
      "metadata": {
        "id": "xT5XwfzbWrns"
      },
      "source": [
        "We can now check to see the distribution of `True` and `False` values for each column."
      ]
    },
    {
      "cell_type": "code",
      "metadata": {
        "id": "xFjXz77W-PSG",
        "colab": {
          "base_uri": "https://localhost:8080/"
        },
        "outputId": "a12d95e1-8af3-4eed-f4a8-59a3ca4c4b5d"
      },
      "source": [
        "data = []\r\n",
        "total_count = len(booleans)\r\n",
        "for column in booleans.columns:\r\n",
        "  data.append([column, (len(booleans[column][booleans[column] == True]) / total_count) * 100, (len(booleans[column][booleans[column] == False]) / total_count) * 100, total_count])\r\n",
        "print(tabulate(data, headers=['Columns', 'True %', 'False %', 'Total Count'], tablefmt='orgtbl'))"
      ],
      "execution_count": null,
      "outputs": [
        {
          "output_type": "stream",
          "text": [
            "| Columns         |      True % |   False % |   Total Count |\n",
            "|-----------------+-------------+-----------+---------------|\n",
            "| Amenity         |  1.16786    |   98.8321 |       4232541 |\n",
            "| Bump            |  0.0203424  |   99.9797 |       4232541 |\n",
            "| Crossing        |  8.20824    |   91.7918 |       4232541 |\n",
            "| Give_Way        |  0.311751   |   99.6882 |       4232541 |\n",
            "| Junction        |  8.02454    |   91.9755 |       4232541 |\n",
            "| No_Exit         |  0.141026   |   99.859  |       4232541 |\n",
            "| Railway         |  0.909926   |   99.0901 |       4232541 |\n",
            "| Roundabout      |  0.00559947 |   99.9944 |       4232541 |\n",
            "| Station         |  2.0358     |   97.9642 |       4232541 |\n",
            "| Stop            |  1.70543    |   98.2946 |       4232541 |\n",
            "| Traffic_Calming |  0.0501117  |   99.9499 |       4232541 |\n",
            "| Traffic_Signal  | 17.2027     |   82.7973 |       4232541 |\n",
            "| Turning_Loop    |  0          |  100      |       4232541 |\n"
          ],
          "name": "stdout"
        }
      ]
    },
    {
      "cell_type": "markdown",
      "metadata": {
        "id": "P922HXT9az7w"
      },
      "source": [
        "We can see that the percentage of `False` values is very high for most columns. These columns can be dropped since these can be a sign of missing data or irrelevant data. Hence, we will drop all columns where the **% of False values is >= 99%**"
      ]
    },
    {
      "cell_type": "markdown",
      "metadata": {
        "id": "biDcA5rNeKPM"
      },
      "source": [
        "### City Data\r\n",
        "\r\n",
        "We have observed above that some of the data related to city names is missing. However, we have all the data for the `Start_lat` and `Start_lng` which indicate the latitude and longitude where the accident occurred. We can use this to check where the accident occurred.\r\n",
        "\r\n"
      ]
    },
    {
      "cell_type": "code",
      "metadata": {
        "colab": {
          "base_uri": "https://localhost:8080/"
        },
        "id": "iG2tsVM0eVWr",
        "outputId": "297ee14e-8685-499b-c636-ed02a3e80a1e"
      },
      "source": [
        "print(f'Number of missing values in the City column = {df.City.isna().sum()}')"
      ],
      "execution_count": null,
      "outputs": [
        {
          "output_type": "stream",
          "text": [
            "Number of missing values in the City column = 137\n"
          ],
          "name": "stdout"
        }
      ]
    },
    {
      "cell_type": "code",
      "metadata": {
        "id": "ZpxWvPwT5X32"
      },
      "source": [
        "from geopy.exc import GeocoderTimedOut\r\n",
        "from geopy.geocoders import Nominatim"
      ],
      "execution_count": null,
      "outputs": []
    },
    {
      "cell_type": "code",
      "metadata": {
        "id": "983SiTbSgzua"
      },
      "source": [
        "def get_city(index):\r\n",
        "  data_point = df.iloc[index]\r\n",
        "  start_lat= data_point[\"Start_Lat\"]\r\n",
        "  start_lng = data_point[\"Start_Lng\"]\r\n",
        "  geolocator = Nominatim(user_agent=\"geoapiExercises\")\r\n",
        "  try:\r\n",
        "    location = geolocator.reverse(f\"{start_lat},{start_lng}\", timeout=None) \r\n",
        "    address = location.raw['address']\r\n",
        "  except GeocoderTimedOut as e:\r\n",
        "    print(f\"Geocoder Timed out at index {index}\")\r\n",
        "    return np.NaN, False\r\n",
        "  try:\r\n",
        "    city = address['city']\r\n",
        "    # print(f\"FOUND City for index {index} = {city}\")\r\n",
        "    return city, True\r\n",
        "  except:\r\n",
        "    # print(f\"NOT FOUND City for index = {index}\")\r\n",
        "    return np.NaN, False"
      ],
      "execution_count": null,
      "outputs": []
    },
    {
      "cell_type": "code",
      "metadata": {
        "id": "2gm1w292iAo2"
      },
      "source": [
        "indexes = df[df['City'].isnull()].index.tolist()\r\n",
        "total_found = 0\r\n",
        "for index in indexes:\r\n",
        "  value, result = get_city(index)\r\n",
        "  if result == True:\r\n",
        "    total_found += 1\r\n",
        "  df.at[index, 'City'] = value"
      ],
      "execution_count": null,
      "outputs": []
    },
    {
      "cell_type": "code",
      "metadata": {
        "colab": {
          "base_uri": "https://localhost:8080/"
        },
        "id": "YFb5Su2Hz7p6",
        "outputId": "c0a4ca4a-25b7-4a99-bd27-600448aef57b"
      },
      "source": [
        "print(f\"Total missing values found = {total_found}\")\r\n",
        "print(f'Number of missing values in the City column = {df.City.isna().sum()}')"
      ],
      "execution_count": null,
      "outputs": [
        {
          "output_type": "stream",
          "text": [
            "Total missing values found = 55\n",
            "Number of missing values in the City column = 82\n"
          ],
          "name": "stdout"
        }
      ]
    },
    {
      "cell_type": "markdown",
      "metadata": {
        "id": "Oepl8DRIiokM"
      },
      "source": [
        "Not all City names were found but this function was able to find at least **55** city names. We can drop the remaining **82** values since they do not form a major chunk of the data."
      ]
    },
    {
      "cell_type": "markdown",
      "metadata": {
        "id": "3Bwb2NdQnPCe"
      },
      "source": [
        "### Zipcode Data\r\n",
        "The Zipcode data also has a few missing values. We can use a technique similar to the one used for the City data and get the Zipcode for the missing values using the `Start_lat` and `Start_lng`. "
      ]
    },
    {
      "cell_type": "code",
      "metadata": {
        "colab": {
          "base_uri": "https://localhost:8080/"
        },
        "id": "JRTyppynii72",
        "outputId": "81d05754-2029-4bcd-c1c5-166be42eb682"
      },
      "source": [
        "print(f'Number of missing values in the Zipcode column = {df.Zipcode.isna().sum()}')"
      ],
      "execution_count": null,
      "outputs": [
        {
          "output_type": "stream",
          "text": [
            "Number of missing values in the Zipcode column = 1292\n"
          ],
          "name": "stdout"
        }
      ]
    },
    {
      "cell_type": "markdown",
      "metadata": {
        "id": "SLLA9_Tmn9zq"
      },
      "source": [
        "We can use the function used for the City Data with some modifications to get the Zipcode for the specified co-ordinates."
      ]
    },
    {
      "cell_type": "code",
      "metadata": {
        "id": "98nO1LoEoJTc"
      },
      "source": [
        "def get_zipcode(index):\r\n",
        "  data_point = df.iloc[index]\r\n",
        "  start_lat= data_point[\"Start_Lat\"]\r\n",
        "  start_lng = data_point[\"Start_Lng\"]\r\n",
        "  geolocator = Nominatim(user_agent=\"geoapiExercises\")\r\n",
        "  try:\r\n",
        "    location = geolocator.reverse(f\"{start_lat},{start_lng}\", timeout=None) \r\n",
        "    address = location.raw['address']\r\n",
        "  except GeocoderTimedOut as e:\r\n",
        "    print(f\"Geocoder Timed out at index {index}\")\r\n",
        "    return np.NaN, False\r\n",
        "  try:\r\n",
        "    zipcode = address['postcode']\r\n",
        "    # print(f\"FOUND ZipCode for index {index} = {zipcode}\")\r\n",
        "    return zipcode, True\r\n",
        "  except:\r\n",
        "    # print(f\"NOT FOUND ZipCode for index = {index}\")\r\n",
        "    return np.NaN, False"
      ],
      "execution_count": null,
      "outputs": []
    },
    {
      "cell_type": "code",
      "metadata": {
        "id": "pmnwML7KoJEY"
      },
      "source": [
        "indexes = df[df['Zipcode'].isnull()].index.tolist()\r\n",
        "total_found = 0\r\n",
        "for index in indexes:\r\n",
        "  value, result = get_zipcode(index)\r\n",
        "  if result == True:\r\n",
        "    total_found += 1\r\n",
        "  df.at[index, 'Zipcode'] = value"
      ],
      "execution_count": null,
      "outputs": []
    },
    {
      "cell_type": "code",
      "metadata": {
        "colab": {
          "base_uri": "https://localhost:8080/"
        },
        "id": "GYMSUy6As-0Q",
        "outputId": "f7aa404d-fc6d-44a5-aeef-e79e71a23701"
      },
      "source": [
        "print(f\"Total missing values found = {total_found}\")\r\n",
        "print(f'Number of missing values in the Zipcode column = {df.Zipcode.isna().sum()}')"
      ],
      "execution_count": null,
      "outputs": [
        {
          "output_type": "stream",
          "text": [
            "Total missing values found = 801\n",
            "Number of missing values in the Zipcode column = 491\n"
          ],
          "name": "stdout"
        }
      ]
    },
    {
      "cell_type": "markdown",
      "metadata": {
        "id": "35P0A5lgo2qv"
      },
      "source": [
        "This technique still doesn't work for all cases and some missing values are still present. These can dropped since they don't form a huge chunk of the dataset."
      ]
    },
    {
      "cell_type": "markdown",
      "metadata": {
        "id": "iPZvKtCzcDsK"
      },
      "source": [
        "### Cleaning the Dataset\r\n",
        "As we have concluded from the above steps, we can remove some of the columns that have missing or irrelevant values. The columns that will be removed are as follows."
      ]
    },
    {
      "cell_type": "code",
      "metadata": {
        "id": "IWyPo337cYdC"
      },
      "source": [
        "dropped_cols = ['End_Lat', 'End_Lng', 'Number', 'Precipitation(in)', 'Wind_Chill(F)', 'TMC', 'Bump', 'Give_Way', 'No_Exit', 'Railway', 'Roundabout', 'Traffic_Calming', 'Turning_Loop']"
      ],
      "execution_count": null,
      "outputs": []
    },
    {
      "cell_type": "code",
      "metadata": {
        "colab": {
          "base_uri": "https://localhost:8080/"
        },
        "id": "A6QKs4-oc_-g",
        "outputId": "39c01af1-2c1d-4cf9-da20-5f9242220531"
      },
      "source": [
        "df.drop(dropped_cols, inplace=True, axis=1)\r\n",
        "df.info()"
      ],
      "execution_count": null,
      "outputs": [
        {
          "output_type": "stream",
          "text": [
            "<class 'pandas.core.frame.DataFrame'>\n",
            "RangeIndex: 4232541 entries, 0 to 4232540\n",
            "Data columns (total 36 columns):\n",
            " #   Column                 Dtype  \n",
            "---  ------                 -----  \n",
            " 0   ID                     object \n",
            " 1   Source                 object \n",
            " 2   Severity               int64  \n",
            " 3   Start_Time             object \n",
            " 4   End_Time               object \n",
            " 5   Start_Lat              float64\n",
            " 6   Start_Lng              float64\n",
            " 7   Distance(mi)           float64\n",
            " 8   Description            object \n",
            " 9   Street                 object \n",
            " 10  Side                   object \n",
            " 11  City                   object \n",
            " 12  County                 object \n",
            " 13  State                  object \n",
            " 14  Zipcode                object \n",
            " 15  Country                object \n",
            " 16  Timezone               object \n",
            " 17  Airport_Code           object \n",
            " 18  Weather_Timestamp      object \n",
            " 19  Temperature(F)         float64\n",
            " 20  Humidity(%)            float64\n",
            " 21  Pressure(in)           float64\n",
            " 22  Visibility(mi)         float64\n",
            " 23  Wind_Direction         object \n",
            " 24  Wind_Speed(mph)        float64\n",
            " 25  Weather_Condition      object \n",
            " 26  Amenity                bool   \n",
            " 27  Crossing               bool   \n",
            " 28  Junction               bool   \n",
            " 29  Station                bool   \n",
            " 30  Stop                   bool   \n",
            " 31  Traffic_Signal         bool   \n",
            " 32  Sunrise_Sunset         object \n",
            " 33  Civil_Twilight         object \n",
            " 34  Nautical_Twilight      object \n",
            " 35  Astronomical_Twilight  object \n",
            "dtypes: bool(6), float64(8), int64(1), object(21)\n",
            "memory usage: 993.0+ MB\n"
          ],
          "name": "stdout"
        }
      ]
    },
    {
      "cell_type": "markdown",
      "metadata": {
        "id": "xAVgISUq9MMr"
      },
      "source": [
        "Next, we can drop the `NaN` (null) values from the dataset."
      ]
    },
    {
      "cell_type": "code",
      "metadata": {
        "id": "Afriyv7D9UFx"
      },
      "source": [
        "df.dropna(inplace=True)"
      ],
      "execution_count": null,
      "outputs": []
    },
    {
      "cell_type": "code",
      "metadata": {
        "colab": {
          "base_uri": "https://localhost:8080/"
        },
        "id": "A4wZ5sbL9Y50",
        "outputId": "cfe3f4bf-d49b-4edb-ad17-ec8b8a47dbd4"
      },
      "source": [
        "df[df.isnull()].value_counts()"
      ],
      "execution_count": null,
      "outputs": [
        {
          "output_type": "execute_result",
          "data": {
            "text/plain": [
              "Series([], dtype: int64)"
            ]
          },
          "metadata": {
            "tags": []
          },
          "execution_count": 24
        }
      ]
    },
    {
      "cell_type": "markdown",
      "metadata": {
        "id": "lOJ7auKJ9iWE"
      },
      "source": [
        "Now that we have no null values, we can save the DataFrame as a CSV so that we can load it later."
      ]
    },
    {
      "cell_type": "code",
      "metadata": {
        "id": "usuW-QUZ9qxa"
      },
      "source": [
        "df.to_csv('./data/US_Accidents_Dec20_Cleaned.csv')"
      ],
      "execution_count": null,
      "outputs": []
    },
    {
      "cell_type": "markdown",
      "metadata": {
        "id": "1B1guAgKFLZQ"
      },
      "source": [
        "## Loading the Cleaned Dataset\r\n",
        "The cleaned dataset was uploaded to Kaggle so that we can use the Kaggle CLI to download the data easily."
      ]
    },
    {
      "cell_type": "code",
      "metadata": {
        "colab": {
          "base_uri": "https://localhost:8080/"
        },
        "id": "Rg5HvBtcFWbE",
        "outputId": "bc45ef3d-b4e4-402c-8504-0f4fd971d0a9"
      },
      "source": [
        "!kaggle datasets download -d sanketnaik99/us-accidents-december-2020-cleaned"
      ],
      "execution_count": 5,
      "outputs": [
        {
          "output_type": "stream",
          "text": [
            "Downloading us-accidents-december-2020-cleaned.zip to /content\n",
            " 97% 250M/258M [00:02<00:00, 143MB/s]\n",
            "100% 258M/258M [00:02<00:00, 130MB/s]\n"
          ],
          "name": "stdout"
        }
      ]
    },
    {
      "cell_type": "code",
      "metadata": {
        "id": "vm0Mf1xeFWTL"
      },
      "source": [
        "!mkdir data"
      ],
      "execution_count": 6,
      "outputs": []
    },
    {
      "cell_type": "code",
      "metadata": {
        "colab": {
          "base_uri": "https://localhost:8080/"
        },
        "id": "Vx8dOqB0FlB7",
        "outputId": "2891d32b-14ff-4441-8ad4-257af208cff8"
      },
      "source": [
        "!unzip us-accidents-december-2020-cleaned.zip -d data"
      ],
      "execution_count": 7,
      "outputs": [
        {
          "output_type": "stream",
          "text": [
            "Archive:  us-accidents-december-2020-cleaned.zip\n",
            "  inflating: data/US_Accidents_Dec20_Cleaned.csv  \n"
          ],
          "name": "stdout"
        }
      ]
    },
    {
      "cell_type": "code",
      "metadata": {
        "id": "W7AtIB5vFk6T"
      },
      "source": [
        "data_filename = './data/US_Accidents_Dec20_Cleaned.csv'"
      ],
      "execution_count": 8,
      "outputs": []
    },
    {
      "cell_type": "code",
      "metadata": {
        "id": "fTZyerDbF1I7"
      },
      "source": [
        "df = pd.read_csv(data_filename)"
      ],
      "execution_count": 9,
      "outputs": []
    },
    {
      "cell_type": "markdown",
      "metadata": {
        "id": "JYoT5TPk7eVB"
      },
      "source": [
        "## Exploratory Analysis & Visualization\r\n",
        "In this step we will analyze some important columns which will help us get a better understanding of the dataset. Some of the important columns that we will be looking at are -\r\n",
        "1. City\r\n",
        "2. Start Time\r\n",
        "3. State"
      ]
    },
    {
      "cell_type": "markdown",
      "metadata": {
        "id": "Dr4MOFLeC0Tl"
      },
      "source": [
        "### City\r\n",
        "The city coulmn states the name of the city where the accident occurred. This can be helpful to answer some important questions such as -\r\n",
        "1. Which are the top 5 cities by number of accidents.\r\n",
        "2. What is the distribution of accidents by cities?\r\n",
        "3. How many accidents occurred in cities with very high number of accidents (>=10,000)"
      ]
    },
    {
      "cell_type": "markdown",
      "metadata": {
        "id": "DvpuBGJ8H0G8"
      },
      "source": [
        "First, we can check the number of unique values for the cities field."
      ]
    },
    {
      "cell_type": "code",
      "metadata": {
        "colab": {
          "base_uri": "https://localhost:8080/"
        },
        "id": "wv5hJ0Hb7iyA",
        "outputId": "fe72ff72-2aff-4726-f0a7-666fa5af6d89"
      },
      "source": [
        "cities = df.City.unique()\r\n",
        "len(cities)"
      ],
      "execution_count": null,
      "outputs": [
        {
          "output_type": "execute_result",
          "data": {
            "text/plain": [
              "11824"
            ]
          },
          "metadata": {
            "tags": []
          },
          "execution_count": 22
        }
      ]
    },
    {
      "cell_type": "markdown",
      "metadata": {
        "id": "13dUj3HqDeBF"
      },
      "source": [
        "As shown above, the dataset contains accident data from 12,251 cities out of 19,502 total cities as of 2019."
      ]
    },
    {
      "cell_type": "markdown",
      "metadata": {
        "id": "pe9SmE5FDe8m"
      },
      "source": [
        "\r\n",
        "#### Top 5 cities by the number of accidents\r\n",
        "\r\n",
        "We can have a look at the top cities by number of accidents by using the `value_counts` function which returns the count of each unique value in a Column."
      ]
    },
    {
      "cell_type": "code",
      "metadata": {
        "colab": {
          "base_uri": "https://localhost:8080/"
        },
        "id": "pEF18FxICGJR",
        "outputId": "843f176a-94b7-4499-e299-fe96af9c864b"
      },
      "source": [
        "cities_by_accidents = df.City.value_counts()\r\n",
        "cities_by_accidents[:5]"
      ],
      "execution_count": null,
      "outputs": [
        {
          "output_type": "execute_result",
          "data": {
            "text/plain": [
              "Houston        101525\n",
              "Charlotte       78838\n",
              "Dallas          73274\n",
              "Los Angeles     69622\n",
              "Austin          59853\n",
              "Name: City, dtype: int64"
            ]
          },
          "metadata": {
            "tags": []
          },
          "execution_count": 12
        }
      ]
    },
    {
      "cell_type": "code",
      "metadata": {
        "colab": {
          "base_uri": "https://localhost:8080/",
          "height": 497
        },
        "id": "kqJG1I0eCGRz",
        "outputId": "09a75e1d-fbf8-4e6a-c433-308d1fac0809"
      },
      "source": [
        "plt.figure(figsize=(8,8))\r\n",
        "ax = cities_by_accidents[:5].plot(kind='barh')\r\n",
        "ax.set(xlabel='Number of accidents', ylabel='City Name')\r\n",
        "plt.show()"
      ],
      "execution_count": null,
      "outputs": [
        {
          "output_type": "display_data",
          "data": {
            "image/png": "[encoded data removed]",
            "text/plain": [
              "<Figure size 576x576 with 1 Axes>"
            ]
          },
          "metadata": {
            "tags": [],
            "needs_background": "light"
          }
        }
      ]
    },
    {
      "cell_type": "markdown",
      "metadata": {
        "id": "zxLCwnfSIc16"
      },
      "source": [
        "We can see that Houston, Charlotte, Dallas, Los Angeles and Austin have the highest number of accidents. Interestingly, 3 out of the top 5 cities are located in the state of Texas."
      ]
    },
    {
      "cell_type": "markdown",
      "metadata": {
        "id": "iV-cRBVhIqhR"
      },
      "source": [
        "#### Distribution of accidents by cities\r\n",
        "We can analyze the number of accidents per city to check the distribution of number of accidents per city."
      ]
    },
    {
      "cell_type": "code",
      "metadata": {
        "colab": {
          "base_uri": "https://localhost:8080/",
          "height": 609
        },
        "id": "4mqMd-77CGv4",
        "outputId": "83f4cd3c-2801-4e42-f012-98b0a6afaf67"
      },
      "source": [
        "plt.figure(figsize=(15,10))\r\n",
        "ax = sns.histplot(cities_by_accidents, log_scale=True, bins=80)\r\n",
        "ax.set(xlabel='Number of accidents', ylabel='Number of Cities')\r\n",
        "plt.show()"
      ],
      "execution_count": null,
      "outputs": [
        {
          "output_type": "display_data",
          "data": {
            "image/png": "[encoded data removed]",
            "text/plain": [
              "<Figure size 1080x720 with 1 Axes>"
            ]
          },
          "metadata": {
            "tags": [],
            "needs_background": "light"
          }
        }
      ]
    },
    {
      "cell_type": "markdown",
      "metadata": {
        "id": "-Sju0ayUGdBo"
      },
      "source": [
        "We can see that many cities have a very low number of accidents reported. We can analyze this further by checking what percentage of cities have reported more than 1,000 accidents in the timeframe."
      ]
    },
    {
      "cell_type": "code",
      "metadata": {
        "id": "FJO166fECHCo"
      },
      "source": [
        "high_accident_cities = cities_by_accidents[cities_by_accidents >= 1000]\r\n",
        "low_accident_cities = cities_by_accidents[cities_by_accidents < 1000]"
      ],
      "execution_count": null,
      "outputs": []
    },
    {
      "cell_type": "code",
      "metadata": {
        "colab": {
          "base_uri": "https://localhost:8080/"
        },
        "id": "W7DSll-HCHJw",
        "outputId": "87187734-39f3-4138-b2a5-6c6e3e4ec673"
      },
      "source": [
        "(len(high_accident_cities) / len(cities)) * 100"
      ],
      "execution_count": null,
      "outputs": [
        {
          "output_type": "execute_result",
          "data": {
            "text/plain": [
              "5.2435723951285516"
            ]
          },
          "metadata": {
            "tags": []
          },
          "execution_count": 23
        }
      ]
    },
    {
      "cell_type": "markdown",
      "metadata": {
        "id": "7ci7lKw3Gprf"
      },
      "source": [
        "We can see that less than 5% of the cities have reported more than 1,000 accidents."
      ]
    },
    {
      "cell_type": "code",
      "metadata": {
        "colab": {
          "base_uri": "https://localhost:8080/",
          "height": 502
        },
        "id": "PoZU8a71CHPh",
        "outputId": "ff069c3b-0746-459d-d419-b83d811d5b42"
      },
      "source": [
        "plt.figure(figsize=(12,8))\r\n",
        "ax = sns.histplot(high_accident_cities, log_scale=True)\r\n",
        "ax.set(xlabel='Number of accidents', ylabel='Number of Cities')\r\n",
        "plt.show()"
      ],
      "execution_count": null,
      "outputs": [
        {
          "output_type": "display_data",
          "data": {
            "image/png": "[encoded data removed]",
            "text/plain": [
              "<Figure size 864x576 with 1 Axes>"
            ]
          },
          "metadata": {
            "tags": [],
            "needs_background": "light"
          }
        }
      ]
    },
    {
      "cell_type": "markdown",
      "metadata": {
        "id": "bvS8ZYRLKHg8"
      },
      "source": [
        "Even in the cities that reported more than 1,000 accidents, most have reported between 1,000 and 10,000 accidents. We can further create a sub-type called very high accident cities with more than 10,000 accidents."
      ]
    },
    {
      "cell_type": "code",
      "metadata": {
        "id": "aB0V4SKAKdTi"
      },
      "source": [
        "very_high_accident_cities = cities_by_accidents[cities_by_accidents >= 10000]"
      ],
      "execution_count": null,
      "outputs": []
    },
    {
      "cell_type": "code",
      "metadata": {
        "colab": {
          "base_uri": "https://localhost:8080/"
        },
        "id": "lVqz4ySRKmcZ",
        "outputId": "fb35edfc-35b9-483d-918c-43a5265253ce"
      },
      "source": [
        "print(f\"Number of very high accident cities = {len(very_high_accident_cities)}\")\r\n",
        "print(f\"Percentage of dataset = {(len(very_high_accident_cities) / len(cities)) * 100}\")"
      ],
      "execution_count": null,
      "outputs": [
        {
          "output_type": "stream",
          "text": [
            "Number of very high accident cities = 52\n",
            "Percentage of dataset = 0.4397834912043302\n"
          ],
          "name": "stdout"
        }
      ]
    },
    {
      "cell_type": "markdown",
      "metadata": {
        "id": "K1Z4sz3zKpiZ"
      },
      "source": [
        "We can see that these 52 cities represent only **0.43%** of the entire dataset."
      ]
    },
    {
      "cell_type": "code",
      "metadata": {
        "colab": {
          "base_uri": "https://localhost:8080/",
          "height": 501
        },
        "id": "gspncqQnCHTB",
        "outputId": "433dc265-689a-4428-db85-79cf46ce99cb"
      },
      "source": [
        "plt.figure(figsize=(12,8))\r\n",
        "ax = sns.histplot(very_high_accident_cities, log_scale=True)\r\n",
        "ax.set(xlabel='Number of accidents', ylabel='Number of Cities')\r\n",
        "plt.show()"
      ],
      "execution_count": null,
      "outputs": [
        {
          "output_type": "display_data",
          "data": {
            "image/png": "[encoded data removed]",
            "text/plain": [
              "<Figure size 864x576 with 1 Axes>"
            ]
          },
          "metadata": {
            "tags": [],
            "needs_background": "light"
          }
        }
      ]
    },
    {
      "cell_type": "markdown",
      "metadata": {
        "id": "Bq8XGxSYLNQ5"
      },
      "source": [
        "#### Number of accidents from very high accident cities\r\n",
        "We know that 52 cities have reported >= 10,000 accidents. We can now check the total number of accidents reported by these cities.\r\n"
      ]
    },
    {
      "cell_type": "code",
      "metadata": {
        "id": "T4ErabW2MfJV"
      },
      "source": [
        "city_names = very_high_accident_cities.keys()\r\n",
        "city_names = np.array(city_names)"
      ],
      "execution_count": null,
      "outputs": []
    },
    {
      "cell_type": "code",
      "metadata": {
        "id": "4ViWOimdCHai"
      },
      "source": [
        "very_h_cities = df[df.City.isin(city_names)]"
      ],
      "execution_count": null,
      "outputs": []
    },
    {
      "cell_type": "code",
      "metadata": {
        "colab": {
          "base_uri": "https://localhost:8080/"
        },
        "id": "5VlO1dA8NTIZ",
        "outputId": "6fef2016-0dc9-4931-b78d-aed0b4ff70f5"
      },
      "source": [
        "print(f\"Number of accidents in reported by citites in Very High (>=10,000) accidents range = {len(very_h_cities)}\")\r\n",
        "print(f\"Total Number of Cities in dataset = {len(df)}\")\r\n",
        "print(f\"Percentage of accidents reported by cities in Very High (>=10,000) accidents range = {round((len(very_h_cities) / len(df)) * 100, 2)} %\")"
      ],
      "execution_count": null,
      "outputs": [
        {
          "output_type": "stream",
          "text": [
            "Number of accidents in reported by citites in Very High (>=10,000) accidents range = 1393963\n",
            "Total Number of Cities in dataset = 3713885\n",
            "Percentage of accidents reported by cities in Very High (>=10,000) accidents range = 37.53 %\n"
          ],
          "name": "stdout"
        }
      ]
    },
    {
      "cell_type": "markdown",
      "metadata": {
        "id": "b7iqH5zLN4Q_"
      },
      "source": [
        "We can see that the Cities in the Very High (>=10,000) accidents range contribute to **37.53%** of all accident data. Moreover, the number of cities that contribute this data is only **52** and represents **0.43%** of all cities present in the dataset."
      ]
    },
    {
      "cell_type": "markdown",
      "metadata": {
        "id": "anHNNT77IiTT"
      },
      "source": [
        "### Start Time\r\n",
        "The `Start_Time` column shows start time of the accident in local time zone. This can be used to answer questions such as - \r\n",
        "1. What are the typical times when a high number of accidents happen?\r\n",
        "2. Are accidents more common during the peak hours when people are traveling to working?\r\n",
        "3. Are accidents more frequent on weekdays or weekends?"
      ]
    },
    {
      "cell_type": "markdown",
      "metadata": {
        "id": "dXyRor793pVZ"
      },
      "source": [
        "First, we can have a look at the `Start_Time` column."
      ]
    },
    {
      "cell_type": "code",
      "metadata": {
        "colab": {
          "base_uri": "https://localhost:8080/"
        },
        "id": "GrQSIHu3CHga",
        "outputId": "b3d17c4f-1ac5-4244-b220-ec39372cd16f"
      },
      "source": [
        "df.Start_Time.head()"
      ],
      "execution_count": null,
      "outputs": [
        {
          "output_type": "execute_result",
          "data": {
            "text/plain": [
              "0    2016-02-08 06:49:27\n",
              "1    2016-02-08 07:23:34\n",
              "2    2016-02-08 07:39:07\n",
              "3    2016-02-08 07:44:26\n",
              "4    2016-02-08 07:59:35\n",
              "Name: Start_Time, dtype: object"
            ]
          },
          "metadata": {
            "tags": []
          },
          "execution_count": 11
        }
      ]
    },
    {
      "cell_type": "markdown",
      "metadata": {
        "id": "KsU_SQae3xs4"
      },
      "source": [
        "The data in this column contains a timestamp but it is in string from and cannot be easily used to get information about the hour or day of the accident.\r\n",
        "\r\n",
        "We can convert the data into a datetime object by using the `to_datetime` function of pandas."
      ]
    },
    {
      "cell_type": "code",
      "metadata": {
        "id": "QNHdpg4LI4ue"
      },
      "source": [
        "df.Start_Time = pd.to_datetime(df.Start_Time)"
      ],
      "execution_count": null,
      "outputs": []
    },
    {
      "cell_type": "markdown",
      "metadata": {
        "id": "icU1k4IkJEYN"
      },
      "source": [
        "We can now access properties such as `hour`, `day of week` and other details easily."
      ]
    },
    {
      "cell_type": "code",
      "metadata": {
        "colab": {
          "base_uri": "https://localhost:8080/"
        },
        "id": "vBYtfs7gI5Cm",
        "outputId": "f8a24cbb-dd79-43ba-bf8d-dff14aa8b99c"
      },
      "source": [
        "df.Start_Time[0].hour"
      ],
      "execution_count": null,
      "outputs": [
        {
          "output_type": "execute_result",
          "data": {
            "text/plain": [
              "6"
            ]
          },
          "metadata": {
            "tags": []
          },
          "execution_count": 13
        }
      ]
    },
    {
      "cell_type": "markdown",
      "metadata": {
        "id": "5c53U1MM4SNx"
      },
      "source": [
        "#### Distribution of accidents by the Hour\r\n",
        "We can check if there are more accidents in at a certain hour or whether the data is more evenly spread out.\r\n",
        "This can help us answer qustions like is the number of accidents higher in the peak hours when more people are traveling to their workplace."
      ]
    },
    {
      "cell_type": "code",
      "metadata": {
        "id": "YPYI2Q99I5sW"
      },
      "source": [
        "df['Hour_of_Day'] = df.Start_Time.dt.hour"
      ],
      "execution_count": null,
      "outputs": []
    },
    {
      "cell_type": "code",
      "metadata": {
        "id": "9h7C5sOm8COJ"
      },
      "source": [
        "def bins_labels(bins, labels, **kwargs):\r\n",
        "    bin_w = (max(bins) - min(bins)) / (len(bins) - 1)\r\n",
        "    plt.xticks(np.arange(min(bins)+bin_w/2, max(bins), bin_w), labels, **kwargs)\r\n",
        "    plt.xlim(bins[0], bins[-1])"
      ],
      "execution_count": null,
      "outputs": []
    },
    {
      "cell_type": "code",
      "metadata": {
        "colab": {
          "base_uri": "https://localhost:8080/",
          "height": 496
        },
        "id": "H9ENSXtJI5zR",
        "outputId": "1424e093-3aba-49fe-99ce-3de4b3d29f01"
      },
      "source": [
        "plt.figure(figsize=(15, 8))\r\n",
        "bins = range(0, 25)\r\n",
        "ax = sns.histplot(df.Hour_of_Day, bins=bins)\r\n",
        "ax.set(xlabel='Hour of Day', ylabel='Number of Accidents')\r\n",
        "labels = np.arange(24)\r\n",
        "bins_labels(bins, labels, fontsize=8)\r\n",
        "plt.show()"
      ],
      "execution_count": null,
      "outputs": [
        {
          "output_type": "display_data",
          "data": {
            "image/png": "[encoded data removed]",
            "text/plain": [
              "<Figure size 1080x576 with 1 Axes>"
            ]
          },
          "metadata": {
            "tags": [],
            "needs_background": "light"
          }
        }
      ]
    },
    {
      "cell_type": "markdown",
      "metadata": {
        "id": "cgSYoS8RK-3-"
      },
      "source": [
        "We can see that a the number of accidents that happen between 6 AM and 9 AM in the morning and 3 PM and 6 PM in evening is very high.\r\n",
        "These times are often the times when most poeple go to work and leave from work. Hence, we can see that most accidents happen when people are traveling to and from work."
      ]
    },
    {
      "cell_type": "markdown",
      "metadata": {
        "id": "nbwrmcel6J9N"
      },
      "source": [
        "#### Distribution of accidents by Day\r\n",
        "We can check if the number of accidents that happen on weekdays is greater than then number of accidents that happen on weekends. This will help us better understand the observation that we made above - that most accidents happen when people are traveling to and from work. Since many people don't work on weekends, the number of accidents on weekends should ideally be lower than the number of accidents on other days."
      ]
    },
    {
      "cell_type": "code",
      "metadata": {
        "id": "tCQkjDDLI55T"
      },
      "source": [
        "df['Day_of_Week'] = df.Start_Time.dt.dayofweek"
      ],
      "execution_count": null,
      "outputs": []
    },
    {
      "cell_type": "code",
      "metadata": {
        "colab": {
          "base_uri": "https://localhost:8080/",
          "height": 497
        },
        "id": "uAKVVxP5L33D",
        "outputId": "9248c531-e687-4dc0-8fd4-39d8f1cdd48b"
      },
      "source": [
        "plt.figure(figsize=(12, 8))\r\n",
        "bins = range(0, 8)\r\n",
        "ax = sns.histplot(df.Day_of_Week, bins=bins)\r\n",
        "ax.set(xlabel='Day of the Week', ylabel='Number of Accidents')\r\n",
        "labels = ['Monday', 'Tuesday', 'Wednesday', 'Thursday', 'Friday', 'Saturday', 'Sunday']\r\n",
        "bins_labels(bins, labels, fontsize=10)\r\n",
        "plt.show()"
      ],
      "execution_count": null,
      "outputs": [
        {
          "output_type": "display_data",
          "data": {
            "image/png": "[encoded data removed]",
            "text/plain": [
              "<Figure size 864x576 with 1 Axes>"
            ]
          },
          "metadata": {
            "tags": [],
            "needs_background": "light"
          }
        }
      ]
    },
    {
      "cell_type": "markdown",
      "metadata": {
        "id": "9GrgiCqJL-OA"
      },
      "source": [
        "We can see that the number of accidents are higher on weekdays and lower on weekends. This proves our initial observation.\r\n"
      ]
    },
    {
      "cell_type": "markdown",
      "metadata": {
        "id": "Z5rgNDJ8MLOJ"
      },
      "source": [
        "#### Accident distribution on weekends\r\n",
        "We have seen that most  accidents occur on weekdays and these accidents mainly occur during the peak traveling hours. Most people don't work on weekends so we can check the distribution of accidents on weekends to evaluate our observation.\r\n",
        "\r\n"
      ]
    },
    {
      "cell_type": "code",
      "metadata": {
        "id": "gvZks1RAL39N"
      },
      "source": [
        "weekends_accidents = df.Start_Time[df.Start_Time.dt.dayofweek >= 5]"
      ],
      "execution_count": null,
      "outputs": []
    },
    {
      "cell_type": "code",
      "metadata": {
        "colab": {
          "base_uri": "https://localhost:8080/",
          "height": 496
        },
        "id": "cQ99ckLeL4Bg",
        "outputId": "b006d83d-5bb5-4a54-e3da-a8874e11b60f"
      },
      "source": [
        "plt.figure(figsize=(15, 8))\r\n",
        "bins = range(0, 25)\r\n",
        "ax = sns.histplot(weekends_accidents.dt.hour, bins=bins)\r\n",
        "ax.set(xlabel='Hour of Day', ylabel='Number of Accidents')\r\n",
        "labels = np.arange(24)\r\n",
        "bins_labels(bins, labels, fontsize=8)\r\n",
        "plt.show()"
      ],
      "execution_count": null,
      "outputs": [
        {
          "output_type": "display_data",
          "data": {
            "image/png": "[encoded data removed]",
            "text/plain": [
              "<Figure size 1080x576 with 1 Axes>"
            ]
          },
          "metadata": {
            "tags": [],
            "needs_background": "light"
          }
        }
      ]
    },
    {
      "cell_type": "markdown",
      "metadata": {
        "id": "csHnVDLUNfUl"
      },
      "source": [
        "We can see that the distribution of accidents is more spread out on weekends and we don't find the 2 distinct peaks in the data."
      ]
    },
    {
      "cell_type": "markdown",
      "metadata": {
        "id": "-1-TY_CyDHhA"
      },
      "source": [
        "#### Accident Distribution on Weekdays\r\n",
        "Let's confirm our observation that most accidents occur during the peak hours by finding out the total number of accidents that happened between 6 AM and 9 AM and 3 PM and 6 PM on weekdays."
      ]
    },
    {
      "cell_type": "markdown",
      "metadata": {
        "id": "j2x8tNxADfOd"
      },
      "source": [
        "First, let's see the distribution of accidents on weekdays again."
      ]
    },
    {
      "cell_type": "code",
      "metadata": {
        "id": "Cm1JB9EaDjqN"
      },
      "source": [
        "weekday_accidents = df.Start_Time[df.Start_Time.dt.dayofweek < 5]"
      ],
      "execution_count": null,
      "outputs": []
    },
    {
      "cell_type": "code",
      "metadata": {
        "colab": {
          "base_uri": "https://localhost:8080/",
          "height": 496
        },
        "id": "QuuqO6ctL4Fr",
        "outputId": "4a154ff0-3955-494a-dd64-0b8d436a7137"
      },
      "source": [
        "plt.figure(figsize=(15, 8))\r\n",
        "bins = range(0, 25)\r\n",
        "ax = sns.histplot(weekday_accidents.dt.hour, bins=bins)\r\n",
        "ax.set(xlabel='Hour of Day', ylabel='Number of Accidents')\r\n",
        "labels = np.arange(24)\r\n",
        "bins_labels(bins, labels, fontsize=8)\r\n",
        "plt.show()"
      ],
      "execution_count": null,
      "outputs": [
        {
          "output_type": "display_data",
          "data": {
            "image/png": "[encoded data removed]",
            "text/plain": [
              "<Figure size 1080x576 with 1 Axes>"
            ]
          },
          "metadata": {
            "tags": [],
            "needs_background": "light"
          }
        }
      ]
    },
    {
      "cell_type": "markdown",
      "metadata": {
        "id": "teewFIAgDui0"
      },
      "source": [
        "Now, we can find the number of accidents that occurred between 6 AM and 9 AM and 3 PM and 6 PM."
      ]
    },
    {
      "cell_type": "code",
      "metadata": {
        "id": "MBMNyDXdDtq1"
      },
      "source": [
        "morning = weekday_accidents[(weekday_accidents.dt.hour >= 6) & (weekday_accidents.dt.hour <= 9)]\r\n",
        "evening = weekday_accidents[(weekday_accidents.dt.hour >= 15) & (weekday_accidents.dt.hour <= 18)]\r\n",
        "weekday_peak_hour_accidents = pd.concat([morning, evening])"
      ],
      "execution_count": null,
      "outputs": []
    },
    {
      "cell_type": "code",
      "metadata": {
        "colab": {
          "base_uri": "https://localhost:8080/"
        },
        "id": "m_PQRuMBEylj",
        "outputId": "2a35fe62-a75f-4c8c-9fb3-eb93ca90adfa"
      },
      "source": [
        "percentage = (len(weekday_peak_hour_accidents) / len(df)) * 100\r\n",
        "print(f\"Total Number of accidents in the dataset = {len(df)}\")\r\n",
        "print(f\"Number of accidents that happen in peak hours = {len(weekday_peak_hour_accidents)}\")\r\n",
        "print(f\"Percentage of total accidents that happen in peak hours = {round(percentage, 2)}%\")"
      ],
      "execution_count": null,
      "outputs": [
        {
          "output_type": "stream",
          "text": [
            "Total Number of accidents in the dataset = 3713885\n",
            "Number of accidents that happen in peak hours = 1782351\n",
            "Percentage of total accidents that happen in peak hours = 47.99%\n"
          ],
          "name": "stdout"
        }
      ]
    },
    {
      "cell_type": "markdown",
      "metadata": {
        "id": "UgneZSU6Ocjp"
      },
      "source": [
        "Hence, we can see that **47.99%** happen during the peak hours of 6 AM to 9 AM and 3 PM to 6 PM and we can conclude that a large number of accidents occur during the peak hours."
      ]
    },
    {
      "cell_type": "markdown",
      "metadata": {
        "id": "YF0MTnBwcftI"
      },
      "source": [
        "### State\r\n",
        "The State Column can be used to get more information about the number of accidents reported from each state. This can be used to find the top states by number of accidents or the distribution of accidents in different states."
      ]
    },
    {
      "cell_type": "markdown",
      "metadata": {
        "id": "jH9sZNPUd_Nc"
      },
      "source": [
        "#### Top 5 States by the number of accidents\r\n",
        "We can check the top 5 states by number of accidents using the `value_counts` method"
      ]
    },
    {
      "cell_type": "code",
      "metadata": {
        "colab": {
          "base_uri": "https://localhost:8080/"
        },
        "id": "sju8IRBwcwJH",
        "outputId": "92bb583a-aa18-4b53-b394-661d44ee9188"
      },
      "source": [
        "df.State.value_counts()[:5]"
      ],
      "execution_count": 14,
      "outputs": [
        {
          "output_type": "execute_result",
          "data": {
            "text/plain": [
              "CA    822373\n",
              "FL    339099\n",
              "TX    335865\n",
              "SC    184625\n",
              "NY    171825\n",
              "Name: State, dtype: int64"
            ]
          },
          "metadata": {
            "tags": []
          },
          "execution_count": 14
        }
      ]
    },
    {
      "cell_type": "markdown",
      "metadata": {
        "id": "3qN6Eg_ldNfm"
      },
      "source": [
        "We can see that the states above are the top 5 states by number of accidents.  \r\n",
        "We can also check the percentage of accidents from the entire dataset that come from these states."
      ]
    },
    {
      "cell_type": "code",
      "metadata": {
        "colab": {
          "base_uri": "https://localhost:8080/"
        },
        "id": "AQ86At1MdaxW",
        "outputId": "d1d18e7c-2106-4665-fbc8-e18789e85723"
      },
      "source": [
        "total = df.State.value_counts()[:5].sum()\r\n",
        "percentage = total / len(df) * 100\r\n",
        "print(f\"Number of accidents reported by the Top 5 States = {total}\")\r\n",
        "print(f\"Total number of accidents in the dataset = {len(df)}\")\r\n",
        "print(f\"Percentage of total number of accidents reported by Top 5 States = {round(percentage, 2)}%\")"
      ],
      "execution_count": 15,
      "outputs": [
        {
          "output_type": "stream",
          "text": [
            "Number of accidents reported by the Top 5 States = 1853787\n",
            "Total number of accidents in the dataset = 3713885\n",
            "Percentage of total number of accidents reported by Top 5 States = 49.92%\n"
          ],
          "name": "stdout"
        }
      ]
    },
    {
      "cell_type": "markdown",
      "metadata": {
        "id": "-NrwivqvdwE0"
      },
      "source": [
        "We can see that the top 5 States reported **49.92%** of all accidents in the dataset which means that almost half of all accidents were reported by the top 5 states."
      ]
    },
    {
      "cell_type": "markdown",
      "metadata": {
        "id": "vPryRSSnfgMX"
      },
      "source": [
        "#### Visualization of accidents reported by each state\r\n",
        "We can use `folium` to make interactive maps which let us visualize the number of accidents reported by each state."
      ]
    },
    {
      "cell_type": "code",
      "metadata": {
        "colab": {
          "base_uri": "https://localhost:8080/",
          "height": 204
        },
        "id": "YfGeXGPRf6W9",
        "outputId": "50d20ab1-d320-4437-ce9e-478b92872bfc"
      },
      "source": [
        "state_data = pd.DataFrame(df.State.value_counts().reset_index())\r\n",
        "state_data.columns = ['State', 'No. of Accidents']\r\n",
        "state_data.head()"
      ],
      "execution_count": 16,
      "outputs": [
        {
          "output_type": "execute_result",
          "data": {
            "text/html": [
              "<div>\n",
              "<style scoped>\n",
              "    .dataframe tbody tr th:only-of-type {\n",
              "        vertical-align: middle;\n",
              "    }\n",
              "\n",
              "    .dataframe tbody tr th {\n",
              "        vertical-align: top;\n",
              "    }\n",
              "\n",
              "    .dataframe thead th {\n",
              "        text-align: right;\n",
              "    }\n",
              "</style>\n",
              "<table border=\"1\" class=\"dataframe\">\n",
              "  <thead>\n",
              "    <tr style=\"text-align: right;\">\n",
              "      <th></th>\n",
              "      <th>State</th>\n",
              "      <th>No. of Accidents</th>\n",
              "    </tr>\n",
              "  </thead>\n",
              "  <tbody>\n",
              "    <tr>\n",
              "      <th>0</th>\n",
              "      <td>CA</td>\n",
              "      <td>822373</td>\n",
              "    </tr>\n",
              "    <tr>\n",
              "      <th>1</th>\n",
              "      <td>FL</td>\n",
              "      <td>339099</td>\n",
              "    </tr>\n",
              "    <tr>\n",
              "      <th>2</th>\n",
              "      <td>TX</td>\n",
              "      <td>335865</td>\n",
              "    </tr>\n",
              "    <tr>\n",
              "      <th>3</th>\n",
              "      <td>SC</td>\n",
              "      <td>184625</td>\n",
              "    </tr>\n",
              "    <tr>\n",
              "      <th>4</th>\n",
              "      <td>NY</td>\n",
              "      <td>171825</td>\n",
              "    </tr>\n",
              "  </tbody>\n",
              "</table>\n",
              "</div>"
            ],
            "text/plain": [
              "  State  No. of Accidents\n",
              "0    CA            822373\n",
              "1    FL            339099\n",
              "2    TX            335865\n",
              "3    SC            184625\n",
              "4    NY            171825"
            ]
          },
          "metadata": {
            "tags": []
          },
          "execution_count": 16
        }
      ]
    },
    {
      "cell_type": "markdown",
      "metadata": {
        "id": "iY2ZKagjgBSE"
      },
      "source": [
        "The State count series was converted into a dataframe to make it easier to work with."
      ]
    },
    {
      "cell_type": "code",
      "metadata": {
        "id": "YktnMhfynPjz"
      },
      "source": [
        "# Loading the State Data JSON from folium\r\n",
        "import json\r\n",
        "import urllib.request\r\n",
        "state_geo = \"https://raw.githubusercontent.com/python-visualization/folium/master/examples/data/us-states.json\"\r\n",
        "state_geo_obj_data = urllib.request.urlopen(state_geo).read().decode()\r\n",
        "state_geo_obj = json.loads(state_geo_obj_data)\r\n",
        "state_geo_obj"
      ],
      "execution_count": null,
      "outputs": []
    },
    {
      "cell_type": "code",
      "metadata": {
        "id": "EGBuMwFBnl5D"
      },
      "source": [
        "# Inserting the Count of accidents in the State Data JSON\r\n",
        "for state in state_data.values:\r\n",
        "  for feature in state_geo_obj['features']:\r\n",
        "    if feature['id'] == state[0]:\r\n",
        "      feature['properties']['count'] = state[1]"
      ],
      "execution_count": 66,
      "outputs": []
    },
    {
      "cell_type": "code",
      "metadata": {
        "colab": {
          "base_uri": "https://localhost:8080/",
          "height": 821
        },
        "id": "S0fOEKKQfrme",
        "outputId": "57d87598-2d9c-49e5-cc54-16d07f7c72b0"
      },
      "source": [
        "state_geo = \"https://raw.githubusercontent.com/python-visualization/folium/master/examples/data/us-states.json\"\r\n",
        "f = folium.Figure(width=1400, height=800)\r\n",
        "m = folium.Map(location=[38, -96], zoom_start=4.5)\r\n",
        "choropleth =  folium.Choropleth(\r\n",
        "    geo_data=state_geo_obj,\r\n",
        "    name=\"choropleth\",\r\n",
        "    data=state_data,\r\n",
        "    columns=[\"State\", \"No. of Accidents\"],\r\n",
        "    key_on=\"feature.id\",\r\n",
        "    fill_color=\"YlOrRd\",\r\n",
        "    fill_opacity=0.7,\r\n",
        "    line_opacity=0.3,\r\n",
        "    legend_name=\"No. of Accidents Reported\",\r\n",
        ").add_to(m)\r\n",
        "folium.LayerControl().add_to(m)\r\n",
        "choropleth.geojson.add_child(\r\n",
        "    folium.features.GeoJsonTooltip(fields=['name','count'], aliases=['State Name: ', 'No. of Accidents Reported'])\r\n",
        ")\r\n",
        "m.add_to(f)\r\n",
        "f"
      ],
      "execution_count": 97,
      "outputs": [
        {
          "output_type": "execute_result",
          "data": {
            "text/html": [
              "<iframe src=\"about:blank\" width=\"1400\" height=\"800\"style=\"border:none !important;\" data-html=%3C%21DOCTYPE%20html%3E%0A%3Chead%3E%20%20%20%20%0A%20%20%20%20%3Cmeta%20http-equiv%3D%22content-type%22%20content%3D%22text/html%3B%20charset%3DUTF-8%22%20/%3E%0A%20%20%20%20%3Cscript%3EL_PREFER_CANVAS%3Dfalse%3B%20L_NO_TOUCH%3Dfalse%3B%20L_DISABLE_3D%3Dfalse%3B%3C/script%3E%0A%20%20%20%20%3Cscript%20src%3D%22https%3A//cdn.jsdelivr.net/npm/leaflet%401.4.0/dist/leaflet.js%22%3E%3C/script%3E%0A%20%20%20%20%3Cscript%20src%3D%22https%3A//code.jquery.com/jquery-1.12.4.min.js%22%3E%3C/script%3E%0A%20%20%20%20%3Cscript%20src%3D%22https%3A//maxcdn.bootstrapcdn.com/bootstrap/3.2.0/js/bootstrap.min.js%22%3E%3C/script%3E%0A%20%20%20%20%3Cscript%20src%3D%22https%3A//cdnjs.cloudflare.com/ajax/libs/Leaflet.awesome-markers/2.0.2/leaflet.awesome-markers.js%22%3E%3C/script%3E%0A%20%20%20%20%3Clink%20rel%3D%22stylesheet%22%20href%3D%22https%3A//cdn.jsdelivr.net/npm/leaflet%401.4.0/dist/leaflet.css%22/%3E%0A%20%20%20%20%3Clink%20rel%3D%22stylesheet%22%20href%3D%22https%3A//maxcdn.bootstrapcdn.com/bootstrap/3.2.0/css/bootstrap.min.css%22/%3E%0A%20%20%20%20%3Clink%20rel%3D%22stylesheet%22%20href%3D%22https%3A//maxcdn.bootstrapcdn.com/bootstrap/3.2.0/css/bootstrap-theme.min.css%22/%3E%0A%20%20%20%20%3Clink%20rel%3D%22stylesheet%22%20href%3D%22https%3A//maxcdn.bootstrapcdn.com/font-awesome/4.6.3/css/font-awesome.min.css%22/%3E%0A%20%20%20%20%3Clink%20rel%3D%22stylesheet%22%20href%3D%22https%3A//cdnjs.cloudflare.com/ajax/libs/Leaflet.awesome-markers/2.0.2/leaflet.awesome-markers.css%22/%3E%0A%20%20%20%20%3Clink%20rel%3D%22stylesheet%22%20href%3D%22https%3A//rawcdn.githack.com/python-visualization/folium/master/folium/templates/leaflet.awesome.rotate.css%22/%3E%0A%20%20%20%20%3Cstyle%3Ehtml%2C%20body%20%7Bwidth%3A%20100%25%3Bheight%3A%20100%25%3Bmargin%3A%200%3Bpadding%3A%200%3B%7D%3C/style%3E%0A%20%20%20%20%3Cstyle%3E%23map%20%7Bposition%3Aabsolute%3Btop%3A0%3Bbottom%3A0%3Bright%3A0%3Bleft%3A0%3B%7D%3C/style%3E%0A%20%20%20%20%0A%20%20%20%20%3Cmeta%20name%3D%22viewport%22%20content%3D%22width%3Ddevice-width%2C%0A%20%20%20%20%20%20%20%20initial-scale%3D1.0%2C%20maximum-scale%3D1.0%2C%20user-scalable%3Dno%22%20/%3E%0A%20%20%20%20%3Cstyle%3E%23map_c871bff445ba438cb10e95183517cead%20%7B%0A%20%20%20%20%20%20%20%20position%3A%20relative%3B%0A%20%20%20%20%20%20%20%20width%3A%20100.0%25%3B%0A%20%20%20%20%20%20%20%20height%3A%20100.0%25%3B%0A%20%20%20%20%20%20%20%20left%3A%200.0%25%3B%0A%20%20%20%20%20%20%20%20top%3A%200.0%25%3B%0A%20%20%20%20%20%20%20%20%7D%0A%20%20%20%20%3C/style%3E%0A%20%20%20%20%3Cscript%20src%3D%22https%3A//cdnjs.cloudflare.com/ajax/libs/d3/3.5.5/d3.min.js%22%3E%3C/script%3E%0A%3C/head%3E%0A%3Cbody%3E%20%20%20%20%0A%20%20%20%20%0A%20%20%20%20%3Cdiv%20class%3D%22folium-map%22%20id%3D%22map_c871bff445ba438cb10e95183517cead%22%20%3E%3C/div%3E%0A%3C/body%3E%0A%3Cscript%3E%20%20%20%20%0A%20%20%20%20%0A%20%20%20%20%0A%20%20%20%20%20%20%20%20var%20bounds%20%3D%20null%3B%0A%20%20%20%20%0A%0A%20%20%20%20var%20map_c871bff445ba438cb10e95183517cead%20%3D%20L.map%28%0A%20%20%20%20%20%20%20%20%27map_c871bff445ba438cb10e95183517cead%27%2C%20%7B%0A%20%20%20%20%20%20%20%20center%3A%20%5B38%2C%20-96%5D%2C%0A%20%20%20%20%20%20%20%20zoom%3A%204.5%2C%0A%20%20%20%20%20%20%20%20maxBounds%3A%20bounds%2C%0A%20%20%20%20%20%20%20%20layers%3A%20%5B%5D%2C%0A%20%20%20%20%20%20%20%20worldCopyJump%3A%20false%2C%0A%20%20%20%20%20%20%20%20crs%3A%20L.CRS.EPSG3857%2C%0A%20%20%20%20%20%20%20%20zoomControl%3A%20true%2C%0A%20%20%20%20%20%20%20%20%7D%29%3B%0A%0A%0A%20%20%20%20%0A%20%20%20%20var%20tile_layer_ccbb3ccda8334b948c2f3c6b45961a6c%20%3D%20L.tileLayer%28%0A%20%20%20%20%20%20%20%20%27https%3A//%7Bs%7D.tile.openstreetmap.org/%7Bz%7D/%7Bx%7D/%7By%7D.png%27%2C%0A%20%20%20%20%20%20%20%20%7B%0A%20%20%20%20%20%20%20%20%22attribution%22%3A%20null%2C%0A%20%20%20%20%20%20%20%20%22detectRetina%22%3A%20false%2C%0A%20%20%20%20%20%20%20%20%22maxNativeZoom%22%3A%2018%2C%0A%20%20%20%20%20%20%20%20%22maxZoom%22%3A%2018%2C%0A%20%20%20%20%20%20%20%20%22minZoom%22%3A%200%2C%0A%20%20%20%20%20%20%20%20%22noWrap%22%3A%20false%2C%0A%20%20%20%20%20%20%20%20%22opacity%22%3A%201%2C%0A%20%20%20%20%20%20%20%20%22subdomains%22%3A%20%22abc%22%2C%0A%20%20%20%20%20%20%20%20%22tms%22%3A%20false%0A%7D%29.addTo%28map_c871bff445ba438cb10e95183517cead%29%3B%0A%20%20%20%20%0A%20%20%20%20%20%20%20%20%20%20%20%20var%20choropleth_0690bc6f35394c479a8cb2e6deb3d740%20%3D%20L.featureGroup%28%0A%20%20%20%20%20%20%20%20%20%20%20%20%20%20%20%20%29.addTo%28map_c871bff445ba438cb10e95183517cead%29%3B%0A%20%20%20%20%20%20%20%20%0A%20%20%20%20%0A%20%20%20%20%20%20%20%20var%20geo_json_8632be58bf8342c3988bb607cc340209%20%3D%20L.geoJson%28%0A%20%20%20%20%20%20%20%20%20%20%20%20%7B%22features%22%3A%20%5B%7B%22geometry%22%3A%20%7B%22coordinates%22%3A%20%5B%5B%5B-87.359296%2C%2035.00118%5D%2C%20%5B-85.606675%2C%2034.984749%5D%2C%20%5B-85.431413%2C%2034.124869%5D%2C%20%5B-85.184951%2C%2032.859696%5D%2C%20%5B-85.069935%2C%2032.580372%5D%2C%20%5B-84.960397%2C%2032.421541%5D%2C%20%5B-85.004212%2C%2032.322956%5D%2C%20%5B-84.889196%2C%2032.262709%5D%2C%20%5B-85.058981%2C%2032.13674%5D%2C%20%5B-85.053504%2C%2032.01077%5D%2C%20%5B-85.141136%2C%2031.840985%5D%2C%20%5B-85.042551%2C%2031.539753%5D%2C%20%5B-85.113751%2C%2031.27686%5D%2C%20%5B-85.004212%2C%2031.003013%5D%2C%20%5B-85.497137%2C%2030.997536%5D%2C%20%5B-87.600282%2C%2030.997536%5D%2C%20%5B-87.633143%2C%2030.86609%5D%2C%20%5B-87.408589%2C%2030.674397%5D%2C%20%5B-87.446927%2C%2030.510088%5D%2C%20%5B-87.37025%2C%2030.427934%5D%2C%20%5B-87.518128%2C%2030.280057%5D%2C%20%5B-87.655051%2C%2030.247195%5D%2C%20%5B-87.90699%2C%2030.411504%5D%2C%20%5B-87.934375%2C%2030.657966%5D%2C%20%5B-88.011052%2C%2030.685351%5D%2C%20%5B-88.10416%2C%2030.499135%5D%2C%20%5B-88.137022%2C%2030.318396%5D%2C%20%5B-88.394438%2C%2030.367688%5D%2C%20%5B-88.471115%2C%2031.895754%5D%2C%20%5B-88.241084%2C%2033.796253%5D%2C%20%5B-88.098683%2C%2034.891641%5D%2C%20%5B-88.202745%2C%2034.995703%5D%2C%20%5B-87.359296%2C%2035.00118%5D%5D%5D%2C%20%22type%22%3A%20%22Polygon%22%7D%2C%20%22id%22%3A%20%22AL%22%2C%20%22properties%22%3A%20%7B%22count%22%3A%2051421%2C%20%22highlight%22%3A%20%7B%7D%2C%20%22name%22%3A%20%22Alabama%22%2C%20%22style%22%3A%20%7B%22color%22%3A%20%22black%22%2C%20%22fillColor%22%3A%20%22%23ffffb2%22%2C%20%22fillOpacity%22%3A%200.7%2C%20%22opacity%22%3A%200.3%2C%20%22weight%22%3A%201%7D%7D%2C%20%22type%22%3A%20%22Feature%22%7D%2C%20%7B%22geometry%22%3A%20%7B%22coordinates%22%3A%20%5B%5B%5B%5B-131.602021%2C%2055.117982%5D%2C%20%5B-131.569159%2C%2055.28229%5D%2C%20%5B-131.355558%2C%2055.183705%5D%2C%20%5B-131.38842%2C%2055.01392%5D%2C%20%5B-131.645836%2C%2055.035827%5D%2C%20%5B-131.602021%2C%2055.117982%5D%5D%5D%2C%20%5B%5B%5B-131.832052%2C%2055.42469%5D%2C%20%5B-131.645836%2C%2055.304197%5D%2C%20%5B-131.749898%2C%2055.128935%5D%2C%20%5B-131.832052%2C%2055.189182%5D%2C%20%5B-131.832052%2C%2055.42469%5D%5D%5D%2C%20%5B%5B%5B-132.976733%2C%2056.437924%5D%2C%20%5B-132.735747%2C%2056.459832%5D%2C%20%5B-132.631685%2C%2056.421493%5D%2C%20%5B-132.664547%2C%2056.273616%5D%2C%20%5B-132.878148%2C%2056.240754%5D%2C%20%5B-133.069841%2C%2056.333862%5D%2C%20%5B-132.976733%2C%2056.437924%5D%5D%5D%2C%20%5B%5B%5B-133.595627%2C%2056.350293%5D%2C%20%5B-133.162949%2C%2056.317431%5D%2C%20%5B-133.05341%2C%2056.125739%5D%2C%20%5B-132.620732%2C%2055.912138%5D%2C%20%5B-132.472854%2C%2055.780691%5D%2C%20%5B-132.4619%2C%2055.671152%5D%2C%20%5B-132.357838%2C%2055.649245%5D%2C%20%5B-132.341408%2C%2055.506844%5D%2C%20%5B-132.166146%2C%2055.364444%5D%2C%20%5B-132.144238%2C%2055.238474%5D%2C%20%5B-132.029222%2C%2055.276813%5D%2C%20%5B-131.97993%2C%2055.178228%5D%2C%20%5B-131.958022%2C%2054.789365%5D%2C%20%5B-132.029222%2C%2054.701734%5D%2C%20%5B-132.308546%2C%2054.718165%5D%2C%20%5B-132.385223%2C%2054.915335%5D%2C%20%5B-132.483808%2C%2054.898904%5D%2C%20%5B-132.686455%2C%2055.046781%5D%2C%20%5B-132.746701%2C%2054.997489%5D%2C%20%5B-132.916486%2C%2055.046781%5D%2C%20%5B-132.889102%2C%2054.898904%5D%2C%20%5B-132.73027%2C%2054.937242%5D%2C%20%5B-132.626209%2C%2054.882473%5D%2C%20%5B-132.675501%2C%2054.679826%5D%2C%20%5B-132.867194%2C%2054.701734%5D%2C%20%5B-133.157472%2C%2054.95915%5D%2C%20%5B-133.239626%2C%2055.090597%5D%2C%20%5B-133.223195%2C%2055.22752%5D%2C%20%5B-133.453227%2C%2055.216566%5D%2C%20%5B-133.453227%2C%2055.320628%5D%2C%20%5B-133.277964%2C%2055.331582%5D%2C%20%5B-133.102702%2C%2055.42469%5D%2C%20%5B-133.17938%2C%2055.588998%5D%2C%20%5B-133.387503%2C%2055.62186%5D%2C%20%5B-133.420365%2C%2055.884753%5D%2C%20%5B-133.497042%2C%2056.0162%5D%2C%20%5B-133.639442%2C%2055.923092%5D%2C%20%5B-133.694212%2C%2056.070969%5D%2C%20%5B-133.546335%2C%2056.142169%5D%2C%20%5B-133.666827%2C%2056.311955%5D%2C%20%5B-133.595627%2C%2056.350293%5D%5D%5D%2C%20%5B%5B%5B-133.738027%2C%2055.556137%5D%2C%20%5B-133.546335%2C%2055.490413%5D%2C%20%5B-133.414888%2C%2055.572568%5D%2C%20%5B-133.283441%2C%2055.534229%5D%2C%20%5B-133.420365%2C%2055.386352%5D%2C%20%5B-133.633966%2C%2055.430167%5D%2C%20%5B-133.738027%2C%2055.556137%5D%5D%5D%2C%20%5B%5B%5B-133.907813%2C%2056.930849%5D%2C%20%5B-134.050213%2C%2057.029434%5D%2C%20%5B-133.885905%2C%2057.095157%5D%2C%20%5B-133.343688%2C%2057.002049%5D%2C%20%5B-133.102702%2C%2057.007526%5D%2C%20%5B-132.932917%2C%2056.82131%5D%2C%20%5B-132.620732%2C%2056.667956%5D%2C%20%5B-132.653593%2C%2056.55294%5D%2C%20%5B-132.817901%2C%2056.492694%5D%2C%20%5B-133.042456%2C%2056.520078%5D%2C%20%5B-133.201287%2C%2056.448878%5D%2C%20%5B-133.420365%2C%2056.492694%5D%2C%20%5B-133.66135%2C%2056.448878%5D%2C%20%5B-133.710643%2C%2056.684386%5D%2C%20%5B-133.688735%2C%2056.837741%5D%2C%20%5B-133.869474%2C%2056.843218%5D%2C%20%5B-133.907813%2C%2056.930849%5D%5D%5D%2C%20%5B%5B%5B-134.115936%2C%2056.48174%5D%2C%20%5B-134.25286%2C%2056.558417%5D%2C%20%5B-134.400737%2C%2056.722725%5D%2C%20%5B-134.417168%2C%2056.848695%5D%2C%20%5B-134.296675%2C%2056.908941%5D%2C%20%5B-134.170706%2C%2056.848695%5D%2C%20%5B-134.143321%2C%2056.952757%5D%2C%20%5B-133.748981%2C%2056.772017%5D%2C%20%5B-133.710643%2C%2056.596755%5D%2C%20%5B-133.847566%2C%2056.574848%5D%2C%20%5B-133.935197%2C%2056.377678%5D%2C%20%5B-133.836612%2C%2056.322908%5D%2C%20%5B-133.957105%2C%2056.092877%5D%2C%20%5B-134.110459%2C%2056.142169%5D%2C%20%5B-134.132367%2C%2055.999769%5D%2C%20%5B-134.230952%2C%2056.070969%5D%2C%20%5B-134.291198%2C%2056.350293%5D%2C%20%5B-134.115936%2C%2056.48174%5D%5D%5D%2C%20%5B%5B%5B-134.636246%2C%2056.28457%5D%2C%20%5B-134.669107%2C%2056.169554%5D%2C%20%5B-134.806031%2C%2056.235277%5D%2C%20%5B-135.178463%2C%2056.67891%5D%2C%20%5B-135.413971%2C%2056.810356%5D%2C%20%5B-135.331817%2C%2056.914418%5D%2C%20%5B-135.424925%2C%2057.166357%5D%2C%20%5B-135.687818%2C%2057.369004%5D%2C%20%5B-135.419448%2C%2057.566174%5D%2C%20%5B-135.298955%2C%2057.48402%5D%2C%20%5B-135.063447%2C%2057.418296%5D%2C%20%5B-134.849846%2C%2057.407343%5D%2C%20%5B-134.844369%2C%2057.248511%5D%2C%20%5B-134.636246%2C%2056.728202%5D%2C%20%5B-134.636246%2C%2056.28457%5D%5D%5D%2C%20%5B%5B%5B-134.712923%2C%2058.223407%5D%2C%20%5B-134.373353%2C%2058.14673%5D%2C%20%5B-134.176183%2C%2058.157683%5D%2C%20%5B-134.187137%2C%2058.081006%5D%2C%20%5B-133.902336%2C%2057.807159%5D%2C%20%5B-134.099505%2C%2057.850975%5D%2C%20%5B-134.148798%2C%2057.757867%5D%2C%20%5B-133.935197%2C%2057.615466%5D%2C%20%5B-133.869474%2C%2057.363527%5D%2C%20%5B-134.083075%2C%2057.297804%5D%2C%20%5B-134.154275%2C%2057.210173%5D%2C%20%5B-134.499322%2C%2057.029434%5D%2C%20%5B-134.603384%2C%2057.034911%5D%2C%20%5B-134.6472%2C%2057.226604%5D%2C%20%5B-134.575999%2C%2057.341619%5D%2C%20%5B-134.608861%2C%2057.511404%5D%2C%20%5B-134.729354%2C%2057.719528%5D%2C%20%5B-134.707446%2C%2057.829067%5D%2C%20%5B-134.784123%2C%2058.097437%5D%2C%20%5B-134.91557%2C%2058.212453%5D%2C%20%5B-134.953908%2C%2058.409623%5D%2C%20%5B-134.712923%2C%2058.223407%5D%5D%5D%2C%20%5B%5B%5B-135.857603%2C%2057.330665%5D%2C%20%5B-135.715203%2C%2057.330665%5D%2C%20%5B-135.567326%2C%2057.149926%5D%2C%20%5B-135.633049%2C%2057.023957%5D%2C%20%5B-135.857603%2C%2056.996572%5D%2C%20%5B-135.824742%2C%2057.193742%5D%2C%20%5B-135.857603%2C%2057.330665%5D%5D%5D%2C%20%5B%5B%5B-136.279328%2C%2058.206976%5D%2C%20%5B-135.978096%2C%2058.201499%5D%2C%20%5B-135.780926%2C%2058.28913%5D%2C%20%5B-135.496125%2C%2058.168637%5D%2C%20%5B-135.64948%2C%2058.037191%5D%2C%20%5B-135.59471%2C%2057.987898%5D%2C%20%5B-135.45231%2C%2058.135776%5D%2C%20%5B-135.107263%2C%2058.086483%5D%2C%20%5B-134.91557%2C%2057.976944%5D%2C%20%5B-135.025108%2C%2057.779775%5D%2C%20%5B-134.937477%2C%2057.763344%5D%2C%20%5B-134.822462%2C%2057.500451%5D%2C%20%5B-135.085355%2C%2057.462112%5D%2C%20%5B-135.572802%2C%2057.675713%5D%2C%20%5B-135.556372%2C%2057.456635%5D%2C%20%5B-135.709726%2C%2057.369004%5D%2C%20%5B-135.890465%2C%2057.407343%5D%2C%20%5B-136.000004%2C%2057.544266%5D%2C%20%5B-136.208128%2C%2057.637374%5D%2C%20%5B-136.366959%2C%2057.829067%5D%2C%20%5B-136.569606%2C%2057.916698%5D%2C%20%5B-136.558652%2C%2058.075529%5D%2C%20%5B-136.421728%2C%2058.130299%5D%2C%20%5B-136.377913%2C%2058.267222%5D%2C%20%5B-136.279328%2C%2058.206976%5D%5D%5D%2C%20%5B%5B%5B-147.079854%2C%2060.200582%5D%2C%20%5B-147.501579%2C%2059.948643%5D%2C%20%5B-147.53444%2C%2059.850058%5D%2C%20%5B-147.874011%2C%2059.784335%5D%2C%20%5B-147.80281%2C%2059.937689%5D%2C%20%5B-147.435855%2C%2060.09652%5D%2C%20%5B-147.205824%2C%2060.271782%5D%2C%20%5B-147.079854%2C%2060.200582%5D%5D%5D%2C%20%5B%5B%5B-147.561825%2C%2060.578491%5D%2C%20%5B-147.616594%2C%2060.370367%5D%2C%20%5B-147.758995%2C%2060.156767%5D%2C%20%5B-147.956165%2C%2060.227967%5D%2C%20%5B-147.791856%2C%2060.474429%5D%2C%20%5B-147.561825%2C%2060.578491%5D%5D%5D%2C%20%5B%5B%5B-147.786379%2C%2070.245291%5D%2C%20%5B-147.682318%2C%2070.201475%5D%2C%20%5B-147.162008%2C%2070.15766%5D%2C%20%5B-146.888161%2C%2070.185044%5D%2C%20%5B-146.510252%2C%2070.185044%5D%2C%20%5B-146.099482%2C%2070.146706%5D%2C%20%5B-145.858496%2C%2070.168614%5D%2C%20%5B-145.622988%2C%2070.08646%5D%2C%20%5B-145.195787%2C%2069.993352%5D%2C%20%5B-144.620708%2C%2069.971444%5D%2C%20%5B-144.461877%2C%2070.026213%5D%2C%20%5B-144.078491%2C%2070.059075%5D%2C%20%5B-143.914183%2C%2070.130275%5D%2C%20%5B-143.497935%2C%2070.141229%5D%2C%20%5B-143.503412%2C%2070.091936%5D%2C%20%5B-143.25695%2C%2070.119321%5D%2C%20%5B-142.747594%2C%2070.042644%5D%2C%20%5B-142.402547%2C%2069.916674%5D%2C%20%5B-142.079408%2C%2069.856428%5D%2C%20%5B-142.008207%2C%2069.801659%5D%2C%20%5B-141.712453%2C%2069.790705%5D%2C%20%5B-141.433129%2C%2069.697597%5D%2C%20%5B-141.378359%2C%2069.63735%5D%2C%20%5B-141.208574%2C%2069.686643%5D%2C%20%5B-141.00045%2C%2069.648304%5D%2C%20%5B-141.00045%2C%2060.304644%5D%2C%20%5B-140.53491%2C%2060.22249%5D%2C%20%5B-140.474664%2C%2060.310121%5D%2C%20%5B-139.987216%2C%2060.184151%5D%2C%20%5B-139.696939%2C%2060.342983%5D%2C%20%5B-139.088998%2C%2060.359413%5D%2C%20%5B-139.198537%2C%2060.091043%5D%2C%20%5B-139.045183%2C%2059.997935%5D%2C%20%5B-138.700135%2C%2059.910304%5D%2C%20%5B-138.623458%2C%2059.767904%5D%2C%20%5B-137.604747%2C%2059.242118%5D%2C%20%5B-137.445916%2C%2058.908024%5D%2C%20%5B-137.265177%2C%2059.001132%5D%2C%20%5B-136.827022%2C%2059.159963%5D%2C%20%5B-136.580559%2C%2059.16544%5D%2C%20%5B-136.465544%2C%2059.285933%5D%2C%20%5B-136.476498%2C%2059.466672%5D%2C%20%5B-136.301236%2C%2059.466672%5D%2C%20%5B-136.25742%2C%2059.625503%5D%2C%20%5B-135.945234%2C%2059.663842%5D%2C%20%5B-135.479694%2C%2059.800766%5D%2C%20%5B-135.025108%2C%2059.565257%5D%2C%20%5B-135.068924%2C%2059.422857%5D%2C%20%5B-134.959385%2C%2059.280456%5D%2C%20%5B-134.701969%2C%2059.247595%5D%2C%20%5B-134.378829%2C%2059.033994%5D%2C%20%5B-134.400737%2C%2058.973748%5D%2C%20%5B-134.25286%2C%2058.858732%5D%2C%20%5B-133.842089%2C%2058.727285%5D%2C%20%5B-133.173903%2C%2058.152206%5D%2C%20%5B-133.075318%2C%2057.998852%5D%2C%20%5B-132.867194%2C%2057.845498%5D%2C%20%5B-132.560485%2C%2057.505928%5D%2C%20%5B-132.253777%2C%2057.21565%5D%2C%20%5B-132.368792%2C%2057.095157%5D%2C%20%5B-132.05113%2C%2057.051341%5D%2C%20%5B-132.127807%2C%2056.876079%5D%2C%20%5B-131.870391%2C%2056.804879%5D%2C%20%5B-131.837529%2C%2056.602232%5D%2C%20%5B-131.580113%2C%2056.613186%5D%2C%20%5B-131.087188%2C%2056.405062%5D%2C%20%5B-130.78048%2C%2056.366724%5D%2C%20%5B-130.621648%2C%2056.268139%5D%2C%20%5B-130.468294%2C%2056.240754%5D%2C%20%5B-130.424478%2C%2056.142169%5D%2C%20%5B-130.101339%2C%2056.114785%5D%2C%20%5B-130.002754%2C%2055.994292%5D%2C%20%5B-130.150631%2C%2055.769737%5D%2C%20%5B-130.128724%2C%2055.583521%5D%2C%20%5B-129.986323%2C%2055.276813%5D%2C%20%5B-130.095862%2C%2055.200136%5D%2C%20%5B-130.336847%2C%2054.920812%5D%2C%20%5B-130.687372%2C%2054.718165%5D%2C%20%5B-130.785957%2C%2054.822227%5D%2C%20%5B-130.917403%2C%2054.789365%5D%2C%20%5B-131.010511%2C%2054.997489%5D%2C%20%5B-130.983126%2C%2055.08512%5D%2C%20%5B-131.092665%2C%2055.189182%5D%2C%20%5B-130.862634%2C%2055.298721%5D%2C%20%5B-130.928357%2C%2055.337059%5D%2C%20%5B-131.158389%2C%2055.200136%5D%2C%20%5B-131.284358%2C%2055.287767%5D%2C%20%5B-131.426759%2C%2055.238474%5D%2C%20%5B-131.843006%2C%2055.457552%5D%2C%20%5B-131.700606%2C%2055.698537%5D%2C%20%5B-131.963499%2C%2055.616383%5D%2C%20%5B-131.974453%2C%2055.49589%5D%2C%20%5B-132.182576%2C%2055.588998%5D%2C%20%5B-132.226392%2C%2055.704014%5D%2C%20%5B-132.083991%2C%2055.829984%5D%2C%20%5B-132.127807%2C%2055.955953%5D%2C%20%5B-132.324977%2C%2055.851892%5D%2C%20%5B-132.522147%2C%2056.076446%5D%2C%20%5B-132.642639%2C%2056.032631%5D%2C%20%5B-132.719317%2C%2056.218847%5D%2C%20%5B-132.527624%2C%2056.339339%5D%2C%20%5B-132.341408%2C%2056.339339%5D%2C%20%5B-132.396177%2C%2056.487217%5D%2C%20%5B-132.297592%2C%2056.67891%5D%2C%20%5B-132.450946%2C%2056.673433%5D%2C%20%5B-132.768609%2C%2056.837741%5D%2C%20%5B-132.993164%2C%2057.034911%5D%2C%20%5B-133.51895%2C%2057.177311%5D%2C%20%5B-133.507996%2C%2057.577128%5D%2C%20%5B-133.677781%2C%2057.62642%5D%2C%20%5B-133.639442%2C%2057.790728%5D%2C%20%5B-133.814705%2C%2057.834544%5D%2C%20%5B-134.072121%2C%2058.053622%5D%2C%20%5B-134.143321%2C%2058.168637%5D%2C%20%5B-134.586953%2C%2058.206976%5D%2C%20%5B-135.074401%2C%2058.502731%5D%2C%20%5B-135.282525%2C%2059.192825%5D%2C%20%5B-135.38111%2C%2059.033994%5D%2C%20%5B-135.337294%2C%2058.891593%5D%2C%20%5B-135.140124%2C%2058.617746%5D%2C%20%5B-135.189417%2C%2058.573931%5D%2C%20%5B-135.05797%2C%2058.349376%5D%2C%20%5B-135.085355%2C%2058.201499%5D%2C%20%5B-135.277048%2C%2058.234361%5D%2C%20%5B-135.430402%2C%2058.398669%5D%2C%20%5B-135.633049%2C%2058.426053%5D%2C%20%5B-135.91785%2C%2058.382238%5D%2C%20%5B-135.912373%2C%2058.617746%5D%2C%20%5B-136.087635%2C%2058.814916%5D%2C%20%5B-136.246466%2C%2058.75467%5D%2C%20%5B-136.876314%2C%2058.962794%5D%2C%20%5B-136.931084%2C%2058.902547%5D%2C%20%5B-136.586036%2C%2058.836824%5D%2C%20%5B-136.317666%2C%2058.672516%5D%2C%20%5B-136.213604%2C%2058.667039%5D%2C%20%5B-136.180743%2C%2058.535592%5D%2C%20%5B-136.043819%2C%2058.382238%5D%2C%20%5B-136.388867%2C%2058.294607%5D%2C%20%5B-136.591513%2C%2058.349376%5D%2C%20%5B-136.59699%2C%2058.212453%5D%2C%20%5B-136.859883%2C%2058.316515%5D%2C%20%5B-136.947514%2C%2058.393192%5D%2C%20%5B-137.111823%2C%2058.393192%5D%2C%20%5B-137.566409%2C%2058.590362%5D%2C%20%5B-137.900502%2C%2058.765624%5D%2C%20%5B-137.933364%2C%2058.869686%5D%2C%20%5B-138.11958%2C%2059.02304%5D%2C%20%5B-138.634412%2C%2059.132579%5D%2C%20%5B-138.919213%2C%2059.247595%5D%2C%20%5B-139.417615%2C%2059.379041%5D%2C%20%5B-139.746231%2C%2059.505011%5D%2C%20%5B-139.718846%2C%2059.641934%5D%2C%20%5B-139.625738%2C%2059.598119%5D%2C%20%5B-139.5162%2C%2059.68575%5D%2C%20%5B-139.625738%2C%2059.88292%5D%2C%20%5B-139.488815%2C%2059.992458%5D%2C%20%5B-139.554538%2C%2060.041751%5D%2C%20%5B-139.801%2C%2059.833627%5D%2C%20%5B-140.315833%2C%2059.696704%5D%2C%20%5B-140.92925%2C%2059.745996%5D%2C%20%5B-141.444083%2C%2059.871966%5D%2C%20%5B-141.46599%2C%2059.970551%5D%2C%20%5B-141.706976%2C%2059.948643%5D%2C%20%5B-141.964392%2C%2060.019843%5D%2C%20%5B-142.539471%2C%2060.085566%5D%2C%20%5B-142.873564%2C%2060.091043%5D%2C%20%5B-143.623905%2C%2060.036274%5D%2C%20%5B-143.892275%2C%2059.997935%5D%2C%20%5B-144.231845%2C%2060.140336%5D%2C%20%5B-144.65357%2C%2060.206059%5D%2C%20%5B-144.785016%2C%2060.29369%5D%2C%20%5B-144.834309%2C%2060.441568%5D%2C%20%5B-145.124586%2C%2060.430614%5D%2C%20%5B-145.223171%2C%2060.299167%5D%2C%20%5B-145.738004%2C%2060.474429%5D%2C%20%5B-145.820158%2C%2060.551106%5D%2C%20%5B-146.351421%2C%2060.408706%5D%2C%20%5B-146.608837%2C%2060.238921%5D%2C%20%5B-146.718376%2C%2060.397752%5D%2C%20%5B-146.608837%2C%2060.485383%5D%2C%20%5B-146.455483%2C%2060.463475%5D%2C%20%5B-145.951604%2C%2060.578491%5D%2C%20%5B-146.017328%2C%2060.666122%5D%2C%20%5B-146.252836%2C%2060.622307%5D%2C%20%5B-146.345944%2C%2060.737322%5D%2C%20%5B-146.565022%2C%2060.753753%5D%2C%20%5B-146.784099%2C%2061.044031%5D%2C%20%5B-146.866253%2C%2060.972831%5D%2C%20%5B-147.172962%2C%2060.934492%5D%2C%20%5B-147.271547%2C%2060.972831%5D%2C%20%5B-147.375609%2C%2060.879723%5D%2C%20%5B-147.758995%2C%2060.912584%5D%2C%20%5B-147.775426%2C%2060.808523%5D%2C%20%5B-148.032842%2C%2060.781138%5D%2C%20%5B-148.153334%2C%2060.819476%5D%2C%20%5B-148.065703%2C%2061.005692%5D%2C%20%5B-148.175242%2C%2061.000215%5D%2C%20%5B-148.350504%2C%2060.803046%5D%2C%20%5B-148.109519%2C%2060.737322%5D%2C%20%5B-148.087611%2C%2060.594922%5D%2C%20%5B-147.939734%2C%2060.441568%5D%2C%20%5B-148.027365%2C%2060.277259%5D%2C%20%5B-148.219058%2C%2060.332029%5D%2C%20%5B-148.273827%2C%2060.249875%5D%2C%20%5B-148.087611%2C%2060.217013%5D%2C%20%5B-147.983549%2C%2059.997935%5D%2C%20%5B-148.251919%2C%2059.95412%5D%2C%20%5B-148.399797%2C%2059.997935%5D%2C%20%5B-148.635305%2C%2059.937689%5D%2C%20%5B-148.755798%2C%2059.986981%5D%2C%20%5B-149.067984%2C%2059.981505%5D%2C%20%5B-149.05703%2C%2060.063659%5D%2C%20%5B-149.204907%2C%2060.008889%5D%2C%20%5B-149.287061%2C%2059.904827%5D%2C%20%5B-149.418508%2C%2059.997935%5D%2C%20%5B-149.582816%2C%2059.866489%5D%2C%20%5B-149.511616%2C%2059.806242%5D%2C%20%5B-149.741647%2C%2059.729565%5D%2C%20%5B-149.949771%2C%2059.718611%5D%2C%20%5B-150.031925%2C%2059.61455%5D%2C%20%5B-150.25648%2C%2059.521442%5D%2C%20%5B-150.409834%2C%2059.554303%5D%2C%20%5B-150.579619%2C%2059.444764%5D%2C%20%5B-150.716543%2C%2059.450241%5D%2C%20%5B-151.001343%2C%2059.225687%5D%2C%20%5B-151.308052%2C%2059.209256%5D%2C%20%5B-151.406637%2C%2059.280456%5D%2C%20%5B-151.592853%2C%2059.159963%5D%2C%20%5B-151.976239%2C%2059.253071%5D%2C%20%5B-151.888608%2C%2059.422857%5D%2C%20%5B-151.636669%2C%2059.483103%5D%2C%20%5B-151.47236%2C%2059.472149%5D%2C%20%5B-151.423068%2C%2059.537872%5D%2C%20%5B-151.127313%2C%2059.669319%5D%2C%20%5B-151.116359%2C%2059.778858%5D%2C%20%5B-151.505222%2C%2059.63098%5D%2C%20%5B-151.828361%2C%2059.718611%5D%2C%20%5B-151.8667%2C%2059.778858%5D%2C%20%5B-151.702392%2C%2060.030797%5D%2C%20%5B-151.423068%2C%2060.211536%5D%2C%20%5B-151.379252%2C%2060.359413%5D%2C%20%5B-151.297098%2C%2060.386798%5D%2C%20%5B-151.264237%2C%2060.545629%5D%2C%20%5B-151.406637%2C%2060.720892%5D%2C%20%5B-151.06159%2C%2060.786615%5D%2C%20%5B-150.404357%2C%2061.038554%5D%2C%20%5B-150.245526%2C%2060.939969%5D%2C%20%5B-150.042879%2C%2060.912584%5D%2C%20%5B-149.741647%2C%2061.016646%5D%2C%20%5B-150.075741%2C%2061.15357%5D%2C%20%5B-150.207187%2C%2061.257632%5D%2C%20%5B-150.47008%2C%2061.246678%5D%2C%20%5B-150.656296%2C%2061.29597%5D%2C%20%5B-150.711066%2C%2061.252155%5D%2C%20%5B-151.023251%2C%2061.180954%5D%2C%20%5B-151.165652%2C%2061.044031%5D%2C%20%5B-151.477837%2C%2061.011169%5D%2C%20%5B-151.800977%2C%2060.852338%5D%2C%20%5B-151.833838%2C%2060.748276%5D%2C%20%5B-152.080301%2C%2060.693507%5D%2C%20%5B-152.13507%2C%2060.578491%5D%2C%20%5B-152.310332%2C%2060.507291%5D%2C%20%5B-152.392486%2C%2060.304644%5D%2C%20%5B-152.732057%2C%2060.173197%5D%2C%20%5B-152.567748%2C%2060.069136%5D%2C%20%5B-152.704672%2C%2059.915781%5D%2C%20%5B-153.022334%2C%2059.888397%5D%2C%20%5B-153.049719%2C%2059.691227%5D%2C%20%5B-153.345474%2C%2059.620026%5D%2C%20%5B-153.438582%2C%2059.702181%5D%2C%20%5B-153.586459%2C%2059.548826%5D%2C%20%5B-153.761721%2C%2059.543349%5D%2C%20%5B-153.72886%2C%2059.433811%5D%2C%20%5B-154.117723%2C%2059.368087%5D%2C%20%5B-154.1944%2C%2059.066856%5D%2C%20%5B-153.750768%2C%2059.050425%5D%2C%20%5B-153.400243%2C%2058.968271%5D%2C%20%5B-153.301658%2C%2058.869686%5D%2C%20%5B-153.444059%2C%2058.710854%5D%2C%20%5B-153.679567%2C%2058.612269%5D%2C%20%5B-153.898645%2C%2058.606793%5D%2C%20%5B-153.920553%2C%2058.519161%5D%2C%20%5B-154.062953%2C%2058.4863%5D%2C%20%5B-153.99723%2C%2058.376761%5D%2C%20%5B-154.145107%2C%2058.212453%5D%2C%20%5B-154.46277%2C%2058.059098%5D%2C%20%5B-154.643509%2C%2058.059098%5D%2C%20%5B-154.818771%2C%2058.004329%5D%2C%20%5B-154.988556%2C%2058.015283%5D%2C%20%5B-155.120003%2C%2057.955037%5D%2C%20%5B-155.081664%2C%2057.872883%5D%2C%20%5B-155.328126%2C%2057.829067%5D%2C%20%5B-155.377419%2C%2057.708574%5D%2C%20%5B-155.547204%2C%2057.785251%5D%2C%20%5B-155.73342%2C%2057.549743%5D%2C%20%5B-156.045606%2C%2057.566174%5D%2C%20%5B-156.023698%2C%2057.440204%5D%2C%20%5B-156.209914%2C%2057.473066%5D%2C%20%5B-156.34136%2C%2057.418296%5D%2C%20%5B-156.34136%2C%2057.248511%5D%2C%20%5B-156.549484%2C%2056.985618%5D%2C%20%5B-156.883577%2C%2056.952757%5D%2C%20%5B-157.157424%2C%2056.832264%5D%2C%20%5B-157.20124%2C%2056.766541%5D%2C%20%5B-157.376502%2C%2056.859649%5D%2C%20%5B-157.672257%2C%2056.607709%5D%2C%20%5B-157.754411%2C%2056.67891%5D%2C%20%5B-157.918719%2C%2056.657002%5D%2C%20%5B-157.957058%2C%2056.514601%5D%2C%20%5B-158.126843%2C%2056.459832%5D%2C%20%5B-158.32949%2C%2056.48174%5D%2C%20%5B-158.488321%2C%2056.339339%5D%2C%20%5B-158.208997%2C%2056.295524%5D%2C%20%5B-158.510229%2C%2055.977861%5D%2C%20%5B-159.375585%2C%2055.873799%5D%2C%20%5B-159.616571%2C%2055.594475%5D%2C%20%5B-159.676817%2C%2055.654722%5D%2C%20%5B-159.643955%2C%2055.829984%5D%2C%20%5B-159.813741%2C%2055.857368%5D%2C%20%5B-160.027341%2C%2055.791645%5D%2C%20%5B-160.060203%2C%2055.720445%5D%2C%20%5B-160.394296%2C%2055.605429%5D%2C%20%5B-160.536697%2C%2055.473983%5D%2C%20%5B-160.580512%2C%2055.567091%5D%2C%20%5B-160.668143%2C%2055.457552%5D%2C%20%5B-160.865313%2C%2055.528752%5D%2C%20%5B-161.232268%2C%2055.358967%5D%2C%20%5B-161.506115%2C%2055.364444%5D%2C%20%5B-161.467776%2C%2055.49589%5D%2C%20%5B-161.588269%2C%2055.62186%5D%2C%20%5B-161.697808%2C%2055.517798%5D%2C%20%5B-161.686854%2C%2055.408259%5D%2C%20%5B-162.053809%2C%2055.074166%5D%2C%20%5B-162.179779%2C%2055.15632%5D%2C%20%5B-162.218117%2C%2055.03035%5D%2C%20%5B-162.470057%2C%2055.052258%5D%2C%20%5B-162.508395%2C%2055.249428%5D%2C%20%5B-162.661749%2C%2055.293244%5D%2C%20%5B-162.716519%2C%2055.222043%5D%2C%20%5B-162.579595%2C%2055.134412%5D%2C%20%5B-162.645319%2C%2054.997489%5D%2C%20%5B-162.847965%2C%2054.926289%5D%2C%20%5B-163.00132%2C%2055.079643%5D%2C%20%5B-163.187536%2C%2055.090597%5D%2C%20%5B-163.220397%2C%2055.03035%5D%2C%20%5B-163.034181%2C%2054.942719%5D%2C%20%5B-163.373752%2C%2054.800319%5D%2C%20%5B-163.14372%2C%2054.76198%5D%2C%20%5B-163.138243%2C%2054.696257%5D%2C%20%5B-163.329936%2C%2054.74555%5D%2C%20%5B-163.587352%2C%2054.614103%5D%2C%20%5B-164.085754%2C%2054.61958%5D%2C%20%5B-164.332216%2C%2054.531949%5D%2C%20%5B-164.354124%2C%2054.466226%5D%2C%20%5B-164.638925%2C%2054.389548%5D%2C%20%5B-164.847049%2C%2054.416933%5D%2C%20%5B-164.918249%2C%2054.603149%5D%2C%20%5B-164.710125%2C%2054.663395%5D%2C%20%5B-164.551294%2C%2054.88795%5D%2C%20%5B-164.34317%2C%2054.893427%5D%2C%20%5B-163.894061%2C%2055.041304%5D%2C%20%5B-163.532583%2C%2055.046781%5D%2C%20%5B-163.39566%2C%2054.904381%5D%2C%20%5B-163.291598%2C%2055.008443%5D%2C%20%5B-163.313505%2C%2055.128935%5D%2C%20%5B-163.105382%2C%2055.183705%5D%2C%20%5B-162.880827%2C%2055.183705%5D%2C%20%5B-162.579595%2C%2055.446598%5D%2C%20%5B-162.245502%2C%2055.682106%5D%2C%20%5B-161.807347%2C%2055.89023%5D%2C%20%5B-161.292514%2C%2055.983338%5D%2C%20%5B-161.078914%2C%2055.939523%5D%2C%20%5B-160.87079%2C%2055.999769%5D%2C%20%5B-160.816021%2C%2055.912138%5D%2C%20%5B-160.931036%2C%2055.813553%5D%2C%20%5B-160.805067%2C%2055.736876%5D%2C%20%5B-160.766728%2C%2055.857368%5D%2C%20%5B-160.509312%2C%2055.868322%5D%2C%20%5B-160.438112%2C%2055.791645%5D%2C%20%5B-160.27928%2C%2055.76426%5D%2C%20%5B-160.273803%2C%2055.857368%5D%2C%20%5B-160.536697%2C%2055.939523%5D%2C%20%5B-160.558604%2C%2055.994292%5D%2C%20%5B-160.383342%2C%2056.251708%5D%2C%20%5B-160.147834%2C%2056.399586%5D%2C%20%5B-159.830171%2C%2056.541986%5D%2C%20%5B-159.326293%2C%2056.667956%5D%2C%20%5B-158.959338%2C%2056.848695%5D%2C%20%5B-158.784076%2C%2056.782971%5D%2C%20%5B-158.641675%2C%2056.810356%5D%2C%20%5B-158.701922%2C%2056.925372%5D%2C%20%5B-158.658106%2C%2057.034911%5D%2C%20%5B-158.378782%2C%2057.264942%5D%2C%20%5B-157.995396%2C%2057.41282%5D%2C%20%5B-157.688688%2C%2057.609989%5D%2C%20%5B-157.705118%2C%2057.719528%5D%2C%20%5B-157.458656%2C%2058.497254%5D%2C%20%5B-157.07527%2C%2058.705377%5D%2C%20%5B-157.119086%2C%2058.869686%5D%2C%20%5B-158.039212%2C%2058.634177%5D%2C%20%5B-158.32949%2C%2058.661562%5D%2C%20%5B-158.40069%2C%2058.760147%5D%2C%20%5B-158.564998%2C%2058.803962%5D%2C%20%5B-158.619768%2C%2058.913501%5D%2C%20%5B-158.767645%2C%2058.864209%5D%2C%20%5B-158.860753%2C%2058.694424%5D%2C%20%5B-158.701922%2C%2058.480823%5D%2C%20%5B-158.893615%2C%2058.387715%5D%2C%20%5B-159.0634%2C%2058.420577%5D%2C%20%5B-159.392016%2C%2058.760147%5D%2C%20%5B-159.616571%2C%2058.929932%5D%2C%20%5B-159.731586%2C%2058.929932%5D%2C%20%5B-159.808264%2C%2058.803962%5D%2C%20%5B-159.906848%2C%2058.782055%5D%2C%20%5B-160.054726%2C%2058.886116%5D%2C%20%5B-160.235465%2C%2058.902547%5D%2C%20%5B-160.317619%2C%2059.072332%5D%2C%20%5B-160.854359%2C%2058.88064%5D%2C%20%5B-161.33633%2C%2058.743716%5D%2C%20%5B-161.374669%2C%2058.667039%5D%2C%20%5B-161.752577%2C%2058.552023%5D%2C%20%5B-161.938793%2C%2058.656085%5D%2C%20%5B-161.769008%2C%2058.776578%5D%2C%20%5B-161.829255%2C%2059.061379%5D%2C%20%5B-161.955224%2C%2059.36261%5D%2C%20%5B-161.703285%2C%2059.48858%5D%2C%20%5B-161.911409%2C%2059.740519%5D%2C%20%5B-162.092148%2C%2059.88292%5D%2C%20%5B-162.234548%2C%2060.091043%5D%2C%20%5B-162.448149%2C%2060.178674%5D%2C%20%5B-162.502918%2C%2059.997935%5D%2C%20%5B-162.760334%2C%2059.959597%5D%2C%20%5B-163.171105%2C%2059.844581%5D%2C%20%5B-163.66403%2C%2059.795289%5D%2C%20%5B-163.9324%2C%2059.806242%5D%2C%20%5B-164.162431%2C%2059.866489%5D%2C%20%5B-164.189816%2C%2060.02532%5D%2C%20%5B-164.386986%2C%2060.074613%5D%2C%20%5B-164.699171%2C%2060.29369%5D%2C%20%5B-164.962064%2C%2060.337506%5D%2C%20%5B-165.268773%2C%2060.578491%5D%2C%20%5B-165.060649%2C%2060.68803%5D%2C%20%5B-165.016834%2C%2060.890677%5D%2C%20%5B-165.175665%2C%2060.846861%5D%2C%20%5B-165.197573%2C%2060.972831%5D%2C%20%5B-165.120896%2C%2061.076893%5D%2C%20%5B-165.323543%2C%2061.170001%5D%2C%20%5B-165.34545%2C%2061.071416%5D%2C%20%5B-165.591913%2C%2061.109754%5D%2C%20%5B-165.624774%2C%2061.279539%5D%2C%20%5B-165.816467%2C%2061.301447%5D%2C%20%5B-165.920529%2C%2061.416463%5D%2C%20%5B-165.915052%2C%2061.558863%5D%2C%20%5B-166.106745%2C%2061.49314%5D%2C%20%5B-166.139607%2C%2061.630064%5D%2C%20%5B-165.904098%2C%2061.662925%5D%2C%20%5B-166.095791%2C%2061.81628%5D%2C%20%5B-165.756221%2C%2061.827233%5D%2C%20%5B-165.756221%2C%2062.013449%5D%2C%20%5B-165.674067%2C%2062.139419%5D%2C%20%5B-165.044219%2C%2062.539236%5D%2C%20%5B-164.912772%2C%2062.659728%5D%2C%20%5B-164.819664%2C%2062.637821%5D%2C%20%5B-164.874433%2C%2062.807606%5D%2C%20%5B-164.633448%2C%2063.097884%5D%2C%20%5B-164.425324%2C%2063.212899%5D%2C%20%5B-164.036462%2C%2063.262192%5D%2C%20%5B-163.73523%2C%2063.212899%5D%2C%20%5B-163.313505%2C%2063.037637%5D%2C%20%5B-163.039658%2C%2063.059545%5D%2C%20%5B-162.661749%2C%2063.22933%5D%2C%20%5B-162.272887%2C%2063.486746%5D%2C%20%5B-162.075717%2C%2063.514131%5D%2C%20%5B-162.026424%2C%2063.448408%5D%2C%20%5B-161.555408%2C%2063.448408%5D%2C%20%5B-161.13916%2C%2063.503177%5D%2C%20%5B-160.766728%2C%2063.771547%5D%2C%20%5B-160.766728%2C%2063.837271%5D%2C%20%5B-160.952944%2C%2064.08921%5D%2C%20%5B-160.974852%2C%2064.237087%5D%2C%20%5B-161.26513%2C%2064.395918%5D%2C%20%5B-161.374669%2C%2064.532842%5D%2C%20%5B-161.078914%2C%2064.494503%5D%2C%20%5B-160.79959%2C%2064.609519%5D%2C%20%5B-160.783159%2C%2064.719058%5D%2C%20%5B-161.144637%2C%2064.921705%5D%2C%20%5B-161.413007%2C%2064.762873%5D%2C%20%5B-161.664946%2C%2064.790258%5D%2C%20%5B-161.900455%2C%2064.702627%5D%2C%20%5B-162.168825%2C%2064.680719%5D%2C%20%5B-162.234548%2C%2064.620473%5D%2C%20%5B-162.541257%2C%2064.532842%5D%2C%20%5B-162.634365%2C%2064.384965%5D%2C%20%5B-162.787719%2C%2064.324718%5D%2C%20%5B-162.858919%2C%2064.49998%5D%2C%20%5B-163.045135%2C%2064.538319%5D%2C%20%5B-163.176582%2C%2064.401395%5D%2C%20%5B-163.253259%2C%2064.467119%5D%2C%20%5B-163.598306%2C%2064.565704%5D%2C%20%5B-164.304832%2C%2064.560227%5D%2C%20%5B-164.80871%2C%2064.450688%5D%2C%20%5B-165.000403%2C%2064.434257%5D%2C%20%5B-165.411174%2C%2064.49998%5D%2C%20%5B-166.188899%2C%2064.576658%5D%2C%20%5B-166.391546%2C%2064.636904%5D%2C%20%5B-166.484654%2C%2064.735489%5D%2C%20%5B-166.413454%2C%2064.872412%5D%2C%20%5B-166.692778%2C%2064.987428%5D%2C%20%5B-166.638008%2C%2065.113398%5D%2C%20%5B-166.462746%2C%2065.179121%5D%2C%20%5B-166.517516%2C%2065.337952%5D%2C%20%5B-166.796839%2C%2065.337952%5D%2C%20%5B-167.026871%2C%2065.381768%5D%2C%20%5B-167.47598%2C%2065.414629%5D%2C%20%5B-167.711489%2C%2065.496784%5D%2C%20%5B-168.072967%2C%2065.578938%5D%2C%20%5B-168.105828%2C%2065.682999%5D%2C%20%5B-167.541703%2C%2065.819923%5D%2C%20%5B-166.829701%2C%2066.049954%5D%2C%20%5B-166.3313%2C%2066.186878%5D%2C%20%5B-166.046499%2C%2066.110201%5D%2C%20%5B-165.756221%2C%2066.09377%5D%2C%20%5B-165.690498%2C%2066.203309%5D%2C%20%5B-165.86576%2C%2066.21974%5D%2C%20%5B-165.88219%2C%2066.312848%5D%2C%20%5B-165.186619%2C%2066.466202%5D%2C%20%5B-164.403417%2C%2066.581218%5D%2C%20%5B-163.981692%2C%2066.592172%5D%2C%20%5B-163.751661%2C%2066.553833%5D%2C%20%5B-163.872153%2C%2066.389525%5D%2C%20%5B-163.828338%2C%2066.274509%5D%2C%20%5B-163.915969%2C%2066.192355%5D%2C%20%5B-163.768091%2C%2066.060908%5D%2C%20%5B-163.494244%2C%2066.082816%5D%2C%20%5B-163.149197%2C%2066.060908%5D%2C%20%5B-162.749381%2C%2066.088293%5D%2C%20%5B-162.634365%2C%2066.039001%5D%2C%20%5B-162.371472%2C%2066.028047%5D%2C%20%5B-162.14144%2C%2066.077339%5D%2C%20%5B-161.840208%2C%2066.02257%5D%2C%20%5B-161.549931%2C%2066.241647%5D%2C%20%5B-161.341807%2C%2066.252601%5D%2C%20%5B-161.199406%2C%2066.208786%5D%2C%20%5B-161.128206%2C%2066.334755%5D%2C%20%5B-161.528023%2C%2066.395002%5D%2C%20%5B-161.911409%2C%2066.345709%5D%2C%20%5B-161.87307%2C%2066.510017%5D%2C%20%5B-162.174302%2C%2066.68528%5D%2C%20%5B-162.502918%2C%2066.740049%5D%2C%20%5B-162.601503%2C%2066.89888%5D%2C%20%5B-162.344087%2C%2066.937219%5D%2C%20%5B-162.015471%2C%2066.778388%5D%2C%20%5B-162.075717%2C%2066.652418%5D%2C%20%5B-161.916886%2C%2066.553833%5D%2C%20%5B-161.571838%2C%2066.438817%5D%2C%20%5B-161.489684%2C%2066.55931%5D%2C%20%5B-161.884024%2C%2066.718141%5D%2C%20%5B-161.714239%2C%2067.002942%5D%2C%20%5B-161.851162%2C%2067.052235%5D%2C%20%5B-162.240025%2C%2066.991988%5D%2C%20%5B-162.639842%2C%2067.008419%5D%2C%20%5B-162.700088%2C%2067.057712%5D%2C%20%5B-162.902735%2C%2067.008419%5D%2C%20%5B-163.740707%2C%2067.128912%5D%2C%20%5B-163.757138%2C%2067.254881%5D%2C%20%5B-164.009077%2C%2067.534205%5D%2C%20%5B-164.211724%2C%2067.638267%5D%2C%20%5B-164.534863%2C%2067.725898%5D%2C%20%5B-165.192096%2C%2067.966884%5D%2C%20%5B-165.493328%2C%2068.059992%5D%2C%20%5B-165.794559%2C%2068.081899%5D%2C%20%5B-166.243668%2C%2068.246208%5D%2C%20%5B-166.681824%2C%2068.339316%5D%2C%20%5B-166.703731%2C%2068.372177%5D%2C%20%5B-166.375115%2C%2068.42147%5D%2C%20%5B-166.227238%2C%2068.574824%5D%2C%20%5B-166.216284%2C%2068.881533%5D%2C%20%5B-165.329019%2C%2068.859625%5D%2C%20%5B-164.255539%2C%2068.930825%5D%2C%20%5B-163.976215%2C%2068.985595%5D%2C%20%5B-163.532583%2C%2069.138949%5D%2C%20%5B-163.110859%2C%2069.374457%5D%2C%20%5B-163.023228%2C%2069.609966%5D%2C%20%5B-162.842489%2C%2069.812613%5D%2C%20%5B-162.470057%2C%2069.982398%5D%2C%20%5B-162.311225%2C%2070.108367%5D%2C%20%5B-161.851162%2C%2070.311014%5D%2C%20%5B-161.779962%2C%2070.256245%5D%2C%20%5B-161.396576%2C%2070.239814%5D%2C%20%5B-160.837928%2C%2070.343876%5D%2C%20%5B-160.487404%2C%2070.453415%5D%2C%20%5B-159.649432%2C%2070.792985%5D%2C%20%5B-159.33177%2C%2070.809416%5D%2C%20%5B-159.298908%2C%2070.760123%5D%2C%20%5B-158.975769%2C%2070.798462%5D%2C%20%5B-158.658106%2C%2070.787508%5D%2C%20%5B-158.033735%2C%2070.831323%5D%2C%20%5B-157.420318%2C%2070.979201%5D%2C%20%5B-156.812377%2C%2071.285909%5D%2C%20%5B-156.565915%2C%2071.351633%5D%2C%20%5B-156.522099%2C%2071.296863%5D%2C%20%5B-155.585543%2C%2071.170894%5D%2C%20%5B-155.508865%2C%2071.083263%5D%2C%20%5B-155.832005%2C%2070.968247%5D%2C%20%5B-155.979882%2C%2070.96277%5D%2C%20%5B-155.974405%2C%2070.809416%5D%2C%20%5B-155.503388%2C%2070.858708%5D%2C%20%5B-155.476004%2C%2070.940862%5D%2C%20%5B-155.262403%2C%2071.017539%5D%2C%20%5B-155.191203%2C%2070.973724%5D%2C%20%5B-155.032372%2C%2071.148986%5D%2C%20%5B-154.566832%2C%2070.990155%5D%2C%20%5B-154.643509%2C%2070.869662%5D%2C%20%5B-154.353231%2C%2070.8368%5D%2C%20%5B-154.183446%2C%2070.7656%5D%2C%20%5B-153.931507%2C%2070.880616%5D%2C%20%5B-153.487874%2C%2070.886093%5D%2C%20%5B-153.235935%2C%2070.924431%5D%2C%20%5B-152.589656%2C%2070.886093%5D%2C%20%5B-152.26104%2C%2070.842277%5D%2C%20%5B-152.419871%2C%2070.606769%5D%2C%20%5B-151.817408%2C%2070.546523%5D%2C%20%5B-151.773592%2C%2070.486276%5D%2C%20%5B-151.187559%2C%2070.382214%5D%2C%20%5B-151.182082%2C%2070.431507%5D%2C%20%5B-150.760358%2C%2070.49723%5D%2C%20%5B-150.355064%2C%2070.491753%5D%2C%20%5B-150.349588%2C%2070.436984%5D%2C%20%5B-150.114079%2C%2070.431507%5D%2C%20%5B-149.867617%2C%2070.508184%5D%2C%20%5B-149.462323%2C%2070.519138%5D%2C%20%5B-149.177522%2C%2070.486276%5D%2C%20%5B-148.78866%2C%2070.404122%5D%2C%20%5B-148.607921%2C%2070.420553%5D%2C%20%5B-148.350504%2C%2070.305537%5D%2C%20%5B-148.202627%2C%2070.349353%5D%2C%20%5B-147.961642%2C%2070.316491%5D%2C%20%5B-147.786379%2C%2070.245291%5D%5D%5D%2C%20%5B%5B%5B-152.94018%2C%2058.026237%5D%2C%20%5B-152.945657%2C%2057.982421%5D%2C%20%5B-153.290705%2C%2058.048145%5D%2C%20%5B-153.044242%2C%2058.305561%5D%2C%20%5B-152.819688%2C%2058.327469%5D%2C%20%5B-152.666333%2C%2058.562977%5D%2C%20%5B-152.496548%2C%2058.354853%5D%2C%20%5B-152.354148%2C%2058.426053%5D%2C%20%5B-152.080301%2C%2058.311038%5D%2C%20%5B-152.080301%2C%2058.152206%5D%2C%20%5B-152.480117%2C%2058.130299%5D%2C%20%5B-152.655379%2C%2058.059098%5D%2C%20%5B-152.94018%2C%2058.026237%5D%5D%5D%2C%20%5B%5B%5B-153.958891%2C%2057.538789%5D%2C%20%5B-153.67409%2C%2057.670236%5D%2C%20%5B-153.931507%2C%2057.69762%5D%2C%20%5B-153.936983%2C%2057.812636%5D%2C%20%5B-153.723383%2C%2057.889313%5D%2C%20%5B-153.570028%2C%2057.834544%5D%2C%20%5B-153.548121%2C%2057.719528%5D%2C%20%5B-153.46049%2C%2057.796205%5D%2C%20%5B-153.455013%2C%2057.96599%5D%2C%20%5B-153.268797%2C%2057.889313%5D%2C%20%5B-153.235935%2C%2057.998852%5D%2C%20%5B-153.071627%2C%2057.933129%5D%2C%20%5B-152.874457%2C%2057.933129%5D%2C%20%5B-152.721103%2C%2057.993375%5D%2C%20%5B-152.469163%2C%2057.889313%5D%2C%20%5B-152.469163%2C%2057.599035%5D%2C%20%5B-152.151501%2C%2057.620943%5D%2C%20%5B-152.359625%2C%2057.42925%5D%2C%20%5B-152.74301%2C%2057.505928%5D%2C%20%5B-152.60061%2C%2057.379958%5D%2C%20%5B-152.710149%2C%2057.275896%5D%2C%20%5B-152.907319%2C%2057.325188%5D%2C%20%5B-152.912796%2C%2057.128019%5D%2C%20%5B-153.214027%2C%2057.073249%5D%2C%20%5B-153.312612%2C%2056.991095%5D%2C%20%5B-153.498828%2C%2057.067772%5D%2C%20%5B-153.695998%2C%2056.859649%5D%2C%20%5B-153.849352%2C%2056.837741%5D%2C%20%5B-154.013661%2C%2056.744633%5D%2C%20%5B-154.073907%2C%2056.969187%5D%2C%20%5B-154.303938%2C%2056.848695%5D%2C%20%5B-154.314892%2C%2056.919895%5D%2C%20%5B-154.523016%2C%2056.991095%5D%2C%20%5B-154.539447%2C%2057.193742%5D%2C%20%5B-154.742094%2C%2057.275896%5D%2C%20%5B-154.627078%2C%2057.511404%5D%2C%20%5B-154.227261%2C%2057.659282%5D%2C%20%5B-153.980799%2C%2057.648328%5D%2C%20%5B-153.958891%2C%2057.538789%5D%5D%5D%2C%20%5B%5B%5B-154.53397%2C%2056.602232%5D%2C%20%5B-154.742094%2C%2056.399586%5D%2C%20%5B-154.807817%2C%2056.432447%5D%2C%20%5B-154.53397%2C%2056.602232%5D%5D%5D%2C%20%5B%5B%5B-155.634835%2C%2055.923092%5D%2C%20%5B-155.476004%2C%2055.912138%5D%2C%20%5B-155.530773%2C%2055.704014%5D%2C%20%5B-155.793666%2C%2055.731399%5D%2C%20%5B-155.837482%2C%2055.802599%5D%2C%20%5B-155.634835%2C%2055.923092%5D%5D%5D%2C%20%5B%5B%5B-159.890418%2C%2055.28229%5D%2C%20%5B-159.950664%2C%2055.068689%5D%2C%20%5B-160.257373%2C%2054.893427%5D%2C%20%5B-160.109495%2C%2055.161797%5D%2C%20%5B-160.005433%2C%2055.134412%5D%2C%20%5B-159.890418%2C%2055.28229%5D%5D%5D%2C%20%5B%5B%5B-160.520266%2C%2055.358967%5D%2C%20%5B-160.33405%2C%2055.358967%5D%2C%20%5B-160.339527%2C%2055.249428%5D%2C%20%5B-160.525743%2C%2055.128935%5D%2C%20%5B-160.690051%2C%2055.211089%5D%2C%20%5B-160.794113%2C%2055.134412%5D%2C%20%5B-160.854359%2C%2055.320628%5D%2C%20%5B-160.79959%2C%2055.380875%5D%2C%20%5B-160.520266%2C%2055.358967%5D%5D%5D%2C%20%5B%5B%5B-162.256456%2C%2054.981058%5D%2C%20%5B-162.234548%2C%2054.893427%5D%2C%20%5B-162.349564%2C%2054.838658%5D%2C%20%5B-162.437195%2C%2054.931766%5D%2C%20%5B-162.256456%2C%2054.981058%5D%5D%5D%2C%20%5B%5B%5B-162.415287%2C%2063.634624%5D%2C%20%5B-162.563165%2C%2063.536039%5D%2C%20%5B-162.612457%2C%2063.62367%5D%2C%20%5B-162.415287%2C%2063.634624%5D%5D%5D%2C%20%5B%5B%5B-162.80415%2C%2054.488133%5D%2C%20%5B-162.590549%2C%2054.449795%5D%2C%20%5B-162.612457%2C%2054.367641%5D%2C%20%5B-162.782242%2C%2054.373118%5D%2C%20%5B-162.80415%2C%2054.488133%5D%5D%5D%2C%20%5B%5B%5B-165.548097%2C%2054.29644%5D%2C%20%5B-165.476897%2C%2054.181425%5D%2C%20%5B-165.630251%2C%2054.132132%5D%2C%20%5B-165.685021%2C%2054.252625%5D%2C%20%5B-165.548097%2C%2054.29644%5D%5D%5D%2C%20%5B%5B%5B-165.73979%2C%2054.15404%5D%2C%20%5B-166.046499%2C%2054.044501%5D%2C%20%5B-166.112222%2C%2054.121178%5D%2C%20%5B-165.980775%2C%2054.219763%5D%2C%20%5B-165.73979%2C%2054.15404%5D%5D%5D%2C%20%5B%5B%5B-166.364161%2C%2060.359413%5D%2C%20%5B-166.13413%2C%2060.397752%5D%2C%20%5B-166.084837%2C%2060.326552%5D%2C%20%5B-165.88219%2C%2060.342983%5D%2C%20%5B-165.685021%2C%2060.277259%5D%2C%20%5B-165.646682%2C%2059.992458%5D%2C%20%5B-165.750744%2C%2059.89935%5D%2C%20%5B-166.00816%2C%2059.844581%5D%2C%20%5B-166.062929%2C%2059.745996%5D%2C%20%5B-166.440838%2C%2059.855535%5D%2C%20%5B-166.6161%2C%2059.850058%5D%2C%20%5B-166.994009%2C%2059.992458%5D%2C%20%5B-167.125456%2C%2059.992458%5D%2C%20%5B-167.344534%2C%2060.074613%5D%2C%20%5B-167.421211%2C%2060.206059%5D%2C%20%5B-167.311672%2C%2060.238921%5D%2C%20%5B-166.93924%2C%2060.206059%5D%2C%20%5B-166.763978%2C%2060.310121%5D%2C%20%5B-166.577762%2C%2060.321075%5D%2C%20%5B-166.495608%2C%2060.392275%5D%2C%20%5B-166.364161%2C%2060.359413%5D%5D%5D%2C%20%5B%5B%5B-166.375115%2C%2054.01164%5D%2C%20%5B-166.210807%2C%2053.934962%5D%2C%20%5B-166.5449%2C%2053.748746%5D%2C%20%5B-166.539423%2C%2053.715885%5D%2C%20%5B-166.117699%2C%2053.852808%5D%2C%20%5B-166.112222%2C%2053.776131%5D%2C%20%5B-166.282007%2C%2053.683023%5D%2C%20%5B-166.555854%2C%2053.622777%5D%2C%20%5B-166.583239%2C%2053.529669%5D%2C%20%5B-166.878994%2C%2053.431084%5D%2C%20%5B-167.13641%2C%2053.425607%5D%2C%20%5B-167.306195%2C%2053.332499%5D%2C%20%5B-167.623857%2C%2053.250345%5D%2C%20%5B-167.793643%2C%2053.337976%5D%2C%20%5B-167.459549%2C%2053.442038%5D%2C%20%5B-167.355487%2C%2053.425607%5D%2C%20%5B-167.103548%2C%2053.513238%5D%2C%20%5B-167.163794%2C%2053.611823%5D%2C%20%5B-167.021394%2C%2053.715885%5D%2C%20%5B-166.807793%2C%2053.666592%5D%2C%20%5B-166.785886%2C%2053.732316%5D%2C%20%5B-167.015917%2C%2053.754223%5D%2C%20%5B-167.141887%2C%2053.825424%5D%2C%20%5B-167.032348%2C%2053.945916%5D%2C%20%5B-166.643485%2C%2054.017116%5D%2C%20%5B-166.561331%2C%2053.880193%5D%2C%20%5B-166.375115%2C%2054.01164%5D%5D%5D%2C%20%5B%5B%5B-168.790446%2C%2053.157237%5D%2C%20%5B-168.40706%2C%2053.34893%5D%2C%20%5B-168.385152%2C%2053.431084%5D%2C%20%5B-168.237275%2C%2053.524192%5D%2C%20%5B-168.007243%2C%2053.568007%5D%2C%20%5B-167.886751%2C%2053.518715%5D%2C%20%5B-167.842935%2C%2053.387268%5D%2C%20%5B-168.270136%2C%2053.244868%5D%2C%20%5B-168.500168%2C%2053.036744%5D%2C%20%5B-168.686384%2C%2052.965544%5D%2C%20%5B-168.790446%2C%2053.157237%5D%5D%5D%2C%20%5B%5B%5B-169.74891%2C%2052.894344%5D%2C%20%5B-169.705095%2C%2052.795759%5D%2C%20%5B-169.962511%2C%2052.790282%5D%2C%20%5B-169.989896%2C%2052.856005%5D%2C%20%5B-169.74891%2C%2052.894344%5D%5D%5D%2C%20%5B%5B%5B-170.148727%2C%2057.221127%5D%2C%20%5B-170.28565%2C%2057.128019%5D%2C%20%5B-170.313035%2C%2057.221127%5D%2C%20%5B-170.148727%2C%2057.221127%5D%5D%5D%2C%20%5B%5B%5B-170.669036%2C%2052.697174%5D%2C%20%5B-170.603313%2C%2052.604066%5D%2C%20%5B-170.789529%2C%2052.538343%5D%2C%20%5B-170.816914%2C%2052.636928%5D%2C%20%5B-170.669036%2C%2052.697174%5D%5D%5D%2C%20%5B%5B%5B-171.742517%2C%2063.716778%5D%2C%20%5B-170.94836%2C%2063.5689%5D%2C%20%5B-170.488297%2C%2063.69487%5D%2C%20%5B-170.280174%2C%2063.683916%5D%2C%20%5B-170.093958%2C%2063.612716%5D%2C%20%5B-170.044665%2C%2063.492223%5D%2C%20%5B-169.644848%2C%2063.4265%5D%2C%20%5B-169.518879%2C%2063.366254%5D%2C%20%5B-168.99857%2C%2063.338869%5D%2C%20%5B-168.686384%2C%2063.295053%5D%2C%20%5B-168.856169%2C%2063.147176%5D%2C%20%5B-169.108108%2C%2063.180038%5D%2C%20%5B-169.376478%2C%2063.152653%5D%2C%20%5B-169.513402%2C%2063.08693%5D%2C%20%5B-169.639372%2C%2062.939052%5D%2C%20%5B-169.831064%2C%2063.075976%5D%2C%20%5B-170.055619%2C%2063.169084%5D%2C%20%5B-170.263743%2C%2063.180038%5D%2C%20%5B-170.362328%2C%2063.2841%5D%2C%20%5B-170.866206%2C%2063.415546%5D%2C%20%5B-171.101715%2C%2063.421023%5D%2C%20%5B-171.463193%2C%2063.306007%5D%2C%20%5B-171.73704%2C%2063.366254%5D%2C%20%5B-171.852055%2C%2063.486746%5D%2C%20%5B-171.742517%2C%2063.716778%5D%5D%5D%2C%20%5B%5B%5B-172.432611%2C%2052.390465%5D%2C%20%5B-172.41618%2C%2052.275449%5D%2C%20%5B-172.607873%2C%2052.253542%5D%2C%20%5B-172.569535%2C%2052.352127%5D%2C%20%5B-172.432611%2C%2052.390465%5D%5D%5D%2C%20%5B%5B%5B-173.626584%2C%2052.14948%5D%2C%20%5B-173.495138%2C%2052.105664%5D%2C%20%5B-173.122706%2C%2052.111141%5D%2C%20%5B-173.106275%2C%2052.07828%5D%2C%20%5B-173.549907%2C%2052.028987%5D%2C%20%5B-173.626584%2C%2052.14948%5D%5D%5D%2C%20%5B%5B%5B-174.322156%2C%2052.280926%5D%2C%20%5B-174.327632%2C%2052.379511%5D%2C%20%5B-174.185232%2C%2052.41785%5D%2C%20%5B-173.982585%2C%2052.319265%5D%2C%20%5B-174.059262%2C%2052.226157%5D%2C%20%5B-174.179755%2C%2052.231634%5D%2C%20%5B-174.141417%2C%2052.127572%5D%2C%20%5B-174.333109%2C%2052.116618%5D%2C%20%5B-174.738403%2C%2052.007079%5D%2C%20%5B-174.968435%2C%2052.039941%5D%2C%20%5B-174.902711%2C%2052.116618%5D%2C%20%5B-174.656249%2C%2052.105664%5D%2C%20%5B-174.322156%2C%2052.280926%5D%5D%5D%2C%20%5B%5B%5B-176.469116%2C%2051.853725%5D%2C%20%5B-176.288377%2C%2051.870156%5D%2C%20%5B-176.288377%2C%2051.744186%5D%2C%20%5B-176.518409%2C%2051.760617%5D%2C%20%5B-176.80321%2C%2051.61274%5D%2C%20%5B-176.912748%2C%2051.80991%5D%2C%20%5B-176.792256%2C%2051.815386%5D%2C%20%5B-176.775825%2C%2051.963264%5D%2C%20%5B-176.627947%2C%2051.968741%5D%2C%20%5B-176.627947%2C%2051.859202%5D%2C%20%5B-176.469116%2C%2051.853725%5D%5D%5D%2C%20%5B%5B%5B-177.153734%2C%2051.946833%5D%2C%20%5B-177.044195%2C%2051.897541%5D%2C%20%5B-177.120872%2C%2051.727755%5D%2C%20%5B-177.274226%2C%2051.678463%5D%2C%20%5B-177.279703%2C%2051.782525%5D%2C%20%5B-177.153734%2C%2051.946833%5D%5D%5D%2C%20%5B%5B%5B-178.123152%2C%2051.919448%5D%2C%20%5B-177.953367%2C%2051.913971%5D%2C%20%5B-177.800013%2C%2051.793479%5D%2C%20%5B-177.964321%2C%2051.651078%5D%2C%20%5B-178.123152%2C%2051.919448%5D%5D%5D%2C%20%5B%5B%5B173.107557%2C%2052.992929%5D%2C%20%5B173.293773%2C%2052.927205%5D%2C%20%5B173.304726%2C%2052.823143%5D%2C%20%5B172.90491%2C%2052.762897%5D%2C%20%5B172.642017%2C%2052.927205%5D%2C%20%5B172.642017%2C%2053.003883%5D%2C%20%5B173.107557%2C%2052.992929%5D%5D%5D%5D%2C%20%22type%22%3A%20%22MultiPolygon%22%7D%2C%20%22id%22%3A%20%22AK%22%2C%20%22properties%22%3A%20%7B%22highlight%22%3A%20%7B%7D%2C%20%22name%22%3A%20%22Alaska%22%2C%20%22style%22%3A%20%7B%22color%22%3A%20%22black%22%2C%20%22fillColor%22%3A%20%22black%22%2C%20%22fillOpacity%22%3A%200.7%2C%20%22opacity%22%3A%200.3%2C%20%22weight%22%3A%201%7D%7D%2C%20%22type%22%3A%20%22Feature%22%7D%2C%20%7B%22geometry%22%3A%20%7B%22coordinates%22%3A%20%5B%5B%5B-109.042503%2C%2037.000263%5D%2C%20%5B-109.04798%2C%2031.331629%5D%2C%20%5B-111.074448%2C%2031.331629%5D%2C%20%5B-112.246513%2C%2031.704061%5D%2C%20%5B-114.815198%2C%2032.492741%5D%2C%20%5B-114.72209%2C%2032.717295%5D%2C%20%5B-114.524921%2C%2032.755634%5D%2C%20%5B-114.470151%2C%2032.843265%5D%2C%20%5B-114.524921%2C%2033.029481%5D%2C%20%5B-114.661844%2C%2033.034958%5D%2C%20%5B-114.727567%2C%2033.40739%5D%2C%20%5B-114.524921%2C%2033.54979%5D%2C%20%5B-114.497536%2C%2033.697668%5D%2C%20%5B-114.535874%2C%2033.933176%5D%2C%20%5B-114.415382%2C%2034.108438%5D%2C%20%5B-114.256551%2C%2034.174162%5D%2C%20%5B-114.136058%2C%2034.305608%5D%2C%20%5B-114.333228%2C%2034.448009%5D%2C%20%5B-114.470151%2C%2034.710902%5D%2C%20%5B-114.634459%2C%2034.87521%5D%2C%20%5B-114.634459%2C%2035.00118%5D%2C%20%5B-114.574213%2C%2035.138103%5D%2C%20%5B-114.596121%2C%2035.324319%5D%2C%20%5B-114.678275%2C%2035.516012%5D%2C%20%5B-114.738521%2C%2036.102045%5D%2C%20%5B-114.371566%2C%2036.140383%5D%2C%20%5B-114.251074%2C%2036.01989%5D%2C%20%5B-114.152489%2C%2036.025367%5D%2C%20%5B-114.048427%2C%2036.195153%5D%2C%20%5B-114.048427%2C%2037.000263%5D%2C%20%5B-110.499369%2C%2037.00574%5D%2C%20%5B-109.042503%2C%2037.000263%5D%5D%5D%2C%20%22type%22%3A%20%22Polygon%22%7D%2C%20%22id%22%3A%20%22AZ%22%2C%20%22properties%22%3A%20%7B%22count%22%3A%2079736%2C%20%22highlight%22%3A%20%7B%7D%2C%20%22name%22%3A%20%22Arizona%22%2C%20%22style%22%3A%20%7B%22color%22%3A%20%22black%22%2C%20%22fillColor%22%3A%20%22%23ffffb2%22%2C%20%22fillOpacity%22%3A%200.7%2C%20%22opacity%22%3A%200.3%2C%20%22weight%22%3A%201%7D%7D%2C%20%22type%22%3A%20%22Feature%22%7D%2C%20%7B%22geometry%22%3A%20%7B%22coordinates%22%3A%20%5B%5B%5B-94.473842%2C%2036.501861%5D%2C%20%5B-90.152536%2C%2036.496384%5D%2C%20%5B-90.064905%2C%2036.304691%5D%2C%20%5B-90.218259%2C%2036.184199%5D%2C%20%5B-90.377091%2C%2035.997983%5D%2C%20%5B-89.730812%2C%2035.997983%5D%2C%20%5B-89.763673%2C%2035.811767%5D%2C%20%5B-89.911551%2C%2035.756997%5D%2C%20%5B-89.944412%2C%2035.603643%5D%2C%20%5B-90.130628%2C%2035.439335%5D%2C%20%5B-90.114197%2C%2035.198349%5D%2C%20%5B-90.212782%2C%2035.023087%5D%2C%20%5B-90.311367%2C%2034.995703%5D%2C%20%5B-90.251121%2C%2034.908072%5D%2C%20%5B-90.409952%2C%2034.831394%5D%2C%20%5B-90.481152%2C%2034.661609%5D%2C%20%5B-90.585214%2C%2034.617794%5D%2C%20%5B-90.568783%2C%2034.420624%5D%2C%20%5B-90.749522%2C%2034.365854%5D%2C%20%5B-90.744046%2C%2034.300131%5D%2C%20%5B-90.952169%2C%2034.135823%5D%2C%20%5B-90.891923%2C%2034.026284%5D%2C%20%5B-91.072662%2C%2033.867453%5D%2C%20%5B-91.231493%2C%2033.560744%5D%2C%20%5B-91.056231%2C%2033.429298%5D%2C%20%5B-91.143862%2C%2033.347144%5D%2C%20%5B-91.089093%2C%2033.13902%5D%2C%20%5B-91.16577%2C%2033.002096%5D%2C%20%5B-93.608485%2C%2033.018527%5D%2C%20%5B-94.041164%2C%2033.018527%5D%2C%20%5B-94.041164%2C%2033.54979%5D%2C%20%5B-94.183564%2C%2033.593606%5D%2C%20%5B-94.380734%2C%2033.544313%5D%2C%20%5B-94.484796%2C%2033.637421%5D%2C%20%5B-94.430026%2C%2035.395519%5D%2C%20%5B-94.616242%2C%2036.501861%5D%2C%20%5B-94.473842%2C%2036.501861%5D%5D%5D%2C%20%22type%22%3A%20%22Polygon%22%7D%2C%20%22id%22%3A%20%22AR%22%2C%20%22properties%22%3A%20%7B%22count%22%3A%204723%2C%20%22highlight%22%3A%20%7B%7D%2C%20%22name%22%3A%20%22Arkansas%22%2C%20%22style%22%3A%20%7B%22color%22%3A%20%22black%22%2C%20%22fillColor%22%3A%20%22%23ffffb2%22%2C%20%22fillOpacity%22%3A%200.7%2C%20%22opacity%22%3A%200.3%2C%20%22weight%22%3A%201%7D%7D%2C%20%22type%22%3A%20%22Feature%22%7D%2C%20%7B%22geometry%22%3A%20%7B%22coordinates%22%3A%20%5B%5B%5B-123.233256%2C%2042.006186%5D%2C%20%5B-122.378853%2C%2042.011663%5D%2C%20%5B-121.037003%2C%2041.995232%5D%2C%20%5B-120.001861%2C%2041.995232%5D%2C%20%5B-119.996384%2C%2040.264519%5D%2C%20%5B-120.001861%2C%2038.999346%5D%2C%20%5B-118.71478%2C%2038.101128%5D%2C%20%5B-117.498899%2C%2037.21934%5D%2C%20%5B-116.540435%2C%2036.501861%5D%2C%20%5B-115.85034%2C%2035.970598%5D%2C%20%5B-114.634459%2C%2035.00118%5D%2C%20%5B-114.634459%2C%2034.87521%5D%2C%20%5B-114.470151%2C%2034.710902%5D%2C%20%5B-114.333228%2C%2034.448009%5D%2C%20%5B-114.136058%2C%2034.305608%5D%2C%20%5B-114.256551%2C%2034.174162%5D%2C%20%5B-114.415382%2C%2034.108438%5D%2C%20%5B-114.535874%2C%2033.933176%5D%2C%20%5B-114.497536%2C%2033.697668%5D%2C%20%5B-114.524921%2C%2033.54979%5D%2C%20%5B-114.727567%2C%2033.40739%5D%2C%20%5B-114.661844%2C%2033.034958%5D%2C%20%5B-114.524921%2C%2033.029481%5D%2C%20%5B-114.470151%2C%2032.843265%5D%2C%20%5B-114.524921%2C%2032.755634%5D%2C%20%5B-114.72209%2C%2032.717295%5D%2C%20%5B-116.04751%2C%2032.624187%5D%2C%20%5B-117.126467%2C%2032.536556%5D%2C%20%5B-117.24696%2C%2032.668003%5D%2C%20%5B-117.252437%2C%2032.876127%5D%2C%20%5B-117.329114%2C%2033.122589%5D%2C%20%5B-117.471515%2C%2033.297851%5D%2C%20%5B-117.7837%2C%2033.538836%5D%2C%20%5B-118.183517%2C%2033.763391%5D%2C%20%5B-118.260194%2C%2033.703145%5D%2C%20%5B-118.413548%2C%2033.741483%5D%2C%20%5B-118.391641%2C%2033.840068%5D%2C%20%5B-118.566903%2C%2034.042715%5D%2C%20%5B-118.802411%2C%2033.998899%5D%2C%20%5B-119.218659%2C%2034.146777%5D%2C%20%5B-119.278905%2C%2034.26727%5D%2C%20%5B-119.558229%2C%2034.415147%5D%2C%20%5B-119.875891%2C%2034.40967%5D%2C%20%5B-120.138784%2C%2034.475393%5D%2C%20%5B-120.472878%2C%2034.448009%5D%2C%20%5B-120.64814%2C%2034.579455%5D%2C%20%5B-120.609801%2C%2034.858779%5D%2C%20%5B-120.670048%2C%2034.902595%5D%2C%20%5B-120.631709%2C%2035.099764%5D%2C%20%5B-120.894602%2C%2035.247642%5D%2C%20%5B-120.905556%2C%2035.450289%5D%2C%20%5B-121.004141%2C%2035.461243%5D%2C%20%5B-121.168449%2C%2035.636505%5D%2C%20%5B-121.283465%2C%2035.674843%5D%2C%20%5B-121.332757%2C%2035.784382%5D%2C%20%5B-121.716143%2C%2036.195153%5D%2C%20%5B-121.896882%2C%2036.315645%5D%2C%20%5B-121.935221%2C%2036.638785%5D%2C%20%5B-121.858544%2C%2036.6114%5D%2C%20%5B-121.787344%2C%2036.803093%5D%2C%20%5B-121.929744%2C%2036.978355%5D%2C%20%5B-122.105006%2C%2036.956447%5D%2C%20%5B-122.335038%2C%2037.115279%5D%2C%20%5B-122.417192%2C%2037.241248%5D%2C%20%5B-122.400761%2C%2037.361741%5D%2C%20%5B-122.515777%2C%2037.520572%5D%2C%20%5B-122.515777%2C%2037.783465%5D%2C%20%5B-122.329561%2C%2037.783465%5D%2C%20%5B-122.406238%2C%2038.15042%5D%2C%20%5B-122.488392%2C%2038.112082%5D%2C%20%5B-122.504823%2C%2037.931343%5D%2C%20%5B-122.701993%2C%2037.893004%5D%2C%20%5B-122.937501%2C%2038.029928%5D%2C%20%5B-122.97584%2C%2038.265436%5D%2C%20%5B-123.129194%2C%2038.451652%5D%2C%20%5B-123.331841%2C%2038.566668%5D%2C%20%5B-123.44138%2C%2038.698114%5D%2C%20%5B-123.737134%2C%2038.95553%5D%2C%20%5B-123.687842%2C%2039.032208%5D%2C%20%5B-123.824765%2C%2039.366301%5D%2C%20%5B-123.764519%2C%2039.552517%5D%2C%20%5B-123.85215%2C%2039.831841%5D%2C%20%5B-124.109566%2C%2040.105688%5D%2C%20%5B-124.361506%2C%2040.259042%5D%2C%20%5B-124.410798%2C%2040.439781%5D%2C%20%5B-124.158859%2C%2040.877937%5D%2C%20%5B-124.109566%2C%2041.025814%5D%2C%20%5B-124.158859%2C%2041.14083%5D%2C%20%5B-124.065751%2C%2041.442061%5D%2C%20%5B-124.147905%2C%2041.715908%5D%2C%20%5B-124.257444%2C%2041.781632%5D%2C%20%5B-124.213628%2C%2042.000709%5D%2C%20%5B-123.233256%2C%2042.006186%5D%5D%5D%2C%20%22type%22%3A%20%22Polygon%22%7D%2C%20%22id%22%3A%20%22CA%22%2C%20%22properties%22%3A%20%7B%22count%22%3A%20822373%2C%20%22highlight%22%3A%20%7B%7D%2C%20%22name%22%3A%20%22California%22%2C%20%22style%22%3A%20%7B%22color%22%3A%20%22black%22%2C%20%22fillColor%22%3A%20%22%23bd0026%22%2C%20%22fillOpacity%22%3A%200.7%2C%20%22opacity%22%3A%200.3%2C%20%22weight%22%3A%201%7D%7D%2C%20%22type%22%3A%20%22Feature%22%7D%2C%20%7B%22geometry%22%3A%20%7B%22coordinates%22%3A%20%5B%5B%5B-107.919731%2C%2041.003906%5D%2C%20%5B-105.728954%2C%2040.998429%5D%2C%20%5B-104.053011%2C%2041.003906%5D%2C%20%5B-102.053927%2C%2041.003906%5D%2C%20%5B-102.053927%2C%2040.001626%5D%2C%20%5B-102.042974%2C%2036.994786%5D%2C%20%5B-103.001438%2C%2037.000263%5D%2C%20%5B-104.337812%2C%2036.994786%5D%2C%20%5B-106.868158%2C%2036.994786%5D%2C%20%5B-107.421329%2C%2037.000263%5D%2C%20%5B-109.042503%2C%2037.000263%5D%2C%20%5B-109.042503%2C%2038.166851%5D%2C%20%5B-109.058934%2C%2038.27639%5D%2C%20%5B-109.053457%2C%2039.125316%5D%2C%20%5B-109.04798%2C%2040.998429%5D%2C%20%5B-107.919731%2C%2041.003906%5D%5D%5D%2C%20%22type%22%3A%20%22Polygon%22%7D%2C%20%22id%22%3A%20%22CO%22%2C%20%22properties%22%3A%20%7B%22count%22%3A%2048380%2C%20%22highlight%22%3A%20%7B%7D%2C%20%22name%22%3A%20%22Colorado%22%2C%20%22style%22%3A%20%7B%22color%22%3A%20%22black%22%2C%20%22fillColor%22%3A%20%22%23ffffb2%22%2C%20%22fillOpacity%22%3A%200.7%2C%20%22opacity%22%3A%200.3%2C%20%22weight%22%3A%201%7D%7D%2C%20%22type%22%3A%20%22Feature%22%7D%2C%20%7B%22geometry%22%3A%20%7B%22coordinates%22%3A%20%5B%5B%5B-73.053528%2C%2042.039048%5D%2C%20%5B-71.799309%2C%2042.022617%5D%2C%20%5B-71.799309%2C%2042.006186%5D%2C%20%5B-71.799309%2C%2041.414677%5D%2C%20%5B-71.859555%2C%2041.321569%5D%2C%20%5B-71.947186%2C%2041.338%5D%2C%20%5B-72.385341%2C%2041.261322%5D%2C%20%5B-72.905651%2C%2041.28323%5D%2C%20%5B-73.130205%2C%2041.146307%5D%2C%20%5B-73.371191%2C%2041.102491%5D%2C%20%5B-73.655992%2C%2040.987475%5D%2C%20%5B-73.727192%2C%2041.102491%5D%2C%20%5B-73.48073%2C%2041.21203%5D%2C%20%5B-73.55193%2C%2041.294184%5D%2C%20%5B-73.486206%2C%2042.050002%5D%2C%20%5B-73.053528%2C%2042.039048%5D%5D%5D%2C%20%22type%22%3A%20%22Polygon%22%7D%2C%20%22id%22%3A%20%22CT%22%2C%20%22properties%22%3A%20%7B%22count%22%3A%2029703%2C%20%22highlight%22%3A%20%7B%7D%2C%20%22name%22%3A%20%22Connecticut%22%2C%20%22style%22%3A%20%7B%22color%22%3A%20%22black%22%2C%20%22fillColor%22%3A%20%22%23ffffb2%22%2C%20%22fillOpacity%22%3A%200.7%2C%20%22opacity%22%3A%200.3%2C%20%22weight%22%3A%201%7D%7D%2C%20%22type%22%3A%20%22Feature%22%7D%2C%20%7B%22geometry%22%3A%20%7B%22coordinates%22%3A%20%5B%5B%5B-75.414089%2C%2039.804456%5D%2C%20%5B-75.507197%2C%2039.683964%5D%2C%20%5B-75.611259%2C%2039.61824%5D%2C%20%5B-75.589352%2C%2039.459409%5D%2C%20%5B-75.441474%2C%2039.311532%5D%2C%20%5B-75.403136%2C%2039.065069%5D%2C%20%5B-75.189535%2C%2038.807653%5D%2C%20%5B-75.09095%2C%2038.796699%5D%2C%20%5B-75.047134%2C%2038.451652%5D%2C%20%5B-75.693413%2C%2038.462606%5D%2C%20%5B-75.786521%2C%2039.722302%5D%2C%20%5B-75.616736%2C%2039.831841%5D%2C%20%5B-75.414089%2C%2039.804456%5D%5D%5D%2C%20%22type%22%3A%20%22Polygon%22%7D%2C%20%22id%22%3A%20%22DE%22%2C%20%22properties%22%3A%20%7B%22count%22%3A%206560%2C%20%22highlight%22%3A%20%7B%7D%2C%20%22name%22%3A%20%22Delaware%22%2C%20%22style%22%3A%20%7B%22color%22%3A%20%22black%22%2C%20%22fillColor%22%3A%20%22%23ffffb2%22%2C%20%22fillOpacity%22%3A%200.7%2C%20%22opacity%22%3A%200.3%2C%20%22weight%22%3A%201%7D%7D%2C%20%22type%22%3A%20%22Feature%22%7D%2C%20%7B%22geometry%22%3A%20%7B%22coordinates%22%3A%20%5B%5B%5B-85.497137%2C%2030.997536%5D%2C%20%5B-85.004212%2C%2031.003013%5D%2C%20%5B-84.867289%2C%2030.712735%5D%2C%20%5B-83.498053%2C%2030.647012%5D%2C%20%5B-82.216449%2C%2030.570335%5D%2C%20%5B-82.167157%2C%2030.356734%5D%2C%20%5B-82.046664%2C%2030.362211%5D%2C%20%5B-82.002849%2C%2030.564858%5D%2C%20%5B-82.041187%2C%2030.751074%5D%2C%20%5B-81.948079%2C%2030.827751%5D%2C%20%5B-81.718048%2C%2030.745597%5D%2C%20%5B-81.444201%2C%2030.707258%5D%2C%20%5B-81.383954%2C%2030.27458%5D%2C%20%5B-81.257985%2C%2029.787132%5D%2C%20%5B-80.967707%2C%2029.14633%5D%2C%20%5B-80.524075%2C%2028.461713%5D%2C%20%5B-80.589798%2C%2028.41242%5D%2C%20%5B-80.56789%2C%2028.094758%5D%2C%20%5B-80.381674%2C%2027.738757%5D%2C%20%5B-80.091397%2C%2027.021277%5D%2C%20%5B-80.03115%2C%2026.796723%5D%2C%20%5B-80.036627%2C%2026.566691%5D%2C%20%5B-80.146166%2C%2025.739673%5D%2C%20%5B-80.239274%2C%2025.723243%5D%2C%20%5B-80.337859%2C%2025.465826%5D%2C%20%5B-80.304997%2C%2025.383672%5D%2C%20%5B-80.49669%2C%2025.197456%5D%2C%20%5B-80.573367%2C%2025.241272%5D%2C%20%5B-80.759583%2C%2025.164595%5D%2C%20%5B-81.077246%2C%2025.120779%5D%2C%20%5B-81.170354%2C%2025.224841%5D%2C%20%5B-81.126538%2C%2025.378195%5D%2C%20%5B-81.351093%2C%2025.821827%5D%2C%20%5B-81.526355%2C%2025.903982%5D%2C%20%5B-81.679709%2C%2025.843735%5D%2C%20%5B-81.800202%2C%2026.090198%5D%2C%20%5B-81.833064%2C%2026.292844%5D%2C%20%5B-82.041187%2C%2026.517399%5D%2C%20%5B-82.09048%2C%2026.665276%5D%2C%20%5B-82.057618%2C%2026.878877%5D%2C%20%5B-82.172634%2C%2026.917216%5D%2C%20%5B-82.145249%2C%2026.791246%5D%2C%20%5B-82.249311%2C%2026.758384%5D%2C%20%5B-82.566974%2C%2027.300601%5D%2C%20%5B-82.692943%2C%2027.437525%5D%2C%20%5B-82.391711%2C%2027.837342%5D%2C%20%5B-82.588881%2C%2027.815434%5D%2C%20%5B-82.720328%2C%2027.689464%5D%2C%20%5B-82.851774%2C%2027.886634%5D%2C%20%5B-82.676512%2C%2028.434328%5D%2C%20%5B-82.643651%2C%2028.888914%5D%2C%20%5B-82.764143%2C%2028.998453%5D%2C%20%5B-82.802482%2C%2029.14633%5D%2C%20%5B-82.994175%2C%2029.179192%5D%2C%20%5B-83.218729%2C%2029.420177%5D%2C%20%5B-83.399469%2C%2029.518762%5D%2C%20%5B-83.410422%2C%2029.66664%5D%2C%20%5B-83.536392%2C%2029.721409%5D%2C%20%5B-83.640454%2C%2029.885717%5D%2C%20%5B-84.02384%2C%2030.104795%5D%2C%20%5B-84.357933%2C%2030.055502%5D%2C%20%5B-84.341502%2C%2029.902148%5D%2C%20%5B-84.451041%2C%2029.929533%5D%2C%20%5B-84.867289%2C%2029.743317%5D%2C%20%5B-85.310921%2C%2029.699501%5D%2C%20%5B-85.299967%2C%2029.80904%5D%2C%20%5B-85.404029%2C%2029.940487%5D%2C%20%5B-85.924338%2C%2030.236241%5D%2C%20%5B-86.29677%2C%2030.362211%5D%2C%20%5B-86.630863%2C%2030.395073%5D%2C%20%5B-86.910187%2C%2030.373165%5D%2C%20%5B-87.518128%2C%2030.280057%5D%2C%20%5B-87.37025%2C%2030.427934%5D%2C%20%5B-87.446927%2C%2030.510088%5D%2C%20%5B-87.408589%2C%2030.674397%5D%2C%20%5B-87.633143%2C%2030.86609%5D%2C%20%5B-87.600282%2C%2030.997536%5D%2C%20%5B-85.497137%2C%2030.997536%5D%5D%5D%2C%20%22type%22%3A%20%22Polygon%22%7D%2C%20%22id%22%3A%20%22FL%22%2C%20%22properties%22%3A%20%7B%22count%22%3A%20339099%2C%20%22highlight%22%3A%20%7B%7D%2C%20%22name%22%3A%20%22Florida%22%2C%20%22style%22%3A%20%7B%22color%22%3A%20%22black%22%2C%20%22fillColor%22%3A%20%22%23feb24c%22%2C%20%22fillOpacity%22%3A%200.7%2C%20%22opacity%22%3A%200.3%2C%20%22weight%22%3A%201%7D%7D%2C%20%22type%22%3A%20%22Feature%22%7D%2C%20%7B%22geometry%22%3A%20%7B%22coordinates%22%3A%20%5B%5B%5B-83.109191%2C%2035.00118%5D%2C%20%5B-83.322791%2C%2034.787579%5D%2C%20%5B-83.339222%2C%2034.683517%5D%2C%20%5B-83.005129%2C%2034.469916%5D%2C%20%5B-82.901067%2C%2034.486347%5D%2C%20%5B-82.747713%2C%2034.26727%5D%2C%20%5B-82.714851%2C%2034.152254%5D%2C%20%5B-82.55602%2C%2033.94413%5D%2C%20%5B-82.325988%2C%2033.81816%5D%2C%20%5B-82.194542%2C%2033.631944%5D%2C%20%5B-81.926172%2C%2033.462159%5D%2C%20%5B-81.937125%2C%2033.347144%5D%2C%20%5B-81.761863%2C%2033.160928%5D%2C%20%5B-81.493493%2C%2033.007573%5D%2C%20%5B-81.42777%2C%2032.843265%5D%2C%20%5B-81.416816%2C%2032.629664%5D%2C%20%5B-81.279893%2C%2032.558464%5D%2C%20%5B-81.121061%2C%2032.290094%5D%2C%20%5B-81.115584%2C%2032.120309%5D%2C%20%5B-80.885553%2C%2032.032678%5D%2C%20%5B-81.132015%2C%2031.693108%5D%2C%20%5B-81.175831%2C%2031.517845%5D%2C%20%5B-81.279893%2C%2031.364491%5D%2C%20%5B-81.290846%2C%2031.20566%5D%2C%20%5B-81.400385%2C%2031.13446%5D%2C%20%5B-81.444201%2C%2030.707258%5D%2C%20%5B-81.718048%2C%2030.745597%5D%2C%20%5B-81.948079%2C%2030.827751%5D%2C%20%5B-82.041187%2C%2030.751074%5D%2C%20%5B-82.002849%2C%2030.564858%5D%2C%20%5B-82.046664%2C%2030.362211%5D%2C%20%5B-82.167157%2C%2030.356734%5D%2C%20%5B-82.216449%2C%2030.570335%5D%2C%20%5B-83.498053%2C%2030.647012%5D%2C%20%5B-84.867289%2C%2030.712735%5D%2C%20%5B-85.004212%2C%2031.003013%5D%2C%20%5B-85.113751%2C%2031.27686%5D%2C%20%5B-85.042551%2C%2031.539753%5D%2C%20%5B-85.141136%2C%2031.840985%5D%2C%20%5B-85.053504%2C%2032.01077%5D%2C%20%5B-85.058981%2C%2032.13674%5D%2C%20%5B-84.889196%2C%2032.262709%5D%2C%20%5B-85.004212%2C%2032.322956%5D%2C%20%5B-84.960397%2C%2032.421541%5D%2C%20%5B-85.069935%2C%2032.580372%5D%2C%20%5B-85.184951%2C%2032.859696%5D%2C%20%5B-85.431413%2C%2034.124869%5D%2C%20%5B-85.606675%2C%2034.984749%5D%2C%20%5B-84.319594%2C%2034.990226%5D%2C%20%5B-83.618546%2C%2034.984749%5D%2C%20%5B-83.109191%2C%2035.00118%5D%5D%5D%2C%20%22type%22%3A%20%22Polygon%22%7D%2C%20%22id%22%3A%20%22GA%22%2C%20%22properties%22%3A%20%7B%22count%22%3A%2091839%2C%20%22highlight%22%3A%20%7B%7D%2C%20%22name%22%3A%20%22Georgia%22%2C%20%22style%22%3A%20%7B%22color%22%3A%20%22black%22%2C%20%22fillColor%22%3A%20%22%23ffffb2%22%2C%20%22fillOpacity%22%3A%200.7%2C%20%22opacity%22%3A%200.3%2C%20%22weight%22%3A%201%7D%7D%2C%20%22type%22%3A%20%22Feature%22%7D%2C%20%7B%22geometry%22%3A%20%7B%22coordinates%22%3A%20%5B%5B%5B%5B-155.634835%2C%2018.948267%5D%2C%20%5B-155.881297%2C%2019.035898%5D%2C%20%5B-155.919636%2C%2019.123529%5D%2C%20%5B-155.886774%2C%2019.348084%5D%2C%20%5B-156.062036%2C%2019.73147%5D%2C%20%5B-155.925113%2C%2019.857439%5D%2C%20%5B-155.826528%2C%2020.032702%5D%2C%20%5B-155.897728%2C%2020.147717%5D%2C%20%5B-155.87582%2C%2020.26821%5D%2C%20%5B-155.596496%2C%2020.12581%5D%2C%20%5B-155.284311%2C%2020.021748%5D%2C%20%5B-155.092618%2C%2019.868393%5D%2C%20%5B-155.092618%2C%2019.736947%5D%2C%20%5B-154.807817%2C%2019.523346%5D%2C%20%5B-154.983079%2C%2019.348084%5D%2C%20%5B-155.295265%2C%2019.26593%5D%2C%20%5B-155.514342%2C%2019.134483%5D%2C%20%5B-155.634835%2C%2018.948267%5D%5D%5D%2C%20%5B%5B%5B-156.587823%2C%2021.029505%5D%2C%20%5B-156.472807%2C%2020.892581%5D%2C%20%5B-156.324929%2C%2020.952827%5D%2C%20%5B-156.00179%2C%2020.793996%5D%2C%20%5B-156.051082%2C%2020.651596%5D%2C%20%5B-156.379699%2C%2020.580396%5D%2C%20%5B-156.445422%2C%2020.60778%5D%2C%20%5B-156.461853%2C%2020.783042%5D%2C%20%5B-156.631638%2C%2020.821381%5D%2C%20%5B-156.697361%2C%2020.919966%5D%2C%20%5B-156.587823%2C%2021.029505%5D%5D%5D%2C%20%5B%5B%5B-156.982162%2C%2021.210244%5D%2C%20%5B-157.080747%2C%2021.106182%5D%2C%20%5B-157.310779%2C%2021.106182%5D%2C%20%5B-157.239579%2C%2021.221198%5D%2C%20%5B-156.982162%2C%2021.210244%5D%5D%5D%2C%20%5B%5B%5B-157.951581%2C%2021.697691%5D%2C%20%5B-157.842042%2C%2021.462183%5D%2C%20%5B-157.896811%2C%2021.325259%5D%2C%20%5B-158.110412%2C%2021.303352%5D%2C%20%5B-158.252813%2C%2021.582676%5D%2C%20%5B-158.126843%2C%2021.588153%5D%2C%20%5B-157.951581%2C%2021.697691%5D%5D%5D%2C%20%5B%5B%5B-159.468693%2C%2022.228955%5D%2C%20%5B-159.353678%2C%2022.218001%5D%2C%20%5B-159.298908%2C%2022.113939%5D%2C%20%5B-159.33177%2C%2021.966061%5D%2C%20%5B-159.446786%2C%2021.872953%5D%2C%20%5B-159.764448%2C%2021.987969%5D%2C%20%5B-159.726109%2C%2022.152277%5D%2C%20%5B-159.468693%2C%2022.228955%5D%5D%5D%5D%2C%20%22type%22%3A%20%22MultiPolygon%22%7D%2C%20%22id%22%3A%20%22HI%22%2C%20%22properties%22%3A%20%7B%22highlight%22%3A%20%7B%7D%2C%20%22name%22%3A%20%22Hawaii%22%2C%20%22style%22%3A%20%7B%22color%22%3A%20%22black%22%2C%20%22fillColor%22%3A%20%22black%22%2C%20%22fillOpacity%22%3A%200.7%2C%20%22opacity%22%3A%200.3%2C%20%22weight%22%3A%201%7D%7D%2C%20%22type%22%3A%20%22Feature%22%7D%2C%20%7B%22geometry%22%3A%20%7B%22coordinates%22%3A%20%5B%5B%5B-116.04751%2C%2049.000239%5D%2C%20%5B-116.04751%2C%2047.976051%5D%2C%20%5B-115.724371%2C%2047.696727%5D%2C%20%5B-115.718894%2C%2047.42288%5D%2C%20%5B-115.527201%2C%2047.302388%5D%2C%20%5B-115.324554%2C%2047.258572%5D%2C%20%5B-115.302646%2C%2047.187372%5D%2C%20%5B-114.930214%2C%2046.919002%5D%2C%20%5B-114.886399%2C%2046.809463%5D%2C%20%5B-114.623506%2C%2046.705401%5D%2C%20%5B-114.612552%2C%2046.639678%5D%2C%20%5B-114.322274%2C%2046.645155%5D%2C%20%5B-114.464674%2C%2046.272723%5D%2C%20%5B-114.492059%2C%2046.037214%5D%2C%20%5B-114.387997%2C%2045.88386%5D%2C%20%5B-114.568736%2C%2045.774321%5D%2C%20%5B-114.497536%2C%2045.670259%5D%2C%20%5B-114.546828%2C%2045.560721%5D%2C%20%5B-114.333228%2C%2045.456659%5D%2C%20%5B-114.086765%2C%2045.593582%5D%2C%20%5B-113.98818%2C%2045.703121%5D%2C%20%5B-113.807441%2C%2045.604536%5D%2C%20%5B-113.834826%2C%2045.522382%5D%2C%20%5B-113.736241%2C%2045.330689%5D%2C%20%5B-113.571933%2C%2045.128042%5D%2C%20%5B-113.45144%2C%2045.056842%5D%2C%20%5B-113.456917%2C%2044.865149%5D%2C%20%5B-113.341901%2C%2044.782995%5D%2C%20%5B-113.133778%2C%2044.772041%5D%2C%20%5B-113.002331%2C%2044.448902%5D%2C%20%5B-112.887315%2C%2044.394132%5D%2C%20%5B-112.783254%2C%2044.48724%5D%2C%20%5B-112.471068%2C%2044.481763%5D%2C%20%5B-112.241036%2C%2044.569394%5D%2C%20%5B-112.104113%2C%2044.520102%5D%2C%20%5B-111.868605%2C%2044.563917%5D%2C%20%5B-111.819312%2C%2044.509148%5D%2C%20%5B-111.616665%2C%2044.547487%5D%2C%20%5B-111.386634%2C%2044.75561%5D%2C%20%5B-111.227803%2C%2044.580348%5D%2C%20%5B-111.047063%2C%2044.476286%5D%2C%20%5B-111.047063%2C%2042.000709%5D%2C%20%5B-112.164359%2C%2041.995232%5D%2C%20%5B-114.04295%2C%2041.995232%5D%2C%20%5B-117.027882%2C%2042.000709%5D%2C%20%5B-117.027882%2C%2043.830007%5D%2C%20%5B-116.896436%2C%2044.158624%5D%2C%20%5B-116.97859%2C%2044.240778%5D%2C%20%5B-117.170283%2C%2044.257209%5D%2C%20%5B-117.241483%2C%2044.394132%5D%2C%20%5B-117.038836%2C%2044.750133%5D%2C%20%5B-116.934774%2C%2044.782995%5D%2C%20%5B-116.830713%2C%2044.930872%5D%2C%20%5B-116.847143%2C%2045.02398%5D%2C%20%5B-116.732128%2C%2045.144473%5D%2C%20%5B-116.671881%2C%2045.319735%5D%2C%20%5B-116.463758%2C%2045.61549%5D%2C%20%5B-116.545912%2C%2045.752413%5D%2C%20%5B-116.78142%2C%2045.823614%5D%2C%20%5B-116.918344%2C%2045.993399%5D%2C%20%5B-116.92382%2C%2046.168661%5D%2C%20%5B-117.055267%2C%2046.343923%5D%2C%20%5B-117.038836%2C%2046.426077%5D%2C%20%5B-117.044313%2C%2047.762451%5D%2C%20%5B-117.033359%2C%2049.000239%5D%2C%20%5B-116.04751%2C%2049.000239%5D%5D%5D%2C%20%22type%22%3A%20%22Polygon%22%7D%2C%20%22id%22%3A%20%22ID%22%2C%20%22properties%22%3A%20%7B%22count%22%3A%203579%2C%20%22highlight%22%3A%20%7B%7D%2C%20%22name%22%3A%20%22Idaho%22%2C%20%22style%22%3A%20%7B%22color%22%3A%20%22black%22%2C%20%22fillColor%22%3A%20%22%23ffffb2%22%2C%20%22fillOpacity%22%3A%200.7%2C%20%22opacity%22%3A%200.3%2C%20%22weight%22%3A%201%7D%7D%2C%20%22type%22%3A%20%22Feature%22%7D%2C%20%7B%22geometry%22%3A%20%7B%22coordinates%22%3A%20%5B%5B%5B-90.639984%2C%2042.510065%5D%2C%20%5B-88.788778%2C%2042.493634%5D%2C%20%5B-87.802929%2C%2042.493634%5D%2C%20%5B-87.83579%2C%2042.301941%5D%2C%20%5B-87.682436%2C%2042.077386%5D%2C%20%5B-87.523605%2C%2041.710431%5D%2C%20%5B-87.529082%2C%2039.34987%5D%2C%20%5B-87.63862%2C%2039.169131%5D%2C%20%5B-87.512651%2C%2038.95553%5D%2C%20%5B-87.49622%2C%2038.780268%5D%2C%20%5B-87.62219%2C%2038.637868%5D%2C%20%5B-87.655051%2C%2038.506421%5D%2C%20%5B-87.83579%2C%2038.292821%5D%2C%20%5B-87.950806%2C%2038.27639%5D%2C%20%5B-87.923421%2C%2038.15042%5D%2C%20%5B-88.000098%2C%2038.101128%5D%2C%20%5B-88.060345%2C%2037.865619%5D%2C%20%5B-88.027483%2C%2037.799896%5D%2C%20%5B-88.15893%2C%2037.657496%5D%2C%20%5B-88.065822%2C%2037.482234%5D%2C%20%5B-88.476592%2C%2037.389126%5D%2C%20%5B-88.514931%2C%2037.285064%5D%2C%20%5B-88.421823%2C%2037.153617%5D%2C%20%5B-88.547792%2C%2037.071463%5D%2C%20%5B-88.914747%2C%2037.224817%5D%2C%20%5B-89.029763%2C%2037.213863%5D%2C%20%5B-89.183118%2C%2037.038601%5D%2C%20%5B-89.133825%2C%2036.983832%5D%2C%20%5B-89.292656%2C%2036.994786%5D%2C%20%5B-89.517211%2C%2037.279587%5D%2C%20%5B-89.435057%2C%2037.34531%5D%2C%20%5B-89.517211%2C%2037.537003%5D%2C%20%5B-89.517211%2C%2037.690357%5D%2C%20%5B-89.84035%2C%2037.903958%5D%2C%20%5B-89.949889%2C%2037.88205%5D%2C%20%5B-90.059428%2C%2038.013497%5D%2C%20%5B-90.355183%2C%2038.216144%5D%2C%20%5B-90.349706%2C%2038.374975%5D%2C%20%5B-90.179921%2C%2038.632391%5D%2C%20%5B-90.207305%2C%2038.725499%5D%2C%20%5B-90.10872%2C%2038.845992%5D%2C%20%5B-90.251121%2C%2038.917192%5D%2C%20%5B-90.470199%2C%2038.961007%5D%2C%20%5B-90.585214%2C%2038.867899%5D%2C%20%5B-90.661891%2C%2038.928146%5D%2C%20%5B-90.727615%2C%2039.256762%5D%2C%20%5B-91.061708%2C%2039.470363%5D%2C%20%5B-91.368417%2C%2039.727779%5D%2C%20%5B-91.494386%2C%2040.034488%5D%2C%20%5B-91.50534%2C%2040.237135%5D%2C%20%5B-91.417709%2C%2040.379535%5D%2C%20%5B-91.401278%2C%2040.560274%5D%2C%20%5B-91.121954%2C%2040.669813%5D%2C%20%5B-91.09457%2C%2040.823167%5D%2C%20%5B-90.963123%2C%2040.921752%5D%2C%20%5B-90.946692%2C%2041.097014%5D%2C%20%5B-91.111001%2C%2041.239415%5D%2C%20%5B-91.045277%2C%2041.414677%5D%2C%20%5B-90.656414%2C%2041.463969%5D%2C%20%5B-90.344229%2C%2041.589939%5D%2C%20%5B-90.311367%2C%2041.743293%5D%2C%20%5B-90.179921%2C%2041.809016%5D%2C%20%5B-90.141582%2C%2042.000709%5D%2C%20%5B-90.168967%2C%2042.126679%5D%2C%20%5B-90.393521%2C%2042.225264%5D%2C%20%5B-90.420906%2C%2042.329326%5D%2C%20%5B-90.639984%2C%2042.510065%5D%5D%5D%2C%20%22type%22%3A%20%22Polygon%22%7D%2C%20%22id%22%3A%20%22IL%22%2C%20%22properties%22%3A%20%7B%22count%22%3A%20105969%2C%20%22highlight%22%3A%20%7B%7D%2C%20%22name%22%3A%20%22Illinois%22%2C%20%22style%22%3A%20%7B%22color%22%3A%20%22black%22%2C%20%22fillColor%22%3A%20%22%23ffffb2%22%2C%20%22fillOpacity%22%3A%200.7%2C%20%22opacity%22%3A%200.3%2C%20%22weight%22%3A%201%7D%7D%2C%20%22type%22%3A%20%22Feature%22%7D%2C%20%7B%22geometry%22%3A%20%7B%22coordinates%22%3A%20%5B%5B%5B-85.990061%2C%2041.759724%5D%2C%20%5B-84.807042%2C%2041.759724%5D%2C%20%5B-84.807042%2C%2041.694001%5D%2C%20%5B-84.801565%2C%2040.500028%5D%2C%20%5B-84.817996%2C%2039.103408%5D%2C%20%5B-84.894673%2C%2039.059592%5D%2C%20%5B-84.812519%2C%2038.785745%5D%2C%20%5B-84.987781%2C%2038.780268%5D%2C%20%5B-85.173997%2C%2038.68716%5D%2C%20%5B-85.431413%2C%2038.730976%5D%2C%20%5B-85.42046%2C%2038.533806%5D%2C%20%5B-85.590245%2C%2038.451652%5D%2C%20%5B-85.655968%2C%2038.325682%5D%2C%20%5B-85.83123%2C%2038.27639%5D%2C%20%5B-85.924338%2C%2038.024451%5D%2C%20%5B-86.039354%2C%2037.958727%5D%2C%20%5B-86.263908%2C%2038.051835%5D%2C%20%5B-86.302247%2C%2038.166851%5D%2C%20%5B-86.521325%2C%2038.040881%5D%2C%20%5B-86.504894%2C%2037.931343%5D%2C%20%5B-86.729448%2C%2037.893004%5D%2C%20%5B-86.795172%2C%2037.991589%5D%2C%20%5B-87.047111%2C%2037.893004%5D%2C%20%5B-87.129265%2C%2037.788942%5D%2C%20%5B-87.381204%2C%2037.93682%5D%2C%20%5B-87.512651%2C%2037.903958%5D%2C%20%5B-87.600282%2C%2037.975158%5D%2C%20%5B-87.682436%2C%2037.903958%5D%2C%20%5B-87.934375%2C%2037.893004%5D%2C%20%5B-88.027483%2C%2037.799896%5D%2C%20%5B-88.060345%2C%2037.865619%5D%2C%20%5B-88.000098%2C%2038.101128%5D%2C%20%5B-87.923421%2C%2038.15042%5D%2C%20%5B-87.950806%2C%2038.27639%5D%2C%20%5B-87.83579%2C%2038.292821%5D%2C%20%5B-87.655051%2C%2038.506421%5D%2C%20%5B-87.62219%2C%2038.637868%5D%2C%20%5B-87.49622%2C%2038.780268%5D%2C%20%5B-87.512651%2C%2038.95553%5D%2C%20%5B-87.63862%2C%2039.169131%5D%2C%20%5B-87.529082%2C%2039.34987%5D%2C%20%5B-87.523605%2C%2041.710431%5D%2C%20%5B-87.42502%2C%2041.644708%5D%2C%20%5B-87.118311%2C%2041.644708%5D%2C%20%5B-86.822556%2C%2041.759724%5D%2C%20%5B-85.990061%2C%2041.759724%5D%5D%5D%2C%20%22type%22%3A%20%22Polygon%22%7D%2C%20%22id%22%3A%20%22IN%22%2C%20%22properties%22%3A%20%7B%22count%22%3A%2033798%2C%20%22highlight%22%3A%20%7B%7D%2C%20%22name%22%3A%20%22Indiana%22%2C%20%22style%22%3A%20%7B%22color%22%3A%20%22black%22%2C%20%22fillColor%22%3A%20%22%23ffffb2%22%2C%20%22fillOpacity%22%3A%200.7%2C%20%22opacity%22%3A%200.3%2C%20%22weight%22%3A%201%7D%7D%2C%20%22type%22%3A%20%22Feature%22%7D%2C%20%7B%22geometry%22%3A%20%7B%22coordinates%22%3A%20%5B%5B%5B-91.368417%2C%2043.501391%5D%2C%20%5B-91.215062%2C%2043.501391%5D%2C%20%5B-91.204109%2C%2043.353514%5D%2C%20%5B-91.056231%2C%2043.254929%5D%2C%20%5B-91.176724%2C%2043.134436%5D%2C%20%5B-91.143862%2C%2042.909881%5D%2C%20%5B-91.067185%2C%2042.75105%5D%2C%20%5B-90.711184%2C%2042.636034%5D%2C%20%5B-90.639984%2C%2042.510065%5D%2C%20%5B-90.420906%2C%2042.329326%5D%2C%20%5B-90.393521%2C%2042.225264%5D%2C%20%5B-90.168967%2C%2042.126679%5D%2C%20%5B-90.141582%2C%2042.000709%5D%2C%20%5B-90.179921%2C%2041.809016%5D%2C%20%5B-90.311367%2C%2041.743293%5D%2C%20%5B-90.344229%2C%2041.589939%5D%2C%20%5B-90.656414%2C%2041.463969%5D%2C%20%5B-91.045277%2C%2041.414677%5D%2C%20%5B-91.111001%2C%2041.239415%5D%2C%20%5B-90.946692%2C%2041.097014%5D%2C%20%5B-90.963123%2C%2040.921752%5D%2C%20%5B-91.09457%2C%2040.823167%5D%2C%20%5B-91.121954%2C%2040.669813%5D%2C%20%5B-91.401278%2C%2040.560274%5D%2C%20%5B-91.417709%2C%2040.379535%5D%2C%20%5B-91.527248%2C%2040.412397%5D%2C%20%5B-91.729895%2C%2040.615043%5D%2C%20%5B-91.833957%2C%2040.609566%5D%2C%20%5B-93.257961%2C%2040.582182%5D%2C%20%5B-94.632673%2C%2040.571228%5D%2C%20%5B-95.7664%2C%2040.587659%5D%2C%20%5B-95.881416%2C%2040.719105%5D%2C%20%5B-95.826646%2C%2040.976521%5D%2C%20%5B-95.925231%2C%2041.201076%5D%2C%20%5B-95.919754%2C%2041.453015%5D%2C%20%5B-96.095016%2C%2041.540646%5D%2C%20%5B-96.122401%2C%2041.67757%5D%2C%20%5B-96.062155%2C%2041.798063%5D%2C%20%5B-96.127878%2C%2041.973325%5D%2C%20%5B-96.264801%2C%2042.039048%5D%2C%20%5B-96.44554%2C%2042.488157%5D%2C%20%5B-96.631756%2C%2042.707235%5D%2C%20%5B-96.544125%2C%2042.855112%5D%2C%20%5B-96.511264%2C%2043.052282%5D%2C%20%5B-96.434587%2C%2043.123482%5D%2C%20%5B-96.560556%2C%2043.222067%5D%2C%20%5B-96.527695%2C%2043.397329%5D%2C%20%5B-96.582464%2C%2043.479483%5D%2C%20%5B-96.451017%2C%2043.501391%5D%2C%20%5B-91.368417%2C%2043.501391%5D%5D%5D%2C%20%22type%22%3A%20%22Polygon%22%7D%2C%20%22id%22%3A%20%22IA%22%2C%20%22properties%22%3A%20%7B%22count%22%3A%2012835%2C%20%22highlight%22%3A%20%7B%7D%2C%20%22name%22%3A%20%22Iowa%22%2C%20%22style%22%3A%20%7B%22color%22%3A%20%22black%22%2C%20%22fillColor%22%3A%20%22%23ffffb2%22%2C%20%22fillOpacity%22%3A%200.7%2C%20%22opacity%22%3A%200.3%2C%20%22weight%22%3A%201%7D%7D%2C%20%22type%22%3A%20%22Feature%22%7D%2C%20%7B%22geometry%22%3A%20%7B%22coordinates%22%3A%20%5B%5B%5B-101.90605%2C%2040.001626%5D%2C%20%5B-95.306337%2C%2040.001626%5D%2C%20%5B-95.207752%2C%2039.908518%5D%2C%20%5B-94.884612%2C%2039.831841%5D%2C%20%5B-95.109167%2C%2039.541563%5D%2C%20%5B-94.983197%2C%2039.442978%5D%2C%20%5B-94.824366%2C%2039.20747%5D%2C%20%5B-94.610765%2C%2039.158177%5D%2C%20%5B-94.616242%2C%2037.000263%5D%2C%20%5B-100.087706%2C%2037.000263%5D%2C%20%5B-102.042974%2C%2036.994786%5D%2C%20%5B-102.053927%2C%2040.001626%5D%2C%20%5B-101.90605%2C%2040.001626%5D%5D%5D%2C%20%22type%22%3A%20%22Polygon%22%7D%2C%20%22id%22%3A%20%22KS%22%2C%20%22properties%22%3A%20%7B%22count%22%3A%206941%2C%20%22highlight%22%3A%20%7B%7D%2C%20%22name%22%3A%20%22Kansas%22%2C%20%22style%22%3A%20%7B%22color%22%3A%20%22black%22%2C%20%22fillColor%22%3A%20%22%23ffffb2%22%2C%20%22fillOpacity%22%3A%200.7%2C%20%22opacity%22%3A%200.3%2C%20%22weight%22%3A%201%7D%7D%2C%20%22type%22%3A%20%22Feature%22%7D%2C%20%7B%22geometry%22%3A%20%7B%22coordinates%22%3A%20%5B%5B%5B-83.903347%2C%2038.769315%5D%2C%20%5B-83.678792%2C%2038.632391%5D%2C%20%5B-83.519961%2C%2038.703591%5D%2C%20%5B-83.142052%2C%2038.626914%5D%2C%20%5B-83.032514%2C%2038.725499%5D%2C%20%5B-82.890113%2C%2038.758361%5D%2C%20%5B-82.846298%2C%2038.588575%5D%2C%20%5B-82.731282%2C%2038.561191%5D%2C%20%5B-82.594358%2C%2038.424267%5D%2C%20%5B-82.621743%2C%2038.123036%5D%2C%20%5B-82.50125%2C%2037.931343%5D%2C%20%5B-82.342419%2C%2037.783465%5D%2C%20%5B-82.293127%2C%2037.668449%5D%2C%20%5B-82.101434%2C%2037.553434%5D%2C%20%5B-81.969987%2C%2037.537003%5D%2C%20%5B-82.353373%2C%2037.268633%5D%2C%20%5B-82.720328%2C%2037.120755%5D%2C%20%5B-82.720328%2C%2037.044078%5D%2C%20%5B-82.868205%2C%2036.978355%5D%2C%20%5B-82.879159%2C%2036.890724%5D%2C%20%5B-83.070852%2C%2036.852385%5D%2C%20%5B-83.136575%2C%2036.742847%5D%2C%20%5B-83.673316%2C%2036.600446%5D%2C%20%5B-83.689746%2C%2036.584015%5D%2C%20%5B-84.544149%2C%2036.594969%5D%2C%20%5B-85.289013%2C%2036.627831%5D%2C%20%5B-85.486183%2C%2036.616877%5D%2C%20%5B-86.592525%2C%2036.655216%5D%2C%20%5B-87.852221%2C%2036.633308%5D%2C%20%5B-88.071299%2C%2036.677123%5D%2C%20%5B-88.054868%2C%2036.496384%5D%2C%20%5B-89.298133%2C%2036.507338%5D%2C%20%5B-89.418626%2C%2036.496384%5D%2C%20%5B-89.363857%2C%2036.622354%5D%2C%20%5B-89.215979%2C%2036.578538%5D%2C%20%5B-89.133825%2C%2036.983832%5D%2C%20%5B-89.183118%2C%2037.038601%5D%2C%20%5B-89.029763%2C%2037.213863%5D%2C%20%5B-88.914747%2C%2037.224817%5D%2C%20%5B-88.547792%2C%2037.071463%5D%2C%20%5B-88.421823%2C%2037.153617%5D%2C%20%5B-88.514931%2C%2037.285064%5D%2C%20%5B-88.476592%2C%2037.389126%5D%2C%20%5B-88.065822%2C%2037.482234%5D%2C%20%5B-88.15893%2C%2037.657496%5D%2C%20%5B-88.027483%2C%2037.799896%5D%2C%20%5B-87.934375%2C%2037.893004%5D%2C%20%5B-87.682436%2C%2037.903958%5D%2C%20%5B-87.600282%2C%2037.975158%5D%2C%20%5B-87.512651%2C%2037.903958%5D%2C%20%5B-87.381204%2C%2037.93682%5D%2C%20%5B-87.129265%2C%2037.788942%5D%2C%20%5B-87.047111%2C%2037.893004%5D%2C%20%5B-86.795172%2C%2037.991589%5D%2C%20%5B-86.729448%2C%2037.893004%5D%2C%20%5B-86.504894%2C%2037.931343%5D%2C%20%5B-86.521325%2C%2038.040881%5D%2C%20%5B-86.302247%2C%2038.166851%5D%2C%20%5B-86.263908%2C%2038.051835%5D%2C%20%5B-86.039354%2C%2037.958727%5D%2C%20%5B-85.924338%2C%2038.024451%5D%2C%20%5B-85.83123%2C%2038.27639%5D%2C%20%5B-85.655968%2C%2038.325682%5D%2C%20%5B-85.590245%2C%2038.451652%5D%2C%20%5B-85.42046%2C%2038.533806%5D%2C%20%5B-85.431413%2C%2038.730976%5D%2C%20%5B-85.173997%2C%2038.68716%5D%2C%20%5B-84.987781%2C%2038.780268%5D%2C%20%5B-84.812519%2C%2038.785745%5D%2C%20%5B-84.894673%2C%2039.059592%5D%2C%20%5B-84.817996%2C%2039.103408%5D%2C%20%5B-84.43461%2C%2039.103408%5D%2C%20%5B-84.231963%2C%2038.895284%5D%2C%20%5B-84.215533%2C%2038.807653%5D%2C%20%5B-83.903347%2C%2038.769315%5D%5D%5D%2C%20%22type%22%3A%20%22Polygon%22%7D%2C%20%22id%22%3A%20%22KY%22%2C%20%22properties%22%3A%20%7B%22count%22%3A%2022670%2C%20%22highlight%22%3A%20%7B%7D%2C%20%22name%22%3A%20%22Kentucky%22%2C%20%22style%22%3A%20%7B%22color%22%3A%20%22black%22%2C%20%22fillColor%22%3A%20%22%23ffffb2%22%2C%20%22fillOpacity%22%3A%200.7%2C%20%22opacity%22%3A%200.3%2C%20%22weight%22%3A%201%7D%7D%2C%20%22type%22%3A%20%22Feature%22%7D%2C%20%7B%22geometry%22%3A%20%7B%22coordinates%22%3A%20%5B%5B%5B-93.608485%2C%2033.018527%5D%2C%20%5B-91.16577%2C%2033.002096%5D%2C%20%5B-91.072662%2C%2032.887081%5D%2C%20%5B-91.143862%2C%2032.843265%5D%2C%20%5B-91.154816%2C%2032.640618%5D%2C%20%5B-91.006939%2C%2032.514649%5D%2C%20%5B-90.985031%2C%2032.218894%5D%2C%20%5B-91.105524%2C%2031.988862%5D%2C%20%5B-91.341032%2C%2031.846462%5D%2C%20%5B-91.401278%2C%2031.621907%5D%2C%20%5B-91.499863%2C%2031.643815%5D%2C%20%5B-91.516294%2C%2031.27686%5D%2C%20%5B-91.636787%2C%2031.265906%5D%2C%20%5B-91.565587%2C%2031.068736%5D%2C%20%5B-91.636787%2C%2030.997536%5D%2C%20%5B-89.747242%2C%2030.997536%5D%2C%20%5B-89.845827%2C%2030.66892%5D%2C%20%5B-89.681519%2C%2030.449842%5D%2C%20%5B-89.643181%2C%2030.285534%5D%2C%20%5B-89.522688%2C%2030.181472%5D%2C%20%5B-89.818443%2C%2030.044549%5D%2C%20%5B-89.84035%2C%2029.945964%5D%2C%20%5B-89.599365%2C%2029.88024%5D%2C%20%5B-89.495303%2C%2030.039072%5D%2C%20%5B-89.287179%2C%2029.88024%5D%2C%20%5B-89.30361%2C%2029.754271%5D%2C%20%5B-89.424103%2C%2029.699501%5D%2C%20%5B-89.648657%2C%2029.748794%5D%2C%20%5B-89.621273%2C%2029.655686%5D%2C%20%5B-89.69795%2C%2029.513285%5D%2C%20%5B-89.506257%2C%2029.387316%5D%2C%20%5B-89.199548%2C%2029.348977%5D%2C%20%5B-89.09001%2C%2029.2011%5D%2C%20%5B-89.002379%2C%2029.179192%5D%2C%20%5B-89.16121%2C%2029.009407%5D%2C%20%5B-89.336472%2C%2029.042268%5D%2C%20%5B-89.484349%2C%2029.217531%5D%2C%20%5B-89.851304%2C%2029.310638%5D%2C%20%5B-89.851304%2C%2029.480424%5D%2C%20%5B-90.032043%2C%2029.425654%5D%2C%20%5B-90.021089%2C%2029.283254%5D%2C%20%5B-90.103244%2C%2029.151807%5D%2C%20%5B-90.23469%2C%2029.129899%5D%2C%20%5B-90.333275%2C%2029.277777%5D%2C%20%5B-90.563307%2C%2029.283254%5D%2C%20%5B-90.645461%2C%2029.129899%5D%2C%20%5B-90.798815%2C%2029.086084%5D%2C%20%5B-90.963123%2C%2029.179192%5D%2C%20%5B-91.09457%2C%2029.190146%5D%2C%20%5B-91.220539%2C%2029.436608%5D%2C%20%5B-91.445094%2C%2029.546147%5D%2C%20%5B-91.532725%2C%2029.529716%5D%2C%20%5B-91.620356%2C%2029.73784%5D%2C%20%5B-91.883249%2C%2029.710455%5D%2C%20%5B-91.888726%2C%2029.836425%5D%2C%20%5B-92.146142%2C%2029.715932%5D%2C%20%5B-92.113281%2C%2029.622824%5D%2C%20%5B-92.31045%2C%2029.535193%5D%2C%20%5B-92.617159%2C%2029.579009%5D%2C%20%5B-92.97316%2C%2029.715932%5D%2C%20%5B-93.2251%2C%2029.776178%5D%2C%20%5B-93.767317%2C%2029.726886%5D%2C%20%5B-93.838517%2C%2029.688547%5D%2C%20%5B-93.926148%2C%2029.787132%5D%2C%20%5B-93.690639%2C%2030.143133%5D%2C%20%5B-93.767317%2C%2030.334826%5D%2C%20%5B-93.696116%2C%2030.438888%5D%2C%20%5B-93.728978%2C%2030.575812%5D%2C%20%5B-93.630393%2C%2030.679874%5D%2C%20%5B-93.526331%2C%2030.93729%5D%2C%20%5B-93.542762%2C%2031.15089%5D%2C%20%5B-93.816609%2C%2031.556184%5D%2C%20%5B-93.822086%2C%2031.775262%5D%2C%20%5B-94.041164%2C%2031.994339%5D%2C%20%5B-94.041164%2C%2033.018527%5D%2C%20%5B-93.608485%2C%2033.018527%5D%5D%5D%2C%20%22type%22%3A%20%22Polygon%22%7D%2C%20%22id%22%3A%20%22LA%22%2C%20%22properties%22%3A%20%7B%22count%22%3A%2074336%2C%20%22highlight%22%3A%20%7B%7D%2C%20%22name%22%3A%20%22Louisiana%22%2C%20%22style%22%3A%20%7B%22color%22%3A%20%22black%22%2C%20%22fillColor%22%3A%20%22%23ffffb2%22%2C%20%22fillOpacity%22%3A%200.7%2C%20%22opacity%22%3A%200.3%2C%20%22weight%22%3A%201%7D%7D%2C%20%22type%22%3A%20%22Feature%22%7D%2C%20%7B%22geometry%22%3A%20%7B%22coordinates%22%3A%20%5B%5B%5B-70.703921%2C%2043.057759%5D%2C%20%5B-70.824413%2C%2043.128959%5D%2C%20%5B-70.807983%2C%2043.227544%5D%2C%20%5B-70.966814%2C%2043.34256%5D%2C%20%5B-71.032537%2C%2044.657025%5D%2C%20%5B-71.08183%2C%2045.303304%5D%2C%20%5B-70.649151%2C%2045.440228%5D%2C%20%5B-70.720352%2C%2045.511428%5D%2C%20%5B-70.556043%2C%2045.664782%5D%2C%20%5B-70.386258%2C%2045.735983%5D%2C%20%5B-70.41912%2C%2045.796229%5D%2C%20%5B-70.260289%2C%2045.889337%5D%2C%20%5B-70.309581%2C%2046.064599%5D%2C%20%5B-70.210996%2C%2046.327492%5D%2C%20%5B-70.057642%2C%2046.415123%5D%2C%20%5B-69.997395%2C%2046.694447%5D%2C%20%5B-69.225147%2C%2047.461219%5D%2C%20%5B-69.044408%2C%2047.428357%5D%2C%20%5B-69.033454%2C%2047.242141%5D%2C%20%5B-68.902007%2C%2047.176418%5D%2C%20%5B-68.578868%2C%2047.285957%5D%2C%20%5B-68.376221%2C%2047.285957%5D%2C%20%5B-68.233821%2C%2047.357157%5D%2C%20%5B-67.954497%2C%2047.198326%5D%2C%20%5B-67.790188%2C%2047.066879%5D%2C%20%5B-67.779235%2C%2045.944106%5D%2C%20%5B-67.801142%2C%2045.675736%5D%2C%20%5B-67.456095%2C%2045.604536%5D%2C%20%5B-67.505388%2C%2045.48952%5D%2C%20%5B-67.417757%2C%2045.379982%5D%2C%20%5B-67.488957%2C%2045.281397%5D%2C%20%5B-67.346556%2C%2045.128042%5D%2C%20%5B-67.16034%2C%2045.160904%5D%2C%20%5B-66.979601%2C%2044.804903%5D%2C%20%5B-67.187725%2C%2044.646072%5D%2C%20%5B-67.308218%2C%2044.706318%5D%2C%20%5B-67.406803%2C%2044.596779%5D%2C%20%5B-67.549203%2C%2044.624164%5D%2C%20%5B-67.565634%2C%2044.531056%5D%2C%20%5B-67.75185%2C%2044.54201%5D%2C%20%5B-68.047605%2C%2044.328409%5D%2C%20%5B-68.118805%2C%2044.476286%5D%2C%20%5B-68.222867%2C%2044.48724%5D%2C%20%5B-68.173574%2C%2044.328409%5D%2C%20%5B-68.403606%2C%2044.251732%5D%2C%20%5B-68.458375%2C%2044.377701%5D%2C%20%5B-68.567914%2C%2044.311978%5D%2C%20%5B-68.82533%2C%2044.311978%5D%2C%20%5B-68.830807%2C%2044.459856%5D%2C%20%5B-68.984161%2C%2044.426994%5D%2C%20%5B-68.956777%2C%2044.322932%5D%2C%20%5B-69.099177%2C%2044.103854%5D%2C%20%5B-69.071793%2C%2044.043608%5D%2C%20%5B-69.258008%2C%2043.923115%5D%2C%20%5B-69.444224%2C%2043.966931%5D%2C%20%5B-69.553763%2C%2043.840961%5D%2C%20%5B-69.707118%2C%2043.82453%5D%2C%20%5B-69.833087%2C%2043.720469%5D%2C%20%5B-69.986442%2C%2043.742376%5D%2C%20%5B-70.030257%2C%2043.851915%5D%2C%20%5B-70.254812%2C%2043.676653%5D%2C%20%5B-70.194565%2C%2043.567114%5D%2C%20%5B-70.358873%2C%2043.528776%5D%2C%20%5B-70.369827%2C%2043.435668%5D%2C%20%5B-70.556043%2C%2043.320652%5D%2C%20%5B-70.703921%2C%2043.057759%5D%5D%5D%2C%20%22type%22%3A%20%22Polygon%22%7D%2C%20%22id%22%3A%20%22ME%22%2C%20%22properties%22%3A%20%7B%22count%22%3A%202093%2C%20%22highlight%22%3A%20%7B%7D%2C%20%22name%22%3A%20%22Maine%22%2C%20%22style%22%3A%20%7B%22color%22%3A%20%22black%22%2C%20%22fillColor%22%3A%20%22%23ffffb2%22%2C%20%22fillOpacity%22%3A%200.7%2C%20%22opacity%22%3A%200.3%2C%20%22weight%22%3A%201%7D%7D%2C%20%22type%22%3A%20%22Feature%22%7D%2C%20%7B%22geometry%22%3A%20%7B%22coordinates%22%3A%20%5B%5B%5B%5B-75.994645%2C%2037.95325%5D%2C%20%5B-76.016553%2C%2037.95325%5D%2C%20%5B-76.043938%2C%2037.95325%5D%2C%20%5B-75.994645%2C%2037.95325%5D%5D%5D%2C%20%5B%5B%5B-79.477979%2C%2039.722302%5D%2C%20%5B-75.786521%2C%2039.722302%5D%2C%20%5B-75.693413%2C%2038.462606%5D%2C%20%5B-75.047134%2C%2038.451652%5D%2C%20%5B-75.244304%2C%2038.029928%5D%2C%20%5B-75.397659%2C%2038.013497%5D%2C%20%5B-75.671506%2C%2037.95325%5D%2C%20%5B-75.885106%2C%2037.909435%5D%2C%20%5B-75.879629%2C%2038.073743%5D%2C%20%5B-75.961783%2C%2038.139466%5D%2C%20%5B-75.846768%2C%2038.210667%5D%2C%20%5B-76.000122%2C%2038.374975%5D%2C%20%5B-76.049415%2C%2038.303775%5D%2C%20%5B-76.257538%2C%2038.320205%5D%2C%20%5B-76.328738%2C%2038.500944%5D%2C%20%5B-76.263015%2C%2038.500944%5D%2C%20%5B-76.257538%2C%2038.736453%5D%2C%20%5B-76.191815%2C%2038.829561%5D%2C%20%5B-76.279446%2C%2039.147223%5D%2C%20%5B-76.169907%2C%2039.333439%5D%2C%20%5B-76.000122%2C%2039.366301%5D%2C%20%5B-75.972737%2C%2039.557994%5D%2C%20%5B-76.098707%2C%2039.536086%5D%2C%20%5B-76.104184%2C%2039.437501%5D%2C%20%5B-76.367077%2C%2039.311532%5D%2C%20%5B-76.443754%2C%2039.196516%5D%2C%20%5B-76.460185%2C%2038.906238%5D%2C%20%5B-76.55877%2C%2038.769315%5D%2C%20%5B-76.514954%2C%2038.539283%5D%2C%20%5B-76.383508%2C%2038.380452%5D%2C%20%5B-76.399939%2C%2038.259959%5D%2C%20%5B-76.317785%2C%2038.139466%5D%2C%20%5B-76.3616%2C%2038.057312%5D%2C%20%5B-76.591632%2C%2038.216144%5D%2C%20%5B-76.920248%2C%2038.292821%5D%2C%20%5B-77.018833%2C%2038.446175%5D%2C%20%5B-77.205049%2C%2038.358544%5D%2C%20%5B-77.276249%2C%2038.479037%5D%2C%20%5B-77.128372%2C%2038.632391%5D%2C%20%5B-77.040741%2C%2038.791222%5D%2C%20%5B-76.909294%2C%2038.895284%5D%2C%20%5B-77.035264%2C%2038.993869%5D%2C%20%5B-77.117418%2C%2038.933623%5D%2C%20%5B-77.248864%2C%2039.026731%5D%2C%20%5B-77.456988%2C%2039.076023%5D%2C%20%5B-77.456988%2C%2039.223901%5D%2C%20%5B-77.566527%2C%2039.306055%5D%2C%20%5B-77.719881%2C%2039.322485%5D%2C%20%5B-77.834897%2C%2039.601809%5D%2C%20%5B-78.004682%2C%2039.601809%5D%2C%20%5B-78.174467%2C%2039.694917%5D%2C%20%5B-78.267575%2C%2039.61824%5D%2C%20%5B-78.431884%2C%2039.623717%5D%2C%20%5B-78.470222%2C%2039.514178%5D%2C%20%5B-78.765977%2C%2039.585379%5D%2C%20%5B-78.963147%2C%2039.437501%5D%2C%20%5B-79.094593%2C%2039.470363%5D%2C%20%5B-79.291763%2C%2039.300578%5D%2C%20%5B-79.488933%2C%2039.20747%5D%2C%20%5B-79.477979%2C%2039.722302%5D%5D%5D%5D%2C%20%22type%22%3A%20%22MultiPolygon%22%7D%2C%20%22id%22%3A%20%22MD%22%2C%20%22properties%22%3A%20%7B%22count%22%3A%2046641%2C%20%22highlight%22%3A%20%7B%7D%2C%20%22name%22%3A%20%22Maryland%22%2C%20%22style%22%3A%20%7B%22color%22%3A%20%22black%22%2C%20%22fillColor%22%3A%20%22%23ffffb2%22%2C%20%22fillOpacity%22%3A%200.7%2C%20%22opacity%22%3A%200.3%2C%20%22weight%22%3A%201%7D%7D%2C%20%22type%22%3A%20%22Feature%22%7D%2C%20%7B%22geometry%22%3A%20%7B%22coordinates%22%3A%20%5B%5B%5B-70.917521%2C%2042.887974%5D%2C%20%5B-70.818936%2C%2042.871543%5D%2C%20%5B-70.780598%2C%2042.696281%5D%2C%20%5B-70.824413%2C%2042.55388%5D%2C%20%5B-70.983245%2C%2042.422434%5D%2C%20%5B-70.988722%2C%2042.269079%5D%2C%20%5B-70.769644%2C%2042.247172%5D%2C%20%5B-70.638197%2C%2042.08834%5D%2C%20%5B-70.660105%2C%2041.962371%5D%2C%20%5B-70.550566%2C%2041.929509%5D%2C%20%5B-70.539613%2C%2041.814493%5D%2C%20%5B-70.260289%2C%2041.715908%5D%2C%20%5B-69.937149%2C%2041.809016%5D%2C%20%5B-70.008349%2C%2041.672093%5D%2C%20%5B-70.484843%2C%2041.5516%5D%2C%20%5B-70.660105%2C%2041.546123%5D%2C%20%5B-70.764167%2C%2041.639231%5D%2C%20%5B-70.928475%2C%2041.611847%5D%2C%20%5B-70.933952%2C%2041.540646%5D%2C%20%5B-71.120168%2C%2041.496831%5D%2C%20%5B-71.196845%2C%2041.67757%5D%2C%20%5B-71.22423%2C%2041.710431%5D%2C%20%5B-71.328292%2C%2041.781632%5D%2C%20%5B-71.383061%2C%2042.01714%5D%2C%20%5B-71.530939%2C%2042.01714%5D%2C%20%5B-71.799309%2C%2042.006186%5D%2C%20%5B-71.799309%2C%2042.022617%5D%2C%20%5B-73.053528%2C%2042.039048%5D%2C%20%5B-73.486206%2C%2042.050002%5D%2C%20%5B-73.508114%2C%2042.08834%5D%2C%20%5B-73.267129%2C%2042.745573%5D%2C%20%5B-72.456542%2C%2042.729142%5D%2C%20%5B-71.29543%2C%2042.696281%5D%2C%20%5B-71.185891%2C%2042.789389%5D%2C%20%5B-70.917521%2C%2042.887974%5D%5D%5D%2C%20%22type%22%3A%20%22Polygon%22%7D%2C%20%22id%22%3A%20%22MA%22%2C%20%22properties%22%3A%20%7B%22count%22%3A%2038306%2C%20%22highlight%22%3A%20%7B%7D%2C%20%22name%22%3A%20%22Massachusetts%22%2C%20%22style%22%3A%20%7B%22color%22%3A%20%22black%22%2C%20%22fillColor%22%3A%20%22%23ffffb2%22%2C%20%22fillOpacity%22%3A%200.7%2C%20%22opacity%22%3A%200.3%2C%20%22weight%22%3A%201%7D%7D%2C%20%22type%22%3A%20%22Feature%22%7D%2C%20%7B%22geometry%22%3A%20%7B%22coordinates%22%3A%20%5B%5B%5B%5B-83.454238%2C%2041.732339%5D%2C%20%5B-84.807042%2C%2041.694001%5D%2C%20%5B-84.807042%2C%2041.759724%5D%2C%20%5B-85.990061%2C%2041.759724%5D%2C%20%5B-86.822556%2C%2041.759724%5D%2C%20%5B-86.619909%2C%2041.891171%5D%2C%20%5B-86.482986%2C%2042.115725%5D%2C%20%5B-86.357016%2C%2042.252649%5D%2C%20%5B-86.263908%2C%2042.444341%5D%2C%20%5B-86.209139%2C%2042.718189%5D%2C%20%5B-86.231047%2C%2043.013943%5D%2C%20%5B-86.526801%2C%2043.594499%5D%2C%20%5B-86.433693%2C%2043.813577%5D%2C%20%5B-86.499417%2C%2044.07647%5D%2C%20%5B-86.269385%2C%2044.34484%5D%2C%20%5B-86.220093%2C%2044.569394%5D%2C%20%5B-86.252954%2C%2044.689887%5D%2C%20%5B-86.088646%2C%2044.73918%5D%2C%20%5B-86.066738%2C%2044.903488%5D%2C%20%5B-85.809322%2C%2044.947303%5D%2C%20%5B-85.612152%2C%2045.128042%5D%2C%20%5B-85.628583%2C%2044.766564%5D%2C%20%5B-85.524521%2C%2044.750133%5D%2C%20%5B-85.393075%2C%2044.930872%5D%2C%20%5B-85.387598%2C%2045.237581%5D%2C%20%5B-85.305444%2C%2045.314258%5D%2C%20%5B-85.031597%2C%2045.363551%5D%2C%20%5B-85.119228%2C%2045.577151%5D%2C%20%5B-84.938489%2C%2045.75789%5D%2C%20%5B-84.713934%2C%2045.768844%5D%2C%20%5B-84.461995%2C%2045.653829%5D%2C%20%5B-84.215533%2C%2045.637398%5D%2C%20%5B-84.09504%2C%2045.494997%5D%2C%20%5B-83.908824%2C%2045.484043%5D%2C%20%5B-83.596638%2C%2045.352597%5D%2C%20%5B-83.4871%2C%2045.358074%5D%2C%20%5B-83.317314%2C%2045.144473%5D%2C%20%5B-83.454238%2C%2045.029457%5D%2C%20%5B-83.322791%2C%2044.88158%5D%2C%20%5B-83.273499%2C%2044.711795%5D%2C%20%5B-83.333745%2C%2044.339363%5D%2C%20%5B-83.536392%2C%2044.246255%5D%2C%20%5B-83.585684%2C%2044.054562%5D%2C%20%5B-83.82667%2C%2043.988839%5D%2C%20%5B-83.958116%2C%2043.758807%5D%2C%20%5B-83.908824%2C%2043.671176%5D%2C%20%5B-83.667839%2C%2043.589022%5D%2C%20%5B-83.481623%2C%2043.714992%5D%2C%20%5B-83.262545%2C%2043.972408%5D%2C%20%5B-82.917498%2C%2044.070993%5D%2C%20%5B-82.747713%2C%2043.994316%5D%2C%20%5B-82.643651%2C%2043.851915%5D%2C%20%5B-82.539589%2C%2043.435668%5D%2C%20%5B-82.523158%2C%2043.227544%5D%2C%20%5B-82.413619%2C%2042.975605%5D%2C%20%5B-82.517681%2C%2042.614127%5D%2C%20%5B-82.681989%2C%2042.559357%5D%2C%20%5B-82.687466%2C%2042.690804%5D%2C%20%5B-82.797005%2C%2042.652465%5D%2C%20%5B-82.922975%2C%2042.351234%5D%2C%20%5B-83.125621%2C%2042.236218%5D%2C%20%5B-83.185868%2C%2042.006186%5D%2C%20%5B-83.437807%2C%2041.814493%5D%2C%20%5B-83.454238%2C%2041.732339%5D%5D%5D%2C%20%5B%5B%5B-85.508091%2C%2045.730506%5D%2C%20%5B-85.49166%2C%2045.610013%5D%2C%20%5B-85.623106%2C%2045.588105%5D%2C%20%5B-85.568337%2C%2045.75789%5D%2C%20%5B-85.508091%2C%2045.730506%5D%5D%5D%2C%20%5B%5B%5B-87.589328%2C%2045.095181%5D%2C%20%5B-87.742682%2C%2045.199243%5D%2C%20%5B-87.649574%2C%2045.341643%5D%2C%20%5B-87.885083%2C%2045.363551%5D%2C%20%5B-87.791975%2C%2045.500474%5D%2C%20%5B-87.781021%2C%2045.675736%5D%2C%20%5B-87.989145%2C%2045.796229%5D%2C%20%5B-88.10416%2C%2045.922199%5D%2C%20%5B-88.531362%2C%2046.020784%5D%2C%20%5B-88.662808%2C%2045.987922%5D%2C%20%5B-89.09001%2C%2046.135799%5D%2C%20%5B-90.119674%2C%2046.338446%5D%2C%20%5B-90.229213%2C%2046.508231%5D%2C%20%5B-90.415429%2C%2046.568478%5D%2C%20%5B-90.026566%2C%2046.672539%5D%2C%20%5B-89.851304%2C%2046.793032%5D%2C%20%5B-89.413149%2C%2046.842325%5D%2C%20%5B-89.128348%2C%2046.990202%5D%2C%20%5B-88.996902%2C%2046.995679%5D%2C%20%5B-88.887363%2C%2047.099741%5D%2C%20%5B-88.575177%2C%2047.247618%5D%2C%20%5B-88.416346%2C%2047.373588%5D%2C%20%5B-88.180837%2C%2047.455742%5D%2C%20%5B-87.956283%2C%2047.384542%5D%2C%20%5B-88.350623%2C%2047.077833%5D%2C%20%5B-88.443731%2C%2046.973771%5D%2C%20%5B-88.438254%2C%2046.787555%5D%2C%20%5B-88.246561%2C%2046.929956%5D%2C%20%5B-87.901513%2C%2046.908048%5D%2C%20%5B-87.633143%2C%2046.809463%5D%2C%20%5B-87.392158%2C%2046.535616%5D%2C%20%5B-87.260711%2C%2046.486323%5D%2C%20%5B-87.008772%2C%2046.530139%5D%2C%20%5B-86.948526%2C%2046.469893%5D%2C%20%5B-86.696587%2C%2046.437031%5D%2C%20%5B-86.159846%2C%2046.667063%5D%2C%20%5B-85.880522%2C%2046.68897%5D%2C%20%5B-85.508091%2C%2046.678016%5D%2C%20%5B-85.256151%2C%2046.754694%5D%2C%20%5B-85.064458%2C%2046.760171%5D%2C%20%5B-85.02612%2C%2046.480847%5D%2C%20%5B-84.82895%2C%2046.442508%5D%2C%20%5B-84.63178%2C%2046.486323%5D%2C%20%5B-84.549626%2C%2046.4206%5D%2C%20%5B-84.418179%2C%2046.502754%5D%2C%20%5B-84.127902%2C%2046.530139%5D%2C%20%5B-84.122425%2C%2046.179615%5D%2C%20%5B-83.990978%2C%2046.031737%5D%2C%20%5B-83.793808%2C%2045.993399%5D%2C%20%5B-83.7719%2C%2046.091984%5D%2C%20%5B-83.580208%2C%2046.091984%5D%2C%20%5B-83.476146%2C%2045.987922%5D%2C%20%5B-83.563777%2C%2045.911245%5D%2C%20%5B-84.111471%2C%2045.976968%5D%2C%20%5B-84.374364%2C%2045.933153%5D%2C%20%5B-84.659165%2C%2046.053645%5D%2C%20%5B-84.741319%2C%2045.944106%5D%2C%20%5B-84.70298%2C%2045.850998%5D%2C%20%5B-84.82895%2C%2045.872906%5D%2C%20%5B-85.015166%2C%2046.00983%5D%2C%20%5B-85.338305%2C%2046.091984%5D%2C%20%5B-85.502614%2C%2046.097461%5D%2C%20%5B-85.661445%2C%2045.966014%5D%2C%20%5B-85.924338%2C%2045.933153%5D%2C%20%5B-86.209139%2C%2045.960537%5D%2C%20%5B-86.324155%2C%2045.905768%5D%2C%20%5B-86.351539%2C%2045.796229%5D%2C%20%5B-86.663725%2C%2045.703121%5D%2C%20%5B-86.647294%2C%2045.834568%5D%2C%20%5B-86.784218%2C%2045.861952%5D%2C%20%5B-86.838987%2C%2045.725029%5D%2C%20%5B-87.069019%2C%2045.719552%5D%2C%20%5B-87.17308%2C%2045.659305%5D%2C%20%5B-87.326435%2C%2045.423797%5D%2C%20%5B-87.611236%2C%2045.122565%5D%2C%20%5B-87.589328%2C%2045.095181%5D%5D%5D%2C%20%5B%5B%5B-88.805209%2C%2047.976051%5D%2C%20%5B-89.057148%2C%2047.850082%5D%2C%20%5B-89.188594%2C%2047.833651%5D%2C%20%5B-89.177641%2C%2047.937713%5D%2C%20%5B-88.547792%2C%2048.173221%5D%2C%20%5B-88.668285%2C%2048.008913%5D%2C%20%5B-88.805209%2C%2047.976051%5D%5D%5D%5D%2C%20%22type%22%3A%20%22MultiPolygon%22%7D%2C%20%22id%22%3A%20%22MI%22%2C%20%22properties%22%3A%20%7B%22count%22%3A%2099065%2C%20%22highlight%22%3A%20%7B%7D%2C%20%22name%22%3A%20%22Michigan%22%2C%20%22style%22%3A%20%7B%22color%22%3A%20%22black%22%2C%20%22fillColor%22%3A%20%22%23ffffb2%22%2C%20%22fillOpacity%22%3A%200.7%2C%20%22opacity%22%3A%200.3%2C%20%22weight%22%3A%201%7D%7D%2C%20%22type%22%3A%20%22Feature%22%7D%2C%20%7B%22geometry%22%3A%20%7B%22coordinates%22%3A%20%5B%5B%5B-92.014696%2C%2046.705401%5D%2C%20%5B-92.091373%2C%2046.749217%5D%2C%20%5B-92.29402%2C%2046.667063%5D%2C%20%5B-92.29402%2C%2046.075553%5D%2C%20%5B-92.354266%2C%2046.015307%5D%2C%20%5B-92.639067%2C%2045.933153%5D%2C%20%5B-92.869098%2C%2045.719552%5D%2C%20%5B-92.885529%2C%2045.577151%5D%2C%20%5B-92.770513%2C%2045.566198%5D%2C%20%5B-92.644544%2C%2045.440228%5D%2C%20%5B-92.75956%2C%2045.286874%5D%2C%20%5B-92.737652%2C%2045.117088%5D%2C%20%5B-92.808852%2C%2044.750133%5D%2C%20%5B-92.545959%2C%2044.569394%5D%2C%20%5B-92.337835%2C%2044.552964%5D%2C%20%5B-92.233773%2C%2044.443425%5D%2C%20%5B-91.927065%2C%2044.333886%5D%2C%20%5B-91.877772%2C%2044.202439%5D%2C%20%5B-91.592971%2C%2044.032654%5D%2C%20%5B-91.43414%2C%2043.994316%5D%2C%20%5B-91.242447%2C%2043.775238%5D%2C%20%5B-91.269832%2C%2043.616407%5D%2C%20%5B-91.215062%2C%2043.501391%5D%2C%20%5B-91.368417%2C%2043.501391%5D%2C%20%5B-96.451017%2C%2043.501391%5D%2C%20%5B-96.451017%2C%2045.297827%5D%2C%20%5B-96.681049%2C%2045.412843%5D%2C%20%5B-96.856311%2C%2045.604536%5D%2C%20%5B-96.582464%2C%2045.818137%5D%2C%20%5B-96.560556%2C%2045.933153%5D%2C%20%5B-96.598895%2C%2046.332969%5D%2C%20%5B-96.719387%2C%2046.437031%5D%2C%20%5B-96.801542%2C%2046.656109%5D%2C%20%5B-96.785111%2C%2046.924479%5D%2C%20%5B-96.823449%2C%2046.968294%5D%2C%20%5B-96.856311%2C%2047.609096%5D%2C%20%5B-97.053481%2C%2047.948667%5D%2C%20%5B-97.130158%2C%2048.140359%5D%2C%20%5B-97.16302%2C%2048.545653%5D%2C%20%5B-97.097296%2C%2048.682577%5D%2C%20%5B-97.228743%2C%2049.000239%5D%2C%20%5B-95.152983%2C%2049.000239%5D%2C%20%5B-95.152983%2C%2049.383625%5D%2C%20%5B-94.955813%2C%2049.372671%5D%2C%20%5B-94.824366%2C%2049.295994%5D%2C%20%5B-94.69292%2C%2048.775685%5D%2C%20%5B-94.588858%2C%2048.715438%5D%2C%20%5B-94.260241%2C%2048.699007%5D%2C%20%5B-94.221903%2C%2048.649715%5D%2C%20%5B-93.838517%2C%2048.627807%5D%2C%20%5B-93.794701%2C%2048.518268%5D%2C%20%5B-93.466085%2C%2048.545653%5D%2C%20%5B-93.466085%2C%2048.589469%5D%2C%20%5B-93.208669%2C%2048.644238%5D%2C%20%5B-92.984114%2C%2048.62233%5D%2C%20%5B-92.726698%2C%2048.540176%5D%2C%20%5B-92.655498%2C%2048.436114%5D%2C%20%5B-92.50762%2C%2048.447068%5D%2C%20%5B-92.370697%2C%2048.222514%5D%2C%20%5B-92.304974%2C%2048.315622%5D%2C%20%5B-92.053034%2C%2048.359437%5D%2C%20%5B-92.009219%2C%2048.266329%5D%2C%20%5B-91.713464%2C%2048.200606%5D%2C%20%5B-91.713464%2C%2048.112975%5D%2C%20%5B-91.565587%2C%2048.041775%5D%2C%20%5B-91.264355%2C%2048.080113%5D%2C%20%5B-91.083616%2C%2048.178698%5D%2C%20%5B-90.837154%2C%2048.238944%5D%2C%20%5B-90.749522%2C%2048.091067%5D%2C%20%5B-90.579737%2C%2048.123929%5D%2C%20%5B-90.377091%2C%2048.091067%5D%2C%20%5B-90.141582%2C%2048.112975%5D%2C%20%5B-89.873212%2C%2047.987005%5D%2C%20%5B-89.615796%2C%2048.008913%5D%2C%20%5B-89.637704%2C%2047.954144%5D%2C%20%5B-89.971797%2C%2047.828174%5D%2C%20%5B-90.437337%2C%2047.729589%5D%2C%20%5B-90.738569%2C%2047.625527%5D%2C%20%5B-91.171247%2C%2047.368111%5D%2C%20%5B-91.357463%2C%2047.20928%5D%2C%20%5B-91.642264%2C%2047.028541%5D%2C%20%5B-92.091373%2C%2046.787555%5D%2C%20%5B-92.014696%2C%2046.705401%5D%5D%5D%2C%20%22type%22%3A%20%22Polygon%22%7D%2C%20%22id%22%3A%20%22MN%22%2C%20%22properties%22%3A%20%7B%22count%22%3A%2097581%2C%20%22highlight%22%3A%20%7B%7D%2C%20%22name%22%3A%20%22Minnesota%22%2C%20%22style%22%3A%20%7B%22color%22%3A%20%22black%22%2C%20%22fillColor%22%3A%20%22%23ffffb2%22%2C%20%22fillOpacity%22%3A%200.7%2C%20%22opacity%22%3A%200.3%2C%20%22weight%22%3A%201%7D%7D%2C%20%22type%22%3A%20%22Feature%22%7D%2C%20%7B%22geometry%22%3A%20%7B%22coordinates%22%3A%20%5B%5B%5B-88.471115%2C%2034.995703%5D%2C%20%5B-88.202745%2C%2034.995703%5D%2C%20%5B-88.098683%2C%2034.891641%5D%2C%20%5B-88.241084%2C%2033.796253%5D%2C%20%5B-88.471115%2C%2031.895754%5D%2C%20%5B-88.394438%2C%2030.367688%5D%2C%20%5B-88.503977%2C%2030.323872%5D%2C%20%5B-88.744962%2C%2030.34578%5D%2C%20%5B-88.843547%2C%2030.411504%5D%2C%20%5B-89.084533%2C%2030.367688%5D%2C%20%5B-89.418626%2C%2030.252672%5D%2C%20%5B-89.522688%2C%2030.181472%5D%2C%20%5B-89.643181%2C%2030.285534%5D%2C%20%5B-89.681519%2C%2030.449842%5D%2C%20%5B-89.845827%2C%2030.66892%5D%2C%20%5B-89.747242%2C%2030.997536%5D%2C%20%5B-91.636787%2C%2030.997536%5D%2C%20%5B-91.565587%2C%2031.068736%5D%2C%20%5B-91.636787%2C%2031.265906%5D%2C%20%5B-91.516294%2C%2031.27686%5D%2C%20%5B-91.499863%2C%2031.643815%5D%2C%20%5B-91.401278%2C%2031.621907%5D%2C%20%5B-91.341032%2C%2031.846462%5D%2C%20%5B-91.105524%2C%2031.988862%5D%2C%20%5B-90.985031%2C%2032.218894%5D%2C%20%5B-91.006939%2C%2032.514649%5D%2C%20%5B-91.154816%2C%2032.640618%5D%2C%20%5B-91.143862%2C%2032.843265%5D%2C%20%5B-91.072662%2C%2032.887081%5D%2C%20%5B-91.16577%2C%2033.002096%5D%2C%20%5B-91.089093%2C%2033.13902%5D%2C%20%5B-91.143862%2C%2033.347144%5D%2C%20%5B-91.056231%2C%2033.429298%5D%2C%20%5B-91.231493%2C%2033.560744%5D%2C%20%5B-91.072662%2C%2033.867453%5D%2C%20%5B-90.891923%2C%2034.026284%5D%2C%20%5B-90.952169%2C%2034.135823%5D%2C%20%5B-90.744046%2C%2034.300131%5D%2C%20%5B-90.749522%2C%2034.365854%5D%2C%20%5B-90.568783%2C%2034.420624%5D%2C%20%5B-90.585214%2C%2034.617794%5D%2C%20%5B-90.481152%2C%2034.661609%5D%2C%20%5B-90.409952%2C%2034.831394%5D%2C%20%5B-90.251121%2C%2034.908072%5D%2C%20%5B-90.311367%2C%2034.995703%5D%2C%20%5B-88.471115%2C%2034.995703%5D%5D%5D%2C%20%22type%22%3A%20%22Polygon%22%7D%2C%20%22id%22%3A%20%22MS%22%2C%20%22properties%22%3A%20%7B%22count%22%3A%207092%2C%20%22highlight%22%3A%20%7B%7D%2C%20%22name%22%3A%20%22Mississippi%22%2C%20%22style%22%3A%20%7B%22color%22%3A%20%22black%22%2C%20%22fillColor%22%3A%20%22%23ffffb2%22%2C%20%22fillOpacity%22%3A%200.7%2C%20%22opacity%22%3A%200.3%2C%20%22weight%22%3A%201%7D%7D%2C%20%22type%22%3A%20%22Feature%22%7D%2C%20%7B%22geometry%22%3A%20%7B%22coordinates%22%3A%20%5B%5B%5B-91.833957%2C%2040.609566%5D%2C%20%5B-91.729895%2C%2040.615043%5D%2C%20%5B-91.527248%2C%2040.412397%5D%2C%20%5B-91.417709%2C%2040.379535%5D%2C%20%5B-91.50534%2C%2040.237135%5D%2C%20%5B-91.494386%2C%2040.034488%5D%2C%20%5B-91.368417%2C%2039.727779%5D%2C%20%5B-91.061708%2C%2039.470363%5D%2C%20%5B-90.727615%2C%2039.256762%5D%2C%20%5B-90.661891%2C%2038.928146%5D%2C%20%5B-90.585214%2C%2038.867899%5D%2C%20%5B-90.470199%2C%2038.961007%5D%2C%20%5B-90.251121%2C%2038.917192%5D%2C%20%5B-90.10872%2C%2038.845992%5D%2C%20%5B-90.207305%2C%2038.725499%5D%2C%20%5B-90.179921%2C%2038.632391%5D%2C%20%5B-90.349706%2C%2038.374975%5D%2C%20%5B-90.355183%2C%2038.216144%5D%2C%20%5B-90.059428%2C%2038.013497%5D%2C%20%5B-89.949889%2C%2037.88205%5D%2C%20%5B-89.84035%2C%2037.903958%5D%2C%20%5B-89.517211%2C%2037.690357%5D%2C%20%5B-89.517211%2C%2037.537003%5D%2C%20%5B-89.435057%2C%2037.34531%5D%2C%20%5B-89.517211%2C%2037.279587%5D%2C%20%5B-89.292656%2C%2036.994786%5D%2C%20%5B-89.133825%2C%2036.983832%5D%2C%20%5B-89.215979%2C%2036.578538%5D%2C%20%5B-89.363857%2C%2036.622354%5D%2C%20%5B-89.418626%2C%2036.496384%5D%2C%20%5B-89.484349%2C%2036.496384%5D%2C%20%5B-89.539119%2C%2036.496384%5D%2C%20%5B-89.533642%2C%2036.249922%5D%2C%20%5B-89.730812%2C%2035.997983%5D%2C%20%5B-90.377091%2C%2035.997983%5D%2C%20%5B-90.218259%2C%2036.184199%5D%2C%20%5B-90.064905%2C%2036.304691%5D%2C%20%5B-90.152536%2C%2036.496384%5D%2C%20%5B-94.473842%2C%2036.501861%5D%2C%20%5B-94.616242%2C%2036.501861%5D%2C%20%5B-94.616242%2C%2037.000263%5D%2C%20%5B-94.610765%2C%2039.158177%5D%2C%20%5B-94.824366%2C%2039.20747%5D%2C%20%5B-94.983197%2C%2039.442978%5D%2C%20%5B-95.109167%2C%2039.541563%5D%2C%20%5B-94.884612%2C%2039.831841%5D%2C%20%5B-95.207752%2C%2039.908518%5D%2C%20%5B-95.306337%2C%2040.001626%5D%2C%20%5B-95.552799%2C%2040.264519%5D%2C%20%5B-95.7664%2C%2040.587659%5D%2C%20%5B-94.632673%2C%2040.571228%5D%2C%20%5B-93.257961%2C%2040.582182%5D%2C%20%5B-91.833957%2C%2040.609566%5D%5D%5D%2C%20%22type%22%3A%20%22Polygon%22%7D%2C%20%22id%22%3A%20%22MO%22%2C%20%22properties%22%3A%20%7B%22count%22%3A%2036971%2C%20%22highlight%22%3A%20%7B%7D%2C%20%22name%22%3A%20%22Missouri%22%2C%20%22style%22%3A%20%7B%22color%22%3A%20%22black%22%2C%20%22fillColor%22%3A%20%22%23ffffb2%22%2C%20%22fillOpacity%22%3A%200.7%2C%20%22opacity%22%3A%200.3%2C%20%22weight%22%3A%201%7D%7D%2C%20%22type%22%3A%20%22Feature%22%7D%2C%20%7B%22geometry%22%3A%20%7B%22coordinates%22%3A%20%5B%5B%5B-104.047534%2C%2049.000239%5D%2C%20%5B-104.042057%2C%2047.861036%5D%2C%20%5B-104.047534%2C%2045.944106%5D%2C%20%5B-104.042057%2C%2044.996596%5D%2C%20%5B-104.058488%2C%2044.996596%5D%2C%20%5B-105.91517%2C%2045.002073%5D%2C%20%5B-109.080842%2C%2045.002073%5D%2C%20%5B-111.05254%2C%2045.002073%5D%2C%20%5B-111.047063%2C%2044.476286%5D%2C%20%5B-111.227803%2C%2044.580348%5D%2C%20%5B-111.386634%2C%2044.75561%5D%2C%20%5B-111.616665%2C%2044.547487%5D%2C%20%5B-111.819312%2C%2044.509148%5D%2C%20%5B-111.868605%2C%2044.563917%5D%2C%20%5B-112.104113%2C%2044.520102%5D%2C%20%5B-112.241036%2C%2044.569394%5D%2C%20%5B-112.471068%2C%2044.481763%5D%2C%20%5B-112.783254%2C%2044.48724%5D%2C%20%5B-112.887315%2C%2044.394132%5D%2C%20%5B-113.002331%2C%2044.448902%5D%2C%20%5B-113.133778%2C%2044.772041%5D%2C%20%5B-113.341901%2C%2044.782995%5D%2C%20%5B-113.456917%2C%2044.865149%5D%2C%20%5B-113.45144%2C%2045.056842%5D%2C%20%5B-113.571933%2C%2045.128042%5D%2C%20%5B-113.736241%2C%2045.330689%5D%2C%20%5B-113.834826%2C%2045.522382%5D%2C%20%5B-113.807441%2C%2045.604536%5D%2C%20%5B-113.98818%2C%2045.703121%5D%2C%20%5B-114.086765%2C%2045.593582%5D%2C%20%5B-114.333228%2C%2045.456659%5D%2C%20%5B-114.546828%2C%2045.560721%5D%2C%20%5B-114.497536%2C%2045.670259%5D%2C%20%5B-114.568736%2C%2045.774321%5D%2C%20%5B-114.387997%2C%2045.88386%5D%2C%20%5B-114.492059%2C%2046.037214%5D%2C%20%5B-114.464674%2C%2046.272723%5D%2C%20%5B-114.322274%2C%2046.645155%5D%2C%20%5B-114.612552%2C%2046.639678%5D%2C%20%5B-114.623506%2C%2046.705401%5D%2C%20%5B-114.886399%2C%2046.809463%5D%2C%20%5B-114.930214%2C%2046.919002%5D%2C%20%5B-115.302646%2C%2047.187372%5D%2C%20%5B-115.324554%2C%2047.258572%5D%2C%20%5B-115.527201%2C%2047.302388%5D%2C%20%5B-115.718894%2C%2047.42288%5D%2C%20%5B-115.724371%2C%2047.696727%5D%2C%20%5B-116.04751%2C%2047.976051%5D%2C%20%5B-116.04751%2C%2049.000239%5D%2C%20%5B-111.50165%2C%2048.994762%5D%2C%20%5B-109.453274%2C%2049.000239%5D%2C%20%5B-104.047534%2C%2049.000239%5D%5D%5D%2C%20%22type%22%3A%20%22Polygon%22%7D%2C%20%22id%22%3A%20%22MT%22%2C%20%22properties%22%3A%20%7B%22count%22%3A%203105%2C%20%22highlight%22%3A%20%7B%7D%2C%20%22name%22%3A%20%22Montana%22%2C%20%22style%22%3A%20%7B%22color%22%3A%20%22black%22%2C%20%22fillColor%22%3A%20%22%23ffffb2%22%2C%20%22fillOpacity%22%3A%200.7%2C%20%22opacity%22%3A%200.3%2C%20%22weight%22%3A%201%7D%7D%2C%20%22type%22%3A%20%22Feature%22%7D%2C%20%7B%22geometry%22%3A%20%7B%22coordinates%22%3A%20%5B%5B%5B-103.324578%2C%2043.002989%5D%2C%20%5B-101.626726%2C%2042.997512%5D%2C%20%5B-98.499393%2C%2042.997512%5D%2C%20%5B-98.466531%2C%2042.94822%5D%2C%20%5B-97.951699%2C%2042.767481%5D%2C%20%5B-97.831206%2C%2042.866066%5D%2C%20%5B-97.688806%2C%2042.844158%5D%2C%20%5B-97.217789%2C%2042.844158%5D%2C%20%5B-96.692003%2C%2042.657942%5D%2C%20%5B-96.626279%2C%2042.515542%5D%2C%20%5B-96.44554%2C%2042.488157%5D%2C%20%5B-96.264801%2C%2042.039048%5D%2C%20%5B-96.127878%2C%2041.973325%5D%2C%20%5B-96.062155%2C%2041.798063%5D%2C%20%5B-96.122401%2C%2041.67757%5D%2C%20%5B-96.095016%2C%2041.540646%5D%2C%20%5B-95.919754%2C%2041.453015%5D%2C%20%5B-95.925231%2C%2041.201076%5D%2C%20%5B-95.826646%2C%2040.976521%5D%2C%20%5B-95.881416%2C%2040.719105%5D%2C%20%5B-95.7664%2C%2040.587659%5D%2C%20%5B-95.552799%2C%2040.264519%5D%2C%20%5B-95.306337%2C%2040.001626%5D%2C%20%5B-101.90605%2C%2040.001626%5D%2C%20%5B-102.053927%2C%2040.001626%5D%2C%20%5B-102.053927%2C%2041.003906%5D%2C%20%5B-104.053011%2C%2041.003906%5D%2C%20%5B-104.053011%2C%2043.002989%5D%2C%20%5B-103.324578%2C%2043.002989%5D%5D%5D%2C%20%22type%22%3A%20%22Polygon%22%7D%2C%20%22id%22%3A%20%22NE%22%2C%20%22properties%22%3A%20%7B%22count%22%3A%2022484%2C%20%22highlight%22%3A%20%7B%7D%2C%20%22name%22%3A%20%22Nebraska%22%2C%20%22style%22%3A%20%7B%22color%22%3A%20%22black%22%2C%20%22fillColor%22%3A%20%22%23ffffb2%22%2C%20%22fillOpacity%22%3A%200.7%2C%20%22opacity%22%3A%200.3%2C%20%22weight%22%3A%201%7D%7D%2C%20%22type%22%3A%20%22Feature%22%7D%2C%20%7B%22geometry%22%3A%20%7B%22coordinates%22%3A%20%5B%5B%5B-117.027882%2C%2042.000709%5D%2C%20%5B-114.04295%2C%2041.995232%5D%2C%20%5B-114.048427%2C%2037.000263%5D%2C%20%5B-114.048427%2C%2036.195153%5D%2C%20%5B-114.152489%2C%2036.025367%5D%2C%20%5B-114.251074%2C%2036.01989%5D%2C%20%5B-114.371566%2C%2036.140383%5D%2C%20%5B-114.738521%2C%2036.102045%5D%2C%20%5B-114.678275%2C%2035.516012%5D%2C%20%5B-114.596121%2C%2035.324319%5D%2C%20%5B-114.574213%2C%2035.138103%5D%2C%20%5B-114.634459%2C%2035.00118%5D%2C%20%5B-115.85034%2C%2035.970598%5D%2C%20%5B-116.540435%2C%2036.501861%5D%2C%20%5B-117.498899%2C%2037.21934%5D%2C%20%5B-118.71478%2C%2038.101128%5D%2C%20%5B-120.001861%2C%2038.999346%5D%2C%20%5B-119.996384%2C%2040.264519%5D%2C%20%5B-120.001861%2C%2041.995232%5D%2C%20%5B-118.698349%2C%2041.989755%5D%2C%20%5B-117.027882%2C%2042.000709%5D%5D%5D%2C%20%22type%22%3A%20%22Polygon%22%7D%2C%20%22id%22%3A%20%22NV%22%2C%20%22properties%22%3A%20%7B%22count%22%3A%2010028%2C%20%22highlight%22%3A%20%7B%7D%2C%20%22name%22%3A%20%22Nevada%22%2C%20%22style%22%3A%20%7B%22color%22%3A%20%22black%22%2C%20%22fillColor%22%3A%20%22%23ffffb2%22%2C%20%22fillOpacity%22%3A%200.7%2C%20%22opacity%22%3A%200.3%2C%20%22weight%22%3A%201%7D%7D%2C%20%22type%22%3A%20%22Feature%22%7D%2C%20%7B%22geometry%22%3A%20%7B%22coordinates%22%3A%20%5B%5B%5B-71.08183%2C%2045.303304%5D%2C%20%5B-71.032537%2C%2044.657025%5D%2C%20%5B-70.966814%2C%2043.34256%5D%2C%20%5B-70.807983%2C%2043.227544%5D%2C%20%5B-70.824413%2C%2043.128959%5D%2C%20%5B-70.703921%2C%2043.057759%5D%2C%20%5B-70.818936%2C%2042.871543%5D%2C%20%5B-70.917521%2C%2042.887974%5D%2C%20%5B-71.185891%2C%2042.789389%5D%2C%20%5B-71.29543%2C%2042.696281%5D%2C%20%5B-72.456542%2C%2042.729142%5D%2C%20%5B-72.544173%2C%2042.80582%5D%2C%20%5B-72.533219%2C%2042.953697%5D%2C%20%5B-72.445588%2C%2043.008466%5D%2C%20%5B-72.456542%2C%2043.150867%5D%2C%20%5B-72.379864%2C%2043.572591%5D%2C%20%5B-72.204602%2C%2043.769761%5D%2C%20%5B-72.116971%2C%2043.994316%5D%2C%20%5B-72.02934%2C%2044.07647%5D%2C%20%5B-72.034817%2C%2044.322932%5D%2C%20%5B-71.700724%2C%2044.41604%5D%2C%20%5B-71.536416%2C%2044.585825%5D%2C%20%5B-71.629524%2C%2044.750133%5D%2C%20%5B-71.4926%2C%2044.914442%5D%2C%20%5B-71.503554%2C%2045.013027%5D%2C%20%5B-71.361154%2C%2045.270443%5D%2C%20%5B-71.131122%2C%2045.243058%5D%2C%20%5B-71.08183%2C%2045.303304%5D%5D%5D%2C%20%22type%22%3A%20%22Polygon%22%7D%2C%20%22id%22%3A%20%22NH%22%2C%20%22properties%22%3A%20%7B%22count%22%3A%207365%2C%20%22highlight%22%3A%20%7B%7D%2C%20%22name%22%3A%20%22New%20Hampshire%22%2C%20%22style%22%3A%20%7B%22color%22%3A%20%22black%22%2C%20%22fillColor%22%3A%20%22%23ffffb2%22%2C%20%22fillOpacity%22%3A%200.7%2C%20%22opacity%22%3A%200.3%2C%20%22weight%22%3A%201%7D%7D%2C%20%22type%22%3A%20%22Feature%22%7D%2C%20%7B%22geometry%22%3A%20%7B%22coordinates%22%3A%20%5B%5B%5B-74.236547%2C%2041.14083%5D%2C%20%5B-73.902454%2C%2040.998429%5D%2C%20%5B-74.022947%2C%2040.708151%5D%2C%20%5B-74.187255%2C%2040.642428%5D%2C%20%5B-74.274886%2C%2040.489074%5D%2C%20%5B-74.001039%2C%2040.412397%5D%2C%20%5B-73.979131%2C%2040.297381%5D%2C%20%5B-74.099624%2C%2039.760641%5D%2C%20%5B-74.411809%2C%2039.360824%5D%2C%20%5B-74.614456%2C%2039.245808%5D%2C%20%5B-74.795195%2C%2038.993869%5D%2C%20%5B-74.888303%2C%2039.158177%5D%2C%20%5B-75.178581%2C%2039.240331%5D%2C%20%5B-75.534582%2C%2039.459409%5D%2C%20%5B-75.55649%2C%2039.607286%5D%2C%20%5B-75.561967%2C%2039.629194%5D%2C%20%5B-75.507197%2C%2039.683964%5D%2C%20%5B-75.414089%2C%2039.804456%5D%2C%20%5B-75.145719%2C%2039.88661%5D%2C%20%5B-75.129289%2C%2039.963288%5D%2C%20%5B-74.82258%2C%2040.127596%5D%2C%20%5B-74.773287%2C%2040.215227%5D%2C%20%5B-75.058088%2C%2040.417874%5D%2C%20%5B-75.069042%2C%2040.543843%5D%2C%20%5B-75.195012%2C%2040.576705%5D%2C%20%5B-75.205966%2C%2040.691721%5D%2C%20%5B-75.052611%2C%2040.866983%5D%2C%20%5B-75.134765%2C%2040.971045%5D%2C%20%5B-74.882826%2C%2041.179168%5D%2C%20%5B-74.828057%2C%2041.288707%5D%2C%20%5B-74.69661%2C%2041.359907%5D%2C%20%5B-74.236547%2C%2041.14083%5D%5D%5D%2C%20%22type%22%3A%20%22Polygon%22%7D%2C%20%22id%22%3A%20%22NJ%22%2C%20%22properties%22%3A%20%7B%22count%22%3A%2058594%2C%20%22highlight%22%3A%20%7B%7D%2C%20%22name%22%3A%20%22New%20Jersey%22%2C%20%22style%22%3A%20%7B%22color%22%3A%20%22black%22%2C%20%22fillColor%22%3A%20%22%23ffffb2%22%2C%20%22fillOpacity%22%3A%200.7%2C%20%22opacity%22%3A%200.3%2C%20%22weight%22%3A%201%7D%7D%2C%20%22type%22%3A%20%22Feature%22%7D%2C%20%7B%22geometry%22%3A%20%7B%22coordinates%22%3A%20%5B%5B%5B-107.421329%2C%2037.000263%5D%2C%20%5B-106.868158%2C%2036.994786%5D%2C%20%5B-104.337812%2C%2036.994786%5D%2C%20%5B-103.001438%2C%2037.000263%5D%2C%20%5B-103.001438%2C%2036.501861%5D%2C%20%5B-103.039777%2C%2036.501861%5D%2C%20%5B-103.045254%2C%2034.01533%5D%2C%20%5B-103.067161%2C%2033.002096%5D%2C%20%5B-103.067161%2C%2031.999816%5D%2C%20%5B-106.616219%2C%2031.999816%5D%2C%20%5B-106.643603%2C%2031.901231%5D%2C%20%5B-106.528588%2C%2031.786216%5D%2C%20%5B-108.210008%2C%2031.786216%5D%2C%20%5B-108.210008%2C%2031.331629%5D%2C%20%5B-109.04798%2C%2031.331629%5D%2C%20%5B-109.042503%2C%2037.000263%5D%2C%20%5B-107.421329%2C%2037.000263%5D%5D%5D%2C%20%22type%22%3A%20%22Polygon%22%7D%2C%20%22id%22%3A%20%22NM%22%2C%20%22properties%22%3A%20%7B%22count%22%3A%205855%2C%20%22highlight%22%3A%20%7B%7D%2C%20%22name%22%3A%20%22New%20Mexico%22%2C%20%22style%22%3A%20%7B%22color%22%3A%20%22black%22%2C%20%22fillColor%22%3A%20%22%23ffffb2%22%2C%20%22fillOpacity%22%3A%200.7%2C%20%22opacity%22%3A%200.3%2C%20%22weight%22%3A%201%7D%7D%2C%20%22type%22%3A%20%22Feature%22%7D%2C%20%7B%22geometry%22%3A%20%7B%22coordinates%22%3A%20%5B%5B%5B-73.343806%2C%2045.013027%5D%2C%20%5B-73.332852%2C%2044.804903%5D%2C%20%5B-73.387622%2C%2044.618687%5D%2C%20%5B-73.294514%2C%2044.437948%5D%2C%20%5B-73.321898%2C%2044.246255%5D%2C%20%5B-73.436914%2C%2044.043608%5D%2C%20%5B-73.349283%2C%2043.769761%5D%2C%20%5B-73.404052%2C%2043.687607%5D%2C%20%5B-73.245221%2C%2043.523299%5D%2C%20%5B-73.278083%2C%2042.833204%5D%2C%20%5B-73.267129%2C%2042.745573%5D%2C%20%5B-73.508114%2C%2042.08834%5D%2C%20%5B-73.486206%2C%2042.050002%5D%2C%20%5B-73.55193%2C%2041.294184%5D%2C%20%5B-73.48073%2C%2041.21203%5D%2C%20%5B-73.727192%2C%2041.102491%5D%2C%20%5B-73.655992%2C%2040.987475%5D%2C%20%5B-73.22879%2C%2040.905321%5D%2C%20%5B-73.141159%2C%2040.965568%5D%2C%20%5B-72.774204%2C%2040.965568%5D%2C%20%5B-72.587988%2C%2040.998429%5D%2C%20%5B-72.28128%2C%2041.157261%5D%2C%20%5B-72.259372%2C%2041.042245%5D%2C%20%5B-72.100541%2C%2040.992952%5D%2C%20%5B-72.467496%2C%2040.845075%5D%2C%20%5B-73.239744%2C%2040.625997%5D%2C%20%5B-73.562884%2C%2040.582182%5D%2C%20%5B-73.776484%2C%2040.593136%5D%2C%20%5B-73.935316%2C%2040.543843%5D%2C%20%5B-74.022947%2C%2040.708151%5D%2C%20%5B-73.902454%2C%2040.998429%5D%2C%20%5B-74.236547%2C%2041.14083%5D%2C%20%5B-74.69661%2C%2041.359907%5D%2C%20%5B-74.740426%2C%2041.431108%5D%2C%20%5B-74.89378%2C%2041.436584%5D%2C%20%5B-75.074519%2C%2041.60637%5D%2C%20%5B-75.052611%2C%2041.754247%5D%2C%20%5B-75.173104%2C%2041.869263%5D%2C%20%5B-75.249781%2C%2041.863786%5D%2C%20%5B-75.35932%2C%2042.000709%5D%2C%20%5B-79.76278%2C%2042.000709%5D%2C%20%5B-79.76278%2C%2042.252649%5D%2C%20%5B-79.76278%2C%2042.269079%5D%2C%20%5B-79.149363%2C%2042.55388%5D%2C%20%5B-79.050778%2C%2042.690804%5D%2C%20%5B-78.853608%2C%2042.783912%5D%2C%20%5B-78.930285%2C%2042.953697%5D%2C%20%5B-79.012439%2C%2042.986559%5D%2C%20%5B-79.072686%2C%2043.260406%5D%2C%20%5B-78.486653%2C%2043.375421%5D%2C%20%5B-77.966344%2C%2043.369944%5D%2C%20%5B-77.75822%2C%2043.34256%5D%2C%20%5B-77.533665%2C%2043.233021%5D%2C%20%5B-77.391265%2C%2043.276836%5D%2C%20%5B-76.958587%2C%2043.271359%5D%2C%20%5B-76.695693%2C%2043.34256%5D%2C%20%5B-76.41637%2C%2043.523299%5D%2C%20%5B-76.235631%2C%2043.528776%5D%2C%20%5B-76.230154%2C%2043.802623%5D%2C%20%5B-76.137046%2C%2043.961454%5D%2C%20%5B-76.3616%2C%2044.070993%5D%2C%20%5B-76.312308%2C%2044.196962%5D%2C%20%5B-75.912491%2C%2044.366748%5D%2C%20%5B-75.764614%2C%2044.514625%5D%2C%20%5B-75.282643%2C%2044.848718%5D%2C%20%5B-74.828057%2C%2045.018503%5D%2C%20%5B-74.148916%2C%2044.991119%5D%2C%20%5B-73.343806%2C%2045.013027%5D%5D%5D%2C%20%22type%22%3A%20%22Polygon%22%7D%2C%20%22id%22%3A%20%22NY%22%2C%20%22properties%22%3A%20%7B%22count%22%3A%20171825%2C%20%22highlight%22%3A%20%7B%7D%2C%20%22name%22%3A%20%22New%20York%22%2C%20%22style%22%3A%20%7B%22color%22%3A%20%22black%22%2C%20%22fillColor%22%3A%20%22%23fed976%22%2C%20%22fillOpacity%22%3A%200.7%2C%20%22opacity%22%3A%200.3%2C%20%22weight%22%3A%201%7D%7D%2C%20%22type%22%3A%20%22Feature%22%7D%2C%20%7B%22geometry%22%3A%20%7B%22coordinates%22%3A%20%5B%5B%5B-80.978661%2C%2036.562108%5D%2C%20%5B-80.294043%2C%2036.545677%5D%2C%20%5B-79.510841%2C%2036.5402%5D%2C%20%5B-75.868676%2C%2036.551154%5D%2C%20%5B-75.75366%2C%2036.151337%5D%2C%20%5B-76.032984%2C%2036.189676%5D%2C%20%5B-76.071322%2C%2036.140383%5D%2C%20%5B-76.410893%2C%2036.080137%5D%2C%20%5B-76.460185%2C%2036.025367%5D%2C%20%5B-76.68474%2C%2036.008937%5D%2C%20%5B-76.673786%2C%2035.937736%5D%2C%20%5B-76.399939%2C%2035.987029%5D%2C%20%5B-76.3616%2C%2035.943213%5D%2C%20%5B-76.060368%2C%2035.992506%5D%2C%20%5B-75.961783%2C%2035.899398%5D%2C%20%5B-75.781044%2C%2035.937736%5D%2C%20%5B-75.715321%2C%2035.696751%5D%2C%20%5B-75.775568%2C%2035.581735%5D%2C%20%5B-75.89606%2C%2035.570781%5D%2C%20%5B-76.147999%2C%2035.324319%5D%2C%20%5B-76.482093%2C%2035.313365%5D%2C%20%5B-76.536862%2C%2035.14358%5D%2C%20%5B-76.394462%2C%2034.973795%5D%2C%20%5B-76.279446%2C%2034.940933%5D%2C%20%5B-76.493047%2C%2034.661609%5D%2C%20%5B-76.673786%2C%2034.694471%5D%2C%20%5B-76.991448%2C%2034.667086%5D%2C%20%5B-77.210526%2C%2034.60684%5D%2C%20%5B-77.555573%2C%2034.415147%5D%2C%20%5B-77.82942%2C%2034.163208%5D%2C%20%5B-77.971821%2C%2033.845545%5D%2C%20%5B-78.179944%2C%2033.916745%5D%2C%20%5B-78.541422%2C%2033.851022%5D%2C%20%5B-79.675149%2C%2034.80401%5D%2C%20%5B-80.797922%2C%2034.820441%5D%2C%20%5B-80.781491%2C%2034.935456%5D%2C%20%5B-80.934845%2C%2035.105241%5D%2C%20%5B-81.038907%2C%2035.044995%5D%2C%20%5B-81.044384%2C%2035.149057%5D%2C%20%5B-82.276696%2C%2035.198349%5D%2C%20%5B-82.550543%2C%2035.160011%5D%2C%20%5B-82.764143%2C%2035.066903%5D%2C%20%5B-83.109191%2C%2035.00118%5D%2C%20%5B-83.618546%2C%2034.984749%5D%2C%20%5B-84.319594%2C%2034.990226%5D%2C%20%5B-84.29221%2C%2035.225734%5D%2C%20%5B-84.09504%2C%2035.247642%5D%2C%20%5B-84.018363%2C%2035.41195%5D%2C%20%5B-83.7719%2C%2035.559827%5D%2C%20%5B-83.498053%2C%2035.565304%5D%2C%20%5B-83.251591%2C%2035.718659%5D%2C%20%5B-82.994175%2C%2035.773428%5D%2C%20%5B-82.775097%2C%2035.997983%5D%2C%20%5B-82.638174%2C%2036.063706%5D%2C%20%5B-82.610789%2C%2035.965121%5D%2C%20%5B-82.216449%2C%2036.156814%5D%2C%20%5B-82.03571%2C%2036.118475%5D%2C%20%5B-81.909741%2C%2036.304691%5D%2C%20%5B-81.723525%2C%2036.353984%5D%2C%20%5B-81.679709%2C%2036.589492%5D%2C%20%5B-80.978661%2C%2036.562108%5D%5D%5D%2C%20%22type%22%3A%20%22Polygon%22%7D%2C%20%22id%22%3A%20%22NC%22%2C%20%22properties%22%3A%20%7B%22count%22%3A%20169373%2C%20%22highlight%22%3A%20%7B%7D%2C%20%22name%22%3A%20%22North%20Carolina%22%2C%20%22style%22%3A%20%7B%22color%22%3A%20%22black%22%2C%20%22fillColor%22%3A%20%22%23fed976%22%2C%20%22fillOpacity%22%3A%200.7%2C%20%22opacity%22%3A%200.3%2C%20%22weight%22%3A%201%7D%7D%2C%20%22type%22%3A%20%22Feature%22%7D%2C%20%7B%22geometry%22%3A%20%7B%22coordinates%22%3A%20%5B%5B%5B-97.228743%2C%2049.000239%5D%2C%20%5B-97.097296%2C%2048.682577%5D%2C%20%5B-97.16302%2C%2048.545653%5D%2C%20%5B-97.130158%2C%2048.140359%5D%2C%20%5B-97.053481%2C%2047.948667%5D%2C%20%5B-96.856311%2C%2047.609096%5D%2C%20%5B-96.823449%2C%2046.968294%5D%2C%20%5B-96.785111%2C%2046.924479%5D%2C%20%5B-96.801542%2C%2046.656109%5D%2C%20%5B-96.719387%2C%2046.437031%5D%2C%20%5B-96.598895%2C%2046.332969%5D%2C%20%5B-96.560556%2C%2045.933153%5D%2C%20%5B-104.047534%2C%2045.944106%5D%2C%20%5B-104.042057%2C%2047.861036%5D%2C%20%5B-104.047534%2C%2049.000239%5D%2C%20%5B-97.228743%2C%2049.000239%5D%5D%5D%2C%20%22type%22%3A%20%22Polygon%22%7D%2C%20%22id%22%3A%20%22ND%22%2C%20%22properties%22%3A%20%7B%22count%22%3A%20423%2C%20%22highlight%22%3A%20%7B%7D%2C%20%22name%22%3A%20%22North%20Dakota%22%2C%20%22style%22%3A%20%7B%22color%22%3A%20%22black%22%2C%20%22fillColor%22%3A%20%22%23ffffb2%22%2C%20%22fillOpacity%22%3A%200.7%2C%20%22opacity%22%3A%200.3%2C%20%22weight%22%3A%201%7D%7D%2C%20%22type%22%3A%20%22Feature%22%7D%2C%20%7B%22geometry%22%3A%20%7B%22coordinates%22%3A%20%5B%5B%5B-80.518598%2C%2041.978802%5D%2C%20%5B-80.518598%2C%2040.636951%5D%2C%20%5B-80.666475%2C%2040.582182%5D%2C%20%5B-80.595275%2C%2040.472643%5D%2C%20%5B-80.600752%2C%2040.319289%5D%2C%20%5B-80.737675%2C%2040.078303%5D%2C%20%5B-80.830783%2C%2039.711348%5D%2C%20%5B-81.219646%2C%2039.388209%5D%2C%20%5B-81.345616%2C%2039.344393%5D%2C%20%5B-81.455155%2C%2039.410117%5D%2C%20%5B-81.57017%2C%2039.267716%5D%2C%20%5B-81.685186%2C%2039.273193%5D%2C%20%5B-81.811156%2C%2039.0815%5D%2C%20%5B-81.783771%2C%2038.966484%5D%2C%20%5B-81.887833%2C%2038.873376%5D%2C%20%5B-82.03571%2C%2039.026731%5D%2C%20%5B-82.221926%2C%2038.785745%5D%2C%20%5B-82.172634%2C%2038.632391%5D%2C%20%5B-82.293127%2C%2038.577622%5D%2C%20%5B-82.331465%2C%2038.446175%5D%2C%20%5B-82.594358%2C%2038.424267%5D%2C%20%5B-82.731282%2C%2038.561191%5D%2C%20%5B-82.846298%2C%2038.588575%5D%2C%20%5B-82.890113%2C%2038.758361%5D%2C%20%5B-83.032514%2C%2038.725499%5D%2C%20%5B-83.142052%2C%2038.626914%5D%2C%20%5B-83.519961%2C%2038.703591%5D%2C%20%5B-83.678792%2C%2038.632391%5D%2C%20%5B-83.903347%2C%2038.769315%5D%2C%20%5B-84.215533%2C%2038.807653%5D%2C%20%5B-84.231963%2C%2038.895284%5D%2C%20%5B-84.43461%2C%2039.103408%5D%2C%20%5B-84.817996%2C%2039.103408%5D%2C%20%5B-84.801565%2C%2040.500028%5D%2C%20%5B-84.807042%2C%2041.694001%5D%2C%20%5B-83.454238%2C%2041.732339%5D%2C%20%5B-83.065375%2C%2041.595416%5D%2C%20%5B-82.933929%2C%2041.513262%5D%2C%20%5B-82.835344%2C%2041.589939%5D%2C%20%5B-82.616266%2C%2041.431108%5D%2C%20%5B-82.479343%2C%2041.381815%5D%2C%20%5B-82.013803%2C%2041.513262%5D%2C%20%5B-81.739956%2C%2041.485877%5D%2C%20%5B-81.444201%2C%2041.672093%5D%2C%20%5B-81.011523%2C%2041.852832%5D%2C%20%5B-80.518598%2C%2041.978802%5D%2C%20%5B-80.518598%2C%2041.978802%5D%5D%5D%2C%20%22type%22%3A%20%22Polygon%22%7D%2C%20%22id%22%3A%20%22OH%22%2C%20%22properties%22%3A%20%7B%22count%22%3A%2066609%2C%20%22highlight%22%3A%20%7B%7D%2C%20%22name%22%3A%20%22Ohio%22%2C%20%22style%22%3A%20%7B%22color%22%3A%20%22black%22%2C%20%22fillColor%22%3A%20%22%23ffffb2%22%2C%20%22fillOpacity%22%3A%200.7%2C%20%22opacity%22%3A%200.3%2C%20%22weight%22%3A%201%7D%7D%2C%20%22type%22%3A%20%22Feature%22%7D%2C%20%7B%22geometry%22%3A%20%7B%22coordinates%22%3A%20%5B%5B%5B-100.087706%2C%2037.000263%5D%2C%20%5B-94.616242%2C%2037.000263%5D%2C%20%5B-94.616242%2C%2036.501861%5D%2C%20%5B-94.430026%2C%2035.395519%5D%2C%20%5B-94.484796%2C%2033.637421%5D%2C%20%5B-94.868182%2C%2033.74696%5D%2C%20%5B-94.966767%2C%2033.861976%5D%2C%20%5B-95.224183%2C%2033.960561%5D%2C%20%5B-95.289906%2C%2033.87293%5D%2C%20%5B-95.547322%2C%2033.878407%5D%2C%20%5B-95.602092%2C%2033.933176%5D%2C%20%5B-95.8376%2C%2033.834591%5D%2C%20%5B-95.936185%2C%2033.889361%5D%2C%20%5B-96.149786%2C%2033.840068%5D%2C%20%5B-96.346956%2C%2033.686714%5D%2C%20%5B-96.423633%2C%2033.774345%5D%2C%20%5B-96.631756%2C%2033.845545%5D%2C%20%5B-96.850834%2C%2033.845545%5D%2C%20%5B-96.922034%2C%2033.960561%5D%2C%20%5B-97.173974%2C%2033.736006%5D%2C%20%5B-97.256128%2C%2033.861976%5D%2C%20%5B-97.371143%2C%2033.823637%5D%2C%20%5B-97.458774%2C%2033.905791%5D%2C%20%5B-97.694283%2C%2033.982469%5D%2C%20%5B-97.869545%2C%2033.851022%5D%2C%20%5B-97.946222%2C%2033.987946%5D%2C%20%5B-98.088623%2C%2034.004376%5D%2C%20%5B-98.170777%2C%2034.113915%5D%2C%20%5B-98.36247%2C%2034.157731%5D%2C%20%5B-98.488439%2C%2034.064623%5D%2C%20%5B-98.570593%2C%2034.146777%5D%2C%20%5B-98.767763%2C%2034.135823%5D%2C%20%5B-98.986841%2C%2034.223454%5D%2C%20%5B-99.189488%2C%2034.2125%5D%2C%20%5B-99.260688%2C%2034.404193%5D%2C%20%5B-99.57835%2C%2034.415147%5D%2C%20%5B-99.698843%2C%2034.382285%5D%2C%20%5B-99.923398%2C%2034.573978%5D%2C%20%5B-100.000075%2C%2034.563024%5D%2C%20%5B-100.000075%2C%2036.501861%5D%2C%20%5B-101.812942%2C%2036.501861%5D%2C%20%5B-103.001438%2C%2036.501861%5D%2C%20%5B-103.001438%2C%2037.000263%5D%2C%20%5B-102.042974%2C%2036.994786%5D%2C%20%5B-100.087706%2C%2037.000263%5D%5D%5D%2C%20%22type%22%3A%20%22Polygon%22%7D%2C%20%22id%22%3A%20%22OK%22%2C%20%22properties%22%3A%20%7B%22count%22%3A%2061600%2C%20%22highlight%22%3A%20%7B%7D%2C%20%22name%22%3A%20%22Oklahoma%22%2C%20%22style%22%3A%20%7B%22color%22%3A%20%22black%22%2C%20%22fillColor%22%3A%20%22%23ffffb2%22%2C%20%22fillOpacity%22%3A%200.7%2C%20%22opacity%22%3A%200.3%2C%20%22weight%22%3A%201%7D%7D%2C%20%22type%22%3A%20%22Feature%22%7D%2C%20%7B%22geometry%22%3A%20%7B%22coordinates%22%3A%20%5B%5B%5B-123.211348%2C%2046.174138%5D%2C%20%5B-123.11824%2C%2046.185092%5D%2C%20%5B-122.904639%2C%2046.08103%5D%2C%20%5B-122.811531%2C%2045.960537%5D%2C%20%5B-122.762239%2C%2045.659305%5D%2C%20%5B-122.247407%2C%2045.549767%5D%2C%20%5B-121.809251%2C%2045.708598%5D%2C%20%5B-121.535404%2C%2045.725029%5D%2C%20%5B-121.217742%2C%2045.670259%5D%2C%20%5B-121.18488%2C%2045.604536%5D%2C%20%5B-120.637186%2C%2045.746937%5D%2C%20%5B-120.505739%2C%2045.697644%5D%2C%20%5B-120.209985%2C%2045.725029%5D%2C%20%5B-119.963522%2C%2045.823614%5D%2C%20%5B-119.525367%2C%2045.911245%5D%2C%20%5B-119.125551%2C%2045.933153%5D%2C%20%5B-118.988627%2C%2045.998876%5D%2C%20%5B-116.918344%2C%2045.993399%5D%2C%20%5B-116.78142%2C%2045.823614%5D%2C%20%5B-116.545912%2C%2045.752413%5D%2C%20%5B-116.463758%2C%2045.61549%5D%2C%20%5B-116.671881%2C%2045.319735%5D%2C%20%5B-116.732128%2C%2045.144473%5D%2C%20%5B-116.847143%2C%2045.02398%5D%2C%20%5B-116.830713%2C%2044.930872%5D%2C%20%5B-116.934774%2C%2044.782995%5D%2C%20%5B-117.038836%2C%2044.750133%5D%2C%20%5B-117.241483%2C%2044.394132%5D%2C%20%5B-117.170283%2C%2044.257209%5D%2C%20%5B-116.97859%2C%2044.240778%5D%2C%20%5B-116.896436%2C%2044.158624%5D%2C%20%5B-117.027882%2C%2043.830007%5D%2C%20%5B-117.027882%2C%2042.000709%5D%2C%20%5B-118.698349%2C%2041.989755%5D%2C%20%5B-120.001861%2C%2041.995232%5D%2C%20%5B-121.037003%2C%2041.995232%5D%2C%20%5B-122.378853%2C%2042.011663%5D%2C%20%5B-123.233256%2C%2042.006186%5D%2C%20%5B-124.213628%2C%2042.000709%5D%2C%20%5B-124.356029%2C%2042.115725%5D%2C%20%5B-124.432706%2C%2042.438865%5D%2C%20%5B-124.416275%2C%2042.663419%5D%2C%20%5B-124.553198%2C%2042.838681%5D%2C%20%5B-124.454613%2C%2043.002989%5D%2C%20%5B-124.383413%2C%2043.271359%5D%2C%20%5B-124.235536%2C%2043.55616%5D%2C%20%5B-124.169813%2C%2043.8081%5D%2C%20%5B-124.060274%2C%2044.657025%5D%2C%20%5B-124.076705%2C%2044.772041%5D%2C%20%5B-123.97812%2C%2045.144473%5D%2C%20%5B-123.939781%2C%2045.659305%5D%2C%20%5B-123.994551%2C%2045.944106%5D%2C%20%5B-123.945258%2C%2046.113892%5D%2C%20%5B-123.545441%2C%2046.261769%5D%2C%20%5B-123.370179%2C%2046.146753%5D%2C%20%5B-123.211348%2C%2046.174138%5D%5D%5D%2C%20%22type%22%3A%20%22Polygon%22%7D%2C%20%22id%22%3A%20%22OR%22%2C%20%22properties%22%3A%20%7B%22count%22%3A%2096299%2C%20%22highlight%22%3A%20%7B%7D%2C%20%22name%22%3A%20%22Oregon%22%2C%20%22style%22%3A%20%7B%22color%22%3A%20%22black%22%2C%20%22fillColor%22%3A%20%22%23ffffb2%22%2C%20%22fillOpacity%22%3A%200.7%2C%20%22opacity%22%3A%200.3%2C%20%22weight%22%3A%201%7D%7D%2C%20%22type%22%3A%20%22Feature%22%7D%2C%20%7B%22geometry%22%3A%20%7B%22coordinates%22%3A%20%5B%5B%5B-79.76278%2C%2042.252649%5D%2C%20%5B-79.76278%2C%2042.000709%5D%2C%20%5B-75.35932%2C%2042.000709%5D%2C%20%5B-75.249781%2C%2041.863786%5D%2C%20%5B-75.173104%2C%2041.869263%5D%2C%20%5B-75.052611%2C%2041.754247%5D%2C%20%5B-75.074519%2C%2041.60637%5D%2C%20%5B-74.89378%2C%2041.436584%5D%2C%20%5B-74.740426%2C%2041.431108%5D%2C%20%5B-74.69661%2C%2041.359907%5D%2C%20%5B-74.828057%2C%2041.288707%5D%2C%20%5B-74.882826%2C%2041.179168%5D%2C%20%5B-75.134765%2C%2040.971045%5D%2C%20%5B-75.052611%2C%2040.866983%5D%2C%20%5B-75.205966%2C%2040.691721%5D%2C%20%5B-75.195012%2C%2040.576705%5D%2C%20%5B-75.069042%2C%2040.543843%5D%2C%20%5B-75.058088%2C%2040.417874%5D%2C%20%5B-74.773287%2C%2040.215227%5D%2C%20%5B-74.82258%2C%2040.127596%5D%2C%20%5B-75.129289%2C%2039.963288%5D%2C%20%5B-75.145719%2C%2039.88661%5D%2C%20%5B-75.414089%2C%2039.804456%5D%2C%20%5B-75.616736%2C%2039.831841%5D%2C%20%5B-75.786521%2C%2039.722302%5D%2C%20%5B-79.477979%2C%2039.722302%5D%2C%20%5B-80.518598%2C%2039.722302%5D%2C%20%5B-80.518598%2C%2040.636951%5D%2C%20%5B-80.518598%2C%2041.978802%5D%2C%20%5B-80.518598%2C%2041.978802%5D%2C%20%5B-80.332382%2C%2042.033571%5D%2C%20%5B-79.76278%2C%2042.269079%5D%2C%20%5B-79.76278%2C%2042.252649%5D%5D%5D%2C%20%22type%22%3A%20%22Polygon%22%7D%2C%20%22id%22%3A%20%22PA%22%2C%20%22properties%22%3A%20%7B%22count%22%3A%20116645%2C%20%22highlight%22%3A%20%7B%7D%2C%20%22name%22%3A%20%22Pennsylvania%22%2C%20%22style%22%3A%20%7B%22color%22%3A%20%22black%22%2C%20%22fillColor%22%3A%20%22%23ffffb2%22%2C%20%22fillOpacity%22%3A%200.7%2C%20%22opacity%22%3A%200.3%2C%20%22weight%22%3A%201%7D%7D%2C%20%22type%22%3A%20%22Feature%22%7D%2C%20%7B%22geometry%22%3A%20%7B%22coordinates%22%3A%20%5B%5B%5B%5B-71.196845%2C%2041.67757%5D%2C%20%5B-71.120168%2C%2041.496831%5D%2C%20%5B-71.317338%2C%2041.474923%5D%2C%20%5B-71.196845%2C%2041.67757%5D%5D%5D%2C%20%5B%5B%5B-71.530939%2C%2042.01714%5D%2C%20%5B-71.383061%2C%2042.01714%5D%2C%20%5B-71.328292%2C%2041.781632%5D%2C%20%5B-71.22423%2C%2041.710431%5D%2C%20%5B-71.344723%2C%2041.726862%5D%2C%20%5B-71.448785%2C%2041.578985%5D%2C%20%5B-71.481646%2C%2041.370861%5D%2C%20%5B-71.859555%2C%2041.321569%5D%2C%20%5B-71.799309%2C%2041.414677%5D%2C%20%5B-71.799309%2C%2042.006186%5D%2C%20%5B-71.530939%2C%2042.01714%5D%5D%5D%5D%2C%20%22type%22%3A%20%22MultiPolygon%22%7D%2C%20%22id%22%3A%20%22RI%22%2C%20%22properties%22%3A%20%7B%22count%22%3A%2011524%2C%20%22highlight%22%3A%20%7B%7D%2C%20%22name%22%3A%20%22Rhode%20Island%22%2C%20%22style%22%3A%20%7B%22color%22%3A%20%22black%22%2C%20%22fillColor%22%3A%20%22%23ffffb2%22%2C%20%22fillOpacity%22%3A%200.7%2C%20%22opacity%22%3A%200.3%2C%20%22weight%22%3A%201%7D%7D%2C%20%22type%22%3A%20%22Feature%22%7D%2C%20%7B%22geometry%22%3A%20%7B%22coordinates%22%3A%20%5B%5B%5B-82.764143%2C%2035.066903%5D%2C%20%5B-82.550543%2C%2035.160011%5D%2C%20%5B-82.276696%2C%2035.198349%5D%2C%20%5B-81.044384%2C%2035.149057%5D%2C%20%5B-81.038907%2C%2035.044995%5D%2C%20%5B-80.934845%2C%2035.105241%5D%2C%20%5B-80.781491%2C%2034.935456%5D%2C%20%5B-80.797922%2C%2034.820441%5D%2C%20%5B-79.675149%2C%2034.80401%5D%2C%20%5B-78.541422%2C%2033.851022%5D%2C%20%5B-78.716684%2C%2033.80173%5D%2C%20%5B-78.935762%2C%2033.637421%5D%2C%20%5B-79.149363%2C%2033.380005%5D%2C%20%5B-79.187701%2C%2033.171881%5D%2C%20%5B-79.357487%2C%2033.007573%5D%2C%20%5B-79.582041%2C%2033.007573%5D%2C%20%5B-79.631334%2C%2032.887081%5D%2C%20%5B-79.866842%2C%2032.755634%5D%2C%20%5B-79.998289%2C%2032.613234%5D%2C%20%5B-80.206412%2C%2032.552987%5D%2C%20%5B-80.430967%2C%2032.399633%5D%2C%20%5B-80.452875%2C%2032.328433%5D%2C%20%5B-80.660998%2C%2032.246279%5D%2C%20%5B-80.885553%2C%2032.032678%5D%2C%20%5B-81.115584%2C%2032.120309%5D%2C%20%5B-81.121061%2C%2032.290094%5D%2C%20%5B-81.279893%2C%2032.558464%5D%2C%20%5B-81.416816%2C%2032.629664%5D%2C%20%5B-81.42777%2C%2032.843265%5D%2C%20%5B-81.493493%2C%2033.007573%5D%2C%20%5B-81.761863%2C%2033.160928%5D%2C%20%5B-81.937125%2C%2033.347144%5D%2C%20%5B-81.926172%2C%2033.462159%5D%2C%20%5B-82.194542%2C%2033.631944%5D%2C%20%5B-82.325988%2C%2033.81816%5D%2C%20%5B-82.55602%2C%2033.94413%5D%2C%20%5B-82.714851%2C%2034.152254%5D%2C%20%5B-82.747713%2C%2034.26727%5D%2C%20%5B-82.901067%2C%2034.486347%5D%2C%20%5B-83.005129%2C%2034.469916%5D%2C%20%5B-83.339222%2C%2034.683517%5D%2C%20%5B-83.322791%2C%2034.787579%5D%2C%20%5B-83.109191%2C%2035.00118%5D%2C%20%5B-82.764143%2C%2035.066903%5D%5D%5D%2C%20%22type%22%3A%20%22Polygon%22%7D%2C%20%22id%22%3A%20%22SC%22%2C%20%22properties%22%3A%20%7B%22count%22%3A%20184625%2C%20%22highlight%22%3A%20%7B%7D%2C%20%22name%22%3A%20%22South%20Carolina%22%2C%20%22style%22%3A%20%7B%22color%22%3A%20%22black%22%2C%20%22fillColor%22%3A%20%22%23fed976%22%2C%20%22fillOpacity%22%3A%200.7%2C%20%22opacity%22%3A%200.3%2C%20%22weight%22%3A%201%7D%7D%2C%20%22type%22%3A%20%22Feature%22%7D%2C%20%7B%22geometry%22%3A%20%7B%22coordinates%22%3A%20%5B%5B%5B-104.047534%2C%2045.944106%5D%2C%20%5B-96.560556%2C%2045.933153%5D%2C%20%5B-96.582464%2C%2045.818137%5D%2C%20%5B-96.856311%2C%2045.604536%5D%2C%20%5B-96.681049%2C%2045.412843%5D%2C%20%5B-96.451017%2C%2045.297827%5D%2C%20%5B-96.451017%2C%2043.501391%5D%2C%20%5B-96.582464%2C%2043.479483%5D%2C%20%5B-96.527695%2C%2043.397329%5D%2C%20%5B-96.560556%2C%2043.222067%5D%2C%20%5B-96.434587%2C%2043.123482%5D%2C%20%5B-96.511264%2C%2043.052282%5D%2C%20%5B-96.544125%2C%2042.855112%5D%2C%20%5B-96.631756%2C%2042.707235%5D%2C%20%5B-96.44554%2C%2042.488157%5D%2C%20%5B-96.626279%2C%2042.515542%5D%2C%20%5B-96.692003%2C%2042.657942%5D%2C%20%5B-97.217789%2C%2042.844158%5D%2C%20%5B-97.688806%2C%2042.844158%5D%2C%20%5B-97.831206%2C%2042.866066%5D%2C%20%5B-97.951699%2C%2042.767481%5D%2C%20%5B-98.466531%2C%2042.94822%5D%2C%20%5B-98.499393%2C%2042.997512%5D%2C%20%5B-101.626726%2C%2042.997512%5D%2C%20%5B-103.324578%2C%2043.002989%5D%2C%20%5B-104.053011%2C%2043.002989%5D%2C%20%5B-104.058488%2C%2044.996596%5D%2C%20%5B-104.042057%2C%2044.996596%5D%2C%20%5B-104.047534%2C%2045.944106%5D%5D%5D%2C%20%22type%22%3A%20%22Polygon%22%7D%2C%20%22id%22%3A%20%22SD%22%2C%20%22properties%22%3A%20%7B%22count%22%3A%20218%2C%20%22highlight%22%3A%20%7B%7D%2C%20%22name%22%3A%20%22South%20Dakota%22%2C%20%22style%22%3A%20%7B%22color%22%3A%20%22black%22%2C%20%22fillColor%22%3A%20%22%23ffffb2%22%2C%20%22fillOpacity%22%3A%200.7%2C%20%22opacity%22%3A%200.3%2C%20%22weight%22%3A%201%7D%7D%2C%20%22type%22%3A%20%22Feature%22%7D%2C%20%7B%22geometry%22%3A%20%7B%22coordinates%22%3A%20%5B%5B%5B-88.054868%2C%2036.496384%5D%2C%20%5B-88.071299%2C%2036.677123%5D%2C%20%5B-87.852221%2C%2036.633308%5D%2C%20%5B-86.592525%2C%2036.655216%5D%2C%20%5B-85.486183%2C%2036.616877%5D%2C%20%5B-85.289013%2C%2036.627831%5D%2C%20%5B-84.544149%2C%2036.594969%5D%2C%20%5B-83.689746%2C%2036.584015%5D%2C%20%5B-83.673316%2C%2036.600446%5D%2C%20%5B-81.679709%2C%2036.589492%5D%2C%20%5B-81.723525%2C%2036.353984%5D%2C%20%5B-81.909741%2C%2036.304691%5D%2C%20%5B-82.03571%2C%2036.118475%5D%2C%20%5B-82.216449%2C%2036.156814%5D%2C%20%5B-82.610789%2C%2035.965121%5D%2C%20%5B-82.638174%2C%2036.063706%5D%2C%20%5B-82.775097%2C%2035.997983%5D%2C%20%5B-82.994175%2C%2035.773428%5D%2C%20%5B-83.251591%2C%2035.718659%5D%2C%20%5B-83.498053%2C%2035.565304%5D%2C%20%5B-83.7719%2C%2035.559827%5D%2C%20%5B-84.018363%2C%2035.41195%5D%2C%20%5B-84.09504%2C%2035.247642%5D%2C%20%5B-84.29221%2C%2035.225734%5D%2C%20%5B-84.319594%2C%2034.990226%5D%2C%20%5B-85.606675%2C%2034.984749%5D%2C%20%5B-87.359296%2C%2035.00118%5D%2C%20%5B-88.202745%2C%2034.995703%5D%2C%20%5B-88.471115%2C%2034.995703%5D%2C%20%5B-90.311367%2C%2034.995703%5D%2C%20%5B-90.212782%2C%2035.023087%5D%2C%20%5B-90.114197%2C%2035.198349%5D%2C%20%5B-90.130628%2C%2035.439335%5D%2C%20%5B-89.944412%2C%2035.603643%5D%2C%20%5B-89.911551%2C%2035.756997%5D%2C%20%5B-89.763673%2C%2035.811767%5D%2C%20%5B-89.730812%2C%2035.997983%5D%2C%20%5B-89.533642%2C%2036.249922%5D%2C%20%5B-89.539119%2C%2036.496384%5D%2C%20%5B-89.484349%2C%2036.496384%5D%2C%20%5B-89.418626%2C%2036.496384%5D%2C%20%5B-89.298133%2C%2036.507338%5D%2C%20%5B-88.054868%2C%2036.496384%5D%5D%5D%2C%20%22type%22%3A%20%22Polygon%22%7D%2C%20%22id%22%3A%20%22TN%22%2C%20%22properties%22%3A%20%7B%22count%22%3A%2080485%2C%20%22highlight%22%3A%20%7B%7D%2C%20%22name%22%3A%20%22Tennessee%22%2C%20%22style%22%3A%20%7B%22color%22%3A%20%22black%22%2C%20%22fillColor%22%3A%20%22%23ffffb2%22%2C%20%22fillOpacity%22%3A%200.7%2C%20%22opacity%22%3A%200.3%2C%20%22weight%22%3A%201%7D%7D%2C%20%22type%22%3A%20%22Feature%22%7D%2C%20%7B%22geometry%22%3A%20%7B%22coordinates%22%3A%20%5B%5B%5B-101.812942%2C%2036.501861%5D%2C%20%5B-100.000075%2C%2036.501861%5D%2C%20%5B-100.000075%2C%2034.563024%5D%2C%20%5B-99.923398%2C%2034.573978%5D%2C%20%5B-99.698843%2C%2034.382285%5D%2C%20%5B-99.57835%2C%2034.415147%5D%2C%20%5B-99.260688%2C%2034.404193%5D%2C%20%5B-99.189488%2C%2034.2125%5D%2C%20%5B-98.986841%2C%2034.223454%5D%2C%20%5B-98.767763%2C%2034.135823%5D%2C%20%5B-98.570593%2C%2034.146777%5D%2C%20%5B-98.488439%2C%2034.064623%5D%2C%20%5B-98.36247%2C%2034.157731%5D%2C%20%5B-98.170777%2C%2034.113915%5D%2C%20%5B-98.088623%2C%2034.004376%5D%2C%20%5B-97.946222%2C%2033.987946%5D%2C%20%5B-97.869545%2C%2033.851022%5D%2C%20%5B-97.694283%2C%2033.982469%5D%2C%20%5B-97.458774%2C%2033.905791%5D%2C%20%5B-97.371143%2C%2033.823637%5D%2C%20%5B-97.256128%2C%2033.861976%5D%2C%20%5B-97.173974%2C%2033.736006%5D%2C%20%5B-96.922034%2C%2033.960561%5D%2C%20%5B-96.850834%2C%2033.845545%5D%2C%20%5B-96.631756%2C%2033.845545%5D%2C%20%5B-96.423633%2C%2033.774345%5D%2C%20%5B-96.346956%2C%2033.686714%5D%2C%20%5B-96.149786%2C%2033.840068%5D%2C%20%5B-95.936185%2C%2033.889361%5D%2C%20%5B-95.8376%2C%2033.834591%5D%2C%20%5B-95.602092%2C%2033.933176%5D%2C%20%5B-95.547322%2C%2033.878407%5D%2C%20%5B-95.289906%2C%2033.87293%5D%2C%20%5B-95.224183%2C%2033.960561%5D%2C%20%5B-94.966767%2C%2033.861976%5D%2C%20%5B-94.868182%2C%2033.74696%5D%2C%20%5B-94.484796%2C%2033.637421%5D%2C%20%5B-94.380734%2C%2033.544313%5D%2C%20%5B-94.183564%2C%2033.593606%5D%2C%20%5B-94.041164%2C%2033.54979%5D%2C%20%5B-94.041164%2C%2033.018527%5D%2C%20%5B-94.041164%2C%2031.994339%5D%2C%20%5B-93.822086%2C%2031.775262%5D%2C%20%5B-93.816609%2C%2031.556184%5D%2C%20%5B-93.542762%2C%2031.15089%5D%2C%20%5B-93.526331%2C%2030.93729%5D%2C%20%5B-93.630393%2C%2030.679874%5D%2C%20%5B-93.728978%2C%2030.575812%5D%2C%20%5B-93.696116%2C%2030.438888%5D%2C%20%5B-93.767317%2C%2030.334826%5D%2C%20%5B-93.690639%2C%2030.143133%5D%2C%20%5B-93.926148%2C%2029.787132%5D%2C%20%5B-93.838517%2C%2029.688547%5D%2C%20%5B-94.002825%2C%2029.68307%5D%2C%20%5B-94.523134%2C%2029.546147%5D%2C%20%5B-94.70935%2C%2029.622824%5D%2C%20%5B-94.742212%2C%2029.787132%5D%2C%20%5B-94.873659%2C%2029.672117%5D%2C%20%5B-94.966767%2C%2029.699501%5D%2C%20%5B-95.016059%2C%2029.557101%5D%2C%20%5B-94.911997%2C%2029.496854%5D%2C%20%5B-94.895566%2C%2029.310638%5D%2C%20%5B-95.081782%2C%2029.113469%5D%2C%20%5B-95.383014%2C%2028.867006%5D%2C%20%5B-95.985477%2C%2028.604113%5D%2C%20%5B-96.045724%2C%2028.647929%5D%2C%20%5B-96.226463%2C%2028.582205%5D%2C%20%5B-96.23194%2C%2028.642452%5D%2C%20%5B-96.478402%2C%2028.598636%5D%2C%20%5B-96.593418%2C%2028.724606%5D%2C%20%5B-96.664618%2C%2028.697221%5D%2C%20%5B-96.401725%2C%2028.439805%5D%2C%20%5B-96.593418%2C%2028.357651%5D%2C%20%5B-96.774157%2C%2028.406943%5D%2C%20%5B-96.801542%2C%2028.226204%5D%2C%20%5B-97.026096%2C%2028.039988%5D%2C%20%5B-97.256128%2C%2027.694941%5D%2C%20%5B-97.404005%2C%2027.333463%5D%2C%20%5B-97.513544%2C%2027.360848%5D%2C%20%5B-97.540929%2C%2027.229401%5D%2C%20%5B-97.425913%2C%2027.262263%5D%2C%20%5B-97.480682%2C%2026.99937%5D%2C%20%5B-97.557359%2C%2026.988416%5D%2C%20%5B-97.562836%2C%2026.840538%5D%2C%20%5B-97.469728%2C%2026.758384%5D%2C%20%5B-97.442344%2C%2026.457153%5D%2C%20%5B-97.332805%2C%2026.353091%5D%2C%20%5B-97.30542%2C%2026.161398%5D%2C%20%5B-97.217789%2C%2025.991613%5D%2C%20%5B-97.524498%2C%2025.887551%5D%2C%20%5B-97.650467%2C%2026.018997%5D%2C%20%5B-97.885976%2C%2026.06829%5D%2C%20%5B-98.198161%2C%2026.057336%5D%2C%20%5B-98.466531%2C%2026.221644%5D%2C%20%5B-98.669178%2C%2026.238075%5D%2C%20%5B-98.822533%2C%2026.369522%5D%2C%20%5B-99.030656%2C%2026.413337%5D%2C%20%5B-99.173057%2C%2026.539307%5D%2C%20%5B-99.266165%2C%2026.840538%5D%2C%20%5B-99.446904%2C%2027.021277%5D%2C%20%5B-99.424996%2C%2027.174632%5D%2C%20%5B-99.50715%2C%2027.33894%5D%2C%20%5B-99.479765%2C%2027.48134%5D%2C%20%5B-99.605735%2C%2027.640172%5D%2C%20%5B-99.709797%2C%2027.656603%5D%2C%20%5B-99.879582%2C%2027.799003%5D%2C%20%5B-99.934351%2C%2027.979742%5D%2C%20%5B-100.082229%2C%2028.14405%5D%2C%20%5B-100.29583%2C%2028.280974%5D%2C%20%5B-100.399891%2C%2028.582205%5D%2C%20%5B-100.498476%2C%2028.66436%5D%2C%20%5B-100.629923%2C%2028.905345%5D%2C%20%5B-100.673738%2C%2029.102515%5D%2C%20%5B-100.799708%2C%2029.244915%5D%2C%20%5B-101.013309%2C%2029.370885%5D%2C%20%5B-101.062601%2C%2029.458516%5D%2C%20%5B-101.259771%2C%2029.535193%5D%2C%20%5B-101.413125%2C%2029.754271%5D%2C%20%5B-101.851281%2C%2029.803563%5D%2C%20%5B-102.114174%2C%2029.792609%5D%2C%20%5B-102.338728%2C%2029.869286%5D%2C%20%5B-102.388021%2C%2029.765225%5D%2C%20%5B-102.629006%2C%2029.732363%5D%2C%20%5B-102.809745%2C%2029.524239%5D%2C%20%5B-102.919284%2C%2029.190146%5D%2C%20%5B-102.97953%2C%2029.184669%5D%2C%20%5B-103.116454%2C%2028.987499%5D%2C%20%5B-103.280762%2C%2028.982022%5D%2C%20%5B-103.527224%2C%2029.135376%5D%2C%20%5B-104.146119%2C%2029.381839%5D%2C%20%5B-104.266611%2C%2029.513285%5D%2C%20%5B-104.507597%2C%2029.639255%5D%2C%20%5B-104.677382%2C%2029.924056%5D%2C%20%5B-104.688336%2C%2030.181472%5D%2C%20%5B-104.858121%2C%2030.389596%5D%2C%20%5B-104.896459%2C%2030.570335%5D%2C%20%5B-105.005998%2C%2030.685351%5D%2C%20%5B-105.394861%2C%2030.855136%5D%2C%20%5B-105.602985%2C%2031.085167%5D%2C%20%5B-105.77277%2C%2031.167321%5D%2C%20%5B-105.953509%2C%2031.364491%5D%2C%20%5B-106.205448%2C%2031.468553%5D%2C%20%5B-106.38071%2C%2031.731446%5D%2C%20%5B-106.528588%2C%2031.786216%5D%2C%20%5B-106.643603%2C%2031.901231%5D%2C%20%5B-106.616219%2C%2031.999816%5D%2C%20%5B-103.067161%2C%2031.999816%5D%2C%20%5B-103.067161%2C%2033.002096%5D%2C%20%5B-103.045254%2C%2034.01533%5D%2C%20%5B-103.039777%2C%2036.501861%5D%2C%20%5B-103.001438%2C%2036.501861%5D%2C%20%5B-101.812942%2C%2036.501861%5D%5D%5D%2C%20%22type%22%3A%20%22Polygon%22%7D%2C%20%22id%22%3A%20%22TX%22%2C%20%22properties%22%3A%20%7B%22count%22%3A%20335865%2C%20%22highlight%22%3A%20%7B%7D%2C%20%22name%22%3A%20%22Texas%22%2C%20%22style%22%3A%20%7B%22color%22%3A%20%22black%22%2C%20%22fillColor%22%3A%20%22%23feb24c%22%2C%20%22fillOpacity%22%3A%200.7%2C%20%22opacity%22%3A%200.3%2C%20%22weight%22%3A%201%7D%7D%2C%20%22type%22%3A%20%22Feature%22%7D%2C%20%7B%22geometry%22%3A%20%7B%22coordinates%22%3A%20%5B%5B%5B-112.164359%2C%2041.995232%5D%2C%20%5B-111.047063%2C%2042.000709%5D%2C%20%5B-111.047063%2C%2040.998429%5D%2C%20%5B-109.04798%2C%2040.998429%5D%2C%20%5B-109.053457%2C%2039.125316%5D%2C%20%5B-109.058934%2C%2038.27639%5D%2C%20%5B-109.042503%2C%2038.166851%5D%2C%20%5B-109.042503%2C%2037.000263%5D%2C%20%5B-110.499369%2C%2037.00574%5D%2C%20%5B-114.048427%2C%2037.000263%5D%2C%20%5B-114.04295%2C%2041.995232%5D%2C%20%5B-112.164359%2C%2041.995232%5D%5D%5D%2C%20%22type%22%3A%20%22Polygon%22%7D%2C%20%22id%22%3A%20%22UT%22%2C%20%22properties%22%3A%20%7B%22count%22%3A%2049115%2C%20%22highlight%22%3A%20%7B%7D%2C%20%22name%22%3A%20%22Utah%22%2C%20%22style%22%3A%20%7B%22color%22%3A%20%22black%22%2C%20%22fillColor%22%3A%20%22%23ffffb2%22%2C%20%22fillOpacity%22%3A%200.7%2C%20%22opacity%22%3A%200.3%2C%20%22weight%22%3A%201%7D%7D%2C%20%22type%22%3A%20%22Feature%22%7D%2C%20%7B%22geometry%22%3A%20%7B%22coordinates%22%3A%20%5B%5B%5B-71.503554%2C%2045.013027%5D%2C%20%5B-71.4926%2C%2044.914442%5D%2C%20%5B-71.629524%2C%2044.750133%5D%2C%20%5B-71.536416%2C%2044.585825%5D%2C%20%5B-71.700724%2C%2044.41604%5D%2C%20%5B-72.034817%2C%2044.322932%5D%2C%20%5B-72.02934%2C%2044.07647%5D%2C%20%5B-72.116971%2C%2043.994316%5D%2C%20%5B-72.204602%2C%2043.769761%5D%2C%20%5B-72.379864%2C%2043.572591%5D%2C%20%5B-72.456542%2C%2043.150867%5D%2C%20%5B-72.445588%2C%2043.008466%5D%2C%20%5B-72.533219%2C%2042.953697%5D%2C%20%5B-72.544173%2C%2042.80582%5D%2C%20%5B-72.456542%2C%2042.729142%5D%2C%20%5B-73.267129%2C%2042.745573%5D%2C%20%5B-73.278083%2C%2042.833204%5D%2C%20%5B-73.245221%2C%2043.523299%5D%2C%20%5B-73.404052%2C%2043.687607%5D%2C%20%5B-73.349283%2C%2043.769761%5D%2C%20%5B-73.436914%2C%2044.043608%5D%2C%20%5B-73.321898%2C%2044.246255%5D%2C%20%5B-73.294514%2C%2044.437948%5D%2C%20%5B-73.387622%2C%2044.618687%5D%2C%20%5B-73.332852%2C%2044.804903%5D%2C%20%5B-73.343806%2C%2045.013027%5D%2C%20%5B-72.308664%2C%2045.002073%5D%2C%20%5B-71.503554%2C%2045.013027%5D%5D%5D%2C%20%22type%22%3A%20%22Polygon%22%7D%2C%20%22id%22%3A%20%22VT%22%2C%20%22properties%22%3A%20%7B%22count%22%3A%20639%2C%20%22highlight%22%3A%20%7B%7D%2C%20%22name%22%3A%20%22Vermont%22%2C%20%22style%22%3A%20%7B%22color%22%3A%20%22black%22%2C%20%22fillColor%22%3A%20%22%23ffffb2%22%2C%20%22fillOpacity%22%3A%200.7%2C%20%22opacity%22%3A%200.3%2C%20%22weight%22%3A%201%7D%7D%2C%20%22type%22%3A%20%22Feature%22%7D%2C%20%7B%22geometry%22%3A%20%7B%22coordinates%22%3A%20%5B%5B%5B%5B-75.397659%2C%2038.013497%5D%2C%20%5B-75.244304%2C%2038.029928%5D%2C%20%5B-75.375751%2C%2037.860142%5D%2C%20%5B-75.512674%2C%2037.799896%5D%2C%20%5B-75.594828%2C%2037.569865%5D%2C%20%5B-75.802952%2C%2037.197433%5D%2C%20%5B-75.972737%2C%2037.120755%5D%2C%20%5B-76.027507%2C%2037.257679%5D%2C%20%5B-75.939876%2C%2037.564388%5D%2C%20%5B-75.671506%2C%2037.95325%5D%2C%20%5B-75.397659%2C%2038.013497%5D%5D%5D%2C%20%5B%5B%5B-76.016553%2C%2037.95325%5D%2C%20%5B-75.994645%2C%2037.95325%5D%2C%20%5B-76.043938%2C%2037.95325%5D%2C%20%5B-76.016553%2C%2037.95325%5D%5D%5D%2C%20%5B%5B%5B-78.349729%2C%2039.464886%5D%2C%20%5B-77.82942%2C%2039.130793%5D%2C%20%5B-77.719881%2C%2039.322485%5D%2C%20%5B-77.566527%2C%2039.306055%5D%2C%20%5B-77.456988%2C%2039.223901%5D%2C%20%5B-77.456988%2C%2039.076023%5D%2C%20%5B-77.248864%2C%2039.026731%5D%2C%20%5B-77.117418%2C%2038.933623%5D%2C%20%5B-77.040741%2C%2038.791222%5D%2C%20%5B-77.128372%2C%2038.632391%5D%2C%20%5B-77.248864%2C%2038.588575%5D%2C%20%5B-77.325542%2C%2038.446175%5D%2C%20%5B-77.281726%2C%2038.342113%5D%2C%20%5B-77.013356%2C%2038.374975%5D%2C%20%5B-76.964064%2C%2038.216144%5D%2C%20%5B-76.613539%2C%2038.15042%5D%2C%20%5B-76.514954%2C%2038.024451%5D%2C%20%5B-76.235631%2C%2037.887527%5D%2C%20%5B-76.3616%2C%2037.608203%5D%2C%20%5B-76.246584%2C%2037.389126%5D%2C%20%5B-76.383508%2C%2037.285064%5D%2C%20%5B-76.399939%2C%2037.159094%5D%2C%20%5B-76.273969%2C%2037.082417%5D%2C%20%5B-76.410893%2C%2036.961924%5D%2C%20%5B-76.619016%2C%2037.120755%5D%2C%20%5B-76.668309%2C%2037.065986%5D%2C%20%5B-76.48757%2C%2036.95097%5D%2C%20%5B-75.994645%2C%2036.923586%5D%2C%20%5B-75.868676%2C%2036.551154%5D%2C%20%5B-79.510841%2C%2036.5402%5D%2C%20%5B-80.294043%2C%2036.545677%5D%2C%20%5B-80.978661%2C%2036.562108%5D%2C%20%5B-81.679709%2C%2036.589492%5D%2C%20%5B-83.673316%2C%2036.600446%5D%2C%20%5B-83.136575%2C%2036.742847%5D%2C%20%5B-83.070852%2C%2036.852385%5D%2C%20%5B-82.879159%2C%2036.890724%5D%2C%20%5B-82.868205%2C%2036.978355%5D%2C%20%5B-82.720328%2C%2037.044078%5D%2C%20%5B-82.720328%2C%2037.120755%5D%2C%20%5B-82.353373%2C%2037.268633%5D%2C%20%5B-81.969987%2C%2037.537003%5D%2C%20%5B-81.986418%2C%2037.454849%5D%2C%20%5B-81.849494%2C%2037.285064%5D%2C%20%5B-81.679709%2C%2037.20291%5D%2C%20%5B-81.55374%2C%2037.208387%5D%2C%20%5B-81.362047%2C%2037.339833%5D%2C%20%5B-81.225123%2C%2037.235771%5D%2C%20%5B-80.967707%2C%2037.290541%5D%2C%20%5B-80.513121%2C%2037.482234%5D%2C%20%5B-80.474782%2C%2037.421987%5D%2C%20%5B-80.29952%2C%2037.509618%5D%2C%20%5B-80.294043%2C%2037.690357%5D%2C%20%5B-80.184505%2C%2037.849189%5D%2C%20%5B-79.998289%2C%2037.997066%5D%2C%20%5B-79.921611%2C%2038.177805%5D%2C%20%5B-79.724442%2C%2038.364021%5D%2C%20%5B-79.647764%2C%2038.594052%5D%2C%20%5B-79.477979%2C%2038.457129%5D%2C%20%5B-79.313671%2C%2038.413313%5D%2C%20%5B-79.209609%2C%2038.495467%5D%2C%20%5B-78.996008%2C%2038.851469%5D%2C%20%5B-78.870039%2C%2038.763838%5D%2C%20%5B-78.404499%2C%2039.169131%5D%2C%20%5B-78.349729%2C%2039.464886%5D%5D%5D%5D%2C%20%22type%22%3A%20%22MultiPolygon%22%7D%2C%20%22id%22%3A%20%22VA%22%2C%20%22properties%22%3A%20%7B%22count%22%3A%20106214%2C%20%22highlight%22%3A%20%7B%7D%2C%20%22name%22%3A%20%22Virginia%22%2C%20%22style%22%3A%20%7B%22color%22%3A%20%22black%22%2C%20%22fillColor%22%3A%20%22%23ffffb2%22%2C%20%22fillOpacity%22%3A%200.7%2C%20%22opacity%22%3A%200.3%2C%20%22weight%22%3A%201%7D%7D%2C%20%22type%22%3A%20%22Feature%22%7D%2C%20%7B%22geometry%22%3A%20%7B%22coordinates%22%3A%20%5B%5B%5B%5B-117.033359%2C%2049.000239%5D%2C%20%5B-117.044313%2C%2047.762451%5D%2C%20%5B-117.038836%2C%2046.426077%5D%2C%20%5B-117.055267%2C%2046.343923%5D%2C%20%5B-116.92382%2C%2046.168661%5D%2C%20%5B-116.918344%2C%2045.993399%5D%2C%20%5B-118.988627%2C%2045.998876%5D%2C%20%5B-119.125551%2C%2045.933153%5D%2C%20%5B-119.525367%2C%2045.911245%5D%2C%20%5B-119.963522%2C%2045.823614%5D%2C%20%5B-120.209985%2C%2045.725029%5D%2C%20%5B-120.505739%2C%2045.697644%5D%2C%20%5B-120.637186%2C%2045.746937%5D%2C%20%5B-121.18488%2C%2045.604536%5D%2C%20%5B-121.217742%2C%2045.670259%5D%2C%20%5B-121.535404%2C%2045.725029%5D%2C%20%5B-121.809251%2C%2045.708598%5D%2C%20%5B-122.247407%2C%2045.549767%5D%2C%20%5B-122.762239%2C%2045.659305%5D%2C%20%5B-122.811531%2C%2045.960537%5D%2C%20%5B-122.904639%2C%2046.08103%5D%2C%20%5B-123.11824%2C%2046.185092%5D%2C%20%5B-123.211348%2C%2046.174138%5D%2C%20%5B-123.370179%2C%2046.146753%5D%2C%20%5B-123.545441%2C%2046.261769%5D%2C%20%5B-123.72618%2C%2046.300108%5D%2C%20%5B-123.874058%2C%2046.239861%5D%2C%20%5B-124.065751%2C%2046.327492%5D%2C%20%5B-124.027412%2C%2046.464416%5D%2C%20%5B-123.895966%2C%2046.535616%5D%2C%20%5B-124.098612%2C%2046.74374%5D%2C%20%5B-124.235536%2C%2047.285957%5D%2C%20%5B-124.31769%2C%2047.357157%5D%2C%20%5B-124.427229%2C%2047.740543%5D%2C%20%5B-124.624399%2C%2047.88842%5D%2C%20%5B-124.706553%2C%2048.184175%5D%2C%20%5B-124.597014%2C%2048.381345%5D%2C%20%5B-124.394367%2C%2048.288237%5D%2C%20%5B-123.983597%2C%2048.162267%5D%2C%20%5B-123.704273%2C%2048.167744%5D%2C%20%5B-123.424949%2C%2048.118452%5D%2C%20%5B-123.162056%2C%2048.167744%5D%2C%20%5B-123.036086%2C%2048.080113%5D%2C%20%5B-122.800578%2C%2048.08559%5D%2C%20%5B-122.636269%2C%2047.866512%5D%2C%20%5B-122.515777%2C%2047.882943%5D%2C%20%5B-122.493869%2C%2047.587189%5D%2C%20%5B-122.422669%2C%2047.318818%5D%2C%20%5B-122.324084%2C%2047.346203%5D%2C%20%5B-122.422669%2C%2047.576235%5D%2C%20%5B-122.395284%2C%2047.800789%5D%2C%20%5B-122.230976%2C%2048.030821%5D%2C%20%5B-122.362422%2C%2048.123929%5D%2C%20%5B-122.373376%2C%2048.288237%5D%2C%20%5B-122.471961%2C%2048.468976%5D%2C%20%5B-122.422669%2C%2048.600422%5D%2C%20%5B-122.488392%2C%2048.753777%5D%2C%20%5B-122.647223%2C%2048.775685%5D%2C%20%5B-122.795101%2C%2048.8907%5D%2C%20%5B-122.756762%2C%2049.000239%5D%2C%20%5B-117.033359%2C%2049.000239%5D%5D%5D%2C%20%5B%5B%5B-122.718423%2C%2048.310145%5D%2C%20%5B-122.586977%2C%2048.35396%5D%2C%20%5B-122.608885%2C%2048.151313%5D%2C%20%5B-122.767716%2C%2048.227991%5D%2C%20%5B-122.718423%2C%2048.310145%5D%5D%5D%2C%20%5B%5B%5B-123.025132%2C%2048.583992%5D%2C%20%5B-122.915593%2C%2048.715438%5D%2C%20%5B-122.767716%2C%2048.556607%5D%2C%20%5B-122.811531%2C%2048.419683%5D%2C%20%5B-123.041563%2C%2048.458022%5D%2C%20%5B-123.025132%2C%2048.583992%5D%5D%5D%5D%2C%20%22type%22%3A%20%22MultiPolygon%22%7D%2C%20%22id%22%3A%20%22WA%22%2C%20%22properties%22%3A%20%7B%22count%22%3A%2064485%2C%20%22highlight%22%3A%20%7B%7D%2C%20%22name%22%3A%20%22Washington%22%2C%20%22style%22%3A%20%7B%22color%22%3A%20%22black%22%2C%20%22fillColor%22%3A%20%22%23ffffb2%22%2C%20%22fillOpacity%22%3A%200.7%2C%20%22opacity%22%3A%200.3%2C%20%22weight%22%3A%201%7D%7D%2C%20%22type%22%3A%20%22Feature%22%7D%2C%20%7B%22geometry%22%3A%20%7B%22coordinates%22%3A%20%5B%5B%5B-80.518598%2C%2040.636951%5D%2C%20%5B-80.518598%2C%2039.722302%5D%2C%20%5B-79.477979%2C%2039.722302%5D%2C%20%5B-79.488933%2C%2039.20747%5D%2C%20%5B-79.291763%2C%2039.300578%5D%2C%20%5B-79.094593%2C%2039.470363%5D%2C%20%5B-78.963147%2C%2039.437501%5D%2C%20%5B-78.765977%2C%2039.585379%5D%2C%20%5B-78.470222%2C%2039.514178%5D%2C%20%5B-78.431884%2C%2039.623717%5D%2C%20%5B-78.267575%2C%2039.61824%5D%2C%20%5B-78.174467%2C%2039.694917%5D%2C%20%5B-78.004682%2C%2039.601809%5D%2C%20%5B-77.834897%2C%2039.601809%5D%2C%20%5B-77.719881%2C%2039.322485%5D%2C%20%5B-77.82942%2C%2039.130793%5D%2C%20%5B-78.349729%2C%2039.464886%5D%2C%20%5B-78.404499%2C%2039.169131%5D%2C%20%5B-78.870039%2C%2038.763838%5D%2C%20%5B-78.996008%2C%2038.851469%5D%2C%20%5B-79.209609%2C%2038.495467%5D%2C%20%5B-79.313671%2C%2038.413313%5D%2C%20%5B-79.477979%2C%2038.457129%5D%2C%20%5B-79.647764%2C%2038.594052%5D%2C%20%5B-79.724442%2C%2038.364021%5D%2C%20%5B-79.921611%2C%2038.177805%5D%2C%20%5B-79.998289%2C%2037.997066%5D%2C%20%5B-80.184505%2C%2037.849189%5D%2C%20%5B-80.294043%2C%2037.690357%5D%2C%20%5B-80.29952%2C%2037.509618%5D%2C%20%5B-80.474782%2C%2037.421987%5D%2C%20%5B-80.513121%2C%2037.482234%5D%2C%20%5B-80.967707%2C%2037.290541%5D%2C%20%5B-81.225123%2C%2037.235771%5D%2C%20%5B-81.362047%2C%2037.339833%5D%2C%20%5B-81.55374%2C%2037.208387%5D%2C%20%5B-81.679709%2C%2037.20291%5D%2C%20%5B-81.849494%2C%2037.285064%5D%2C%20%5B-81.986418%2C%2037.454849%5D%2C%20%5B-81.969987%2C%2037.537003%5D%2C%20%5B-82.101434%2C%2037.553434%5D%2C%20%5B-82.293127%2C%2037.668449%5D%2C%20%5B-82.342419%2C%2037.783465%5D%2C%20%5B-82.50125%2C%2037.931343%5D%2C%20%5B-82.621743%2C%2038.123036%5D%2C%20%5B-82.594358%2C%2038.424267%5D%2C%20%5B-82.331465%2C%2038.446175%5D%2C%20%5B-82.293127%2C%2038.577622%5D%2C%20%5B-82.172634%2C%2038.632391%5D%2C%20%5B-82.221926%2C%2038.785745%5D%2C%20%5B-82.03571%2C%2039.026731%5D%2C%20%5B-81.887833%2C%2038.873376%5D%2C%20%5B-81.783771%2C%2038.966484%5D%2C%20%5B-81.811156%2C%2039.0815%5D%2C%20%5B-81.685186%2C%2039.273193%5D%2C%20%5B-81.57017%2C%2039.267716%5D%2C%20%5B-81.455155%2C%2039.410117%5D%2C%20%5B-81.345616%2C%2039.344393%5D%2C%20%5B-81.219646%2C%2039.388209%5D%2C%20%5B-80.830783%2C%2039.711348%5D%2C%20%5B-80.737675%2C%2040.078303%5D%2C%20%5B-80.600752%2C%2040.319289%5D%2C%20%5B-80.595275%2C%2040.472643%5D%2C%20%5B-80.666475%2C%2040.582182%5D%2C%20%5B-80.518598%2C%2040.636951%5D%5D%5D%2C%20%22type%22%3A%20%22Polygon%22%7D%2C%20%22id%22%3A%20%22WV%22%2C%20%22properties%22%3A%20%7B%22count%22%3A%203062%2C%20%22highlight%22%3A%20%7B%7D%2C%20%22name%22%3A%20%22West%20Virginia%22%2C%20%22style%22%3A%20%7B%22color%22%3A%20%22black%22%2C%20%22fillColor%22%3A%20%22%23ffffb2%22%2C%20%22fillOpacity%22%3A%200.7%2C%20%22opacity%22%3A%200.3%2C%20%22weight%22%3A%201%7D%7D%2C%20%22type%22%3A%20%22Feature%22%7D%2C%20%7B%22geometry%22%3A%20%7B%22coordinates%22%3A%20%5B%5B%5B-90.415429%2C%2046.568478%5D%2C%20%5B-90.229213%2C%2046.508231%5D%2C%20%5B-90.119674%2C%2046.338446%5D%2C%20%5B-89.09001%2C%2046.135799%5D%2C%20%5B-88.662808%2C%2045.987922%5D%2C%20%5B-88.531362%2C%2046.020784%5D%2C%20%5B-88.10416%2C%2045.922199%5D%2C%20%5B-87.989145%2C%2045.796229%5D%2C%20%5B-87.781021%2C%2045.675736%5D%2C%20%5B-87.791975%2C%2045.500474%5D%2C%20%5B-87.885083%2C%2045.363551%5D%2C%20%5B-87.649574%2C%2045.341643%5D%2C%20%5B-87.742682%2C%2045.199243%5D%2C%20%5B-87.589328%2C%2045.095181%5D%2C%20%5B-87.627666%2C%2044.974688%5D%2C%20%5B-87.819359%2C%2044.95278%5D%2C%20%5B-87.983668%2C%2044.722749%5D%2C%20%5B-88.043914%2C%2044.563917%5D%2C%20%5B-87.928898%2C%2044.536533%5D%2C%20%5B-87.775544%2C%2044.640595%5D%2C%20%5B-87.611236%2C%2044.837764%5D%2C%20%5B-87.403112%2C%2044.914442%5D%2C%20%5B-87.238804%2C%2045.166381%5D%2C%20%5B-87.03068%2C%2045.22115%5D%2C%20%5B-87.047111%2C%2045.089704%5D%2C%20%5B-87.189511%2C%2044.969211%5D%2C%20%5B-87.468835%2C%2044.552964%5D%2C%20%5B-87.545512%2C%2044.322932%5D%2C%20%5B-87.540035%2C%2044.158624%5D%2C%20%5B-87.644097%2C%2044.103854%5D%2C%20%5B-87.737205%2C%2043.8793%5D%2C%20%5B-87.704344%2C%2043.687607%5D%2C%20%5B-87.791975%2C%2043.561637%5D%2C%20%5B-87.912467%2C%2043.249452%5D%2C%20%5B-87.885083%2C%2043.002989%5D%2C%20%5B-87.76459%2C%2042.783912%5D%2C%20%5B-87.802929%2C%2042.493634%5D%2C%20%5B-88.788778%2C%2042.493634%5D%2C%20%5B-90.639984%2C%2042.510065%5D%2C%20%5B-90.711184%2C%2042.636034%5D%2C%20%5B-91.067185%2C%2042.75105%5D%2C%20%5B-91.143862%2C%2042.909881%5D%2C%20%5B-91.176724%2C%2043.134436%5D%2C%20%5B-91.056231%2C%2043.254929%5D%2C%20%5B-91.204109%2C%2043.353514%5D%2C%20%5B-91.215062%2C%2043.501391%5D%2C%20%5B-91.269832%2C%2043.616407%5D%2C%20%5B-91.242447%2C%2043.775238%5D%2C%20%5B-91.43414%2C%2043.994316%5D%2C%20%5B-91.592971%2C%2044.032654%5D%2C%20%5B-91.877772%2C%2044.202439%5D%2C%20%5B-91.927065%2C%2044.333886%5D%2C%20%5B-92.233773%2C%2044.443425%5D%2C%20%5B-92.337835%2C%2044.552964%5D%2C%20%5B-92.545959%2C%2044.569394%5D%2C%20%5B-92.808852%2C%2044.750133%5D%2C%20%5B-92.737652%2C%2045.117088%5D%2C%20%5B-92.75956%2C%2045.286874%5D%2C%20%5B-92.644544%2C%2045.440228%5D%2C%20%5B-92.770513%2C%2045.566198%5D%2C%20%5B-92.885529%2C%2045.577151%5D%2C%20%5B-92.869098%2C%2045.719552%5D%2C%20%5B-92.639067%2C%2045.933153%5D%2C%20%5B-92.354266%2C%2046.015307%5D%2C%20%5B-92.29402%2C%2046.075553%5D%2C%20%5B-92.29402%2C%2046.667063%5D%2C%20%5B-92.091373%2C%2046.749217%5D%2C%20%5B-92.014696%2C%2046.705401%5D%2C%20%5B-91.790141%2C%2046.694447%5D%2C%20%5B-91.09457%2C%2046.864232%5D%2C%20%5B-90.837154%2C%2046.95734%5D%2C%20%5B-90.749522%2C%2046.88614%5D%2C%20%5B-90.886446%2C%2046.754694%5D%2C%20%5B-90.55783%2C%2046.584908%5D%2C%20%5B-90.415429%2C%2046.568478%5D%5D%5D%2C%20%22type%22%3A%20%22Polygon%22%7D%2C%20%22id%22%3A%20%22WI%22%2C%20%22properties%22%3A%20%7B%22count%22%3A%2019867%2C%20%22highlight%22%3A%20%7B%7D%2C%20%22name%22%3A%20%22Wisconsin%22%2C%20%22style%22%3A%20%7B%22color%22%3A%20%22black%22%2C%20%22fillColor%22%3A%20%22%23ffffb2%22%2C%20%22fillOpacity%22%3A%200.7%2C%20%22opacity%22%3A%200.3%2C%20%22weight%22%3A%201%7D%7D%2C%20%22type%22%3A%20%22Feature%22%7D%2C%20%7B%22geometry%22%3A%20%7B%22coordinates%22%3A%20%5B%5B%5B-109.080842%2C%2045.002073%5D%2C%20%5B-105.91517%2C%2045.002073%5D%2C%20%5B-104.058488%2C%2044.996596%5D%2C%20%5B-104.053011%2C%2043.002989%5D%2C%20%5B-104.053011%2C%2041.003906%5D%2C%20%5B-105.728954%2C%2040.998429%5D%2C%20%5B-107.919731%2C%2041.003906%5D%2C%20%5B-109.04798%2C%2040.998429%5D%2C%20%5B-111.047063%2C%2040.998429%5D%2C%20%5B-111.047063%2C%2042.000709%5D%2C%20%5B-111.047063%2C%2044.476286%5D%2C%20%5B-111.05254%2C%2045.002073%5D%2C%20%5B-109.080842%2C%2045.002073%5D%5D%5D%2C%20%22type%22%3A%20%22Polygon%22%7D%2C%20%22id%22%3A%20%22WY%22%2C%20%22properties%22%3A%20%7B%22count%22%3A%20452%2C%20%22highlight%22%3A%20%7B%7D%2C%20%22name%22%3A%20%22Wyoming%22%2C%20%22style%22%3A%20%7B%22color%22%3A%20%22black%22%2C%20%22fillColor%22%3A%20%22%23ffffb2%22%2C%20%22fillOpacity%22%3A%200.7%2C%20%22opacity%22%3A%200.3%2C%20%22weight%22%3A%201%7D%7D%2C%20%22type%22%3A%20%22Feature%22%7D%5D%2C%20%22type%22%3A%20%22FeatureCollection%22%7D%2C%0A%20%20%20%20%20%20%20%20%20%20%20%20%7B%0A%20%20%20%20%20%20%20%20%20%20%20%20%7D%0A%20%20%20%20%20%20%20%20%29.addTo%28choropleth_0690bc6f35394c479a8cb2e6deb3d740%20%29%3B%0A%20%20%20%20%20%20%20%20geo_json_8632be58bf8342c3988bb607cc340209.setStyle%28function%28feature%29%20%7Breturn%20feature.properties.style%3B%7D%29%3B%0A%20%20%20%20%20%20%20%20%0A%20%20%20%20%0A%20%20%20%20%20%20%20%20geo_json_8632be58bf8342c3988bb607cc340209.bindTooltip%28%0A%20%20%20%20%20%20%20%20%20%20%20%20function%28layer%29%7B%0A%20%20%20%20%20%20%20%20%20%20%20%20//%20Convert%20non-primitive%20to%20String.%0A%20%20%20%20%20%20%20%20%20%20%20%20let%20handleObject%20%3D%20%28feature%29%3D%3Etypeof%28feature%29%3D%3D%27object%27%20%3F%20JSON.stringify%28feature%29%20%3A%20feature%3B%0A%20%20%20%20%20%20%20%20%20%20%20%20let%20fields%20%3D%20%5B%27name%27%2C%20%27count%27%5D%3B%0A%20%20%20%20%20%20%20%20%20%20%20%20%0A%20%20%20%20%20%20%20%20%20%20%20%20let%20aliases%20%3D%20%5B%27State%20Name%3A%20%27%2C%20%27No.%20of%20Accidents%20Reported%27%5D%3B%0A%20%20%20%20%20%20%20%20%20%20%20%20%0A%20%20%20%20%20%20%20%20%20%20%20%20return%20%27%3Ctable%3E%27%20%2B%0A%20%20%20%20%20%20%20%20%20%20%20%20String%28%0A%20%20%20%20%20%20%20%20%20%20%20%20%20%20%20%20fields.map%28%0A%20%20%20%20%20%20%20%20%20%20%20%20%20%20%20%20columnname%3D%3E%0A%20%20%20%20%20%20%20%20%20%20%20%20%20%20%20%20%20%20%20%20%60%3Ctr%20style%3D%22text-align%3A%20left%3B%22%3E%0A%20%20%20%20%20%20%20%20%20%20%20%20%20%20%20%20%20%20%20%20%3Cth%20style%3D%22padding%3A%204px%3B%20padding-right%3A%2010px%3B%22%3E%0A%20%20%20%20%20%20%20%20%20%20%20%20%20%20%20%20%20%20%20%20%20%20%20%20%24%7Baliases%5Bfields.indexOf%28columnname%29%5D%0A%20%20%20%20%20%20%20%20%20%20%20%20%20%20%20%20%20%20%20%20%20%20%20%20%7D%0A%20%20%20%20%20%20%20%20%20%20%20%20%20%20%20%20%20%20%20%20%3C/th%3E%0A%20%20%20%20%20%20%20%20%20%20%20%20%20%20%20%20%20%20%20%20%0A%20%20%20%20%20%20%20%20%20%20%20%20%20%20%20%20%20%20%20%20%3Ctd%20style%3D%22padding%3A%204px%3B%22%3E%24%7BhandleObject%28layer.feature.properties%5Bcolumnname%5D%29%0A%20%20%20%20%20%20%20%20%20%20%20%20%20%20%20%20%20%20%20%20%7D%3C/td%3E%3C/tr%3E%60%0A%20%20%20%20%20%20%20%20%20%20%20%20%20%20%20%20%29.join%28%27%27%29%29%0A%20%20%20%20%20%20%20%20%20%20%20%20%20%20%20%20%2B%27%3C/table%3E%27%0A%20%20%20%20%20%20%20%20%20%20%20%20%7D%2C%20%7B%22sticky%22%3A%20true%7D%29%3B%0A%20%20%20%20%20%20%20%20%0A%20%20%20%20%0A%20%20%20%20var%20color_map_259a945eb0ed440d8c689322272f6887%20%3D%20%7B%7D%3B%0A%0A%20%20%20%20%0A%20%20%20%20color_map_259a945eb0ed440d8c689322272f6887.color%20%3D%20d3.scale.threshold%28%29%0A%20%20%20%20%20%20%20%20%20%20%20%20%20%20.domain%28%5B218.0%2C%201865.6052104208418%2C%203513.2104208416836%2C%205160.815631262525%2C%206808.420841683367%2C%208456.02605210421%2C%2010103.63126252505%2C%2011751.236472945891%2C%2013398.841683366734%2C%2015046.446893787575%2C%2016694.05210420842%2C%2018341.657314629258%2C%2019989.2625250501%2C%2021636.867735470943%2C%2023284.472945891783%2C%2024932.078156312626%2C%2026579.68336673347%2C%2028227.288577154308%2C%2029874.89378757515%2C%2031522.498997995994%2C%2033170.10420841684%2C%2034817.70941883767%2C%2036465.314629258515%2C%2038112.91983967936%2C%2039760.5250501002%2C%2041408.130260521044%2C%2043055.73547094189%2C%2044703.34068136272%2C%2046350.945891783565%2C%2047998.55110220441%2C%2049646.15631262525%2C%2051293.761523046094%2C%2052941.36673346694%2C%2054588.97194388777%2C%2056236.577154308616%2C%2057884.18236472946%2C%2059531.7875751503%2C%2061179.392785571144%2C%2062826.99799599199%2C%2064474.60320641282%2C%2066122.20841683367%2C%2067769.81362725451%2C%2069417.41883767534%2C%2071065.0240480962%2C%2072712.62925851703%2C%2074360.23446893788%2C%2076007.83967935872%2C%2077655.44488977955%2C%2079303.0501002004%2C%2080950.65531062124%2C%2082598.26052104209%2C%2084245.86573146292%2C%2085893.47094188377%2C%2087541.07615230461%2C%2089188.68136272545%2C%2090836.2865731463%2C%2092483.89178356713%2C%2094131.49699398798%2C%2095779.10220440882%2C%2097426.70741482965%2C%2099074.3126252505%2C%20100721.91783567134%2C%20102369.52304609219%2C%20104017.12825651302%2C%20105664.73346693387%2C%20107312.33867735471%2C%20108959.94388777555%2C%20110607.5490981964%2C%20112255.15430861723%2C%20113902.75951903808%2C%20115550.36472945892%2C%20117197.96993987975%2C%20118845.5751503006%2C%20120493.18036072144%2C%20122140.78557114229%2C%20123788.39078156312%2C%20125435.99599198397%2C%20127083.60120240481%2C%20128731.20641282565%2C%20130378.8116232465%2C%20132026.41683366735%2C%20133674.02204408817%2C%20135321.62725450902%2C%20136969.23246492987%2C%20138616.8376753507%2C%20140264.44288577154%2C%20141912.0480961924%2C%20143559.65330661324%2C%20145207.25851703406%2C%20146854.8637274549%2C%20148502.46893787576%2C%20150150.07414829658%2C%20151797.67935871743%2C%20153445.28456913828%2C%20155092.8897795591%2C%20156740.49498997995%2C%20158388.1002004008%2C%20160035.70541082165%2C%20161683.31062124248%2C%20163330.91583166333%2C%20164978.52104208418%2C%20166626.126252505%2C%20168273.73146292585%2C%20169921.3366733467%2C%20171568.94188376755%2C%20173216.54709418837%2C%20174864.15230460922%2C%20176511.75751503007%2C%20178159.3627254509%2C%20179806.96793587174%2C%20181454.5731462926%2C%20183102.17835671344%2C%20184749.78356713426%2C%20186397.3887775551%2C%20188044.99398797596%2C%20189692.59919839678%2C%20191340.20440881763%2C%20192987.80961923848%2C%20194635.4148296593%2C%20196283.02004008016%2C%20197930.625250501%2C%20199578.23046092186%2C%20201225.83567134268%2C%20202873.44088176353%2C%20204521.04609218438%2C%20206168.6513026052%2C%20207816.25651302605%2C%20209463.8617234469%2C%20211111.46693386775%2C%20212759.07214428857%2C%20214406.67735470942%2C%20216054.28256513027%2C%20217701.8877755511%2C%20219349.49298597194%2C%20220997.0981963928%2C%20222644.70340681364%2C%20224292.30861723446%2C%20225939.9138276553%2C%20227587.51903807616%2C%20229235.12424849698%2C%20230882.72945891783%2C%20232530.33466933868%2C%20234177.9398797595%2C%20235825.54509018036%2C%20237473.1503006012%2C%20239120.75551102206%2C%20240768.36072144288%2C%20242415.96593186373%2C%20244063.57114228458%2C%20245711.1763527054%2C%20247358.78156312625%2C%20249006.3867735471%2C%20250653.99198396795%2C%20252301.59719438877%2C%20253949.20240480962%2C%20255596.80761523047%2C%20257244.4128256513%2C%20258892.01803607214%2C%20260539.623246493%2C%20262187.22845691384%2C%20263834.8336673347%2C%20265482.4388777555%2C%20267130.04408817634%2C%20268777.6492985972%2C%20270425.25450901804%2C%20272072.8597194389%2C%20273720.46492985974%2C%20275368.0701402806%2C%20277015.6753507014%2C%20278663.2805611222%2C%20280310.8857715431%2C%20281958.4909819639%2C%20283606.0961923848%2C%20285253.70140280563%2C%20286901.3066132265%2C%20288548.9118236473%2C%20290196.5170340681%2C%20291844.122244489%2C%20293491.7274549098%2C%20295139.3326653307%2C%20296786.9378757515%2C%20298434.5430861724%2C%20300082.14829659316%2C%20301729.753507014%2C%20303377.35871743486%2C%20305024.9639278557%2C%20306672.56913827657%2C%20308320.1743486974%2C%20309967.7795591182%2C%20311615.38476953906%2C%20313262.9899799599%2C%20314910.59519038076%2C%20316558.2004008016%2C%20318205.80561122246%2C%20319853.4108216433%2C%20321501.0160320641%2C%20323148.62124248495%2C%20324796.2264529058%2C%20326443.83166332665%2C%20328091.4368737475%2C%20329739.04208416835%2C%20331386.6472945892%2C%20333034.25250501%2C%20334681.85771543084%2C%20336329.4629258517%2C%20337977.06813627254%2C%20339624.6733466934%2C%20341272.27855711424%2C%20342919.8837675351%2C%20344567.4889779559%2C%20346215.09418837674%2C%20347862.6993987976%2C%20349510.30460921844%2C%20351157.9098196393%2C%20352805.51503006014%2C%20354453.120240481%2C%20356100.7254509018%2C%20357748.33066132263%2C%20359395.9358717435%2C%20361043.54108216433%2C%20362691.1462925852%2C%20364338.75150300603%2C%20365986.3567134269%2C%20367633.9619238477%2C%20369281.5671342685%2C%20370929.1723446894%2C%20372576.7775551102%2C%20374224.3827655311%2C%20375871.9879759519%2C%20377519.5931863727%2C%20379167.19839679357%2C%20380814.8036072144%2C%20382462.40881763527%2C%20384110.0140280561%2C%20385757.61923847697%2C%20387405.2244488978%2C%20389052.8296593186%2C%20390700.43486973946%2C%20392348.0400801603%2C%20393995.64529058116%2C%20395643.250501002%2C%20397290.85571142286%2C%20398938.4609218437%2C%20400586.0661322645%2C%20402233.67134268535%2C%20403881.2765531062%2C%20405528.88176352705%2C%20407176.4869739479%2C%20408824.09218436875%2C%20410471.6973947896%2C%20412119.3026052104%2C%20413766.90781563125%2C%20415414.5130260521%2C%20417062.11823647295%2C%20418709.7234468938%2C%20420357.32865731465%2C%20422004.9338677355%2C%20423652.5390781563%2C%20425300.14428857714%2C%20426947.749498998%2C%20428595.35470941884%2C%20430242.9599198397%2C%20431890.56513026054%2C%20433538.1703406814%2C%20435185.7755511022%2C%20436833.38076152303%2C%20438480.9859719439%2C%20440128.59118236473%2C%20441776.1963927856%2C%20443423.80160320643%2C%20445071.4068136273%2C%20446719.0120240481%2C%20448366.6172344689%2C%20450014.2224448898%2C%20451661.8276553106%2C%20453309.4328657315%2C%20454957.0380761523%2C%20456604.6432865731%2C%20458252.24849699397%2C%20459899.8537074148%2C%20461547.45891783567%2C%20463195.0641282565%2C%20464842.66933867737%2C%20466490.2745490982%2C%20468137.879759519%2C%20469785.48496993986%2C%20471433.0901803607%2C%20473080.69539078156%2C%20474728.3006012024%2C%20476375.90581162326%2C%20478023.5110220441%2C%20479671.1162324649%2C%20481318.72144288576%2C%20482966.3266533066%2C%20484613.93186372746%2C%20486261.5370741483%2C%20487909.14228456916%2C%20489556.74749499%2C%20491204.3527054108%2C%20492851.95791583165%2C%20494499.5631262525%2C%20496147.16833667335%2C%20497794.7735470942%2C%20499442.37875751505%2C%20501089.9839679359%2C%20502737.5891783567%2C%20504385.19438877754%2C%20506032.7995991984%2C%20507680.40480961924%2C%20509328.0100200401%2C%20510975.61523046094%2C%20512623.2204408818%2C%20514270.8256513026%2C%20515918.43086172343%2C%20517566.0360721443%2C%20519213.64128256514%2C%20520861.246492986%2C%20522508.85170340684%2C%20524156.4569138276%2C%20525804.0621242485%2C%20527451.6673346694%2C%20529099.2725450902%2C%20530746.877755511%2C%20532394.4829659319%2C%20534042.0881763527%2C%20535689.6933867736%2C%20537337.2985971944%2C%20538984.9038076153%2C%20540632.5090180361%2C%20542280.1142284569%2C%20543927.7194388778%2C%20545575.3246492986%2C%20547222.9298597195%2C%20548870.5350701403%2C%20550518.1402805612%2C%20552165.745490982%2C%20553813.3507014028%2C%20555460.9559118237%2C%20557108.5611222445%2C%20558756.1663326654%2C%20560403.7715430862%2C%20562051.3767535071%2C%20563698.9819639279%2C%20565346.5871743486%2C%20566994.1923847696%2C%20568641.7975951903%2C%20570289.4028056113%2C%20571937.008016032%2C%20573584.613226453%2C%20575232.2184368738%2C%20576879.8236472945%2C%20578527.4288577155%2C%20580175.0340681362%2C%20581822.6392785572%2C%20583470.244488978%2C%20585117.8496993989%2C%20586765.4549098196%2C%20588413.0601202404%2C%20590060.6653306613%2C%20591708.2705410821%2C%20593355.875751503%2C%20595003.4809619238%2C%20596651.0861723447%2C%20598298.6913827655%2C%20599946.2965931863%2C%20601593.9018036072%2C%20603241.507014028%2C%20604889.1122244489%2C%20606536.7174348697%2C%20608184.3226452906%2C%20609831.9278557114%2C%20611479.5330661322%2C%20613127.1382765531%2C%20614774.7434869739%2C%20616422.3486973948%2C%20618069.9539078156%2C%20619717.5591182364%2C%20621365.1643286573%2C%20623012.7695390781%2C%20624660.374749499%2C%20626307.9799599198%2C%20627955.5851703407%2C%20629603.1903807615%2C%20631250.7955911823%2C%20632898.4008016032%2C%20634546.006012024%2C%20636193.6112224449%2C%20637841.2164328657%2C%20639488.8216432866%2C%20641136.4268537074%2C%20642784.0320641282%2C%20644431.6372745491%2C%20646079.2424849699%2C%20647726.8476953908%2C%20649374.4529058116%2C%20651022.0581162325%2C%20652669.6633266533%2C%20654317.2685370741%2C%20655964.873747495%2C%20657612.4789579158%2C%20659260.0841683367%2C%20660907.6893787575%2C%20662555.2945891784%2C%20664202.8997995992%2C%20665850.50501002%2C%20667498.1102204409%2C%20669145.7154308617%2C%20670793.3206412826%2C%20672440.9258517034%2C%20674088.5310621243%2C%20675736.1362725451%2C%20677383.7414829659%2C%20679031.3466933868%2C%20680678.9519038076%2C%20682326.5571142285%2C%20683974.1623246493%2C%20685621.7675350702%2C%20687269.372745491%2C%20688916.9779559118%2C%20690564.5831663327%2C%20692212.1883767535%2C%20693859.7935871744%2C%20695507.3987975952%2C%20697155.0040080161%2C%20698802.6092184369%2C%20700450.2144288577%2C%20702097.8196392786%2C%20703745.4248496994%2C%20705393.0300601203%2C%20707040.6352705411%2C%20708688.240480962%2C%20710335.8456913828%2C%20711983.4509018036%2C%20713631.0561122245%2C%20715278.6613226453%2C%20716926.2665330662%2C%20718573.871743487%2C%20720221.4769539079%2C%20721869.0821643287%2C%20723516.6873747495%2C%20725164.2925851704%2C%20726811.8977955912%2C%20728459.5030060121%2C%20730107.1082164329%2C%20731754.7134268538%2C%20733402.3186372746%2C%20735049.9238476953%2C%20736697.5290581163%2C%20738345.134268537%2C%20739992.739478958%2C%20741640.3446893787%2C%20743287.9498997997%2C%20744935.5551102204%2C%20746583.1603206412%2C%20748230.7655310621%2C%20749878.3707414829%2C%20751525.9759519038%2C%20753173.5811623246%2C%20754821.1863727454%2C%20756468.7915831663%2C%20758116.3967935871%2C%20759764.002004008%2C%20761411.6072144288%2C%20763059.2124248497%2C%20764706.8176352705%2C%20766354.4228456913%2C%20768002.0280561122%2C%20769649.633266533%2C%20771297.2384769539%2C%20772944.8436873747%2C%20774592.4488977956%2C%20776240.0541082164%2C%20777887.6593186372%2C%20779535.2645290581%2C%20781182.8697394789%2C%20782830.4749498998%2C%20784478.0801603206%2C%20786125.6853707415%2C%20787773.2905811623%2C%20789420.8957915831%2C%20791068.501002004%2C%20792716.1062124248%2C%20794363.7114228457%2C%20796011.3166332665%2C%20797658.9218436874%2C%20799306.5270541082%2C%20800954.132264529%2C%20802601.7374749499%2C%20804249.3426853707%2C%20805896.9478957916%2C%20807544.5531062124%2C%20809192.1583166333%2C%20810839.7635270541%2C%20812487.3687374749%2C%20814134.9739478958%2C%20815782.5791583166%2C%20817430.1843687375%2C%20819077.7895791583%2C%20820725.3947895792%2C%20822373.0%5D%29%0A%20%20%20%20%20%20%20%20%20%20%20%20%20%20.range%28%5B%27%23ffffb2ff%27%2C%20%27%23ffffb2ff%27%2C%20%27%23ffffb2ff%27%2C%20%27%23ffffb2ff%27%2C%20%27%23ffffb2ff%27%2C%20%27%23ffffb2ff%27%2C%20%27%23ffffb2ff%27%2C%20%27%23ffffb2ff%27%2C%20%27%23ffffb2ff%27%2C%20%27%23ffffb2ff%27%2C%20%27%23ffffb2ff%27%2C%20%27%23ffffb2ff%27%2C%20%27%23ffffb2ff%27%2C%20%27%23ffffb2ff%27%2C%20%27%23ffffb2ff%27%2C%20%27%23ffffb2ff%27%2C%20%27%23ffffb2ff%27%2C%20%27%23ffffb2ff%27%2C%20%27%23ffffb2ff%27%2C%20%27%23ffffb2ff%27%2C%20%27%23ffffb2ff%27%2C%20%27%23ffffb2ff%27%2C%20%27%23ffffb2ff%27%2C%20%27%23ffffb2ff%27%2C%20%27%23ffffb2ff%27%2C%20%27%23ffffb2ff%27%2C%20%27%23ffffb2ff%27%2C%20%27%23ffffb2ff%27%2C%20%27%23ffffb2ff%27%2C%20%27%23ffffb2ff%27%2C%20%27%23ffffb2ff%27%2C%20%27%23ffffb2ff%27%2C%20%27%23ffffb2ff%27%2C%20%27%23ffffb2ff%27%2C%20%27%23ffffb2ff%27%2C%20%27%23ffffb2ff%27%2C%20%27%23ffffb2ff%27%2C%20%27%23ffffb2ff%27%2C%20%27%23ffffb2ff%27%2C%20%27%23ffffb2ff%27%2C%20%27%23ffffb2ff%27%2C%20%27%23ffffb2ff%27%2C%20%27%23ffffb2ff%27%2C%20%27%23ffffb2ff%27%2C%20%27%23ffffb2ff%27%2C%20%27%23ffffb2ff%27%2C%20%27%23ffffb2ff%27%2C%20%27%23ffffb2ff%27%2C%20%27%23ffffb2ff%27%2C%20%27%23ffffb2ff%27%2C%20%27%23ffffb2ff%27%2C%20%27%23ffffb2ff%27%2C%20%27%23ffffb2ff%27%2C%20%27%23ffffb2ff%27%2C%20%27%23ffffb2ff%27%2C%20%27%23ffffb2ff%27%2C%20%27%23ffffb2ff%27%2C%20%27%23ffffb2ff%27%2C%20%27%23ffffb2ff%27%2C%20%27%23ffffb2ff%27%2C%20%27%23ffffb2ff%27%2C%20%27%23ffffb2ff%27%2C%20%27%23ffffb2ff%27%2C%20%27%23ffffb2ff%27%2C%20%27%23ffffb2ff%27%2C%20%27%23ffffb2ff%27%2C%20%27%23ffffb2ff%27%2C%20%27%23ffffb2ff%27%2C%20%27%23ffffb2ff%27%2C%20%27%23ffffb2ff%27%2C%20%27%23ffffb2ff%27%2C%20%27%23ffffb2ff%27%2C%20%27%23ffffb2ff%27%2C%20%27%23ffffb2ff%27%2C%20%27%23ffffb2ff%27%2C%20%27%23ffffb2ff%27%2C%20%27%23ffffb2ff%27%2C%20%27%23ffffb2ff%27%2C%20%27%23ffffb2ff%27%2C%20%27%23ffffb2ff%27%2C%20%27%23ffffb2ff%27%2C%20%27%23ffffb2ff%27%2C%20%27%23ffffb2ff%27%2C%20%27%23ffffb2ff%27%2C%20%27%23fed976ff%27%2C%20%27%23fed976ff%27%2C%20%27%23fed976ff%27%2C%20%27%23fed976ff%27%2C%20%27%23fed976ff%27%2C%20%27%23fed976ff%27%2C%20%27%23fed976ff%27%2C%20%27%23fed976ff%27%2C%20%27%23fed976ff%27%2C%20%27%23fed976ff%27%2C%20%27%23fed976ff%27%2C%20%27%23fed976ff%27%2C%20%27%23fed976ff%27%2C%20%27%23fed976ff%27%2C%20%27%23fed976ff%27%2C%20%27%23fed976ff%27%2C%20%27%23fed976ff%27%2C%20%27%23fed976ff%27%2C%20%27%23fed976ff%27%2C%20%27%23fed976ff%27%2C%20%27%23fed976ff%27%2C%20%27%23fed976ff%27%2C%20%27%23fed976ff%27%2C%20%27%23fed976ff%27%2C%20%27%23fed976ff%27%2C%20%27%23fed976ff%27%2C%20%27%23fed976ff%27%2C%20%27%23fed976ff%27%2C%20%27%23fed976ff%27%2C%20%27%23fed976ff%27%2C%20%27%23fed976ff%27%2C%20%27%23fed976ff%27%2C%20%27%23fed976ff%27%2C%20%27%23fed976ff%27%2C%20%27%23fed976ff%27%2C%20%27%23fed976ff%27%2C%20%27%23fed976ff%27%2C%20%27%23fed976ff%27%2C%20%27%23fed976ff%27%2C%20%27%23fed976ff%27%2C%20%27%23fed976ff%27%2C%20%27%23fed976ff%27%2C%20%27%23fed976ff%27%2C%20%27%23fed976ff%27%2C%20%27%23fed976ff%27%2C%20%27%23fed976ff%27%2C%20%27%23fed976ff%27%2C%20%27%23fed976ff%27%2C%20%27%23fed976ff%27%2C%20%27%23fed976ff%27%2C%20%27%23fed976ff%27%2C%20%27%23fed976ff%27%2C%20%27%23fed976ff%27%2C%20%27%23fed976ff%27%2C%20%27%23fed976ff%27%2C%20%27%23fed976ff%27%2C%20%27%23fed976ff%27%2C%20%27%23fed976ff%27%2C%20%27%23fed976ff%27%2C%20%27%23fed976ff%27%2C%20%27%23fed976ff%27%2C%20%27%23fed976ff%27%2C%20%27%23fed976ff%27%2C%20%27%23fed976ff%27%2C%20%27%23fed976ff%27%2C%20%27%23fed976ff%27%2C%20%27%23fed976ff%27%2C%20%27%23fed976ff%27%2C%20%27%23fed976ff%27%2C%20%27%23fed976ff%27%2C%20%27%23fed976ff%27%2C%20%27%23fed976ff%27%2C%20%27%23fed976ff%27%2C%20%27%23fed976ff%27%2C%20%27%23fed976ff%27%2C%20%27%23fed976ff%27%2C%20%27%23fed976ff%27%2C%20%27%23fed976ff%27%2C%20%27%23fed976ff%27%2C%20%27%23fed976ff%27%2C%20%27%23fed976ff%27%2C%20%27%23fed976ff%27%2C%20%27%23fed976ff%27%2C%20%27%23feb24cff%27%2C%20%27%23feb24cff%27%2C%20%27%23feb24cff%27%2C%20%27%23feb24cff%27%2C%20%27%23feb24cff%27%2C%20%27%23feb24cff%27%2C%20%27%23feb24cff%27%2C%20%27%23feb24cff%27%2C%20%27%23feb24cff%27%2C%20%27%23feb24cff%27%2C%20%27%23feb24cff%27%2C%20%27%23feb24cff%27%2C%20%27%23feb24cff%27%2C%20%27%23feb24cff%27%2C%20%27%23feb24cff%27%2C%20%27%23feb24cff%27%2C%20%27%23feb24cff%27%2C%20%27%23feb24cff%27%2C%20%27%23feb24cff%27%2C%20%27%23feb24cff%27%2C%20%27%23feb24cff%27%2C%20%27%23feb24cff%27%2C%20%27%23feb24cff%27%2C%20%27%23feb24cff%27%2C%20%27%23feb24cff%27%2C%20%27%23feb24cff%27%2C%20%27%23feb24cff%27%2C%20%27%23feb24cff%27%2C%20%27%23feb24cff%27%2C%20%27%23feb24cff%27%2C%20%27%23feb24cff%27%2C%20%27%23feb24cff%27%2C%20%27%23feb24cff%27%2C%20%27%23feb24cff%27%2C%20%27%23feb24cff%27%2C%20%27%23feb24cff%27%2C%20%27%23feb24cff%27%2C%20%27%23feb24cff%27%2C%20%27%23feb24cff%27%2C%20%27%23feb24cff%27%2C%20%27%23feb24cff%27%2C%20%27%23feb24cff%27%2C%20%27%23feb24cff%27%2C%20%27%23feb24cff%27%2C%20%27%23feb24cff%27%2C%20%27%23feb24cff%27%2C%20%27%23feb24cff%27%2C%20%27%23feb24cff%27%2C%20%27%23feb24cff%27%2C%20%27%23feb24cff%27%2C%20%27%23feb24cff%27%2C%20%27%23feb24cff%27%2C%20%27%23feb24cff%27%2C%20%27%23feb24cff%27%2C%20%27%23feb24cff%27%2C%20%27%23feb24cff%27%2C%20%27%23feb24cff%27%2C%20%27%23feb24cff%27%2C%20%27%23feb24cff%27%2C%20%27%23feb24cff%27%2C%20%27%23feb24cff%27%2C%20%27%23feb24cff%27%2C%20%27%23feb24cff%27%2C%20%27%23feb24cff%27%2C%20%27%23feb24cff%27%2C%20%27%23feb24cff%27%2C%20%27%23feb24cff%27%2C%20%27%23feb24cff%27%2C%20%27%23feb24cff%27%2C%20%27%23feb24cff%27%2C%20%27%23feb24cff%27%2C%20%27%23feb24cff%27%2C%20%27%23feb24cff%27%2C%20%27%23feb24cff%27%2C%20%27%23feb24cff%27%2C%20%27%23feb24cff%27%2C%20%27%23feb24cff%27%2C%20%27%23feb24cff%27%2C%20%27%23feb24cff%27%2C%20%27%23feb24cff%27%2C%20%27%23feb24cff%27%2C%20%27%23feb24cff%27%2C%20%27%23feb24cff%27%2C%20%27%23fd8d3cff%27%2C%20%27%23fd8d3cff%27%2C%20%27%23fd8d3cff%27%2C%20%27%23fd8d3cff%27%2C%20%27%23fd8d3cff%27%2C%20%27%23fd8d3cff%27%2C%20%27%23fd8d3cff%27%2C%20%27%23fd8d3cff%27%2C%20%27%23fd8d3cff%27%2C%20%27%23fd8d3cff%27%2C%20%27%23fd8d3cff%27%2C%20%27%23fd8d3cff%27%2C%20%27%23fd8d3cff%27%2C%20%27%23fd8d3cff%27%2C%20%27%23fd8d3cff%27%2C%20%27%23fd8d3cff%27%2C%20%27%23fd8d3cff%27%2C%20%27%23fd8d3cff%27%2C%20%27%23fd8d3cff%27%2C%20%27%23fd8d3cff%27%2C%20%27%23fd8d3cff%27%2C%20%27%23fd8d3cff%27%2C%20%27%23fd8d3cff%27%2C%20%27%23fd8d3cff%27%2C%20%27%23fd8d3cff%27%2C%20%27%23fd8d3cff%27%2C%20%27%23fd8d3cff%27%2C%20%27%23fd8d3cff%27%2C%20%27%23fd8d3cff%27%2C%20%27%23fd8d3cff%27%2C%20%27%23fd8d3cff%27%2C%20%27%23fd8d3cff%27%2C%20%27%23fd8d3cff%27%2C%20%27%23fd8d3cff%27%2C%20%27%23fd8d3cff%27%2C%20%27%23fd8d3cff%27%2C%20%27%23fd8d3cff%27%2C%20%27%23fd8d3cff%27%2C%20%27%23fd8d3cff%27%2C%20%27%23fd8d3cff%27%2C%20%27%23fd8d3cff%27%2C%20%27%23fd8d3cff%27%2C%20%27%23fd8d3cff%27%2C%20%27%23fd8d3cff%27%2C%20%27%23fd8d3cff%27%2C%20%27%23fd8d3cff%27%2C%20%27%23fd8d3cff%27%2C%20%27%23fd8d3cff%27%2C%20%27%23fd8d3cff%27%2C%20%27%23fd8d3cff%27%2C%20%27%23fd8d3cff%27%2C%20%27%23fd8d3cff%27%2C%20%27%23fd8d3cff%27%2C%20%27%23fd8d3cff%27%2C%20%27%23fd8d3cff%27%2C%20%27%23fd8d3cff%27%2C%20%27%23fd8d3cff%27%2C%20%27%23fd8d3cff%27%2C%20%27%23fd8d3cff%27%2C%20%27%23fd8d3cff%27%2C%20%27%23fd8d3cff%27%2C%20%27%23fd8d3cff%27%2C%20%27%23fd8d3cff%27%2C%20%27%23fd8d3cff%27%2C%20%27%23fd8d3cff%27%2C%20%27%23fd8d3cff%27%2C%20%27%23fd8d3cff%27%2C%20%27%23fd8d3cff%27%2C%20%27%23fd8d3cff%27%2C%20%27%23fd8d3cff%27%2C%20%27%23fd8d3cff%27%2C%20%27%23fd8d3cff%27%2C%20%27%23fd8d3cff%27%2C%20%27%23fd8d3cff%27%2C%20%27%23fd8d3cff%27%2C%20%27%23fd8d3cff%27%2C%20%27%23fd8d3cff%27%2C%20%27%23fd8d3cff%27%2C%20%27%23fd8d3cff%27%2C%20%27%23fd8d3cff%27%2C%20%27%23fd8d3cff%27%2C%20%27%23fd8d3cff%27%2C%20%27%23fd8d3cff%27%2C%20%27%23f03b20ff%27%2C%20%27%23f03b20ff%27%2C%20%27%23f03b20ff%27%2C%20%27%23f03b20ff%27%2C%20%27%23f03b20ff%27%2C%20%27%23f03b20ff%27%2C%20%27%23f03b20ff%27%2C%20%27%23f03b20ff%27%2C%20%27%23f03b20ff%27%2C%20%27%23f03b20ff%27%2C%20%27%23f03b20ff%27%2C%20%27%23f03b20ff%27%2C%20%27%23f03b20ff%27%2C%20%27%23f03b20ff%27%2C%20%27%23f03b20ff%27%2C%20%27%23f03b20ff%27%2C%20%27%23f03b20ff%27%2C%20%27%23f03b20ff%27%2C%20%27%23f03b20ff%27%2C%20%27%23f03b20ff%27%2C%20%27%23f03b20ff%27%2C%20%27%23f03b20ff%27%2C%20%27%23f03b20ff%27%2C%20%27%23f03b20ff%27%2C%20%27%23f03b20ff%27%2C%20%27%23f03b20ff%27%2C%20%27%23f03b20ff%27%2C%20%27%23f03b20ff%27%2C%20%27%23f03b20ff%27%2C%20%27%23f03b20ff%27%2C%20%27%23f03b20ff%27%2C%20%27%23f03b20ff%27%2C%20%27%23f03b20ff%27%2C%20%27%23f03b20ff%27%2C%20%27%23f03b20ff%27%2C%20%27%23f03b20ff%27%2C%20%27%23f03b20ff%27%2C%20%27%23f03b20ff%27%2C%20%27%23f03b20ff%27%2C%20%27%23f03b20ff%27%2C%20%27%23f03b20ff%27%2C%20%27%23f03b20ff%27%2C%20%27%23f03b20ff%27%2C%20%27%23f03b20ff%27%2C%20%27%23f03b20ff%27%2C%20%27%23f03b20ff%27%2C%20%27%23f03b20ff%27%2C%20%27%23f03b20ff%27%2C%20%27%23f03b20ff%27%2C%20%27%23f03b20ff%27%2C%20%27%23f03b20ff%27%2C%20%27%23f03b20ff%27%2C%20%27%23f03b20ff%27%2C%20%27%23f03b20ff%27%2C%20%27%23f03b20ff%27%2C%20%27%23f03b20ff%27%2C%20%27%23f03b20ff%27%2C%20%27%23f03b20ff%27%2C%20%27%23f03b20ff%27%2C%20%27%23f03b20ff%27%2C%20%27%23f03b20ff%27%2C%20%27%23f03b20ff%27%2C%20%27%23f03b20ff%27%2C%20%27%23f03b20ff%27%2C%20%27%23f03b20ff%27%2C%20%27%23f03b20ff%27%2C%20%27%23f03b20ff%27%2C%20%27%23f03b20ff%27%2C%20%27%23f03b20ff%27%2C%20%27%23f03b20ff%27%2C%20%27%23f03b20ff%27%2C%20%27%23f03b20ff%27%2C%20%27%23f03b20ff%27%2C%20%27%23f03b20ff%27%2C%20%27%23f03b20ff%27%2C%20%27%23f03b20ff%27%2C%20%27%23f03b20ff%27%2C%20%27%23f03b20ff%27%2C%20%27%23f03b20ff%27%2C%20%27%23f03b20ff%27%2C%20%27%23f03b20ff%27%2C%20%27%23f03b20ff%27%2C%20%27%23f03b20ff%27%2C%20%27%23bd0026ff%27%2C%20%27%23bd0026ff%27%2C%20%27%23bd0026ff%27%2C%20%27%23bd0026ff%27%2C%20%27%23bd0026ff%27%2C%20%27%23bd0026ff%27%2C%20%27%23bd0026ff%27%2C%20%27%23bd0026ff%27%2C%20%27%23bd0026ff%27%2C%20%27%23bd0026ff%27%2C%20%27%23bd0026ff%27%2C%20%27%23bd0026ff%27%2C%20%27%23bd0026ff%27%2C%20%27%23bd0026ff%27%2C%20%27%23bd0026ff%27%2C%20%27%23bd0026ff%27%2C%20%27%23bd0026ff%27%2C%20%27%23bd0026ff%27%2C%20%27%23bd0026ff%27%2C%20%27%23bd0026ff%27%2C%20%27%23bd0026ff%27%2C%20%27%23bd0026ff%27%2C%20%27%23bd0026ff%27%2C%20%27%23bd0026ff%27%2C%20%27%23bd0026ff%27%2C%20%27%23bd0026ff%27%2C%20%27%23bd0026ff%27%2C%20%27%23bd0026ff%27%2C%20%27%23bd0026ff%27%2C%20%27%23bd0026ff%27%2C%20%27%23bd0026ff%27%2C%20%27%23bd0026ff%27%2C%20%27%23bd0026ff%27%2C%20%27%23bd0026ff%27%2C%20%27%23bd0026ff%27%2C%20%27%23bd0026ff%27%2C%20%27%23bd0026ff%27%2C%20%27%23bd0026ff%27%2C%20%27%23bd0026ff%27%2C%20%27%23bd0026ff%27%2C%20%27%23bd0026ff%27%2C%20%27%23bd0026ff%27%2C%20%27%23bd0026ff%27%2C%20%27%23bd0026ff%27%2C%20%27%23bd0026ff%27%2C%20%27%23bd0026ff%27%2C%20%27%23bd0026ff%27%2C%20%27%23bd0026ff%27%2C%20%27%23bd0026ff%27%2C%20%27%23bd0026ff%27%2C%20%27%23bd0026ff%27%2C%20%27%23bd0026ff%27%2C%20%27%23bd0026ff%27%2C%20%27%23bd0026ff%27%2C%20%27%23bd0026ff%27%2C%20%27%23bd0026ff%27%2C%20%27%23bd0026ff%27%2C%20%27%23bd0026ff%27%2C%20%27%23bd0026ff%27%2C%20%27%23bd0026ff%27%2C%20%27%23bd0026ff%27%2C%20%27%23bd0026ff%27%2C%20%27%23bd0026ff%27%2C%20%27%23bd0026ff%27%2C%20%27%23bd0026ff%27%2C%20%27%23bd0026ff%27%2C%20%27%23bd0026ff%27%2C%20%27%23bd0026ff%27%2C%20%27%23bd0026ff%27%2C%20%27%23bd0026ff%27%2C%20%27%23bd0026ff%27%2C%20%27%23bd0026ff%27%2C%20%27%23bd0026ff%27%2C%20%27%23bd0026ff%27%2C%20%27%23bd0026ff%27%2C%20%27%23bd0026ff%27%2C%20%27%23bd0026ff%27%2C%20%27%23bd0026ff%27%2C%20%27%23bd0026ff%27%2C%20%27%23bd0026ff%27%2C%20%27%23bd0026ff%27%2C%20%27%23bd0026ff%27%2C%20%27%23bd0026ff%27%2C%20%27%23bd0026ff%27%5D%29%3B%0A%20%20%20%20%0A%0A%20%20%20%20color_map_259a945eb0ed440d8c689322272f6887.x%20%3D%20d3.scale.linear%28%29%0A%20%20%20%20%20%20%20%20%20%20%20%20%20%20.domain%28%5B218.0%2C%20822373.0%5D%29%0A%20%20%20%20%20%20%20%20%20%20%20%20%20%20.range%28%5B0%2C%20400%5D%29%3B%0A%0A%20%20%20%20color_map_259a945eb0ed440d8c689322272f6887.legend%20%3D%20L.control%28%7Bposition%3A%20%27topright%27%7D%29%3B%0A%20%20%20%20color_map_259a945eb0ed440d8c689322272f6887.legend.onAdd%20%3D%20function%20%28map%29%20%7Bvar%20div%20%3D%20L.DomUtil.create%28%27div%27%2C%20%27legend%27%29%3B%20return%20div%7D%3B%0A%20%20%20%20color_map_259a945eb0ed440d8c689322272f6887.legend.addTo%28map_c871bff445ba438cb10e95183517cead%29%3B%0A%0A%20%20%20%20color_map_259a945eb0ed440d8c689322272f6887.xAxis%20%3D%20d3.svg.axis%28%29%0A%20%20%20%20%20%20%20%20.scale%28color_map_259a945eb0ed440d8c689322272f6887.x%29%0A%20%20%20%20%20%20%20%20.orient%28%22top%22%29%0A%20%20%20%20%20%20%20%20.tickSize%281%29%0A%20%20%20%20%20%20%20%20.tickValues%28%5B218.0%2C%20137243.83333333334%2C%20274269.6666666667%2C%20411295.5%2C%20548321.3333333334%2C%20685347.1666666667%2C%20822373.0%5D%29%3B%0A%0A%20%20%20%20color_map_259a945eb0ed440d8c689322272f6887.svg%20%3D%20d3.select%28%22.legend.leaflet-control%22%29.append%28%22svg%22%29%0A%20%20%20%20%20%20%20%20.attr%28%22id%22%2C%20%27legend%27%29%0A%20%20%20%20%20%20%20%20.attr%28%22width%22%2C%20450%29%0A%20%20%20%20%20%20%20%20.attr%28%22height%22%2C%2040%29%3B%0A%0A%20%20%20%20color_map_259a945eb0ed440d8c689322272f6887.g%20%3D%20color_map_259a945eb0ed440d8c689322272f6887.svg.append%28%22g%22%29%0A%20%20%20%20%20%20%20%20.attr%28%22class%22%2C%20%22key%22%29%0A%20%20%20%20%20%20%20%20.attr%28%22transform%22%2C%20%22translate%2825%2C16%29%22%29%3B%0A%0A%20%20%20%20color_map_259a945eb0ed440d8c689322272f6887.g.selectAll%28%22rect%22%29%0A%20%20%20%20%20%20%20%20.data%28color_map_259a945eb0ed440d8c689322272f6887.color.range%28%29.map%28function%28d%2C%20i%29%20%7B%0A%20%20%20%20%20%20%20%20%20%20return%20%7B%0A%20%20%20%20%20%20%20%20%20%20%20%20x0%3A%20i%20%3F%20color_map_259a945eb0ed440d8c689322272f6887.x%28color_map_259a945eb0ed440d8c689322272f6887.color.domain%28%29%5Bi%20-%201%5D%29%20%3A%20color_map_259a945eb0ed440d8c689322272f6887.x.range%28%29%5B0%5D%2C%0A%20%20%20%20%20%20%20%20%20%20%20%20x1%3A%20i%20%3C%20color_map_259a945eb0ed440d8c689322272f6887.color.domain%28%29.length%20%3F%20color_map_259a945eb0ed440d8c689322272f6887.x%28color_map_259a945eb0ed440d8c689322272f6887.color.domain%28%29%5Bi%5D%29%20%3A%20color_map_259a945eb0ed440d8c689322272f6887.x.range%28%29%5B1%5D%2C%0A%20%20%20%20%20%20%20%20%20%20%20%20z%3A%20d%0A%20%20%20%20%20%20%20%20%20%20%7D%3B%0A%20%20%20%20%20%20%20%20%7D%29%29%0A%20%20%20%20%20%20.enter%28%29.append%28%22rect%22%29%0A%20%20%20%20%20%20%20%20.attr%28%22height%22%2C%2010%29%0A%20%20%20%20%20%20%20%20.attr%28%22x%22%2C%20function%28d%29%20%7B%20return%20d.x0%3B%20%7D%29%0A%20%20%20%20%20%20%20%20.attr%28%22width%22%2C%20function%28d%29%20%7B%20return%20d.x1%20-%20d.x0%3B%20%7D%29%0A%20%20%20%20%20%20%20%20.style%28%22fill%22%2C%20function%28d%29%20%7B%20return%20d.z%3B%20%7D%29%3B%0A%0A%20%20%20%20color_map_259a945eb0ed440d8c689322272f6887.g.call%28color_map_259a945eb0ed440d8c689322272f6887.xAxis%29.append%28%22text%22%29%0A%20%20%20%20%20%20%20%20.attr%28%22class%22%2C%20%22caption%22%29%0A%20%20%20%20%20%20%20%20.attr%28%22y%22%2C%2021%29%0A%20%20%20%20%20%20%20%20.text%28%27No.%20of%20Accidents%20Reported%27%29%3B%0A%20%20%20%20%0A%20%20%20%20%20%20%20%20%20%20%20%20var%20layer_control_e61d13334f994a4e8560d917f62ba2af%20%3D%20%7B%0A%20%20%20%20%20%20%20%20%20%20%20%20%20%20%20%20base_layers%20%3A%20%7B%20%22openstreetmap%22%20%3A%20tile_layer_ccbb3ccda8334b948c2f3c6b45961a6c%2C%20%7D%2C%0A%20%20%20%20%20%20%20%20%20%20%20%20%20%20%20%20overlays%20%3A%20%7B%20%22choropleth%22%20%3A%20choropleth_0690bc6f35394c479a8cb2e6deb3d740%2C%20%7D%0A%20%20%20%20%20%20%20%20%20%20%20%20%20%20%20%20%7D%3B%0A%20%20%20%20%20%20%20%20%20%20%20%20L.control.layers%28%0A%20%20%20%20%20%20%20%20%20%20%20%20%20%20%20%20layer_control_e61d13334f994a4e8560d917f62ba2af.base_layers%2C%0A%20%20%20%20%20%20%20%20%20%20%20%20%20%20%20%20layer_control_e61d13334f994a4e8560d917f62ba2af.overlays%2C%0A%20%20%20%20%20%20%20%20%20%20%20%20%20%20%20%20%7Bposition%3A%20%27topright%27%2C%0A%20%20%20%20%20%20%20%20%20%20%20%20%20%20%20%20%20collapsed%3A%20true%2C%0A%20%20%20%20%20%20%20%20%20%20%20%20%20%20%20%20%20autoZIndex%3A%20true%0A%20%20%20%20%20%20%20%20%20%20%20%20%20%20%20%20%7D%29.addTo%28map_c871bff445ba438cb10e95183517cead%29%3B%0A%20%20%20%20%20%20%20%20%20%20%20%20%0A%20%20%20%20%20%20%20%20%0A%3C/script%3E onload=\"this.contentDocument.open();this.contentDocument.write(    decodeURIComponent(this.getAttribute('data-html')));this.contentDocument.close();\" \"allowfullscreen\" \"webkitallowfullscreen\" \"mozallowfullscreen\"></iframe>"
            ],
            "text/plain": [
              "<branca.element.Figure at 0x7f0e1bbef710>"
            ]
          },
          "metadata": {
            "tags": []
          },
          "execution_count": 97
        }
      ]
    },
    {
      "cell_type": "markdown",
      "metadata": {
        "id": "QtKivgul7jRg"
      },
      "source": [
        "## Questions and Answers\r\n",
        "\r\n",
        "1. Are there more accidents in warmer or colder areas?\r\n",
        "2. Which 5 states have the highest number of accidents? How about per capita?\r\n",
        "3. Does New York show up in the data? If yes, why is the count lower if it is the most populated city\r\n",
        "4. Among the top 100 cities in number of accidents, which states do they belong to most frequently?\r\n",
        "5. What time of the day are the accidents more frequent in?\r\n",
        "6. Which days of the week have the most accidents?\r\n",
        "7. Which months have the most accidents?\r\n",
        "8. What is the trend of accidents YoY (decreasing/increasing)?\r\n",
        "9. When is accidents per unit traffic the highest."
      ]
    },
    {
      "cell_type": "code",
      "metadata": {
        "id": "brt4KsxG7nHo"
      },
      "source": [
        ""
      ],
      "execution_count": null,
      "outputs": []
    },
    {
      "cell_type": "markdown",
      "metadata": {
        "id": "tgZThKXn7nlf"
      },
      "source": [
        "## Summary & Conclusions\r\n",
        "- The number of accidents per city decreases exponentially.\r\n",
        "- Less than 5% of cities have more than 1000 yearly accidents\r\n",
        "- Over 1200 cities have reported just 1 accident (need to investigate)"
      ]
    },
    {
      "cell_type": "code",
      "metadata": {
        "id": "pfkoIJBr7qQo"
      },
      "source": [
        ""
      ],
      "execution_count": null,
      "outputs": []
    }
  ]
}